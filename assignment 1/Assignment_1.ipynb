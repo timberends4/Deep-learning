{
  "cells": [
    {
      "attachments": {},
      "cell_type": "markdown",
      "id": "a4ec9a11-3515-40aa-97ac-73c249df560e",
      "metadata": {
        "id": "a4ec9a11-3515-40aa-97ac-73c249df560e"
      },
      "source": [
        "# Group Number:\n",
        "# Student 1:\n",
        "# Student 2:\n",
        "# Student 3:"
      ]
    },
    {
      "attachments": {},
      "cell_type": "markdown",
      "id": "a8c200a7-b3ab-4c9a-bcf8-320271c040f3",
      "metadata": {
        "id": "a8c200a7-b3ab-4c9a-bcf8-320271c040f3"
      },
      "source": [
        "In case you are using google colab, uncomment the following cell, and modify the ```notebook_dir``` variable to contain the directory this notebook is in. It will automatically download the .py files needed for this assignment"
      ]
    },
    {
      "cell_type": "code",
      "execution_count": 1,
      "id": "igFRsZKIC18S",
      "metadata": {
        "id": "igFRsZKIC18S"
      },
      "outputs": [],
      "source": [
        "# # Change the following  line to the directory this notebook is (if using colab)\n",
        "# # In case you do not know the path, open the file navigator on the left in colab\n",
        "# # Find the folder containing this notebook, then press on the three dots --> copy path\n",
        "notebook_dir = \"/content/drive/MyDrive/TUe/DeepLearning\""
      ]
    },
    {
      "cell_type": "code",
      "execution_count": 2,
      "id": "828246d4-75b2-42b7-ab06-925e6624f411",
      "metadata": {
        "colab": {
          "base_uri": "https://localhost:8080/"
        },
        "id": "828246d4-75b2-42b7-ab06-925e6624f411",
        "outputId": "999fdc39-75eb-417a-b2ee-17aace085b98"
      },
      "outputs": [
        {
          "data": {
            "text/plain": [
              "' # # UNCOMMENT IF USING COLAB\\nfrom google.colab import drive\\nimport requests\\ndrive.mount(\\'/content/drive\\')\\nimport sys\\nimport os\\nsys.path.insert(0, notebook_dir) \\nos.chdir(notebook_dir)\\nsymco = \"https://github.com/vlamen/tue-deeplearning/blob/main/assignments/assignment_1/symconv.py?raw=true\"\\ncrpt = \"https://github.com/vlamen/tue-deeplearning/blob/main/assignments/assignment_1/carpet.py?raw=true\"\\nr_s = requests.get(symco, allow_redirects=True)\\nr_c = requests.get(crpt, allow_redirects=True)\\nwith open(\\'symconv.py\\', \\'wb\\') as f:\\n    f.write(r_s.content)\\nwith open(\\'carpet.py\\', \\'wb\\') as f:\\n    f.write(r_c.content) '"
            ]
          },
          "execution_count": 2,
          "metadata": {},
          "output_type": "execute_result"
        }
      ],
      "source": [
        "\"\"\" # # UNCOMMENT IF USING COLAB\n",
        "from google.colab import drive\n",
        "import requests\n",
        "drive.mount('/content/drive')\n",
        "import sys\n",
        "import os\n",
        "sys.path.insert(0, notebook_dir) \n",
        "os.chdir(notebook_dir)\n",
        "symco = \"https://github.com/vlamen/tue-deeplearning/blob/main/assignments/assignment_1/symconv.py?raw=true\"\n",
        "crpt = \"https://github.com/vlamen/tue-deeplearning/blob/main/assignments/assignment_1/carpet.py?raw=true\"\n",
        "r_s = requests.get(symco, allow_redirects=True)\n",
        "r_c = requests.get(crpt, allow_redirects=True)\n",
        "with open('symconv.py', 'wb') as f:\n",
        "    f.write(r_s.content)\n",
        "with open('carpet.py', 'wb') as f:\n",
        "    f.write(r_c.content) \"\"\""
      ]
    },
    {
      "cell_type": "code",
      "execution_count": 4,
      "id": "1c401bd6-3828-4f5e-ada8-a026e0a167bf",
      "metadata": {
        "id": "1c401bd6-3828-4f5e-ada8-a026e0a167bf"
      },
      "outputs": [],
      "source": [
        "import torch\n",
        "import torch.nn as nn\n",
        "import torch.nn.functional as F\n",
        "from torch.utils.data import DataLoader, Dataset, TensorDataset\n",
        "\n",
        "import io\n",
        "import requests\n",
        "\n",
        "import symconv as sc\n",
        "from carpet import show_carpet, oh_to_label\n",
        "\n",
        "import numpy as np\n",
        "import matplotlib.pyplot as plt\n",
        "\n",
        "from scipy.spatial.distance import cdist\n",
        "\n",
        "from tqdm import tqdm"
      ]
    },
    {
      "cell_type": "code",
      "execution_count": 5,
      "id": "gD5Y021EjRq6",
      "metadata": {
        "id": "gD5Y021EjRq6"
      },
      "outputs": [],
      "source": [
        "if torch.cuda.is_available():\n",
        "    device = torch.device('cuda')\n",
        "else:\n",
        "    device=torch.device('cpu')"
      ]
    },
    {
      "cell_type": "code",
      "execution_count": 6,
      "id": "35c0bcb8-5215-40b3-8ba2-7e4208651c90",
      "metadata": {
        "id": "35c0bcb8-5215-40b3-8ba2-7e4208651c90"
      },
      "outputs": [],
      "source": [
        "def load_numpy_arr_from_url(url):\n",
        "    \"\"\"\n",
        "    Loads a numpy array from surfdrive. \n",
        "    \n",
        "    Input:\n",
        "    url: Download link of dataset \n",
        "    \n",
        "    Outputs:\n",
        "    dataset: numpy array with input features or labels\n",
        "    \"\"\"\n",
        "    \n",
        "    response = requests.get(url)\n",
        "    response.raise_for_status()\n",
        "\n",
        "    return np.load(io.BytesIO(response.content)) "
      ]
    },
    {
      "attachments": {},
      "cell_type": "markdown",
      "id": "045a1fdc-8c84-4829-b8c8-14c957f733f6",
      "metadata": {
        "id": "045a1fdc-8c84-4829-b8c8-14c957f733f6"
      },
      "source": [
        "# Task 1: Pattern Classification"
      ]
    },
    {
      "cell_type": "code",
<<<<<<< Updated upstream
      "execution_count": 89,
=======
      "execution_count": 7,
>>>>>>> Stashed changes
      "id": "a45b63ab-610e-4e03-b1da-a717c2a77c8a",
      "metadata": {
        "colab": {
          "base_uri": "https://localhost:8080/"
        },
        "id": "a45b63ab-610e-4e03-b1da-a717c2a77c8a",
        "outputId": "a08c590f-6b01-4564-c87b-2f44dd0b9f76"
      },
      "outputs": [
        {
          "name": "stdout",
          "output_type": "stream",
          "text": [
            "Carpet train shape: torch.Size([7500, 1, 96, 60])\n",
            "Label train shape: torch.Size([7500, 3])\n",
            "Carpet validation shape: torch.Size([2000, 1, 96, 60])\n",
            "Label validation shape: torch.Size([2000, 3])\n",
            "Carpet test shape: torch.Size([500, 1, 96, 60])\n",
            "Label test shape: torch.Size([500, 3])\n"
          ]
        }
      ],
      "source": [
        "# loading training and testing data for task 1\n",
        "# DO NOT MODIFY\n",
        "task1 = load_numpy_arr_from_url(\"https://github.com/vlamen/tue-deeplearning/blob/main/assignments/assignment_1/task1data.npz?raw=true\")\n",
        "# task1 = np.load(\"task1data.npz\")\n",
        "\n",
        "X = torch.tensor(task1['arr_0']).float()\n",
        "y = torch.tensor(task1['arr_1']).float()\n",
        "\n",
        "X_train = X[:7500]\n",
        "X_val = X[7500:9500]\n",
        "X_test = X[9500:]\n",
        "y_train = y[:7500]\n",
        "y_val = y[7500:9500]\n",
        "y_test  = y[9500:]\n",
        "\n",
        "train_dataset = TensorDataset(X_train, y_train)\n",
        "val_dataset = TensorDataset(X_val, y_val)\n",
        "test_dataset = TensorDataset(X_test, y_test)\n",
        "\n",
        "\n",
        "print(f\"Carpet train shape: {X_train.shape}\")\n",
        "print(f\"Label train shape: {y_train.shape}\")\n",
        "print(f\"Carpet validation shape: {X_val.shape}\")\n",
        "print(f\"Label validation shape: {y_val.shape}\")\n",
        "print(f\"Carpet test shape: {X_test.shape}\")\n",
        "print(f\"Label test shape: {y_test.shape}\")"
      ]
    },
    {
      "cell_type": "code",
<<<<<<< Updated upstream
      "execution_count": 90,
=======
      "execution_count": 8,
>>>>>>> Stashed changes
      "id": "a4c5553f-023f-48fc-81b5-83184a46a21d",
      "metadata": {
        "colab": {
          "base_uri": "https://localhost:8080/",
          "height": 302
        },
        "id": "a4c5553f-023f-48fc-81b5-83184a46a21d",
        "outputId": "9fed8192-1851-452e-f85d-cdf9e1e3d188"
      },
      "outputs": [
        {
          "name": "stdout",
          "output_type": "stream",
          "text": [
            "Carpet from Convolushahr\n"
          ]
        },
        {
          "data": {
<<<<<<< Updated upstream
            "image/png": "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",
=======
            "image/png": "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",
>>>>>>> Stashed changes
            "text/plain": [
              "<Figure size 640x480 with 1 Axes>"
            ]
          },
          "metadata": {},
          "output_type": "display_data"
        }
      ],
      "source": [
        "# random carpet\n",
        "idx = np.random.randint(0,7500)\n",
        "show_carpet(X_train, idx)\n",
        "print('Carpet from', oh_to_label(y_train[idx,None])[0])"
      ]
    },
    {
      "cell_type": "code",
<<<<<<< Updated upstream
      "execution_count": 91,
=======
      "execution_count": 9,
>>>>>>> Stashed changes
      "id": "DjMXGaWwYwtT",
      "metadata": {
        "id": "DjMXGaWwYwtT"
      },
      "outputs": [],
      "source": [
        "train_dataloader = DataLoader(train_dataset, batch_size=32, shuffle=True)\n",
        "\n",
        "valid_dataloader = DataLoader(val_dataset, batch_size=32, shuffle=False)"
      ]
    },
    {
      "cell_type": "code",
<<<<<<< Updated upstream
      "execution_count": 92,
=======
      "execution_count": 10,
>>>>>>> Stashed changes
      "id": "D-nBJ7IhL4Qz",
      "metadata": {
        "id": "D-nBJ7IhL4Qz"
      },
      "outputs": [],
      "source": [
        "class Lambda(nn.Module):\n",
        "    def __init__(self, func):\n",
        "        super().__init__()\n",
        "        self.func = func\n",
        "\n",
        "    def forward(self, x):\n",
        "        return self.func(x)\n",
        "        \n",
        "class SymModel(nn.Module):\n",
        "    def __init__(self):\n",
        "        super().__init__()\n",
        "\n",
        "        self.rot_slc = sc.Slice(rotation=4, reflection=False)\n",
        "        self.convs = nn.Sequential(\n",
        "            sc.SymmetryConv2d(in_filters=1, out_filters=16, kernel_size=4, stride=4, rotation=4, reflection=False),\n",
        "            nn.ReLU(),\n",
        "            sc.SymmetryPool(),\n",
        "            nn.Conv2d(16, 32, kernel_size=3, stride=3),\n",
        "            nn.ReLU(),\n",
        "            nn.Conv2d(32, 32, kernel_size=3, stride=1),\n",
        "            nn.ReLU(),\n",
        "            Lambda(lambda x: x.view(x.size(0), -1))\n",
        "            )\n",
        "        # self.pool = sc.SymmetryPool()\n",
        "                    \n",
        "        # self.view = Lambda(lambda x: x.view(x.size(0), -1))\n",
        "        self.lin1 = nn.Linear(576, 64)\n",
        "        self.lin2 = nn.Linear(64, 3)\n",
        "        \n",
        "    def forward(self, x):\n",
        "        x = self.rot_slc(x)\n",
        "        x = self.convs(x)\n",
        "\n",
        "        # x = torch.flatten(x, start_dim=1)\n",
        "        x = self.lin1(x)\n",
        "        x = self.lin2(x)\n",
        "\n",
        "        return x"
      ]
    },
    {
      "cell_type": "code",
<<<<<<< Updated upstream
      "execution_count": 93,
=======
      "execution_count": 11,
>>>>>>> Stashed changes
      "id": "v-yz4I6QZ8IR",
      "metadata": {
        "id": "v-yz4I6QZ8IR"
      },
      "outputs": [],
      "source": [
        "model = SymModel().to(device)"
      ]
    },
    {
      "cell_type": "code",
<<<<<<< Updated upstream
      "execution_count": 94,
=======
      "execution_count": 12,
>>>>>>> Stashed changes
      "id": "LJ2PUjtZZyvB",
      "metadata": {
        "id": "LJ2PUjtZZyvB"
      },
      "outputs": [],
      "source": [
        "optimizer = torch.optim.Adam(model.parameters(), lr=1e-4)\n",
        "\n",
        "criterion = nn.CrossEntropyLoss()"
      ]
    },
    {
      "cell_type": "code",
<<<<<<< Updated upstream
      "execution_count": null,
=======
      "execution_count": 13,
>>>>>>> Stashed changes
      "id": "2X-AzMQRZDn5",
      "metadata": {
        "colab": {
          "base_uri": "https://localhost:8080/"
        },
        "id": "2X-AzMQRZDn5",
        "outputId": "73a5704a-da2a-4ad0-d95f-6d84dee3c8e7"
      },
<<<<<<< Updated upstream
      "outputs": [],
=======
      "outputs": [
        {
          "name": "stderr",
          "output_type": "stream",
          "text": [
            " 10%|█         | 1/10 [00:14<02:06, 14.02s/it]"
          ]
        },
        {
          "name": "stdout",
          "output_type": "stream",
          "text": [
            "Train acc: 0.3385 Val acc: 0.3590\n"
          ]
        },
        {
          "name": "stderr",
          "output_type": "stream",
          "text": [
            " 20%|██        | 2/10 [00:26<01:44, 13.10s/it]"
          ]
        },
        {
          "name": "stdout",
          "output_type": "stream",
          "text": [
            "Train acc: 0.4061 Val acc: 0.4515\n"
          ]
        },
        {
          "name": "stderr",
          "output_type": "stream",
          "text": [
            " 30%|███       | 3/10 [00:38<01:28, 12.65s/it]"
          ]
        },
        {
          "name": "stdout",
          "output_type": "stream",
          "text": [
            "Train acc: 0.5424 Val acc: 0.6620\n"
          ]
        },
        {
          "name": "stderr",
          "output_type": "stream",
          "text": [
            " 40%|████      | 4/10 [00:52<01:19, 13.29s/it]"
          ]
        },
        {
          "name": "stdout",
          "output_type": "stream",
          "text": [
            "Train acc: 0.7763 Val acc: 0.8915\n"
          ]
        },
        {
          "name": "stderr",
          "output_type": "stream",
          "text": [
            " 50%|█████     | 5/10 [01:04<01:03, 12.79s/it]"
          ]
        },
        {
          "name": "stdout",
          "output_type": "stream",
          "text": [
            "Train acc: 0.9317 Val acc: 0.9605\n"
          ]
        },
        {
          "name": "stderr",
          "output_type": "stream",
          "text": [
            " 60%|██████    | 6/10 [01:17<00:51, 12.89s/it]"
          ]
        },
        {
          "name": "stdout",
          "output_type": "stream",
          "text": [
            "Train acc: 0.9773 Val acc: 0.9790\n"
          ]
        },
        {
          "name": "stderr",
          "output_type": "stream",
          "text": [
            " 70%|███████   | 7/10 [01:29<00:37, 12.56s/it]"
          ]
        },
        {
          "name": "stdout",
          "output_type": "stream",
          "text": [
            "Train acc: 0.9879 Val acc: 0.9850\n"
          ]
        },
        {
          "name": "stderr",
          "output_type": "stream",
          "text": [
            " 80%|████████  | 8/10 [01:42<00:25, 12.68s/it]"
          ]
        },
        {
          "name": "stdout",
          "output_type": "stream",
          "text": [
            "Train acc: 0.9935 Val acc: 0.9900\n"
          ]
        },
        {
          "name": "stderr",
          "output_type": "stream",
          "text": [
            " 90%|█████████ | 9/10 [01:56<00:13, 13.04s/it]"
          ]
        },
        {
          "name": "stdout",
          "output_type": "stream",
          "text": [
            "Train acc: 0.9956 Val acc: 0.9910\n"
          ]
        },
        {
          "name": "stderr",
          "output_type": "stream",
          "text": [
            "100%|██████████| 10/10 [02:11<00:00, 13.15s/it]"
          ]
        },
        {
          "name": "stdout",
          "output_type": "stream",
          "text": [
            "Train acc: 0.9971 Val acc: 0.9940\n"
          ]
        },
        {
          "name": "stderr",
          "output_type": "stream",
          "text": [
            "\n"
          ]
        }
      ],
>>>>>>> Stashed changes
      "source": [
        "EPOCHS = 30\n",
        "\n",
        "for epoch in tqdm(range(EPOCHS)):\n",
        "    \n",
        "    model.train()\n",
        "    \n",
        "    train_losses = []\n",
        "\n",
        "    train_acc, train_count = 0, 0\n",
        "\n",
        "    for batch in train_dataloader:\n",
        "        x, y = batch\n",
        "        input, labels = x.to(device), y.to(device)\n",
        "        optimizer.zero_grad()\n",
        "\n",
        "        output = model(input)\n",
        "        loss = criterion(output, labels)\n",
        "\n",
        "        loss.backward()\n",
        "        optimizer.step()\n",
        "\n",
        "        train_acc += (labels.argmax(dim=-1) == output.argmax(dim=-1)).sum().item()\n",
        "\n",
        "        train_count += labels.size(0)\n",
        "\n",
        "    model.eval()\n",
        "\n",
        "    valid_acc, valid_count = 0, 0\n",
        "\n",
        "\n",
        "    for batch in valid_dataloader:\n",
        "\n",
        "        x, y = batch\n",
        "        input, labels = x.to(device), y.to(device)\n",
        "\n",
        "        with torch.no_grad():\n",
        "            output = model(input)\n",
        "            \n",
        "            valid_acc += (labels.argmax(dim=-1) == output.argmax(dim=-1)).sum().item()\n",
        "\n",
        "            valid_count += labels.size(0)\n",
        "\n",
        "\n",
        "\n",
        "    print(f'Train acc: {train_acc / train_count:.4f}',end=' ')\n",
        "    print(f'Val acc: {valid_acc / valid_count:.4f}',end='\\n')"
      ]
    },
    {
      "cell_type": "code",
<<<<<<< Updated upstream
      "execution_count": null,
      "id": "7a5db004-5dbf-42b3-a665-3c97c293d6c5",
      "metadata": {
        "id": "7a5db004-5dbf-42b3-a665-3c97c293d6c5"
      },
=======
      "execution_count": 14,
      "id": "86fae3b1",
      "metadata": {},
      "outputs": [
        {
          "name": "stdout",
          "output_type": "stream",
          "text": [
            "torch.Size([32, 1, 96, 60])\n"
          ]
        }
      ],
      "source": [
        "for batch in train_dataloader:\n",
        "    print(batch[0].shape)\n",
        "    break"
      ]
    },
    {
      "cell_type": "code",
      "execution_count": 15,
      "id": "b8975d11",
      "metadata": {},
>>>>>>> Stashed changes
      "outputs": [],
      "source": []
    },
    {
      "attachments": {},
      "cell_type": "markdown",
      "id": "06c5a8d4",
      "metadata": {
        "id": "06c5a8d4"
      },
      "source": [
        "## Task 1: Question 5d"
      ]
    },
    {
      "cell_type": "code",
      "execution_count": null,
      "id": "37e8735b",
      "metadata": {
        "id": "37e8735b"
      },
      "outputs": [],
      "source": []
    },
    {
      "attachments": {},
      "cell_type": "markdown",
      "id": "1e988bc2-6ba1-49cd-ae26-6feea8ad2776",
      "metadata": {
        "id": "1e988bc2-6ba1-49cd-ae26-6feea8ad2776"
      },
      "source": [
        "# Task 2: Carpet Matching "
      ]
    },
    {
      "cell_type": "code",
<<<<<<< Updated upstream
      "execution_count": 114,
=======
      "execution_count": 16,
>>>>>>> Stashed changes
      "id": "20a2ce3a-4c8c-4f1f-9a29-113063ce7f74",
      "metadata": {
        "id": "20a2ce3a-4c8c-4f1f-9a29-113063ce7f74"
      },
      "outputs": [
        {
          "name": "stdout",
          "output_type": "stream",
          "text": [
            "Carpet train shape: (15000, 1, 96, 60)\n",
            "Label train shape: (15000,)\n",
            "Ground truth test shape: (300,)\n",
            "Query carpets shape: (300, 1, 96, 60)\n",
            "Candidate carpets shape: (300, 4, 1, 96, 60)\n"
          ]
        }
      ],
      "source": [
        "# loading training and testing data for task 2\n",
        "# DO NOT MODIFY\n",
        "task2 = load_numpy_arr_from_url(\"https://github.com/vlamen/tue-deeplearning/blob/main/assignments/assignment_1/task2data.npz?raw=true\")\n",
        "# task2 = np.load('task2data.npz')\n",
        "\n",
        "X = task2['arr_0'].astype(float)\n",
        "y = task2['arr_1'].astype(float)\n",
        "gt = task2['arr_2'].astype(float) # ground truth\n",
        "queries = task2['arr_3'].astype(float)\n",
        "targets = task2['arr_4'].astype(float)\n",
        "\n",
        "print(f\"Carpet train shape: {X.shape}\")\n",
        "print(f\"Label train shape: {y.shape}\")\n",
        "print(f\"Ground truth test shape: {gt.shape}\")\n",
        "print(f\"Query carpets shape: {queries.shape}\")\n",
        "print(f\"Candidate carpets shape: {targets.shape}\")"
      ]
    },
    {
      "cell_type": "code",
<<<<<<< Updated upstream
      "execution_count": 115,
=======
      "execution_count": 17,
      "id": "4365402e",
      "metadata": {},
      "outputs": [
        {
          "data": {
            "text/plain": [
              "(4, 1, 96, 60)"
            ]
          },
          "execution_count": 17,
          "metadata": {},
          "output_type": "execute_result"
        }
      ],
      "source": [
        "targets[0].shape"
      ]
    },
    {
      "cell_type": "code",
      "execution_count": 18,
>>>>>>> Stashed changes
      "id": "a6eef917",
      "metadata": {},
      "outputs": [],
      "source": [
        "#Stratify split into train and validation\n",
        "from sklearn.model_selection import train_test_split\n",
        "X_train, X_val, y_train, y_val = train_test_split(X, y, test_size=0.2, stratify=y)\n",
        "\n",
        "#convert to tensors\n",
        "X_train = torch.tensor(X_train).float()\n",
        "X_val = torch.tensor(X_val).float()"
      ]
    },
    {
      "cell_type": "code",
      "execution_count": 116,
      "id": "b1ffe559",
      "metadata": {},
      "outputs": [
        {
          "data": {
            "text/plain": [
              "200"
            ]
          },
          "execution_count": 116,
          "metadata": {},
          "output_type": "execute_result"
        }
      ],
      "source": [
        "#get unique labels\n",
        "len(np.unique(y_val))"
      ]
    },
    {
      "attachments": {},
      "cell_type": "markdown",
      "id": "5faf0957",
      "metadata": {},
      "source": [
        "#### Defining the Embedding Net. Using the same network from Task 1 ## "
      ]
    },
    {
      "cell_type": "code",
<<<<<<< Updated upstream
      "execution_count": 117,
=======
      "execution_count": 58,
>>>>>>> Stashed changes
      "id": "dd62da0b",
      "metadata": {},
      "outputs": [],
      "source": [
        "import torch\n",
        "import torch.nn as nn\n",
        "import torch.nn.functional as F\n",
        "\n",
        "class Lambda(nn.Module):\n",
        "    def __init__(self, lambd):\n",
        "        super().__init__()\n",
        "        self.lambd = lambd\n",
        "\n",
        "    def forward(self, x):\n",
        "        return self.lambd(x)\n",
        "\n",
        "class EmbeddingNet(nn.Module):\n",
        "    def __init__(self):\n",
        "        super().__init__()\n",
        "\n",
        "        self.rot_slc = sc.Slice(rotation=4, reflection=False)\n",
        "        self.convs = nn.Sequential(\n",
        "            sc.SymmetryConv2d(in_filters=1, out_filters=16, kernel_size=4, stride=4, rotation=4, reflection=False),\n",
        "            nn.ReLU(),\n",
        "            sc.SymmetryPool(),\n",
        "\n",
        "            #2nd Block\n",
        "            nn.Conv2d(16, 128, kernel_size=3, stride=3),\n",
        "            nn.BatchNorm2d(128),\n",
        "            nn.ReLU(),\n",
<<<<<<< Updated upstream
        "            nn.Conv2d(128, 256, kernel_size=3, stride=1,),\n",
        "            nn.BatchNorm2d(256),\n",
        "            nn.ReLU(),\n",
        "            nn.Conv2d(256, 256, kernel_size=3, stride=1,),\n",
        "            nn.BatchNorm2d(256),\n",
        "            nn.ReLU()\n",
        "            )\n",
=======
        "            nn.Conv2d(32, 32, kernel_size=3, stride=1),\n",
        "            nn.ReLU(),\n",
        "            Lambda(lambda x: x.view(x.size(0), -1))\n",
        "            )\n",
        "\n",
        "        self.lin1 = nn.Linear(576, 265)  #second to last layer of model of task 1 to extract embeddings \n",
        "        # self.lin2 = nn.Linear(64, 3)\n",
>>>>>>> Stashed changes
        "        \n",
        "        self.pool = sc.SymmetryPool()\n",
        "        self.lin1 = nn.Linear(1024, 512)\n",
        "        self.lin2 = nn.Linear(512, 200)\n",
        "        \n",
        "    def forward(self, x):\n",
        "        x = self.rot_slc(x)\n",
        "        x = self.convs(x)\n",
        "        # x = torch.flatten(x, start_dim=1)\n",
        "        x = self.lin1(torch.flatten(x, start_dim=1))\n",
        "        x = self.lin2(x)\n",
        "\n",
        "        return x\n",
        "    \n",
        "    def get_embedding(self, x):\n",
        "        return self.forward(x)\n",
        "\n"
      ]
    },
    {
<<<<<<< Updated upstream
=======
      "cell_type": "code",
      "execution_count": 59,
      "id": "f4233f10",
      "metadata": {},
      "outputs": [],
      "source": [
        "# import torch\n",
        "# import torch.nn as nn\n",
        "# import torch.nn.functional as F\n",
        "\n",
        "# class Lambda(nn.Module):\n",
        "#     def __init__(self, lambd):\n",
        "#         super().__init__()\n",
        "#         self.lambd = lambd\n",
        "\n",
        "#     def forward(self, x):\n",
        "#         return self.lambd(x)\n",
        "\n",
        "# class EmbeddingNet(nn.Module):\n",
        "#     def __init__(self):\n",
        "#         super().__init__()\n",
        "\n",
        "#         self.rot_slc = sc.Slice(rotation=4, reflection=False)\n",
        "#         self.convs = nn.Sequential(\n",
        "#             sc.SymmetryConv2d(in_filters=1, out_filters=16, kernel_size=4, stride=4, rotation=4, reflection=False),\n",
        "#             nn.ReLU(),\n",
        "#             sc.SymmetryPool(),\n",
        "#             nn.Dropout(p=0.4),  # Adding a dropout layer\n",
        "\n",
        "#             nn.Conv2d(16, 32, kernel_size=3, stride=3),\n",
        "#             nn.ReLU(),\n",
        "#             nn.Conv2d(32, 32, kernel_size=3, stride=1),\n",
        "#             nn.ReLU(),\n",
        "#             nn.Dropout(p=0.4),\n",
        "#             Lambda(lambda x: x.view(x.size(0), -1))\n",
        "\n",
        "#             )\n",
        "\n",
        "#         self.lin1 = nn.Linear(576, 576)  #second to last layer of model of task 1 to extract embeddings \n",
        "#         self.dropout = nn.Dropout(p=0.4)\n",
        "#         self.lin2 = nn.Linear(576, 400)\n",
        "#         self.norm = nn.LayerNorm(400)\n",
        "        \n",
        "        \n",
        "#     def forward(self, x):\n",
        "#         x = self.rot_slc(x)\n",
        "#         x = self.convs(x)\n",
        "#         # x = torch.flatten(x, start_dim=1)\n",
        "#         x = self.lin1(torch.flatten(x, start_dim=1))\n",
        "#         x = self.lin2(x)\n",
        "#         x = self.norm(x)\n",
        "\n",
        "#         return x\n",
        "    \n",
        "#     def get_embedding(self, x):\n",
        "#         return self.forward(x)\n",
        "\n"
      ]
    },
    {
      "cell_type": "code",
      "execution_count": 60,
      "id": "63c0d06a",
      "metadata": {},
      "outputs": [],
      "source": [
        "# lass EmbeddingNet(nn.Module):\n",
        "#     def __init__(self):\n",
        "#         \"\"\"CNN Builder.\"\"\"\n",
        "#         super(EmbeddingNet, self).__init__()\n",
        "\n",
        "#         self.front_layer = nn.Sequential(\n",
        "#             # Conv Layer block 1\n",
        "#             nn.Conv2d(in_channels=3, out_channels=32, kernel_size=3, padding=1),\n",
        "#             nn.BatchNorm2d(32),\n",
        "#             nn.ReLU(inplace=True),\n",
        "#             nn.Conv2d(in_channels=32, out_channels=64, kernel_size=3, padding=1),\n",
        "#             nn.ReLU(inplace=True),\n",
        "#             nn.MaxPool2d(kernel_size=2, stride=2),\n",
        "\n",
        "#             # Conv Layer block 2\n",
        "#             nn.Conv2d(in_channels=64, out_channels=128, kernel_size=3, padding=1),\n",
        "#             nn.BatchNorm2d(128),\n",
        "#             nn.ReLU(inplace=True),\n",
        "#             nn.Conv2d(in_channels=128, out_channels=128, kernel_size=3, padding=1),\n",
        "#             nn.ReLU(inplace=True),\n",
        "#             nn.MaxPool2d(kernel_size=2, stride=2),\n",
        "  \n",
        "\n",
        "#             # Conv Layer block 3\n",
        "#             nn.Conv2d(in_channels=128, out_channels=256, kernel_size=3, padding=1),\n",
        "#             nn.BatchNorm2d(256),\n",
        "#             nn.ReLU(inplace=True),\n",
        "#             nn.Conv2d(in_channels=256, out_channels=256, kernel_size=3, padding=1),\n",
        "#             nn.ReLU(inplace=True),\n",
        "#             nn.MaxPool2d(kernel_size=2, stride=2),\n",
        "\n",
        "#             Lambda(lambda x: x.view(x.size(0), -1)),\n",
        "\n",
        "#             nn.Linear(4096, 1024),\n",
        "#             nn.ReLU(inplace=True),\n",
        "#             nn.Linear(1024, 512),\n",
        "#             nn.ReLU(inplace=True),\n",
        "#         )\n",
        "\n",
        "#         self.last_layer = nn.Linear(512, 10)\n",
        "\n",
        "#     def forward(self, x):\n",
        "#         \"\"\"Perform forward.\"\"\"\n",
        "#         # conv layers\n",
        "#         x = self.front_layer(x)\n",
        "#         x = self.last_layer(x)\n",
        "#         return x\n",
        "    \n",
        "#     def get_embedding(self, x):\n",
        "#         return self.forward(x)"
      ]
    },
    {
      "cell_type": "code",
      "execution_count": 61,
      "id": "46002872",
      "metadata": {},
      "outputs": [],
      "source": [
        "# import torch\n",
        "# import torch.nn as nn\n",
        "# import torch.nn.functional as F\n",
        "\n",
        "# class Lambda(nn.Module):\n",
        "#     def __init__(self, lambd):\n",
        "#         super().__init__()\n",
        "#         self.lambd = lambd\n",
        "\n",
        "#     def forward(self, x):\n",
        "#         return self.lambd(x)\n",
        "\n",
        "# class EmbeddingNet(nn.Module):\n",
        "#     def __init__(self):\n",
        "#         super().__init__()\n",
        "\n",
        "#         self.rot_slc = sc.Slice(rotation=4, reflection=False)\n",
        "#         self.convs = nn.Sequential(\n",
        "#             sc.SymmetryConv2d(in_filters=1, out_filters=16, kernel_size=4, stride=4, rotation=4, reflection=False),\n",
        "#             nn.ReLU(),\n",
        "#             sc.SymmetryPool(),\n",
        "#             nn.Conv2d(16, 32, kernel_size=3, stride=3),\n",
        "#             nn.ReLU(),\n",
        "#             nn.Conv2d(32, 32, kernel_size=3, stride=1),\n",
        "#             nn.ReLU(),\n",
        "#             # nn.Conv2d(64, 64, kernel_size=3, stride=1),\n",
        "#             # nn.ReLU()\n",
        "#         )\n",
        "#         # self.pool = sc.SymmetryPool()\n",
        "#         self.lin1 = nn.Linear(576, 265)  # Increase the output size of the linear layer\n",
        "#         self.lin2 = nn.Linear(265, 128)   # Add another linear layer\n",
        "#         # self.lin3 = nn.Linear(64, 3)    # Optionally, add more linear layers\n",
        "        \n",
        "#     def forward(self, x):\n",
        "#         x = self.rot_slc(x)\n",
        "#         x = self.convs(x)\n",
        "#         x = torch.flatten(x, start_dim=1)\n",
        "#         x = self.lin1(torch.flatten(x, start_dim=1))\n",
        "#         x = self.lin2(x)\n",
        "#         # x = self.lin3(x)\n",
        "#         return x\n",
        "    \n",
        "#     def get_embedding(self, x):\n",
        "#         return self.forward(x)"
      ]
    },
    {
      "cell_type": "code",
      "execution_count": 62,
      "id": "0b5c4bdd",
      "metadata": {},
      "outputs": [],
      "source": [
        "# class EmbeddingNet(nn.Module):\n",
        "#     def __init__(self, num_channels=1, num_classes=200):\n",
        "#         \"\"\"CNN Builder.\"\"\"\n",
        "#         super(EmbeddingNet, self).__init__()\n",
        "\n",
        "#         self.conv_layers = nn.Sequential(\n",
        "#             # Conv Layer block 1\n",
        "#             nn.Conv2d(in_channels=num_channels, out_channels=32, kernel_size=3, padding=1),\n",
        "#             nn.BatchNorm2d(32),\n",
        "#             nn.ReLU(inplace=True),\n",
        "#             nn.Conv2d(in_channels=32, out_channels=64, kernel_size=3, padding=1),\n",
        "#             nn.ReLU(inplace=True),\n",
        "#             nn.MaxPool2d(kernel_size=2, stride=2),\n",
        "\n",
        "#             # Conv Layer block 2\n",
        "#             nn.Conv2d(in_channels=64, out_channels=128, kernel_size=3, padding=1),\n",
        "#             nn.BatchNorm2d(128),\n",
        "#             nn.ReLU(inplace=True),\n",
        "#             nn.Conv2d(in_channels=128, out_channels=128, kernel_size=3, padding=1),\n",
        "#             nn.ReLU(inplace=True),\n",
        "#             nn.MaxPool2d(kernel_size=2, stride=2),\n",
        "  \n",
        "\n",
        "#             # Conv Layer block 3\n",
        "#             nn.Conv2d(in_channels=128, out_channels=256, kernel_size=3, padding=1),\n",
        "#             nn.BatchNorm2d(256),\n",
        "#             nn.ReLU(inplace=True),\n",
        "#             nn.Conv2d(in_channels=256, out_channels=256, kernel_size=3, padding=1),\n",
        "#             nn.ReLU(inplace=True),\n",
        "#             nn.MaxPool2d(kernel_size=2, stride=2),\n",
        "#             Lambda(lambda x: x.view(x.size(0), -1))\n",
        "#         )\n",
        "\n",
        "#         # we will calculate this based on input size later\n",
        "#         # self.flattened_size = None \n",
        "\n",
        "#         self.fc_layers = nn.Sequential(\n",
        "#             nn.Linear(21504, 1024), # this value will be updated later\n",
        "#             nn.ReLU(inplace=True),\n",
        "#             nn.Linear(1024, 512),\n",
        "#             nn.ReLU(inplace=True)\n",
        "#             # nn.Linear(512,200)\n",
        "#         )\n",
        "\n",
        "#         # self.last_layer = nn.Linear(512, num_classes)\n",
        "\n",
        "#     def forward(self, x):\n",
        "#         \"\"\"Perform forward.\"\"\"\n",
        "#         # conv layers\n",
        "#         x = self.conv_layers(x)\n",
        "\n",
        "#         # calculate flattened_size if it's not done yet\n",
        "#         # self.flattened_size = x.view(x.size(0), -1).shape[1]\n",
        "#         # self.fc_layers[0] = nn.Linear(self.flattened_size, 1024)\n",
        "\n",
        "#         # x = x.view(x.size(0), -1) # flatten\n",
        "#         x = self.fc_layers(x) # fc layers\n",
        "#         # x = self.last_layer(x)\n",
        "#         return x\n",
        "    \n",
        "#     def get_embedding(self, x):\n",
        "#         return self.forward(x)"
      ]
    },
    {
>>>>>>> Stashed changes
      "attachments": {},
      "cell_type": "markdown",
      "id": "dd3a459c",
      "metadata": {},
      "source": [
        "### Balanced Batch Sampler and Data Loader"
      ]
    },
    {
      "cell_type": "code",
<<<<<<< Updated upstream
      "execution_count": 118,
=======
      "execution_count": 63,
>>>>>>> Stashed changes
      "id": "98eb0782",
      "metadata": {},
      "outputs": [],
      "source": [
        "from torch.utils.data.sampler import BatchSampler\n",
        "import numpy as np\n",
        "class BalancedBatchSampler(BatchSampler):\n",
        "    \"\"\"\n",
        "    Returns batches of size n_classes * n_samples\n",
        "    \"\"\"\n",
        "    #Just overriding a bunch of methods from BatchSampler\n",
        "\n",
        "    def __init__(self, labels, n_classes, n_samples):\n",
        "        self.labels = labels\n",
        "        self.labels_set = list(set(self.labels))\n",
        "        self.label_to_indices = {label: np.where(  np.array(self.labels) == label)[0]\n",
        "                                 for label in self.labels_set}\n",
        "        for l in self.labels_set:\n",
        "            np.random.shuffle(self.label_to_indices[l])\n",
        "        self.used_label_indices_count = {label: 0 for label in self.labels_set}\n",
        "        self.count = 0\n",
        "        self.n_classes = n_classes\n",
        "        self.n_samples = n_samples\n",
        "        self.n_dataset = len(self.labels)\n",
        "        self.batch_size = self.n_samples * self.n_classes\n",
        "\n",
        "    def __iter__(self):\n",
        "        self.count = 0\n",
        "        while self.count + self.batch_size < self.n_dataset:\n",
        "            classes = np.random.choice(self.labels_set, self.n_classes, replace=False)\n",
        "            indices = []\n",
        "            for class_ in classes:\n",
        "                indices.extend(self.label_to_indices[class_][\n",
        "                               self.used_label_indices_count[class_]:self.used_label_indices_count[\n",
        "                                                                         class_] + self.n_samples])\n",
        "                self.used_label_indices_count[class_] += self.n_samples\n",
        "                if self.used_label_indices_count[class_] + self.n_samples > len(self.label_to_indices[class_]):\n",
        "                    np.random.shuffle(self.label_to_indices[class_])\n",
        "                    self.used_label_indices_count[class_] = 0\n",
        "            yield indices\n",
        "            self.count += self.n_classes * self.n_samples\n",
        "\n",
        "    def __len__(self):\n",
        "        return self.n_dataset // self.batch_size"
      ]
    },
    {
      "cell_type": "code",
<<<<<<< Updated upstream
      "execution_count": 119,
=======
      "execution_count": 64,
>>>>>>> Stashed changes
      "id": "d12b21c7",
      "metadata": {},
      "outputs": [],
      "source": [
        "from torch.utils.data import Dataset, DataLoader\n",
        "\n",
        "class CustomDataset(Dataset):\n",
        "    def __init__(self, X, y):\n",
        "        self.X = torch.Tensor(X)\n",
        "        self.y = y\n",
        "\n",
        "    def __len__(self):\n",
        "        return len(self.X)\n",
        "\n",
        "    def __getitem__(self, index):\n",
        "        return self.X[index], self.y[index]"
      ]
    },
    {
      "cell_type": "code",
<<<<<<< Updated upstream
      "execution_count": 120,
      "id": "f7fd8b18",
      "metadata": {},
      "outputs": [
        {
          "data": {
            "text/plain": [
              "200"
            ]
          },
          "execution_count": 120,
          "metadata": {},
          "output_type": "execute_result"
        }
      ],
      "source": [
        "len(np.unique(y_val))"
      ]
    },
    {
      "cell_type": "code",
      "execution_count": 121,
=======
      "execution_count": 65,
>>>>>>> Stashed changes
      "id": "2465359f",
      "metadata": {},
      "outputs": [],
      "source": [
        "train_batch_sampler = BalancedBatchSampler(y_train, n_classes=200, n_samples=20)\n",
        "test_batch_sampler = BalancedBatchSampler(y_val, n_classes=200, n_samples=2)\n",
        "\n",
        "#train_dataset= torch.utils.data.TensorDataset(X_train,y_train)\n",
        "#test_dataset= torch.utils.data.TensorDataset(X_val,y_val)\n",
        "train_dataset = CustomDataset(X_train, y_train)\n",
        "test_dataset = CustomDataset(X_val, y_val)\n",
        "\n",
        "triplets_train_loader = torch.utils.data.DataLoader(train_dataset, batch_sampler=train_batch_sampler)\n",
        "triplets_test_loader = torch.utils.data.DataLoader(test_dataset, batch_sampler=test_batch_sampler)"
      ]
    },
    {
      "attachments": {},
      "cell_type": "markdown",
      "id": "ac42b9f2",
      "metadata": {},
      "source": [
        "### Random Triple Selector"
      ]
    },
    {
      "cell_type": "code",
<<<<<<< Updated upstream
      "execution_count": 122,
=======
      "execution_count": 66,
>>>>>>> Stashed changes
      "id": "8672ed9c",
      "metadata": {},
      "outputs": [],
      "source": [
        "from itertools import combinations\n",
        "\n",
        "class RandomTripletSelector():\n",
        "    \"\"\"\n",
        "    Select random negative  example for  each positive pair  to create triplets\n",
        "    \"\"\"\n",
        "\n",
        "    def __init__(self):\n",
        "        super(RandomTripletSelector, self).__init__()\n",
        "\n",
        "    def get_triplets(self, embeddings, labels):\n",
        "        labels = labels.cpu().data.numpy()\n",
        "        triplets = []\n",
        "        for label in set(labels):\n",
        "            label_mask = (labels == label)\n",
        "            label_indices = np.where(label_mask)[0]\n",
        "            if len(label_indices) < 2:\n",
        "                continue\n",
        "            negative_indices = np.where(np.logical_not(label_mask))[0]\n",
        "            anchor_positives = list(combinations(label_indices, 2))  # All anchor-positive pairs\n",
        "\n",
        "            # random choose one negative example for each positive pair\n",
        "            temp_triplets = [[anchor_positive[0], anchor_positive[1], np.random.choice(negative_indices)] for anchor_positive in anchor_positives]\n",
        "            triplets += temp_triplets\n",
        "\n",
        "        return torch.LongTensor(np.array(triplets))\n"
      ]
    },
    {
      "cell_type": "code",
      "execution_count": 93,
      "id": "95b2c526",
      "metadata": {},
      "outputs": [],
      "source": [
        "from itertools import combinations, product\n",
        "\n",
        "class PairSelector():\n",
        "\n",
        "    def __init__(self):\n",
        "        pass\n",
        "\n",
        "    def get_pairs(self, embeddings, labels):\n",
        "        labels = labels.cpu().data.numpy()\n",
        "        pairs = []\n",
        "        labels_same = []\n",
        "        for label in set(labels):\n",
        "            label_mask = (labels == label)\n",
        "            label_indices = np.where(label_mask)[0]\n",
        "            if len(label_indices) < 2:\n",
        "                continue\n",
        "            negative_indices = np.where(np.logical_not(label_mask))[0]\n",
        "            anchor_positives = list(combinations(label_indices, 2))  # All anchor-positive pairs\n",
        "\n",
        "            # random choose one negative example for each positive pair\n",
        "            positive_pairs = [[anchor_positive[0], anchor_positive[1]] for anchor_positive in anchor_positives]\n",
        "            pairs += positive_pairs\n",
        "            labels_same += [1] * len(positive_pairs)\n",
        "\n",
        "            # random choose one negative example for each anchor\n",
        "            negative_pairs = [[label_indices[0], np.random.choice(negative_indices)] for _ in range(len(positive_pairs))]\n",
        "            pairs += negative_pairs\n",
        "            labels_same += [0] * len(negative_pairs)\n",
        "\n",
        "        return torch.LongTensor(np.array(pairs)), torch.LongTensor(np.array(labels_same))\n"
      ]
    },
    {
      "cell_type": "code",
      "execution_count": 101,
      "id": "9ed2c8f4",
      "metadata": {},
      "outputs": [],
      "source": [
        "class ContrastiveLoss(nn.Module):\n",
        "    \"\"\"\n",
        "    Contrastive loss function.\n",
        "    Based on: http://yann.lecun.com/exdb/publis/pdf/hadsell-chopra-lecun-06.pdf\n",
        "    \"\"\"\n",
        "\n",
        "    def __init__(self, margin, pair_selector):\n",
        "        super(ContrastiveLoss, self).__init__()\n",
        "        self.margin = margin\n",
        "        self.pair_selector = pair_selector\n",
        "\n",
        "    def forward(self, embeddings, labels):\n",
        "        for output1, output2 in embeddings:\n",
        "            euclidean_distance = F.pairwise_distance(output1, output2)\n",
        "                loss_contrastive = torch.mean((1-label) * torch.pow(euclidean_distance, 2) +\n",
        "                                      (label) * torch.pow(torch.clamp(self.margin - euclidean_distance, min=0.0), 2))\n",
        "\n",
        "\n",
        "        return loss_contrastive"
      ]
    },
    {
      "attachments": {},
      "cell_type": "markdown",
      "id": "1b2d7d5d",
      "metadata": {},
      "source": [
        "### Triplets loss"
      ]
    },
    {
      "cell_type": "code",
<<<<<<< Updated upstream
      "execution_count": 123,
=======
      "execution_count": 95,
>>>>>>> Stashed changes
      "id": "19483725",
      "metadata": {},
      "outputs": [],
      "source": [
        "class TripletLoss(nn.Module):\n",
        "    \"\"\"\n",
        "    Triplets loss\n",
        "    Takes a batch of embeddings and corresponding labels.\n",
        "    Triplets are generated using triplet_selector object that take embeddings and targets and return indices of\n",
        "    triplets\n",
        "    \"\"\"\n",
        "\n",
        "    def __init__(self, margin, triplet_selector):\n",
        "        super(TripletLoss, self).__init__()\n",
        "        self.margin = margin\n",
        "        self.triplet_selector = triplet_selector\n",
        "\n",
        "    def forward(self, embeddings, target):\n",
        "\n",
        "        triplets = self.triplet_selector.get_triplets(embeddings, target)\n",
        "        # print(len(triplets))\n",
        "        if embeddings.is_cuda:\n",
        "            triplets = triplets.cuda()\n",
        "\n",
        "            \n",
        "        anchor_idx= triplets[:, 0]  \n",
        "        positive_idx= triplets[:, 1]  \n",
        "        \n",
        "        negative_idx= triplets[:, 2]  \n",
        "            \n",
        "            \n",
        "        ap_distances = (embeddings[anchor_idx] - embeddings[positive_idx]).pow(2).sum(1).pow(.5)\n",
        "        an_distances = (embeddings[anchor_idx] - embeddings[negative_idx]).pow(2).sum(1).pow(.5)\n",
        "        losses = F.relu(ap_distances - an_distances + self.margin)\n",
        "\n",
        "        return losses.mean()"
      ]
    },
    {
      "attachments": {},
      "cell_type": "markdown",
      "id": "9a627713",
      "metadata": {},
      "source": []
    },
    {
      "attachments": {},
      "cell_type": "markdown",
      "id": "9a3fd3bc",
      "metadata": {},
      "source": [
        "### Training the model"
      ]
    },
    {
      "cell_type": "code",
<<<<<<< Updated upstream
      "execution_count": 124,
=======
      "execution_count": 96,
>>>>>>> Stashed changes
      "id": "dc37381b",
      "metadata": {},
      "outputs": [],
      "source": [
        "class Train():\n",
        "    def __init__(self,\n",
        "                 model: nn.Module,\n",
        "                 device: torch.device,\n",
        "                 criterion: nn.Module,\n",
        "                 optimizer: torch.optim.Optimizer,\n",
        "                 training_DataLoader: torch.utils.data.DataLoader,\n",
        "                 validation_DataLoader: torch.utils.data.DataLoader,\n",
        "                 epochs: int,\n",
        "                ):\n",
        "        self.model = model\n",
        "        self.device = device\n",
        "        self.criterion = criterion\n",
        "        self.optimizer = optimizer\n",
        "        self.training_DataLoader = training_DataLoader\n",
        "        self.validation_DataLoader = validation_DataLoader\n",
        "        self.epochs = epochs\n",
        "\n",
        "    def run_train(self):\n",
        "\n",
        "        for epoch in tqdm(range(self.epochs)):\n",
        "\n",
        "            self.model.train()\n",
        "\n",
        "            train_losses = []\n",
        "            for batch in self.training_DataLoader:\n",
        "\n",
        "                x,y=batch\n",
        "                input, target = x.to(self.device), y.to(self.device)  # send to device (GPU or CPU)\n",
        "                self.optimizer.zero_grad()  # zerograd the parameters\n",
        "                out = self.model(input)  # one forward pass\n",
        "                loss = self.criterion(out, target)  # calculate loss\n",
        "                 \n",
        "                loss_value = loss.item()\n",
        "                train_losses.append(loss_value)\n",
        "                 \n",
        "                loss.backward()  # one backward pass\n",
        "                self.optimizer.step()  # update the parameters\n",
        "\n",
        "\n",
        "\n",
        "            self.model.eval()  # evaluation mode\n",
        "            valid_losses = []  # accumulate the losses here\n",
        "\n",
        "            for batch in self.validation_DataLoader:\n",
        "\n",
        "                x,y=batch\n",
        "                input, target = x.to(self.device), y.to(self.device)  # send to device (GPU or CPU)\n",
        "\n",
        "                with torch.no_grad():\n",
        "                    out = self.model(input)   # one forward pass\n",
        "                    loss = self.criterion(out, target) # calculate loss\n",
        "                 \n",
        "                    loss_value = loss.item()\n",
        "                    valid_losses.append(loss_value)\n",
        "\n",
        "\n",
        "                \n",
        "            # print the results\n",
        "            print(\n",
        "                f'EPOCH: {epoch+1:0>{len(str(self.epochs))}}/{self.epochs}',\n",
        "                end=' '\n",
        "            )\n",
        "            print(f'LOSS: {np.mean(train_losses):.4f}',end=' ')\n",
        "            print(f'VAL-LOSS: {np.mean(valid_losses):.4f}',end='\\n')\n",
        "\n",
        "\n",
        "\n"
      ]
    },
    {
      "cell_type": "code",
<<<<<<< Updated upstream
      "execution_count": 125,
=======
      "execution_count": 97,
>>>>>>> Stashed changes
      "id": "e796284b",
      "metadata": {},
      "outputs": [
        {
          "name": "stderr",
          "output_type": "stream",
          "text": [
<<<<<<< Updated upstream
            "  3%|▎         | 1/30 [00:01<00:52,  1.82s/it]"
=======
            " 10%|█         | 1/10 [00:14<02:12, 14.69s/it]"
>>>>>>> Stashed changes
          ]
        },
        {
          "name": "stdout",
          "output_type": "stream",
          "text": [
<<<<<<< Updated upstream
            "EPOCH: 01/30 LOSS: 2.3553 VAL-LOSS: 2.2258\n"
=======
            "EPOCH: 01/10 LOSS: 4.9996 VAL-LOSS: 4.9995\n"
>>>>>>> Stashed changes
          ]
        },
        {
          "name": "stderr",
          "output_type": "stream",
          "text": [
<<<<<<< Updated upstream
            "  7%|▋         | 2/30 [00:03<00:44,  1.60s/it]"
=======
            " 20%|██        | 2/10 [00:29<01:57, 14.66s/it]"
>>>>>>> Stashed changes
          ]
        },
        {
          "name": "stdout",
          "output_type": "stream",
          "text": [
<<<<<<< Updated upstream
            "EPOCH: 02/30 LOSS: 1.7206 VAL-LOSS: 1.2940\n"
=======
            "EPOCH: 02/10 LOSS: 4.9956 VAL-LOSS: 4.9957\n"
>>>>>>> Stashed changes
          ]
        },
        {
          "name": "stderr",
          "output_type": "stream",
          "text": [
<<<<<<< Updated upstream
            " 10%|█         | 3/30 [00:04<00:40,  1.51s/it]"
=======
            " 30%|███       | 3/10 [00:43<01:41, 14.50s/it]"
>>>>>>> Stashed changes
          ]
        },
        {
          "name": "stdout",
          "output_type": "stream",
          "text": [
<<<<<<< Updated upstream
            "EPOCH: 03/30 LOSS: 1.1112 VAL-LOSS: 1.1016\n"
=======
            "EPOCH: 03/10 LOSS: 4.9994 VAL-LOSS: 5.0030\n"
>>>>>>> Stashed changes
          ]
        },
        {
          "name": "stderr",
          "output_type": "stream",
          "text": [
<<<<<<< Updated upstream
            " 13%|█▎        | 4/30 [00:06<00:38,  1.49s/it]"
=======
            " 40%|████      | 4/10 [00:59<01:29, 14.89s/it]"
>>>>>>> Stashed changes
          ]
        },
        {
          "name": "stdout",
          "output_type": "stream",
          "text": [
<<<<<<< Updated upstream
            "EPOCH: 04/30 LOSS: 1.0449 VAL-LOSS: 1.0055\n"
=======
            "EPOCH: 04/10 LOSS: 4.9930 VAL-LOSS: 4.9912\n"
>>>>>>> Stashed changes
          ]
        },
        {
          "name": "stderr",
          "output_type": "stream",
          "text": [
<<<<<<< Updated upstream
            " 17%|█▋        | 5/30 [00:07<00:36,  1.47s/it]"
=======
            " 50%|█████     | 5/10 [01:13<01:13, 14.69s/it]"
>>>>>>> Stashed changes
          ]
        },
        {
          "name": "stdout",
          "output_type": "stream",
          "text": [
<<<<<<< Updated upstream
            "EPOCH: 05/30 LOSS: 1.0182 VAL-LOSS: 1.1472\n"
=======
            "EPOCH: 05/10 LOSS: 4.9906 VAL-LOSS: 4.9971\n"
>>>>>>> Stashed changes
          ]
        },
        {
          "name": "stderr",
          "output_type": "stream",
          "text": [
<<<<<<< Updated upstream
            " 20%|██        | 6/30 [00:08<00:34,  1.45s/it]"
=======
            " 60%|██████    | 6/10 [01:27<00:58, 14.61s/it]"
>>>>>>> Stashed changes
          ]
        },
        {
          "name": "stdout",
          "output_type": "stream",
          "text": [
<<<<<<< Updated upstream
            "EPOCH: 06/30 LOSS: 1.0211 VAL-LOSS: 1.0189\n"
=======
            "EPOCH: 06/10 LOSS: 5.0141 VAL-LOSS: 5.0006\n"
>>>>>>> Stashed changes
          ]
        },
        {
          "name": "stderr",
          "output_type": "stream",
          "text": [
<<<<<<< Updated upstream
            " 23%|██▎       | 7/30 [00:10<00:32,  1.43s/it]"
=======
            " 70%|███████   | 7/10 [01:42<00:43, 14.62s/it]"
>>>>>>> Stashed changes
          ]
        },
        {
          "name": "stdout",
          "output_type": "stream",
          "text": [
<<<<<<< Updated upstream
            "EPOCH: 07/30 LOSS: 1.0209 VAL-LOSS: 1.0358\n"
=======
            "EPOCH: 07/10 LOSS: 4.9940 VAL-LOSS: 4.9979\n"
>>>>>>> Stashed changes
          ]
        },
        {
          "name": "stderr",
          "output_type": "stream",
          "text": [
<<<<<<< Updated upstream
            " 27%|██▋       | 8/30 [00:11<00:31,  1.42s/it]"
=======
            " 80%|████████  | 8/10 [01:57<00:29, 14.85s/it]"
>>>>>>> Stashed changes
          ]
        },
        {
          "name": "stdout",
          "output_type": "stream",
          "text": [
<<<<<<< Updated upstream
            "EPOCH: 08/30 LOSS: 1.0217 VAL-LOSS: 1.1516\n"
=======
            "EPOCH: 08/10 LOSS: 4.9963 VAL-LOSS: 4.9831\n"
>>>>>>> Stashed changes
          ]
        },
        {
          "name": "stderr",
          "output_type": "stream",
          "text": [
<<<<<<< Updated upstream
            " 30%|███       | 9/30 [00:13<00:29,  1.42s/it]"
=======
            " 90%|█████████ | 9/10 [02:13<00:14, 14.96s/it]"
>>>>>>> Stashed changes
          ]
        },
        {
          "name": "stdout",
          "output_type": "stream",
          "text": [
<<<<<<< Updated upstream
            "EPOCH: 09/30 LOSS: 1.0269 VAL-LOSS: 1.0154\n"
=======
            "EPOCH: 09/10 LOSS: 4.9905 VAL-LOSS: 5.0155\n"
>>>>>>> Stashed changes
          ]
        },
        {
          "name": "stderr",
          "output_type": "stream",
          "text": [
<<<<<<< Updated upstream
            " 33%|███▎      | 10/30 [00:14<00:28,  1.42s/it]"
=======
            "100%|██████████| 10/10 [02:28<00:00, 14.84s/it]"
>>>>>>> Stashed changes
          ]
        },
        {
          "name": "stdout",
          "output_type": "stream",
          "text": [
<<<<<<< Updated upstream
            "EPOCH: 10/30 LOSS: 1.0169 VAL-LOSS: 1.0549\n"
          ]
        },
        {
          "name": "stderr",
          "output_type": "stream",
          "text": [
            " 37%|███▋      | 11/30 [00:15<00:26,  1.41s/it]"
          ]
        },
        {
          "name": "stdout",
          "output_type": "stream",
          "text": [
            "EPOCH: 11/30 LOSS: 1.0143 VAL-LOSS: 1.0366\n"
          ]
        },
        {
          "name": "stderr",
          "output_type": "stream",
          "text": [
            " 40%|████      | 12/30 [00:17<00:25,  1.40s/it]"
          ]
        },
        {
          "name": "stdout",
          "output_type": "stream",
          "text": [
            "EPOCH: 12/30 LOSS: 1.0276 VAL-LOSS: 0.9891\n"
          ]
        },
        {
          "name": "stderr",
          "output_type": "stream",
          "text": [
            " 43%|████▎     | 13/30 [00:18<00:23,  1.41s/it]"
          ]
        },
        {
          "name": "stdout",
          "output_type": "stream",
          "text": [
            "EPOCH: 13/30 LOSS: 1.0110 VAL-LOSS: 0.9966\n"
          ]
        },
        {
          "name": "stderr",
          "output_type": "stream",
          "text": [
            " 47%|████▋     | 14/30 [00:20<00:24,  1.55s/it]"
          ]
        },
        {
          "name": "stdout",
          "output_type": "stream",
          "text": [
            "EPOCH: 14/30 LOSS: 1.0092 VAL-LOSS: 1.0147\n"
          ]
        },
        {
          "name": "stderr",
          "output_type": "stream",
          "text": [
            " 50%|█████     | 15/30 [00:22<00:22,  1.53s/it]"
          ]
        },
        {
          "name": "stdout",
          "output_type": "stream",
          "text": [
            "EPOCH: 15/30 LOSS: 1.0117 VAL-LOSS: 0.9958\n"
          ]
        },
        {
          "name": "stderr",
          "output_type": "stream",
          "text": [
            " 53%|█████▎    | 16/30 [00:23<00:21,  1.52s/it]"
          ]
        },
        {
          "name": "stdout",
          "output_type": "stream",
          "text": [
            "EPOCH: 16/30 LOSS: 1.0106 VAL-LOSS: 0.9908\n"
          ]
        },
        {
          "name": "stderr",
          "output_type": "stream",
          "text": [
            " 57%|█████▋    | 17/30 [00:25<00:19,  1.48s/it]"
          ]
        },
        {
          "name": "stdout",
          "output_type": "stream",
          "text": [
            "EPOCH: 17/30 LOSS: 1.0021 VAL-LOSS: 1.0015\n"
          ]
        },
        {
          "name": "stderr",
          "output_type": "stream",
          "text": [
            " 60%|██████    | 18/30 [00:26<00:17,  1.45s/it]"
          ]
        },
        {
          "name": "stdout",
          "output_type": "stream",
          "text": [
            "EPOCH: 18/30 LOSS: 0.9998 VAL-LOSS: 1.0309\n"
          ]
        },
        {
          "name": "stderr",
          "output_type": "stream",
          "text": [
            " 63%|██████▎   | 19/30 [00:27<00:15,  1.43s/it]"
          ]
        },
        {
          "name": "stdout",
          "output_type": "stream",
          "text": [
            "EPOCH: 19/30 LOSS: 1.0086 VAL-LOSS: 1.0134\n"
          ]
        },
        {
          "name": "stderr",
          "output_type": "stream",
          "text": [
            " 67%|██████▋   | 20/30 [00:29<00:14,  1.42s/it]"
          ]
        },
        {
          "name": "stdout",
          "output_type": "stream",
          "text": [
            "EPOCH: 20/30 LOSS: 1.0079 VAL-LOSS: 1.0056\n"
          ]
        },
        {
          "name": "stderr",
          "output_type": "stream",
          "text": [
            " 70%|███████   | 21/30 [00:30<00:12,  1.41s/it]"
          ]
        },
        {
          "name": "stdout",
          "output_type": "stream",
          "text": [
            "EPOCH: 21/30 LOSS: 1.0024 VAL-LOSS: 1.0104\n"
          ]
        },
        {
          "name": "stderr",
          "output_type": "stream",
          "text": [
            " 73%|███████▎  | 22/30 [00:31<00:11,  1.40s/it]"
          ]
        },
        {
          "name": "stdout",
          "output_type": "stream",
          "text": [
            "EPOCH: 22/30 LOSS: 1.0070 VAL-LOSS: 1.0188\n"
          ]
        },
        {
          "name": "stderr",
          "output_type": "stream",
          "text": [
            " 77%|███████▋  | 23/30 [00:33<00:09,  1.40s/it]"
          ]
        },
        {
          "name": "stdout",
          "output_type": "stream",
          "text": [
            "EPOCH: 23/30 LOSS: 1.0039 VAL-LOSS: 1.0187\n"
          ]
        },
        {
          "name": "stderr",
          "output_type": "stream",
          "text": [
            " 80%|████████  | 24/30 [00:34<00:08,  1.40s/it]"
          ]
        },
        {
          "name": "stdout",
          "output_type": "stream",
          "text": [
            "EPOCH: 24/30 LOSS: 1.0111 VAL-LOSS: 1.0087\n"
          ]
        },
        {
          "name": "stderr",
          "output_type": "stream",
          "text": [
            " 83%|████████▎ | 25/30 [00:36<00:06,  1.40s/it]"
          ]
        },
        {
          "name": "stdout",
          "output_type": "stream",
          "text": [
            "EPOCH: 25/30 LOSS: 1.0021 VAL-LOSS: 1.0033\n"
          ]
        },
        {
          "name": "stderr",
          "output_type": "stream",
          "text": [
            " 87%|████████▋ | 26/30 [00:37<00:05,  1.40s/it]"
          ]
        },
        {
          "name": "stdout",
          "output_type": "stream",
          "text": [
            "EPOCH: 26/30 LOSS: 1.0044 VAL-LOSS: 1.0006\n"
          ]
        },
        {
          "name": "stderr",
          "output_type": "stream",
          "text": [
            " 90%|█████████ | 27/30 [00:38<00:04,  1.41s/it]"
          ]
        },
        {
          "name": "stdout",
          "output_type": "stream",
          "text": [
            "EPOCH: 27/30 LOSS: 1.0045 VAL-LOSS: 0.9965\n"
          ]
        },
        {
          "name": "stderr",
          "output_type": "stream",
          "text": [
            " 93%|█████████▎| 28/30 [00:40<00:02,  1.41s/it]"
          ]
        },
        {
          "name": "stdout",
          "output_type": "stream",
          "text": [
            "EPOCH: 28/30 LOSS: 0.9959 VAL-LOSS: 0.9872\n"
          ]
        },
        {
          "name": "stderr",
          "output_type": "stream",
          "text": [
            " 97%|█████████▋| 29/30 [00:41<00:01,  1.41s/it]"
          ]
        },
        {
          "name": "stdout",
          "output_type": "stream",
          "text": [
            "EPOCH: 29/30 LOSS: 0.9993 VAL-LOSS: 0.9986\n"
          ]
        },
        {
          "name": "stderr",
          "output_type": "stream",
          "text": [
            "100%|██████████| 30/30 [00:43<00:00,  1.44s/it]"
          ]
        },
        {
          "name": "stdout",
          "output_type": "stream",
          "text": [
            "EPOCH: 30/30 LOSS: 1.0106 VAL-LOSS: 1.0082\n"
=======
            "EPOCH: 10/10 LOSS: 5.0086 VAL-LOSS: 4.9844\n"
>>>>>>> Stashed changes
          ]
        },
        {
          "name": "stderr",
          "output_type": "stream",
          "text": [
            "\n"
          ]
        }
      ],
      "source": [
        "if torch.cuda.is_available():\n",
        "    device = torch.device('cuda')\n",
        "\n",
        "else:\n",
        "    device = torch.device('cpu')\n",
        "\n",
        "model= EmbeddingNet().to(device)\n",
<<<<<<< Updated upstream
        "\n",
        "criterion = TripletLoss(margin=1.0, triplet_selector=RandomTripletSelector())\n",
        "optimizer = torch.optim.Adam(model.parameters(), lr=0.001)\n",
=======
        "# model_task1_state.pop(\"lin2.weight\", None)\n",
        "# model_task1_state.pop(\"lin2.bias\", None)\n",
        "# model.load_state_dict(model_task1_state)\n",
        "margin = 1\n",
        "\n",
        "criterion = ContrastiveLoss(margin, PairSelector())\n",
        "optimizer = torch.optim.Adam(model.parameters())\n",
>>>>>>> Stashed changes
        "\n",
        "trainer= Train(model=model,\n",
        "               device=device,\n",
        "               criterion=criterion,\n",
        "               optimizer=optimizer,\n",
        "               training_DataLoader=triplets_train_loader,\n",
        "               validation_DataLoader=triplets_test_loader,\n",
        "               epochs=30,)\n",
        "\n",
        "trainer.run_train()\n",
        "\n",
        "model_task2_state = model.state_dict()\n",
        "\n",
        "# TripletLoss(margin,  Informative_Negative_TripletSelector(margin, 0.2))"
      ]
    },
    {
      "attachments": {},
      "cell_type": "markdown",
      "id": "79dfbdef",
      "metadata": {},
      "source": [
        "### Extract the embeddings"
      ]
    },
    {
      "cell_type": "code",
<<<<<<< Updated upstream
      "execution_count": 126,
=======
      "execution_count": 33,
>>>>>>> Stashed changes
      "id": "3bab90fb",
      "metadata": {},
      "outputs": [
        {
          "ename": "ValueError",
          "evalue": "could not broadcast input array from shape (256,64) into shape (256,400)",
          "output_type": "error",
          "traceback": [
            "\u001b[1;31m---------------------------------------------------------------------------\u001b[0m",
            "\u001b[1;31mValueError\u001b[0m                                Traceback (most recent call last)",
            "\u001b[1;32md:\\Master\\Y1\\Deep learning\\Deep-learning\\Assignment_1.ipynb Cell 41\u001b[0m in \u001b[0;36m2\n\u001b[0;32m     <a href='vscode-notebook-cell:/d%3A/Master/Y1/Deep%20learning/Deep-learning/Assignment_1.ipynb#X55sZmlsZQ%3D%3D?line=16'>17</a>\u001b[0m             k \u001b[39m+\u001b[39m\u001b[39m=\u001b[39m \u001b[39mlen\u001b[39m(images)\n\u001b[0;32m     <a href='vscode-notebook-cell:/d%3A/Master/Y1/Deep%20learning/Deep-learning/Assignment_1.ipynb#X55sZmlsZQ%3D%3D?line=17'>18</a>\u001b[0m     \u001b[39mreturn\u001b[39;00m embeddings, labels\n\u001b[1;32m---> <a href='vscode-notebook-cell:/d%3A/Master/Y1/Deep%20learning/Deep-learning/Assignment_1.ipynb#X55sZmlsZQ%3D%3D?line=19'>20</a>\u001b[0m train_embeddings, train_labels \u001b[39m=\u001b[39m extract_embeddings(train_loader, model)\n\u001b[0;32m     <a href='vscode-notebook-cell:/d%3A/Master/Y1/Deep%20learning/Deep-learning/Assignment_1.ipynb#X55sZmlsZQ%3D%3D?line=20'>21</a>\u001b[0m val_embeddings, val_labels \u001b[39m=\u001b[39m extract_embeddings(test_loader, model)\n",
            "\u001b[1;32md:\\Master\\Y1\\Deep learning\\Deep-learning\\Assignment_1.ipynb Cell 41\u001b[0m in \u001b[0;36m1\n\u001b[0;32m     <a href='vscode-notebook-cell:/d%3A/Master/Y1/Deep%20learning/Deep-learning/Assignment_1.ipynb#X55sZmlsZQ%3D%3D?line=12'>13</a>\u001b[0m \u001b[39mif\u001b[39;00m cuda:\n\u001b[0;32m     <a href='vscode-notebook-cell:/d%3A/Master/Y1/Deep%20learning/Deep-learning/Assignment_1.ipynb#X55sZmlsZQ%3D%3D?line=13'>14</a>\u001b[0m     images \u001b[39m=\u001b[39m images\u001b[39m.\u001b[39mcuda()\n\u001b[1;32m---> <a href='vscode-notebook-cell:/d%3A/Master/Y1/Deep%20learning/Deep-learning/Assignment_1.ipynb#X55sZmlsZQ%3D%3D?line=14'>15</a>\u001b[0m embeddings[k:k\u001b[39m+\u001b[39;49m\u001b[39mlen\u001b[39;49m(images)] \u001b[39m=\u001b[39m model\u001b[39m.\u001b[39mget_embedding(images)\u001b[39m.\u001b[39mdata\u001b[39m.\u001b[39mcpu()\u001b[39m.\u001b[39mnumpy()\n\u001b[0;32m     <a href='vscode-notebook-cell:/d%3A/Master/Y1/Deep%20learning/Deep-learning/Assignment_1.ipynb#X55sZmlsZQ%3D%3D?line=15'>16</a>\u001b[0m labels[k:k\u001b[39m+\u001b[39m\u001b[39mlen\u001b[39m(images)] \u001b[39m=\u001b[39m target\u001b[39m.\u001b[39mnumpy()\n\u001b[0;32m     <a href='vscode-notebook-cell:/d%3A/Master/Y1/Deep%20learning/Deep-learning/Assignment_1.ipynb#X55sZmlsZQ%3D%3D?line=16'>17</a>\u001b[0m k \u001b[39m+\u001b[39m\u001b[39m=\u001b[39m \u001b[39mlen\u001b[39m(images)\n",
            "\u001b[1;31mValueError\u001b[0m: could not broadcast input array from shape (256,64) into shape (256,400)"
          ]
        }
      ],
      "source": [
        "train_loader = torch.utils.data.DataLoader(train_dataset, batch_size=256)\n",
        "test_loader = torch.utils.data.DataLoader(test_dataset, batch_size=256)\n",
        "\n",
        "def extract_embeddings(dataloader, model):\n",
        "    \n",
        "    cuda = torch.cuda.is_available()\n",
        "    with torch.no_grad():\n",
        "        model.eval()\n",
<<<<<<< Updated upstream
        "        embeddings = np.zeros((len(dataloader.dataset), 200))\n",
=======
        "        embeddings = np.zeros((len(dataloader.dataset), 400))\n",
>>>>>>> Stashed changes
        "        labels = np.zeros(len(dataloader.dataset))\n",
        "        k = 0\n",
        "        for images, target in dataloader:\n",
        "            if cuda:\n",
        "                images = images.cuda()\n",
        "            embeddings[k:k+len(images)] = model.get_embedding(images).data.cpu().numpy()\n",
        "            labels[k:k+len(images)] = target.numpy()\n",
        "            k += len(images)\n",
        "    return embeddings, labels\n",
        "\n",
        "train_embeddings, train_labels = extract_embeddings(train_loader, model)\n",
        "val_embeddings, val_labels = extract_embeddings(test_loader, model)"
      ]
    },
    {
      "attachments": {},
      "cell_type": "markdown",
      "id": "7dc08b57",
      "metadata": {},
      "source": [
        "### TSNE does not show any interesting pattern  "
      ]
    },
    {
      "cell_type": "code",
<<<<<<< Updated upstream
      "execution_count": 127,
=======
      "execution_count": 34,
>>>>>>> Stashed changes
      "id": "4daab90f",
      "metadata": {},
      "outputs": [
        {
<<<<<<< Updated upstream
          "data": {
            "text/plain": [
              "' from sklearn.manifold import TSNE\\ndef plot_tsne_embeddings(embeddings, targets, xlim=None, ylim=None):\\n    \\n    \\n    # The first 3000 embeddings and targets\\n    embeddings= embeddings[:3000]\\n    targets= targets[:3000]\\n\\n    # Using Tsne to for dimension reduction \\n    tsne = TSNE(n_components=2)\\n    embeddings = tsne.fit_transform(embeddings)\\n    \\n    # Plot\\n    plt.figure(figsize=(10,10))\\n    for i in range(10):\\n        inds = np.where(targets==i)[0]\\n        plt.scatter(embeddings[inds,0], embeddings[inds,1], alpha=0.5)\\n    if xlim:\\n        plt.xlim(xlim[0], xlim[1])\\n    if ylim:\\n        plt.ylim(ylim[0], ylim[1])\\n    plt.legend(np.unique(targets))\\n\\nplot_tsne_embeddings(train_embeddings, train_labels) '"
            ]
          },
          "execution_count": 127,
          "metadata": {},
          "output_type": "execute_result"
=======
          "ename": "NameError",
          "evalue": "name 'train_embeddings' is not defined",
          "output_type": "error",
          "traceback": [
            "\u001b[1;31m---------------------------------------------------------------------------\u001b[0m",
            "\u001b[1;31mNameError\u001b[0m                                 Traceback (most recent call last)",
            "\u001b[1;32md:\\Master\\Y1\\Deep learning\\Deep-learning\\Assignment_1.ipynb Cell 43\u001b[0m in \u001b[0;36m2\n\u001b[0;32m     <a href='vscode-notebook-cell:/d%3A/Master/Y1/Deep%20learning/Deep-learning/Assignment_1.ipynb#X60sZmlsZQ%3D%3D?line=20'>21</a>\u001b[0m         plt\u001b[39m.\u001b[39mylim(ylim[\u001b[39m0\u001b[39m], ylim[\u001b[39m1\u001b[39m])\n\u001b[0;32m     <a href='vscode-notebook-cell:/d%3A/Master/Y1/Deep%20learning/Deep-learning/Assignment_1.ipynb#X60sZmlsZQ%3D%3D?line=21'>22</a>\u001b[0m     plt\u001b[39m.\u001b[39mlegend(np\u001b[39m.\u001b[39munique(targets))\n\u001b[1;32m---> <a href='vscode-notebook-cell:/d%3A/Master/Y1/Deep%20learning/Deep-learning/Assignment_1.ipynb#X60sZmlsZQ%3D%3D?line=23'>24</a>\u001b[0m plot_tsne_embeddings(train_embeddings, train_labels)\n",
            "\u001b[1;31mNameError\u001b[0m: name 'train_embeddings' is not defined"
          ]
>>>>>>> Stashed changes
        }
      ],
      "source": [
        "\"\"\" from sklearn.manifold import TSNE\n",
        "def plot_tsne_embeddings(embeddings, targets, xlim=None, ylim=None):\n",
        "    \n",
        "    \n",
        "    # The first 3000 embeddings and targets\n",
        "    embeddings= embeddings[:3000]\n",
        "    targets= targets[:3000]\n",
        "\n",
        "    # Using Tsne to for dimension reduction \n",
        "    tsne = TSNE(n_components=2)\n",
        "    embeddings = tsne.fit_transform(embeddings)\n",
        "    \n",
        "    # Plot\n",
        "    plt.figure(figsize=(10,10))\n",
        "    for i in range(10):\n",
        "        inds = np.where(targets==i)[0]\n",
        "        plt.scatter(embeddings[inds,0], embeddings[inds,1], alpha=0.5)\n",
        "    if xlim:\n",
        "        plt.xlim(xlim[0], xlim[1])\n",
        "    if ylim:\n",
        "        plt.ylim(ylim[0], ylim[1])\n",
        "    plt.legend(np.unique(targets))\n",
        "\n",
        "plot_tsne_embeddings(train_embeddings, train_labels) \"\"\"\n",
        "#plot_tsne_embeddings(val_embeddings, val_labels)"
      ]
    },
    {
      "cell_type": "code",
<<<<<<< Updated upstream
      "execution_count": 128,
=======
      "execution_count": 37,
      "id": "2f3211bf",
      "metadata": {},
      "outputs": [],
      "source": [
        "# def _pairwise_distances(embeddings, squared=False):\n",
        "#     \"\"\"Compute the 2D matrix of distances between all the embeddings.\n",
        "\n",
        "#     Args:\n",
        "#         embeddings: tensor of shape (batch_size, embed_dim)\n",
        "#         squared: Boolean. If true, output is the pairwise squared euclidean distance matrix.\n",
        "#                  If false, output is the pairwise euclidean distance matrix.\n",
        "\n",
        "#     Returns:\n",
        "#         pairwise_distances: tensor of shape (batch_size, batch_size)\n",
        "#     \"\"\"\n",
        "#     # Get the dot product between all embeddings\n",
        "#     # shape (batch_size, batch_size)\n",
        "#     dot_product = tf.matmul(embeddings, tf.transpose(embeddings))\n",
        "\n",
        "#     # Get squared L2 norm for each embedding. We can just take the diagonal of `dot_product`.\n",
        "#     # This also provides more numerical stability (the diagonal of the result will be exactly 0).\n",
        "#     # shape (batch_size,)\n",
        "#     square_norm = tf.diag_part(dot_product)\n",
        "\n",
        "#     # Compute the pairwise distance matrix as we have:\n",
        "#     # ||a - b||^2 = ||a||^2  - 2 <a, b> + ||b||^2\n",
        "#     # shape (batch_size, batch_size)\n",
        "#     distances = tf.expand_dims(square_norm, 0) - 2.0 * dot_product + tf.expand_dims(square_norm, 1)\n",
        "\n",
        "#     # Because of computation errors, some distances might be negative so we put everything >= 0.0\n",
        "#     distances = tf.maximum(distances, 0.0)\n",
        "\n",
        "#     if not squared:\n",
        "#         # Because the gradient of sqrt is infinite when distances == 0.0 (ex: on the diagonal)\n",
        "#         # we need to add a small epsilon where distances == 0.0\n",
        "#         mask = tf.to_float(tf.equal(distances, 0.0))\n",
        "#         distances = distances + mask * 1e-16\n",
        "\n",
        "#         distances = tf.sqrt(distances)\n",
        "\n",
        "#         # Correct the epsilon added: set the distances on the mask to be exactly 0.0\n",
        "#         distances = distances * (1.0 - mask)\n",
        "\n",
        "#     return distances"
      ]
    },
    {
      "cell_type": "code",
      "execution_count": 38,
      "id": "0e9bc8a5",
      "metadata": {},
      "outputs": [],
      "source": [
        "# class BatchHardTripletLoss(nn.Module):\n",
        "#     def __init__(self, margin, squared=False):\n",
        "#         super(BatchHardTripletLoss, self).__init__()\n",
        "#         self.margin = margin\n",
        "#         self.squared = squared\n",
        "\n",
        "#     def forward(self, labels, embeddings):\n",
        "#         # Get the pairwise distance matrix\n",
        "#         pairwise_dist = self._pairwise_distances(embeddings, squared=self.squared)\n",
        "\n",
        "#         # For each anchor, get the hardest positive\n",
        "#         mask_anchor_positive = self._get_anchor_positive_triplet_mask(labels).float()\n",
        "#         anchor_positive_dist = mask_anchor_positive * pairwise_dist\n",
        "#         hardest_positive_dist, _ = torch.max(anchor_positive_dist, dim=1, keepdim=True)\n",
        "\n",
        "#         # For each anchor, get the hardest negative\n",
        "#         mask_anchor_negative = self._get_anchor_negative_triplet_mask(labels).float()\n",
        "#         max_anchor_negative_dist, _ = torch.max(pairwise_dist, dim=1, keepdim=True)\n",
        "#         anchor_negative_dist = pairwise_dist + max_anchor_negative_dist * (1.0 - mask_anchor_negative)\n",
        "#         hardest_negative_dist, _ = torch.min(anchor_negative_dist, dim=1, keepdim=True)\n",
        "\n",
        "#         # Compute the triplet loss\n",
        "#         triplet_loss = torch.clamp(hardest_positive_dist - hardest_negative_dist + self.margin, min=0.0)\n",
        "#         triplet_loss = torch.mean(triplet_loss)\n",
        "\n",
        "#         return triplet_loss\n",
        "\n",
        "#     def _get_anchor_positive_triplet_mask(self, labels):\n",
        "#         for label in set(labels):\n",
        "#             label_mask = (labels == label)\n",
        "#             label_indices = np.where(label_mask)[0]\n",
        "#         # Fill this in. This should compute a mask where mask[a, p] is True iff a and p are distinct and have same label.\n",
        "#         pass\n",
        "\n",
        "#     def _get_anchor_negative_triplet_mask(self, labels):\n",
        "#         # Fill this in. This should compute a mask where mask[a, n] is True iff a and n have distinct labels.\n",
        "#         pass"
      ]
    },
    {
      "cell_type": "code",
      "execution_count": null,
      "id": "818220fe",
      "metadata": {},
      "outputs": [],
      "source": []
    },
    {
      "cell_type": "code",
      "execution_count": 39,
      "id": "66afb5d1",
      "metadata": {},
      "outputs": [],
      "source": [
        "# def batch_all_triplet_loss(labels, embeddings, margin, squared=False):\n",
        "#     \"\"\"Build the triplet loss over a batch of embeddings.\n",
        "\n",
        "#     We generate all the valid triplets and average the loss over the positive ones.\n",
        "\n",
        "#     Args:\n",
        "#         labels: labels of the batch, of size (batch_size,)\n",
        "#         embeddings: tensor of shape (batch_size, embed_dim)\n",
        "#         margin: margin for triplet loss\n",
        "#         squared: Boolean. If true, output is the pairwise squared euclidean distance matrix.\n",
        "#                  If false, output is the pairwise euclidean distance matrix.\n",
        "\n",
        "#     Returns:\n",
        "#         triplet_loss: scalar tensor containing the triplet loss\n",
        "#     \"\"\"\n",
        "#     # Get the pairwise distance matrix\n",
        "#     pairwise_dist = _pairwise_distances(embeddings, squared=squared)\n",
        "\n",
        "#     anchor_positive_dist = tf.expand_dims(pairwise_dist, 2)\n",
        "#     anchor_negative_dist = tf.expand_dims(pairwise_dist, 1)\n",
        "\n",
        "#     # Compute a 3D tensor of size (batch_size, batch_size, batch_size)\n",
        "#     # triplet_loss[i, j, k] will contain the triplet loss of anchor=i, positive=j, negative=k\n",
        "#     # Uses broadcasting where the 1st argument has shape (batch_size, batch_size, 1)\n",
        "#     # and the 2nd (batch_size, 1, batch_size)\n",
        "#     triplet_loss = anchor_positive_dist - anchor_negative_dist + margin\n",
        "\n",
        "#     # Put to zero the invalid triplets\n",
        "#     # (where label(a) != label(p) or label(n) == label(a) or a == p)\n",
        "#     mask = _get_triplet_mask(labels)\n",
        "#     mask = tf.to_float(mask)\n",
        "#     triplet_loss = tf.multiply(mask, triplet_loss)\n",
        "\n",
        "#     # Remove negative losses (i.e. the easy triplets)\n",
        "#     triplet_loss = tf.maximum(triplet_loss, 0.0)\n",
        "\n",
        "#     # Count number of positive triplets (where triplet_loss > 0)\n",
        "#     valid_triplets = tf.to_float(tf.greater(triplet_loss, 1e-16))\n",
        "#     num_positive_triplets = tf.reduce_sum(valid_triplets)\n",
        "#     num_valid_triplets = tf.reduce_sum(mask)\n",
        "#     fraction_positive_triplets = num_positive_triplets / (num_valid_triplets + 1e-16)\n",
        "\n",
        "#     # Get final mean triplet loss over the positive valid triplets\n",
        "#     triplet_loss = tf.reduce_sum(triplet_loss) / (num_positive_triplets + 1e-16)\n",
        "#     print(fraction_positive_triplets)\n",
        "\n",
        "#     return triplet_loss"
      ]
    },
    {
      "cell_type": "code",
      "execution_count": 40,
>>>>>>> Stashed changes
      "id": "ce7660db",
      "metadata": {},
      "outputs": [],
      "source": [
        "#Helper function to compute Euclidean distance\n",
        "\n",
        "def pdist(vectors):\n",
        "    distance_matrix = -2 * vectors.mm(torch.t(vectors)) + vectors.pow(2).sum(dim=1).view(1, -1) + vectors.pow(2).sum(\n",
        "        dim=1).view(-1, 1)\n",
        "    return distance_matrix"
      ]
    },
    {
      "cell_type": "code",
<<<<<<< Updated upstream
      "execution_count": 129,
      "id": "1626c43d",
=======
      "execution_count": null,
      "id": "5a60a337",
>>>>>>> Stashed changes
      "metadata": {},
      "outputs": [],
      "source": [
        "\n",
        "class Informative_Negative_TripletSelector():\n",
        "\n",
        "    def __init__(self, margin):\n",
        "        super(Informative_Negative_TripletSelector, self).__init__()\n",
        "  \n",
        "        self.margin = margin\n",
        "  \n",
        "   # Our goal is to mining informative triplets.\n",
        "    def informative_negative(self, loss_values):\n",
<<<<<<< Updated upstream
        "        \n",
        "        informative_negative = np.where(loss_values > 0)[0]\n",
=======
        "        # loss_values_sorted = sorted(loss_values, reverse=True)\n",
        "        informative_negative = np.where(loss_values > self.loss_margin)[0]\n",
        "        # if len(informative_negative) > 0:\n",
        "            # max_loss_index = np.random.choice(np.argsort(-loss_values)[:3].tolist())\n",
        "            # return max_loss_index\n",
        "        # print(informative_negative)\n",
        "        # print(sorted()\n",
>>>>>>> Stashed changes
        "        return np.random.choice(informative_negative) if len(informative_negative) > 0 else None\n",
        "\n",
        "\n",
        "    def get_triplets(self, embeddings, labels):\n",
        "        \n",
        "        if torch.cuda.is_available()==False:\n",
        "            embeddings = embeddings.cpu()\n",
        "        distance_matrix = pdist(embeddings)\n",
        "        distance_matrix = distance_matrix.cpu()\n",
        "\n",
        "        labels = labels.cpu().data.numpy()\n",
        "        triplets = []\n",
        "           \n",
        "        for label in set(labels):\n",
        "            label_mask = (labels == label)\n",
        "            label_indices = np.where(label_mask)[0]\n",
        "            if len(label_indices) < 2:\n",
        "                continue\n",
        "            negative_indices = np.where(np.logical_not(label_mask))[0]\n",
        "            anchor_positives = list(combinations(label_indices, 2))  # All anchor-positive pairs\n",
        "            anchor_positives = np.array(anchor_positives)\n",
        "\n",
        "            \n",
        "            ap_distances = distance_matrix[anchor_positives[:, 0], anchor_positives[:, 1]]\n",
        "            for anchor_positive, ap_distance in zip(anchor_positives, ap_distances):\n",
        "                loss_values = ap_distance - distance_matrix[torch.LongTensor(np.array([anchor_positive[0]])), torch.LongTensor(negative_indices)] + self.margin\n",
        "                loss_values = loss_values.data.cpu().numpy()\n",
        "                # print(loss_values)\n",
        "                hard_negative = self.informative_negative(loss_values)\n",
        "                # print(hard_negative)\n",
        "                if hard_negative is not None:\n",
        "                    hard_negative = negative_indices[hard_negative]\n",
        "                    # print(hard_negative)\n",
        "                    triplets.append([anchor_positive[0], anchor_positive[1], hard_negative])\n",
        "\n",
        "        if len(triplets) == 0:\n",
        "            triplets.append([anchor_positive[0], anchor_positive[1], negative_indices[0]])\n",
        "\n",
        "        triplets = np.array(triplets)\n",
        "        # print(triplets.mean())\n",
        "        # print(len(triplets))\n",
        "        return torch.LongTensor(triplets)\n",
        "        "
      ]
    },
    {
      "cell_type": "code",
<<<<<<< Updated upstream
      "execution_count": 130,
=======
      "execution_count": null,
      "id": "1cac388f",
      "metadata": {},
      "outputs": [],
      "source": [
        "from itertools import combinations, product\n",
        "\n",
        "class PairSelector():\n",
        "\n",
        "    def __init__(self):\n",
        "        pass\n",
        "\n",
        "    def get_pairs(self, embeddings, labels):\n",
        "        labels = labels.cpu().data.numpy()\n",
        "        pairs = []\n",
        "        labels_same = []\n",
        "        for label in set(labels):\n",
        "            label_mask = (labels == label)\n",
        "            label_indices = np.where(label_mask)[0]\n",
        "            if len(label_indices) < 2:\n",
        "                continue\n",
        "            negative_indices = np.where(np.logical_not(label_mask))[0]\n",
        "            anchor_positives = list(combinations(label_indices, 2))  # All anchor-positive pairs\n",
        "            \n",
        "            # random choose one negative example for each positive pair\n",
        "            positive_pairs = [[anchor_positive[0], anchor_positive[1]] for anchor_positive in anchor_positives]\n",
        "            pairs += positive_pairs\n",
        "            labels_same += [1] * len(positive_pairs)\n",
        "\n",
        "            # random choose one negative example for each anchor\n",
        "            negative_pairs = [[label_indices[0], np.random.choice(negative_indices)] for _ in range(len(positive_pairs))]\n",
        "            pairs += negative_pairs\n",
        "            labels_same += [0] * len(negative_pairs)\n",
        "\n",
        "        return torch.LongTensor(np.array(pairs)), torch.LongTensor(np.array(labels_same))\n"
      ]
    },
    {
      "cell_type": "code",
      "execution_count": 77,
      "id": "1626c43d",
      "metadata": {},
      "outputs": [],
      "source": [
        "\n",
        "class Informative_Negative_TripletSelector():\n",
        "\n",
        "    def __init__(self, margin, loss_margin):\n",
        "        super(Informative_Negative_TripletSelector, self).__init__()\n",
        "  \n",
        "        self.margin = margin\n",
        "        self.loss_margin = loss_margin\n",
        "  \n",
        "   # Our goal is to mining informative triplets.\n",
        "    def informative_negative(self, loss_values):\n",
        "        # loss_values_sorted = sorted(loss_values, reverse=True)\n",
        "        informative_negative = np.where(loss_values > self.loss_margin)[0]\n",
        "        # if len(informative_negative) > 0:\n",
        "            # max_loss_index = np.random.choice(np.argsort(-loss_values)[:3].tolist())\n",
        "            # return max_loss_index\n",
        "        # print(informative_negative)\n",
        "        # print(sorted()\n",
        "        return np.random.choice(informative_negative) if len(informative_negative) > 0 else None\n",
        "\n",
        "\n",
        "    def get_triplets(self, embeddings, labels):\n",
        "        \n",
        "        if torch.cuda.is_available()==False:\n",
        "            embeddings = embeddings.cpu()\n",
        "        distance_matrix = pdist(embeddings)\n",
        "        distance_matrix = distance_matrix.cpu()\n",
        "\n",
        "        labels = labels.cpu().data.numpy()\n",
        "        triplets = []\n",
        "           \n",
        "        for label in set(labels):\n",
        "            label_mask = (labels == label)\n",
        "            label_indices = np.where(label_mask)[0]\n",
        "            if len(label_indices) < 2:\n",
        "                continue\n",
        "            negative_indices = np.where(np.logical_not(label_mask))[0]\n",
        "            anchor_positives = list(combinations(label_indices, 2))  # All anchor-positive pairs\n",
        "            anchor_positives = np.array(anchor_positives)\n",
        "\n",
        "            \n",
        "            ap_distances = distance_matrix[anchor_positives[:, 0], anchor_positives[:, 1]]\n",
        "            for anchor_positive, ap_distance in zip(anchor_positives, ap_distances):\n",
        "                loss_values = ap_distance - distance_matrix[torch.LongTensor(np.array([anchor_positive[0]])), torch.LongTensor(negative_indices)] + self.margin\n",
        "                loss_values = loss_values.data.cpu().numpy()\n",
        "                # print(loss_values)\n",
        "                hard_negative = self.informative_negative(loss_values)\n",
        "                # print(hard_negative)\n",
        "                if hard_negative is not None:\n",
        "                    hard_negative = negative_indices[hard_negative]\n",
        "                    # print(hard_negative)\n",
        "                    triplets.append([anchor_positive[0], anchor_positive[1], hard_negative])\n",
        "\n",
        "        if len(triplets) == 0:\n",
        "            triplets.append([anchor_positive[0], anchor_positive[1], negative_indices[0]])\n",
        "\n",
        "        triplets = np.array(triplets)\n",
        "        # print(triplets.mean())\n",
        "        # print(len(triplets))\n",
        "        return torch.LongTensor(triplets)\n",
        "        "
      ]
    },
    {
      "cell_type": "code",
      "execution_count": 78,
>>>>>>> Stashed changes
      "id": "51218e23",
      "metadata": {},
      "outputs": [
        {
<<<<<<< Updated upstream
          "name": "stdout",
          "output_type": "stream",
          "text": [
            "GPU is available\n"
=======
          "name": "stderr",
          "output_type": "stream",
          "text": [
            " 10%|█         | 1/10 [00:30<04:32, 30.30s/it]"
          ]
        },
        {
          "name": "stdout",
          "output_type": "stream",
          "text": [
            "EPOCH: 01/10 LOSS: 9.9946 VAL-LOSS: 9.9832\n"
>>>>>>> Stashed changes
          ]
        },
        {
          "name": "stderr",
          "output_type": "stream",
          "text": [
<<<<<<< Updated upstream
            "  3%|▎         | 1/30 [00:02<01:22,  2.85s/it]"
=======
            " 20%|██        | 2/10 [00:58<03:52, 29.09s/it]"
>>>>>>> Stashed changes
          ]
        },
        {
          "name": "stdout",
          "output_type": "stream",
          "text": [
<<<<<<< Updated upstream
            "EPOCH: 01/30 LOSS: 2.1386 VAL-LOSS: 1.2779\n"
=======
            "EPOCH: 02/10 LOSS: 9.9984 VAL-LOSS: 9.9616\n"
>>>>>>> Stashed changes
          ]
        },
        {
          "name": "stderr",
          "output_type": "stream",
          "text": [
<<<<<<< Updated upstream
            "  7%|▋         | 2/30 [00:05<01:20,  2.86s/it]"
=======
            " 30%|███       | 3/10 [01:26<03:21, 28.77s/it]"
>>>>>>> Stashed changes
          ]
        },
        {
          "name": "stdout",
          "output_type": "stream",
          "text": [
<<<<<<< Updated upstream
            "EPOCH: 02/30 LOSS: 2.0738 VAL-LOSS: 1.9280\n"
=======
            "EPOCH: 03/10 LOSS: 9.9945 VAL-LOSS: 10.0155\n"
>>>>>>> Stashed changes
          ]
        },
        {
          "name": "stderr",
          "output_type": "stream",
          "text": [
<<<<<<< Updated upstream
            " 10%|█         | 3/30 [00:08<01:18,  2.92s/it]"
=======
            " 40%|████      | 4/10 [01:54<02:49, 28.29s/it]"
>>>>>>> Stashed changes
          ]
        },
        {
          "name": "stdout",
          "output_type": "stream",
          "text": [
<<<<<<< Updated upstream
            "EPOCH: 03/30 LOSS: 1.9210 VAL-LOSS: 1.7488\n"
=======
            "EPOCH: 04/10 LOSS: 9.9943 VAL-LOSS: 9.9816\n"
>>>>>>> Stashed changes
          ]
        },
        {
          "name": "stderr",
          "output_type": "stream",
          "text": [
<<<<<<< Updated upstream
            " 13%|█▎        | 4/30 [00:11<01:17,  2.99s/it]"
=======
            " 50%|█████     | 5/10 [02:22<02:21, 28.21s/it]"
>>>>>>> Stashed changes
          ]
        },
        {
          "name": "stdout",
          "output_type": "stream",
          "text": [
<<<<<<< Updated upstream
            "EPOCH: 04/30 LOSS: 1.7291 VAL-LOSS: 1.5540\n"
=======
            "EPOCH: 05/10 LOSS: 9.9907 VAL-LOSS: 9.9908\n"
>>>>>>> Stashed changes
          ]
        },
        {
          "name": "stderr",
          "output_type": "stream",
          "text": [
<<<<<<< Updated upstream
            " 17%|█▋        | 5/30 [00:14<01:16,  3.05s/it]"
=======
            " 60%|██████    | 6/10 [02:56<02:01, 30.32s/it]"
>>>>>>> Stashed changes
          ]
        },
        {
          "name": "stdout",
          "output_type": "stream",
          "text": [
<<<<<<< Updated upstream
            "EPOCH: 05/30 LOSS: 1.5070 VAL-LOSS: 1.4277\n"
=======
            "EPOCH: 06/10 LOSS: 9.9921 VAL-LOSS: 9.9884\n"
>>>>>>> Stashed changes
          ]
        },
        {
          "name": "stderr",
          "output_type": "stream",
          "text": [
<<<<<<< Updated upstream
            " 20%|██        | 6/30 [00:18<01:14,  3.10s/it]"
=======
            " 70%|███████   | 7/10 [03:26<01:30, 30.04s/it]"
>>>>>>> Stashed changes
          ]
        },
        {
          "name": "stdout",
          "output_type": "stream",
          "text": [
<<<<<<< Updated upstream
            "EPOCH: 06/30 LOSS: 1.3876 VAL-LOSS: 1.3712\n"
=======
            "EPOCH: 07/10 LOSS: 9.9994 VAL-LOSS: 10.0090\n"
>>>>>>> Stashed changes
          ]
        },
        {
          "name": "stderr",
          "output_type": "stream",
          "text": [
<<<<<<< Updated upstream
            " 23%|██▎       | 7/30 [00:21<01:11,  3.13s/it]"
=======
            " 80%|████████  | 8/10 [03:54<00:58, 29.28s/it]"
>>>>>>> Stashed changes
          ]
        },
        {
          "name": "stdout",
          "output_type": "stream",
          "text": [
<<<<<<< Updated upstream
            "EPOCH: 07/30 LOSS: 1.3146 VAL-LOSS: 1.3135\n"
=======
            "EPOCH: 08/10 LOSS: 10.0010 VAL-LOSS: 10.0202\n"
>>>>>>> Stashed changes
          ]
        },
        {
          "name": "stderr",
          "output_type": "stream",
          "text": [
<<<<<<< Updated upstream
            " 27%|██▋       | 8/30 [00:24<01:08,  3.13s/it]"
=======
            " 90%|█████████ | 9/10 [04:23<00:29, 29.17s/it]"
>>>>>>> Stashed changes
          ]
        },
        {
          "name": "stdout",
          "output_type": "stream",
          "text": [
<<<<<<< Updated upstream
            "EPOCH: 08/30 LOSS: 1.2253 VAL-LOSS: 1.1959\n"
=======
            "EPOCH: 09/10 LOSS: 10.0034 VAL-LOSS: 9.9872\n"
>>>>>>> Stashed changes
          ]
        },
        {
          "name": "stderr",
          "output_type": "stream",
          "text": [
<<<<<<< Updated upstream
            " 30%|███       | 9/30 [00:27<01:06,  3.16s/it]"
=======
            "100%|██████████| 10/10 [04:51<00:00, 29.15s/it]"
>>>>>>> Stashed changes
          ]
        },
        {
          "name": "stdout",
          "output_type": "stream",
          "text": [
<<<<<<< Updated upstream
            "EPOCH: 09/30 LOSS: 1.1778 VAL-LOSS: 1.2221\n"
          ]
        },
        {
          "name": "stderr",
          "output_type": "stream",
          "text": [
            " 33%|███▎      | 10/30 [00:30<01:03,  3.18s/it]"
          ]
        },
        {
          "name": "stdout",
          "output_type": "stream",
          "text": [
            "EPOCH: 10/30 LOSS: 1.1446 VAL-LOSS: 1.1545\n"
          ]
        },
        {
          "name": "stderr",
          "output_type": "stream",
          "text": [
            " 37%|███▋      | 11/30 [00:34<01:00,  3.18s/it]"
          ]
        },
        {
          "name": "stdout",
          "output_type": "stream",
          "text": [
            "EPOCH: 11/30 LOSS: 1.1507 VAL-LOSS: 1.1482\n"
          ]
        },
        {
          "name": "stderr",
          "output_type": "stream",
          "text": [
            " 40%|████      | 12/30 [00:37<00:57,  3.17s/it]"
          ]
        },
        {
          "name": "stdout",
          "output_type": "stream",
          "text": [
            "EPOCH: 12/30 LOSS: 1.1221 VAL-LOSS: 1.2109\n"
          ]
        },
        {
          "name": "stderr",
          "output_type": "stream",
          "text": [
            " 43%|████▎     | 13/30 [00:40<00:54,  3.21s/it]"
          ]
        },
        {
          "name": "stdout",
          "output_type": "stream",
          "text": [
            "EPOCH: 13/30 LOSS: 1.1209 VAL-LOSS: 1.1448\n"
          ]
        },
        {
          "name": "stderr",
          "output_type": "stream",
          "text": [
            " 47%|████▋     | 14/30 [00:43<00:52,  3.25s/it]"
          ]
        },
        {
          "name": "stdout",
          "output_type": "stream",
          "text": [
            "EPOCH: 14/30 LOSS: 1.1086 VAL-LOSS: 1.1415\n"
          ]
        },
        {
          "name": "stderr",
          "output_type": "stream",
          "text": [
            " 50%|█████     | 15/30 [00:47<00:49,  3.28s/it]"
          ]
        },
        {
          "name": "stdout",
          "output_type": "stream",
          "text": [
            "EPOCH: 15/30 LOSS: 1.1041 VAL-LOSS: 1.1223\n"
          ]
        },
        {
          "name": "stderr",
          "output_type": "stream",
          "text": [
            " 53%|█████▎    | 16/30 [00:50<00:45,  3.28s/it]"
          ]
        },
        {
          "name": "stdout",
          "output_type": "stream",
          "text": [
            "EPOCH: 16/30 LOSS: 1.0886 VAL-LOSS: 1.1472\n"
          ]
        },
        {
          "name": "stderr",
          "output_type": "stream",
          "text": [
            " 57%|█████▋    | 17/30 [00:53<00:42,  3.26s/it]"
          ]
        },
        {
          "name": "stdout",
          "output_type": "stream",
          "text": [
            "EPOCH: 17/30 LOSS: 1.0860 VAL-LOSS: 1.1304\n"
          ]
        },
        {
          "name": "stderr",
          "output_type": "stream",
          "text": [
            " 60%|██████    | 18/30 [00:57<00:39,  3.27s/it]"
          ]
        },
        {
          "name": "stdout",
          "output_type": "stream",
          "text": [
            "EPOCH: 18/30 LOSS: 1.1001 VAL-LOSS: 1.1335\n"
          ]
        },
        {
          "name": "stderr",
          "output_type": "stream",
          "text": [
            " 63%|██████▎   | 19/30 [01:00<00:35,  3.25s/it]"
          ]
        },
        {
          "name": "stdout",
          "output_type": "stream",
          "text": [
            "EPOCH: 19/30 LOSS: 1.0971 VAL-LOSS: 1.1458\n"
          ]
        },
        {
          "name": "stderr",
          "output_type": "stream",
          "text": [
            " 67%|██████▋   | 20/30 [01:03<00:32,  3.26s/it]"
          ]
        },
        {
          "name": "stdout",
          "output_type": "stream",
          "text": [
            "EPOCH: 20/30 LOSS: 1.0789 VAL-LOSS: 1.1315\n"
          ]
        },
        {
          "name": "stderr",
          "output_type": "stream",
          "text": [
            " 70%|███████   | 21/30 [01:06<00:29,  3.26s/it]"
          ]
        },
        {
          "name": "stdout",
          "output_type": "stream",
          "text": [
            "EPOCH: 21/30 LOSS: 1.0927 VAL-LOSS: 1.1736\n"
          ]
        },
        {
          "name": "stderr",
          "output_type": "stream",
          "text": [
            " 73%|███████▎  | 22/30 [01:09<00:25,  3.22s/it]"
          ]
        },
        {
          "name": "stdout",
          "output_type": "stream",
          "text": [
            "EPOCH: 22/30 LOSS: 1.0857 VAL-LOSS: 1.1734\n"
          ]
        },
        {
          "name": "stderr",
          "output_type": "stream",
          "text": [
            " 77%|███████▋  | 23/30 [01:13<00:22,  3.20s/it]"
          ]
        },
        {
          "name": "stdout",
          "output_type": "stream",
          "text": [
            "EPOCH: 23/30 LOSS: 1.0795 VAL-LOSS: 1.1749\n"
          ]
        },
        {
          "name": "stderr",
          "output_type": "stream",
          "text": [
            " 80%|████████  | 24/30 [01:16<00:19,  3.19s/it]"
          ]
        },
        {
          "name": "stdout",
          "output_type": "stream",
          "text": [
            "EPOCH: 24/30 LOSS: 1.0882 VAL-LOSS: 1.1316\n"
          ]
        },
        {
          "name": "stderr",
          "output_type": "stream",
          "text": [
            " 83%|████████▎ | 25/30 [01:19<00:15,  3.18s/it]"
          ]
        },
        {
          "name": "stdout",
          "output_type": "stream",
          "text": [
            "EPOCH: 25/30 LOSS: 1.0799 VAL-LOSS: 1.2156\n"
          ]
        },
        {
          "name": "stderr",
          "output_type": "stream",
          "text": [
            " 87%|████████▋ | 26/30 [01:22<00:12,  3.18s/it]"
          ]
        },
        {
          "name": "stdout",
          "output_type": "stream",
          "text": [
            "EPOCH: 26/30 LOSS: 1.0942 VAL-LOSS: 1.1897\n"
          ]
        },
        {
          "name": "stderr",
          "output_type": "stream",
          "text": [
            " 90%|█████████ | 27/30 [01:25<00:09,  3.18s/it]"
          ]
        },
        {
          "name": "stdout",
          "output_type": "stream",
          "text": [
            "EPOCH: 27/30 LOSS: 1.0781 VAL-LOSS: 1.1728\n"
          ]
        },
        {
          "name": "stderr",
          "output_type": "stream",
          "text": [
            " 93%|█████████▎| 28/30 [01:28<00:06,  3.18s/it]"
          ]
        },
        {
          "name": "stdout",
          "output_type": "stream",
          "text": [
            "EPOCH: 28/30 LOSS: 1.0790 VAL-LOSS: 1.2369\n"
          ]
        },
        {
          "name": "stderr",
          "output_type": "stream",
          "text": [
            " 97%|█████████▋| 29/30 [01:32<00:03,  3.20s/it]"
          ]
        },
        {
          "name": "stdout",
          "output_type": "stream",
          "text": [
            "EPOCH: 29/30 LOSS: 1.0783 VAL-LOSS: 1.2140\n"
          ]
        },
        {
          "name": "stderr",
          "output_type": "stream",
          "text": [
            "100%|██████████| 30/30 [01:35<00:00,  3.18s/it]"
          ]
        },
        {
          "name": "stdout",
          "output_type": "stream",
          "text": [
            "EPOCH: 30/30 LOSS: 1.0744 VAL-LOSS: 1.2288\n"
=======
            "EPOCH: 10/10 LOSS: 9.9956 VAL-LOSS: 9.9926\n"
>>>>>>> Stashed changes
          ]
        },
        {
          "name": "stderr",
          "output_type": "stream",
          "text": [
            "\n"
          ]
        }
      ],
      "source": [
        "# device\n",
        "if torch.cuda.is_available():\n",
        "    device = torch.device('cuda')\n",
        "    print('GPU is available')\n",
        "else:\n",
        "    device=torch.device('cpu')\n",
        "    \n",
        "# model\n",
        "mined_embedding_net = EmbeddingNet()\n",
        "mined_model = mined_embedding_net.to(device)\n",
        "\n",
        "\n",
        "# margin value\n",
        "margin=1\n",
        "\n",
        "# criterion\n",
        "criterion = TripletLoss(margin,  Informative_Negative_TripletSelector(margin))\n",
        "\n",
        "# optimizer\n",
<<<<<<< Updated upstream
        "optimizer = torch.optim.SGD(mined_model.parameters(), lr=0.001, momentum=0.9)\n",
=======
        "optimizer = torch.optim.Adam(mined_model.parameters())\n",
>>>>>>> Stashed changes
        "\n",
        "# trainer\n",
        "trainer = Train(model=mined_model,\n",
        "                  device=device,\n",
        "                  criterion=criterion,\n",
        "                  optimizer=optimizer,\n",
        "                  training_DataLoader=triplets_train_loader,\n",
        "                  validation_DataLoader=triplets_test_loader,\n",
<<<<<<< Updated upstream
        "                  epochs=30)\n",
=======
        "                  epochs=10)\n",
>>>>>>> Stashed changes
        "\n",
        "# start training\n",
        "trainer.run_train()"
      ]
    },
    {
      "cell_type": "code",
<<<<<<< Updated upstream
      "execution_count": 131,
=======
      "execution_count": null,
      "id": "203bd0c9",
      "metadata": {},
      "outputs": [],
      "source": [
        "# # device\n",
        "# if torch.cuda.is_available():\n",
        "#     device = torch.device('cuda')\n",
        "#     print('GPU is available')\n",
        "# else:\n",
        "#     device=torch.device('cpu')\n",
        "    \n",
        "# # train_embeddings, train_labels = extract_embeddings(train_loader, model)\n",
        "# # val_embeddings, val_labels = extract_embeddings(test_loader, model)\n",
        "\n",
        "# # model\n",
        "# hard_mined_embedding_net = EmbeddingNet()\n",
        "# hard_mined_model = hard_mined_embedding_net.to(device)\n",
        "\n",
        "\n",
        "# # margin value\n",
        "# margin=10\n",
        "\n",
        "# # criterion\n",
        "# criterion = TripletLoss(margin,  Informative_Negative_TripletSelector(margin, 5))\n",
        "\n",
        "# # optimizer\n",
        "# optimizer = torch.optim.Adam(model.parameters())\n",
        "\n",
        "# # trainer\n",
        "# trainer = Train(model=hard_mined_model,\n",
        "#                   device=device,\n",
        "#                   criterion=criterion,\n",
        "#                   optimizer=optimizer,\n",
        "#                   training_DataLoader=triplets_train_loader,\n",
        "#                   validation_DataLoader=triplets_test_loader,\n",
        "#                   epochs=5)\n",
        "\n",
        "# # start training\n",
        "# trainer.run_train()"
      ]
    },
    {
      "cell_type": "code",
      "execution_count": null,
>>>>>>> Stashed changes
      "id": "7524b937",
      "metadata": {},
      "outputs": [],
      "source": [
        "# Average Precision\n",
        "def average_precision(sorted_class_vals, true_class):\n",
        "    ind = sorted_class_vals == true_class\n",
        "    num_positive = np.sum(ind)\n",
        "    cum_ind = np.cumsum(ind).astype(np.float32)\n",
        "    enum = np.array(range(1, len(ind)+1)).astype(np.float32)\n",
        "    return np.sum(cum_ind * ind / enum) / num_positive"
      ]
    },
    {
      "cell_type": "code",
<<<<<<< Updated upstream
      "execution_count": 132,
=======
      "execution_count": 71,
>>>>>>> Stashed changes
      "id": "fd0cc1db-e473-412e-b6b8-c95adc5438dd",
      "metadata": {
        "id": "fd0cc1db-e473-412e-b6b8-c95adc5438dd"
      },
      "outputs": [],
      "source": [
        "# function to determine performance of model\n",
        "def query_performance(queries, targets, gt, top=1):\n",
        "    assert top >= 1\n",
        "    cnt = 0\n",
        "\n",
        "    #convert to torch tensors\n",
        "    queries= torch.tensor(queries)\n",
        "    targets= torch.tensor(targets)\n",
        "\n",
        "    q = queries.float().cuda()\n",
        "    t = targets.float().cuda()\n",
        "\n",
        "    with torch.no_grad():\n",
        "        \n",
        "        \n",
        "        ### MODIFY IF NECESSARY ###\n",
        "        #set model to evaluation mode\n",
        "        mined_model.eval()\n",
        "\n",
        "        #For each query, compute embeddings for both query and 4 targets and store them in the most efficient way\n",
<<<<<<< Updated upstream
        "        emb_q = mined_model(q).cpu().numpy()\n",
        "        emb_t=np.empty((len(queries),1,4,200)) #embedding shape\n",
=======
        "        emb_q = model(q).cpu().numpy()\n",
        "        emb_t=np.empty((len(queries),1,4,265)) #embedding shape\n",
>>>>>>> Stashed changes
        "        for i in range(len(queries)):\n",
        "            emb_t_ind=mined_model(t[i]).cpu().numpy()\n",
        "            emb_t_ind = np.expand_dims(emb_t_ind, axis=0)\n",
        "            emb_t[i]=emb_t_ind\n",
        "                \n",
        "        for i in range(len(queries)):  \n",
        "            dist = cdist(np.expand_dims(emb_q[i],axis=0), np.concatenate(emb_t[i]))\n",
        "        \n",
        "            if top == 1:\n",
        "                pred = np.argmin(dist)\n",
        "\n",
        "            if pred == gt[i]:\n",
        "                cnt += 1\n",
        "        \n",
        "            else:\n",
        "                pred = np.argsort(dist)\n",
        "                if gt[i] in pred[0,:top].tolist():\n",
        "                    cnt+=1\n",
        "\n",
        "    return (100*cnt/gt.shape[0])"
      ]
    },
    {
      "cell_type": "code",
<<<<<<< Updated upstream
      "execution_count": 133,
=======
      "execution_count": 75,
>>>>>>> Stashed changes
      "id": "413dfdbe",
      "metadata": {},
      "outputs": [],
      "source": [
        "performance= query_performance(queries, targets, gt, top=1)"
      ]
    },
    {
      "cell_type": "code",
<<<<<<< Updated upstream
      "execution_count": 134,
=======
      "execution_count": 76,
>>>>>>> Stashed changes
      "id": "df487434",
      "metadata": {},
      "outputs": [
        {
          "data": {
            "text/plain": [
<<<<<<< Updated upstream
              "19.333333333333332"
            ]
          },
          "execution_count": 134,
=======
              "39.0"
            ]
          },
          "execution_count": 76,
          "metadata": {},
          "output_type": "execute_result"
        }
      ],
      "source": [
        "performance_mined "
      ]
    },
    {
      "cell_type": "code",
      "execution_count": 98,
      "id": "b99f0f60",
      "metadata": {},
      "outputs": [],
      "source": [
        "performance = query_performance(queries, targets, gt, model)"
      ]
    },
    {
      "cell_type": "code",
      "execution_count": 99,
      "id": "b1f0a240",
      "metadata": {},
      "outputs": [
        {
          "data": {
            "text/plain": [
              "37.333333333333336"
            ]
          },
          "execution_count": 99,
>>>>>>> Stashed changes
          "metadata": {},
          "output_type": "execute_result"
        }
      ],
      "source": [
        "performance"
      ]
    },
    {
      "cell_type": "code",
      "execution_count": null,
      "id": "b99f0f60",
      "metadata": {},
      "outputs": [],
      "source": []
    }
  ],
  "metadata": {
    "accelerator": "GPU",
    "colab": {
      "gpuType": "T4",
      "provenance": []
    },
    "gpuClass": "standard",
    "kernelspec": {
      "display_name": "Python 3 (ipykernel)",
      "language": "python",
      "name": "python3"
    },
    "language_info": {
      "codemirror_mode": {
        "name": "ipython",
        "version": 3
      },
      "file_extension": ".py",
      "mimetype": "text/x-python",
      "name": "python",
      "nbconvert_exporter": "python",
      "pygments_lexer": "ipython3",
      "version": "3.10.11"
    }
  },
  "nbformat": 4,
  "nbformat_minor": 5
}
