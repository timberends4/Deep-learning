{
  "cells": [
    {
      "attachments": {},
      "cell_type": "markdown",
      "id": "a4ec9a11-3515-40aa-97ac-73c249df560e",
      "metadata": {
        "id": "a4ec9a11-3515-40aa-97ac-73c249df560e"
      },
      "source": [
        "# Group Number:\n",
        "# Student 1:\n",
        "# Student 2:\n",
        "# Student 3:"
      ]
    },
    {
      "attachments": {},
      "cell_type": "markdown",
      "id": "a8c200a7-b3ab-4c9a-bcf8-320271c040f3",
      "metadata": {
        "id": "a8c200a7-b3ab-4c9a-bcf8-320271c040f3"
      },
      "source": [
        "In case you are using google colab, uncomment the following cell, and modify the ```notebook_dir``` variable to contain the directory this notebook is in. It will automatically download the .py files needed for this assignment"
      ]
    },
    {
      "cell_type": "code",
      "execution_count": 1,
      "id": "igFRsZKIC18S",
      "metadata": {
        "id": "igFRsZKIC18S"
      },
      "outputs": [],
      "source": [
        "# # Change the following  line to the directory this notebook is (if using colab)\n",
        "# # In case you do not know the path, open the file navigator on the left in colab\n",
        "# # Find the folder containing this notebook, then press on the three dots --> copy path\n",
        "notebook_dir = \"/content/drive/MyDrive/TUe/DeepLearning\""
      ]
    },
    {
      "cell_type": "code",
      "execution_count": 2,
      "id": "828246d4-75b2-42b7-ab06-925e6624f411",
      "metadata": {
        "colab": {
          "base_uri": "https://localhost:8080/"
        },
        "id": "828246d4-75b2-42b7-ab06-925e6624f411",
        "outputId": "999fdc39-75eb-417a-b2ee-17aace085b98"
      },
      "outputs": [
        {
          "data": {
            "text/plain": [
              "' # # UNCOMMENT IF USING COLAB\\nfrom google.colab import drive\\nimport requests\\ndrive.mount(\\'/content/drive\\')\\nimport sys\\nimport os\\nsys.path.insert(0, notebook_dir) \\nos.chdir(notebook_dir)\\nsymco = \"https://github.com/vlamen/tue-deeplearning/blob/main/assignments/assignment_1/symconv.py?raw=true\"\\ncrpt = \"https://github.com/vlamen/tue-deeplearning/blob/main/assignments/assignment_1/carpet.py?raw=true\"\\nr_s = requests.get(symco, allow_redirects=True)\\nr_c = requests.get(crpt, allow_redirects=True)\\nwith open(\\'symconv.py\\', \\'wb\\') as f:\\n    f.write(r_s.content)\\nwith open(\\'carpet.py\\', \\'wb\\') as f:\\n    f.write(r_c.content) '"
            ]
          },
          "execution_count": 2,
          "metadata": {},
          "output_type": "execute_result"
        }
      ],
      "source": [
        "\"\"\" # # UNCOMMENT IF USING COLAB\n",
        "from google.colab import drive\n",
        "import requests\n",
        "drive.mount('/content/drive')\n",
        "import sys\n",
        "import os\n",
        "sys.path.insert(0, notebook_dir) \n",
        "os.chdir(notebook_dir)\n",
        "symco = \"https://github.com/vlamen/tue-deeplearning/blob/main/assignments/assignment_1/symconv.py?raw=true\"\n",
        "crpt = \"https://github.com/vlamen/tue-deeplearning/blob/main/assignments/assignment_1/carpet.py?raw=true\"\n",
        "r_s = requests.get(symco, allow_redirects=True)\n",
        "r_c = requests.get(crpt, allow_redirects=True)\n",
        "with open('symconv.py', 'wb') as f:\n",
        "    f.write(r_s.content)\n",
        "with open('carpet.py', 'wb') as f:\n",
        "    f.write(r_c.content) \"\"\""
      ]
    },
    {
      "cell_type": "code",
      "execution_count": 3,
      "id": "1c401bd6-3828-4f5e-ada8-a026e0a167bf",
      "metadata": {
        "id": "1c401bd6-3828-4f5e-ada8-a026e0a167bf"
      },
      "outputs": [],
      "source": [
        "import torch\n",
        "import torch.nn as nn\n",
        "import torch.nn.functional as F\n",
        "from torch.utils.data import DataLoader, Dataset, TensorDataset\n",
        "\n",
        "import io\n",
        "import requests\n",
        "\n",
        "import symconv as sc\n",
        "from carpet import show_carpet, oh_to_label\n",
        "\n",
        "import numpy as np\n",
        "import matplotlib.pyplot as plt\n",
        "\n",
        "from scipy.spatial.distance import cdist\n",
        "\n",
        "from tqdm import tqdm"
      ]
    },
    {
      "cell_type": "code",
      "execution_count": 4,
      "id": "gD5Y021EjRq6",
      "metadata": {
        "id": "gD5Y021EjRq6"
      },
      "outputs": [],
      "source": [
        "if torch.cuda.is_available():\n",
        "    device = torch.device('cuda')\n",
        "else:\n",
        "    device=torch.device('cpu')"
      ]
    },
    {
      "cell_type": "code",
      "execution_count": 5,
      "id": "35c0bcb8-5215-40b3-8ba2-7e4208651c90",
      "metadata": {
        "id": "35c0bcb8-5215-40b3-8ba2-7e4208651c90"
      },
      "outputs": [],
      "source": [
        "def load_numpy_arr_from_url(url):\n",
        "    \"\"\"\n",
        "    Loads a numpy array from surfdrive. \n",
        "    \n",
        "    Input:\n",
        "    url: Download link of dataset \n",
        "    \n",
        "    Outputs:\n",
        "    dataset: numpy array with input features or labels\n",
        "    \"\"\"\n",
        "    \n",
        "    response = requests.get(url)\n",
        "    response.raise_for_status()\n",
        "\n",
        "    return np.load(io.BytesIO(response.content)) "
      ]
    },
    {
      "attachments": {},
      "cell_type": "markdown",
      "id": "045a1fdc-8c84-4829-b8c8-14c957f733f6",
      "metadata": {
        "id": "045a1fdc-8c84-4829-b8c8-14c957f733f6"
      },
      "source": [
        "# Task 1: Pattern Classification"
      ]
    },
    {
      "cell_type": "code",
      "execution_count": 6,
      "id": "a45b63ab-610e-4e03-b1da-a717c2a77c8a",
      "metadata": {
        "colab": {
          "base_uri": "https://localhost:8080/"
        },
        "id": "a45b63ab-610e-4e03-b1da-a717c2a77c8a",
        "outputId": "a08c590f-6b01-4564-c87b-2f44dd0b9f76"
      },
      "outputs": [
        {
          "name": "stdout",
          "output_type": "stream",
          "text": [
            "Carpet train shape: torch.Size([7500, 1, 96, 60])\n",
            "Label train shape: torch.Size([7500, 3])\n",
            "Carpet validation shape: torch.Size([2000, 1, 96, 60])\n",
            "Label validation shape: torch.Size([2000, 3])\n",
            "Carpet test shape: torch.Size([500, 1, 96, 60])\n",
            "Label test shape: torch.Size([500, 3])\n"
          ]
        }
      ],
      "source": [
        "# loading training and testing data for task 1\n",
        "# DO NOT MODIFY\n",
        "task1 = load_numpy_arr_from_url(\"https://github.com/vlamen/tue-deeplearning/blob/main/assignments/assignment_1/task1data.npz?raw=true\")\n",
        "# task1 = np.load(\"task1data.npz\")\n",
        "\n",
        "X = torch.tensor(task1['arr_0']).float()\n",
        "y = torch.tensor(task1['arr_1']).float()\n",
        "\n",
        "X_train = X[:7500]\n",
        "X_val = X[7500:9500]\n",
        "X_test = X[9500:]\n",
        "y_train = y[:7500]\n",
        "y_val = y[7500:9500]\n",
        "y_test  = y[9500:]\n",
        "\n",
        "train_dataset = TensorDataset(X_train, y_train)\n",
        "val_dataset = TensorDataset(X_val, y_val)\n",
        "test_dataset = TensorDataset(X_test, y_test)\n",
        "\n",
        "\n",
        "print(f\"Carpet train shape: {X_train.shape}\")\n",
        "print(f\"Label train shape: {y_train.shape}\")\n",
        "print(f\"Carpet validation shape: {X_val.shape}\")\n",
        "print(f\"Label validation shape: {y_val.shape}\")\n",
        "print(f\"Carpet test shape: {X_test.shape}\")\n",
        "print(f\"Label test shape: {y_test.shape}\")"
      ]
    },
    {
      "cell_type": "code",
      "execution_count": 7,
      "id": "a4c5553f-023f-48fc-81b5-83184a46a21d",
      "metadata": {
        "colab": {
          "base_uri": "https://localhost:8080/",
          "height": 302
        },
        "id": "a4c5553f-023f-48fc-81b5-83184a46a21d",
        "outputId": "9fed8192-1851-452e-f85d-cdf9e1e3d188"
      },
      "outputs": [
        {
          "name": "stdout",
          "output_type": "stream",
          "text": [
            "Carpet from Convolushahr\n"
          ]
        },
        {
          "data": {
            "image/png": "[encoded data removed]",
            "text/plain": [
              "<Figure size 640x480 with 1 Axes>"
            ]
          },
          "metadata": {},
          "output_type": "display_data"
        }
      ],
      "source": [
        "# random carpet\n",
        "idx = np.random.randint(0,7500)\n",
        "show_carpet(X_train, idx)\n",
        "print('Carpet from', oh_to_label(y_train[idx,None])[0])"
      ]
    },
    {
      "cell_type": "code",
      "execution_count": 8,
      "id": "DjMXGaWwYwtT",
      "metadata": {
        "id": "DjMXGaWwYwtT"
      },
      "outputs": [],
      "source": [
        "train_dataloader = DataLoader(train_dataset, batch_size=32, shuffle=True)\n",
        "\n",
        "valid_dataloader = DataLoader(val_dataset, batch_size=32, shuffle=False)"
      ]
    },
    {
      "cell_type": "code",
      "execution_count": 9,
      "id": "D-nBJ7IhL4Qz",
      "metadata": {
        "id": "D-nBJ7IhL4Qz"
      },
      "outputs": [],
      "source": [
        "class Lambda(nn.Module):\n",
        "    def __init__(self, func):\n",
        "        super().__init__()\n",
        "        self.func = func\n",
        "\n",
        "    def forward(self, x):\n",
        "        return self.func(x)\n",
        "        \n",
        "class SymModel(nn.Module):\n",
        "    def __init__(self):\n",
        "        super().__init__()\n",
        "\n",
        "        self.rot_slc = sc.Slice(rotation=4, reflection=False)\n",
        "        self.convs = nn.Sequential(\n",
        "            sc.SymmetryConv2d(in_filters=1, out_filters=16, kernel_size=4, stride=4, rotation=4, reflection=False),\n",
        "            nn.ReLU(),\n",
        "            sc.SymmetryPool(),\n",
        "            nn.Conv2d(16, 32, kernel_size=3, stride=3),\n",
        "            nn.ReLU(),\n",
        "            nn.Conv2d(32, 32, kernel_size=3, stride=1),\n",
        "            nn.ReLU(),\n",
        "            Lambda(lambda x: x.view(x.size(0), -1))\n",
        "            )\n",
        "        # self.pool = sc.SymmetryPool()\n",
        "                    \n",
        "        # self.view = Lambda(lambda x: x.view(x.size(0), -1))\n",
        "        self.lin1 = nn.Linear(576, 576)\n",
        "        self.lin2 = nn.Linear(576, 64)\n",
        "        self.lin3 = nn.Linear(64, 3)\n",
        "        \n",
        "    def forward(self, x):\n",
        "        x = self.rot_slc(x)\n",
        "        x = self.convs(x)\n",
        "\n",
        "        # x = torch.flatten(x, start_dim=1)\n",
        "        x = self.lin1(x)\n",
        "        x = self.lin2(x)\n",
        "        x = self.lin3(x)\n",
        "\n",
        "        return x"
      ]
    },
    {
      "cell_type": "code",
      "execution_count": 10,
      "id": "v-yz4I6QZ8IR",
      "metadata": {
        "id": "v-yz4I6QZ8IR"
      },
      "outputs": [],
      "source": [
        "model = SymModel().to(device)"
      ]
    },
    {
      "cell_type": "code",
      "execution_count": 11,
      "id": "LJ2PUjtZZyvB",
      "metadata": {
        "id": "LJ2PUjtZZyvB"
      },
      "outputs": [],
      "source": [
        "optimizer = torch.optim.Adam(model.parameters(), lr=1e-4)\n",
        "\n",
        "criterion = nn.CrossEntropyLoss()"
      ]
    },
    {
      "cell_type": "code",
      "execution_count": 74,
      "id": "2X-AzMQRZDn5",
      "metadata": {
        "colab": {
          "base_uri": "https://localhost:8080/"
        },
        "id": "2X-AzMQRZDn5",
        "outputId": "73a5704a-da2a-4ad0-d95f-6d84dee3c8e7"
      },
      "outputs": [
        {
          "name": "stderr",
          "output_type": "stream",
          "text": [
            " 10%|█         | 1/10 [00:13<01:58, 13.19s/it]"
          ]
        },
        {
          "name": "stdout",
          "output_type": "stream",
          "text": [
            "Train acc: 0.3583 Val acc: 0.4490\n"
          ]
        },
        {
          "name": "stderr",
          "output_type": "stream",
          "text": [
            " 20%|██        | 2/10 [00:25<01:42, 12.86s/it]"
          ]
        },
        {
          "name": "stdout",
          "output_type": "stream",
          "text": [
            "Train acc: 0.4920 Val acc: 0.6410\n"
          ]
        },
        {
          "name": "stderr",
          "output_type": "stream",
          "text": [
            " 30%|███       | 3/10 [00:39<01:31, 13.04s/it]"
          ]
        },
        {
          "name": "stdout",
          "output_type": "stream",
          "text": [
            "Train acc: 0.7968 Val acc: 0.9020\n"
          ]
        },
        {
          "name": "stderr",
          "output_type": "stream",
          "text": [
            " 40%|████      | 4/10 [00:51<01:17, 12.87s/it]"
          ]
        },
        {
          "name": "stdout",
          "output_type": "stream",
          "text": [
            "Train acc: 0.9440 Val acc: 0.9530\n"
          ]
        },
        {
          "name": "stderr",
          "output_type": "stream",
          "text": [
            " 50%|█████     | 5/10 [01:11<01:17, 15.44s/it]"
          ]
        },
        {
          "name": "stdout",
          "output_type": "stream",
          "text": [
            "Train acc: 0.9767 Val acc: 0.9765\n"
          ]
        },
        {
          "name": "stderr",
          "output_type": "stream",
          "text": [
            " 60%|██████    | 6/10 [01:28<01:03, 15.88s/it]"
          ]
        },
        {
          "name": "stdout",
          "output_type": "stream",
          "text": [
            "Train acc: 0.9877 Val acc: 0.9675\n"
          ]
        },
        {
          "name": "stderr",
          "output_type": "stream",
          "text": [
            " 70%|███████   | 7/10 [01:43<00:47, 15.73s/it]"
          ]
        },
        {
          "name": "stdout",
          "output_type": "stream",
          "text": [
            "Train acc: 0.9936 Val acc: 0.9745\n"
          ]
        },
        {
          "name": "stderr",
          "output_type": "stream",
          "text": [
            " 80%|████████  | 8/10 [01:59<00:31, 15.65s/it]"
          ]
        },
        {
          "name": "stdout",
          "output_type": "stream",
          "text": [
            "Train acc: 0.9953 Val acc: 0.9895\n"
          ]
        },
        {
          "name": "stderr",
          "output_type": "stream",
          "text": [
            " 90%|█████████ | 9/10 [02:15<00:15, 15.89s/it]"
          ]
        },
        {
          "name": "stdout",
          "output_type": "stream",
          "text": [
            "Train acc: 0.9972 Val acc: 0.9875\n"
          ]
        },
        {
          "name": "stderr",
          "output_type": "stream",
          "text": [
            "100%|██████████| 10/10 [02:28<00:00, 14.85s/it]"
          ]
        },
        {
          "name": "stdout",
          "output_type": "stream",
          "text": [
            "Train acc: 0.9989 Val acc: 0.9875\n"
          ]
        },
        {
          "name": "stderr",
          "output_type": "stream",
          "text": [
            "\n"
          ]
        }
      ],
      "source": [
        "EPOCHS = 10\n",
        "\n",
        "for epoch in tqdm(range(EPOCHS)):\n",
        "    \n",
        "    model.train()\n",
        "    \n",
        "    train_losses = []\n",
        "\n",
        "    train_acc, train_count = 0, 0\n",
        "\n",
        "    for batch in train_dataloader:\n",
        "        x, y = batch\n",
        "        input, labels = x.to(device), y.to(device)\n",
        "        optimizer.zero_grad()\n",
        "\n",
        "        output = model(input)\n",
        "        loss = criterion(output, labels)\n",
        "\n",
        "        loss.backward()\n",
        "        optimizer.step()\n",
        "\n",
        "        train_acc += (labels.argmax(dim=-1) == output.argmax(dim=-1)).sum().item()\n",
        "\n",
        "        train_count += labels.size(0)\n",
        "\n",
        "    model.eval()\n",
        "\n",
        "    valid_acc, valid_count = 0, 0\n",
        "\n",
        "\n",
        "    for batch in valid_dataloader:\n",
        "\n",
        "        x, y = batch\n",
        "        input, labels = x.to(device), y.to(device)\n",
        "\n",
        "        with torch.no_grad():\n",
        "            output = model(input)\n",
        "            \n",
        "            valid_acc += (labels.argmax(dim=-1) == output.argmax(dim=-1)).sum().item()\n",
        "\n",
        "            valid_count += labels.size(0)\n",
        "\n",
        "\n",
        "\n",
        "    print(f'Train acc: {train_acc / train_count:.4f}',end=' ')\n",
        "    print(f'Val acc: {valid_acc / valid_count:.4f}',end='\\n')"
      ]
    },
    {
      "cell_type": "code",
      "execution_count": 12,
      "id": "b8975d11",
      "metadata": {},
      "outputs": [],
      "source": [
        "model_task1_state = model.state_dict()"
      ]
    },
    {
      "attachments": {},
      "cell_type": "markdown",
      "id": "06c5a8d4",
      "metadata": {
        "id": "06c5a8d4"
      },
      "source": [
        "## Task 1: Question 5d"
      ]
    },
    {
      "attachments": {},
      "cell_type": "markdown",
      "id": "1e988bc2-6ba1-49cd-ae26-6feea8ad2776",
      "metadata": {
        "id": "1e988bc2-6ba1-49cd-ae26-6feea8ad2776"
      },
      "source": [
        "# Task 2: Carpet Matching "
      ]
    },
    {
      "cell_type": "code",
      "execution_count": 13,
      "id": "20a2ce3a-4c8c-4f1f-9a29-113063ce7f74",
      "metadata": {
        "id": "20a2ce3a-4c8c-4f1f-9a29-113063ce7f74"
      },
      "outputs": [
        {
          "name": "stdout",
          "output_type": "stream",
          "text": [
            "Carpet train shape: (15000, 1, 96, 60)\n",
            "Label train shape: (15000,)\n",
            "Ground truth test shape: (300,)\n",
            "Query carpets shape: (300, 1, 96, 60)\n",
            "Candidate carpets shape: (300, 4, 1, 96, 60)\n"
          ]
        }
      ],
      "source": [
        "# loading training and testing data for task 2\n",
        "# DO NOT MODIFY\n",
        "task2 = load_numpy_arr_from_url(\"https://github.com/vlamen/tue-deeplearning/blob/main/assignments/assignment_1/task2data.npz?raw=true\")\n",
        "# task2 = np.load('task2data.npz')\n",
        "\n",
        "X = task2['arr_0'].astype(float)\n",
        "y = task2['arr_1'].astype(float)\n",
        "gt = task2['arr_2'].astype(float) # ground truth\n",
        "queries = task2['arr_3'].astype(float)\n",
        "targets = task2['arr_4'].astype(float)\n",
        "\n",
        "print(f\"Carpet train shape: {X.shape}\")\n",
        "print(f\"Label train shape: {y.shape}\")\n",
        "print(f\"Ground truth test shape: {gt.shape}\")\n",
        "print(f\"Query carpets shape: {queries.shape}\")\n",
        "print(f\"Candidate carpets shape: {targets.shape}\")"
      ]
    },
    {
      "cell_type": "code",
      "execution_count": 14,
      "id": "3281c4a0",
      "metadata": {},
      "outputs": [],
      "source": [
        "torch.manual_seed(7)\n",
        "np.random.seed(7)"
      ]
    },
    {
      "cell_type": "code",
      "execution_count": 15,
      "id": "a6eef917",
      "metadata": {},
      "outputs": [],
      "source": [
        "#Stratify split into train and validation\n",
        "# from sklearn.model_selection import train_test_split\n",
        "# X_train, X_val, y_train, y_val = train_test_split(X, y, test_size=0, stratify=y)\n",
        "\n",
        "#convert to tensors\n",
        "X_train = torch.tensor(X).float()\n",
        "y_train = y\n",
        "# X_val = torch.tensor(X_val).float()"
      ]
    },
    {
      "attachments": {},
      "cell_type": "markdown",
      "id": "5faf0957",
      "metadata": {},
      "source": [
        "#### Defining the Embedding Net. Using the same network from Task 1 ## "
      ]
    },
    {
      "cell_type": "code",
      "execution_count": 37,
      "id": "dd62da0b",
      "metadata": {},
      "outputs": [],
      "source": [
        "import torch\n",
        "import torch.nn as nn\n",
        "import torch.nn.functional as F\n",
        "\n",
        "class Lambda(nn.Module):\n",
        "    def __init__(self, lambd):\n",
        "        super().__init__()\n",
        "        self.lambd = lambd\n",
        "\n",
        "    def forward(self, x):\n",
        "        return self.lambd(x)\n",
        "\n",
        "class EmbeddingNet(nn.Module):\n",
        "    def __init__(self):\n",
        "        super().__init__()\n",
        "\n",
        "        self.rot_slc = sc.Slice(rotation=4, reflection=False)\n",
        "        self.convs = nn.Sequential(\n",
        "            sc.SymmetryConv2d(in_filters=1, out_filters=16, kernel_size=4, stride=4, rotation=4, reflection=False),\n",
        "            nn.ReLU(),\n",
        "            sc.SymmetryPool(),\n",
        "            nn.Dropout(p=0.4),\n",
        "            nn.Conv2d(16, 32, kernel_size=3, stride=3),\n",
        "            nn.ReLU(),\n",
        "            nn.Dropout(p=0.4),\n",
        "            nn.Conv2d(32, 32, kernel_size=3, stride=1),\n",
        "            nn.ReLU(),\n",
        "            nn.Dropout(p=0.4),\n",
        "            Lambda(lambda x: x.view(x.size(0), -1))\n",
        "            )\n",
        "\n",
        "        self.lin1 = nn.Linear(576, 576)  #second to last layer of model of task 1 to extract embeddings \n",
        "        # self.lin2 = nn.Linear(576, 64)\n",
        "        \n",
        "        \n",
        "    def forward(self, x):\n",
        "        x = self.rot_slc(x)\n",
        "        x = self.convs(x)\n",
        "        # x = torch.flatten(x, start_dim=1)\n",
        "        x = self.lin1(torch.flatten(x, start_dim=1))\n",
        "        # x = self.lin2(x)\n",
        "\n",
        "        return x\n",
        "    \n",
        "    def get_embedding(self, x):\n",
        "        return self.forward(x)\n",
        "\n"
      ]
    },
    {
      "attachments": {},
      "cell_type": "markdown",
      "id": "dd3a459c",
      "metadata": {},
      "source": [
        "### Balanced Batch Sampler and Data Loader"
      ]
    },
    {
      "cell_type": "code",
      "execution_count": 38,
      "id": "98eb0782",
      "metadata": {},
      "outputs": [],
      "source": [
        "from torch.utils.data.sampler import BatchSampler\n",
        "import numpy as np\n",
        "\n",
        "class BalancedBatchSampler(BatchSampler):\n",
        "    \"\"\"\n",
        "    Returns batches of size n_classes * n_samples\n",
        "    \"\"\"\n",
        "    #Just overriding a bunch of methods from BatchSampler\n",
        "\n",
        "    def __init__(self, labels, n_classes, n_samples):\n",
        "        self.labels = labels\n",
        "        self.labels_set = list(set(self.labels))\n",
        "        self.label_to_indices = {label: np.where(  np.array(self.labels) == label)[0]\n",
        "                                 for label in self.labels_set}\n",
        "        for l in self.labels_set:\n",
        "            np.random.shuffle(self.label_to_indices[l])\n",
        "        self.used_label_indices_count = {label: 0 for label in self.labels_set}\n",
        "        self.count = 0\n",
        "        self.n_classes = n_classes\n",
        "        self.n_samples = n_samples\n",
        "        self.n_dataset = len(self.labels)\n",
        "        self.batch_size = self.n_samples * self.n_classes\n",
        "\n",
        "    def __iter__(self):\n",
        "        self.count = 0\n",
        "        while self.count + self.batch_size < self.n_dataset:\n",
        "            classes = np.random.choice(self.labels_set, self.n_classes, replace=False)\n",
        "            indices = []\n",
        "            for class_ in classes:\n",
        "                indices.extend(self.label_to_indices[class_][\n",
        "                               self.used_label_indices_count[class_]:self.used_label_indices_count[\n",
        "                                                                         class_] + self.n_samples])\n",
        "                self.used_label_indices_count[class_] += self.n_samples\n",
        "                if self.used_label_indices_count[class_] + self.n_samples > len(self.label_to_indices[class_]):\n",
        "                    np.random.shuffle(self.label_to_indices[class_])\n",
        "                    self.used_label_indices_count[class_] = 0\n",
        "            yield indices\n",
        "            self.count += self.n_classes * self.n_samples\n",
        "\n",
        "    def __len__(self):\n",
        "        return self.n_dataset // self.batch_size"
      ]
    },
    {
      "cell_type": "code",
      "execution_count": 39,
      "id": "d12b21c7",
      "metadata": {},
      "outputs": [],
      "source": [
        "from torch.utils.data import Dataset, DataLoader\n",
        "\n",
        "class CustomDataset(Dataset):\n",
        "    def __init__(self, X, y):\n",
        "        self.X = torch.Tensor(X)\n",
        "        self.y = y\n",
        "\n",
        "    def __len__(self):\n",
        "        return len(self.X)\n",
        "\n",
        "    def __getitem__(self, index):\n",
        "        return self.X[index], self.y[index]"
      ]
    },
    {
      "cell_type": "code",
      "execution_count": 40,
      "id": "2465359f",
      "metadata": {},
      "outputs": [],
      "source": [
        "train_batch_sampler = BalancedBatchSampler(y_train, n_classes=200, n_samples=10)\n",
        "# test_batch_sampler = BalancedBatchSampler(y_val, n_classes=200, n_samples=2)\n",
        "\n",
        "#train_dataset= torch.utils.data.TensorDataset(X_train,y_train)\n",
        "#test_dataset= torch.utils.data.TensorDataset(X_val,y_val)\n",
        "train_dataset = CustomDataset(X_train, y_train)\n",
        "# test_dataset = CustomDataset(X_val, y_val)\n",
        "\n",
        "triplets_train_loader = torch.utils.data.DataLoader(train_dataset, batch_sampler=train_batch_sampler)\n",
        "# triplets_test_loader = torch.utils.data.DataLoader(test_dataset, batch_sampler=test_batch_sampler)"
      ]
    },
    {
      "attachments": {},
      "cell_type": "markdown",
      "id": "ac42b9f2",
      "metadata": {},
      "source": [
        "### All pair Selector"
      ]
    },
    {
      "cell_type": "code",
      "execution_count": 182,
      "id": "c01a989d",
      "metadata": {},
      "outputs": [],
      "source": [
        "from itertools import combinations\n",
        "\n",
        "class PairSelector():\n",
        "    \"\"\"\n",
        "    Select each possible pair\n",
        "    \"\"\"\n",
        "\n",
        "    def __init__(self):\n",
        "        super(PairSelector, self).__init__()\n",
        "\n",
        "    def get_doubles(self, embeddings, labels):\n",
        "        \n",
        "        return embeddings,  labels\n"
      ]
    },
    {
      "attachments": {},
      "cell_type": "markdown",
      "id": "1b2d7d5d",
      "metadata": {},
      "source": [
        "### Contrastive loss"
      ]
    },
    {
      "cell_type": "code",
      "execution_count": 183,
      "id": "38c4cb2d",
      "metadata": {},
      "outputs": [],
      "source": [
        "#Helper function to compute Euclidean distance\n",
        "\n",
        "def pdist(vectors):\n",
        "    distance_matrix = -2 * vectors.mm(torch.t(vectors)) + vectors.pow(2).sum(dim=1).view(1, -1) + vectors.pow(2).sum(\n",
        "        dim=1).view(-1, 1)\n",
        "    return distance_matrix"
      ]
    },
    {
      "cell_type": "code",
      "execution_count": 184,
      "id": "b294fd89",
      "metadata": {},
      "outputs": [],
      "source": [
        "class ContrastiveLoss(nn.Module):\n",
        "    def __init__(self, margin, pair_selector, average):\n",
        "        super(ContrastiveLoss, self).__init__()\n",
        "        self.margin = margin\n",
        "        self.eps = 1e-9\n",
        "        self.pair_selector  = pair_selector\n",
        "        self.average = average\n",
        " \n",
        "    def forward(self, embeddings, labels, average = True):\n",
        "        # embeddings = torch.stack(embeddings)\n",
        "        # distance_matrix = pdist(embeddings)\n",
        "        embeddings, labels = self.pair_selector.get_doubles(embeddings, labels) \n",
        "        D = labels.unsqueeze(0) == labels.unsqueeze(1)\n",
        "        D = D.float()\n",
        "\n",
        "        losses = torch.tril(pdist(embeddings))*D + (1-D)*torch.tril(torch.clamp_min(margin - pdist(embeddings), 0))\n",
        "        \n",
        "        # for label in set(labels):\n",
        "        #     targets = [] * len(labels)\n",
        "\n",
        "        #     label_mask = (labels == label)\n",
        "        #     label_indices = np.where(label_mask)[0]\n",
        "        #     targets = [1 if i in label_indices else 0 for i in range(targets)]\n",
        "\n",
        "        #     if len(label_indices)<2:\n",
        "        #         continue\n",
        "        #     negative_indices = np.where(np.logical_not(label_mask))[0]\n",
        "        #     pos\n",
        "        # embeddings = \n",
        "        # distances = pdist(output1 - output2)\n",
        "        return losses.mean() if self.average else losses.sum()\n"
      ]
    },
    {
      "attachments": {},
      "cell_type": "markdown",
      "id": "9a3fd3bc",
      "metadata": {},
      "source": [
        "### Training the model"
      ]
    },
    {
      "cell_type": "code",
      "execution_count": 185,
      "id": "dc37381b",
      "metadata": {},
      "outputs": [],
      "source": [
        "class Train():\n",
        "    def __init__(self,\n",
        "                 model: nn.Module,\n",
        "                 device: torch.device,\n",
        "                 criterion: nn.Module,\n",
        "                 optimizer: torch.optim.Optimizer,\n",
        "                 training_DataLoader: torch.utils.data.DataLoader,\n",
        "                 epochs: int,\n",
        "                ):\n",
        "        self.model = model\n",
        "        self.device = device\n",
        "        self.criterion = criterion\n",
        "        self.optimizer = optimizer\n",
        "        self.training_DataLoader = training_DataLoader\n",
        "        # self.validation_DataLoader = validation_DataLoader\n",
        "        self.epochs = epochs\n",
        "\n",
        "    def run_train(self):\n",
        "\n",
        "        for epoch in tqdm(range(self.epochs)):\n",
        "\n",
        "            self.model.train()\n",
        "\n",
        "            train_losses = []\n",
        "            for batch in self.training_DataLoader:\n",
        "\n",
        "                x,y=batch\n",
        "                input, target = x.to(self.device), y.to(self.device)  # send to device (GPU or CPU)\n",
        "                self.optimizer.zero_grad()  # zerograd the parameters\n",
        "                out = self.model(input)  # one forward pass\n",
        "                loss = self.criterion(out, target)  # calculate loss\n",
        "                 \n",
        "                loss_value = loss.item()\n",
        "                train_losses.append(loss_value)\n",
        "                 \n",
        "                loss.backward()  # one backward pass\n",
        "                self.optimizer.step()  # update the parameters\n",
        "\n",
        "\n",
        "\n",
        "            self.model.eval()  \n",
        "            # evaluation mode\n",
        "            # valid_losses = []  # accumulate the losses here\n",
        "\n",
        "            # for batch in self.validation_DataLoader:\n",
        "\n",
        "            #     x,y=batch\n",
        "            #     input, target = x.to(self.device), y.to(self.device)  # send to device (GPU or CPU)\n",
        "\n",
        "            #     with torch.no_grad():\n",
        "            #         out = self.model(input)   # one forward pass\n",
        "            #         loss = self.criterion(out, target) # calculate loss\n",
        "                 \n",
        "            #         loss_value = loss.item()\n",
        "            #         valid_losses.append(loss_value)\n",
        "\n",
        "\n",
        "                \n",
        "            # print the results\n",
        "            print(\n",
        "                f'EPOCH: {epoch+1:0>{len(str(self.epochs))}}/{self.epochs}',\n",
        "                end=' '\n",
        "            )\n",
        "            print(f'LOSS: {np.mean(train_losses):.4f}',end=' ')\n",
        "            # print(f'VAL-LOSS: {np.mean(valid_losses):.4f}',end='\\n')\n",
        "            print(f'TEST- ACC: {query_performance(queries, targets, gt, model = self.model)}',end='\\n')\n"
      ]
    },
    {
      "cell_type": "code",
      "execution_count": 186,
      "id": "f099ed49",
      "metadata": {},
      "outputs": [],
      "source": [
        "# function to determine performance of model\n",
        "def query_performance(queries, targets, gt, model, top=1):\n",
        "    assert top >= 1\n",
        "    cnt = 0\n",
        "\n",
        "    #convert to torch tensors\n",
        "    queries= torch.tensor(queries)\n",
        "    targets= torch.tensor(targets)\n",
        "\n",
        "    q = queries.float()\n",
        "    t = targets.float()\n",
        "\n",
        "    with torch.no_grad():\n",
        "        \n",
        "        \n",
        "        ### MODIFY IF NECESSARY ###\n",
        "        #set model to evaluation mode\n",
        "        model.eval()\n",
        "\n",
        "        #For each query, compute embeddings for both query and 4 targets and store them in the most efficient way\n",
        "        emb_q = model(q).cpu().numpy()\n",
        "        emb_t=np.empty((len(queries),1,4,576)) #embedding shape\n",
        "        for i in range(len(queries)):\n",
        "            emb_t_ind=model(t[i]).cpu().numpy()\n",
        "            emb_t_ind = np.expand_dims(emb_t_ind, axis=0)\n",
        "            emb_t[i]=emb_t_ind\n",
        "                \n",
        "        for i in range(len(queries)):  \n",
        "            dist = cdist(np.expand_dims(emb_q[i],axis=0), np.concatenate(emb_t[i]))\n",
        "        \n",
        "            if top == 1:\n",
        "                pred = np.argmin(dist)\n",
        "                if pred == gt[i]:\n",
        "                    cnt += 1\n",
        "            \n",
        "            else:\n",
        "                pred = np.argsort(dist)\n",
        "                if gt[i] in pred[0,:top].tolist():\n",
        "                    cnt+=1       \n",
        "\n",
        "    return (100*cnt/gt.shape[0])"
      ]
    },
    {
      "cell_type": "code",
      "execution_count": 187,
      "id": "8c55fbee",
      "metadata": {},
      "outputs": [],
      "source": [
        "#for reproducability\n",
        "torch.manual_seed(7)\n",
        "np.random.seed(7)"
      ]
    },
    {
      "cell_type": "code",
      "execution_count": 188,
      "id": "e796284b",
      "metadata": {},
      "outputs": [
        {
          "name": "stderr",
          "output_type": "stream",
          "text": [
            "  0%|          | 0/30 [00:00<?, ?it/s]"
          ]
        },
        {
          "name": "stdout",
          "output_type": "stream",
          "text": [
            "EPOCH: 01/30 LOSS: 744501.8750 "
          ]
        },
        {
          "name": "stderr",
          "output_type": "stream",
          "text": [
            "  3%|▎         | 1/30 [00:25<12:06, 25.04s/it]"
          ]
        },
        {
          "name": "stdout",
          "output_type": "stream",
          "text": [
            "TEST- ACC: 31.333333333333332\n",
            "EPOCH: 02/30 LOSS: 291663.1496 "
          ]
        },
        {
          "name": "stderr",
          "output_type": "stream",
          "text": [
            "  7%|▋         | 2/30 [00:50<11:43, 25.13s/it]"
          ]
        },
        {
          "name": "stdout",
          "output_type": "stream",
          "text": [
            "TEST- ACC: 33.666666666666664\n",
            "EPOCH: 03/30 LOSS: 389770.5848 "
          ]
        },
        {
          "name": "stderr",
          "output_type": "stream",
          "text": [
            " 10%|█         | 3/30 [01:19<12:15, 27.24s/it]"
          ]
        },
        {
          "name": "stdout",
          "output_type": "stream",
          "text": [
            "TEST- ACC: 35.666666666666664\n",
            "EPOCH: 04/30 LOSS: 257632.8616 "
          ]
        },
        {
          "name": "stderr",
          "output_type": "stream",
          "text": [
            " 13%|█▎        | 4/30 [01:45<11:35, 26.75s/it]"
          ]
        },
        {
          "name": "stdout",
          "output_type": "stream",
          "text": [
            "TEST- ACC: 40.0\n",
            "EPOCH: 05/30 LOSS: 176050.8058 "
          ]
        },
        {
          "name": "stderr",
          "output_type": "stream",
          "text": [
            " 17%|█▋        | 5/30 [02:10<10:52, 26.10s/it]"
          ]
        },
        {
          "name": "stdout",
          "output_type": "stream",
          "text": [
            "TEST- ACC: 42.0\n",
            "EPOCH: 06/30 LOSS: 161943.0804 "
          ]
        },
        {
          "name": "stderr",
          "output_type": "stream",
          "text": [
            " 20%|██        | 6/30 [02:35<10:15, 25.65s/it]"
          ]
        },
        {
          "name": "stdout",
          "output_type": "stream",
          "text": [
            "TEST- ACC: 42.666666666666664\n",
            "EPOCH: 07/30 LOSS: 169344.2522 "
          ]
        },
        {
          "name": "stderr",
          "output_type": "stream",
          "text": [
            " 23%|██▎       | 7/30 [03:00<09:44, 25.41s/it]"
          ]
        },
        {
          "name": "stdout",
          "output_type": "stream",
          "text": [
            "TEST- ACC: 43.0\n",
            "EPOCH: 08/30 LOSS: 154011.9219 "
          ]
        },
        {
          "name": "stderr",
          "output_type": "stream",
          "text": [
            " 27%|██▋       | 8/30 [03:25<09:13, 25.17s/it]"
          ]
        },
        {
          "name": "stdout",
          "output_type": "stream",
          "text": [
            "TEST- ACC: 43.333333333333336\n",
            "EPOCH: 09/30 LOSS: 151835.5424 "
          ]
        },
        {
          "name": "stderr",
          "output_type": "stream",
          "text": [
            " 30%|███       | 9/30 [03:49<08:45, 25.02s/it]"
          ]
        },
        {
          "name": "stdout",
          "output_type": "stream",
          "text": [
            "TEST- ACC: 42.333333333333336\n",
            "EPOCH: 10/30 LOSS: 151146.9018 "
          ]
        },
        {
          "name": "stderr",
          "output_type": "stream",
          "text": [
            " 33%|███▎      | 10/30 [04:14<08:18, 24.91s/it]"
          ]
        },
        {
          "name": "stdout",
          "output_type": "stream",
          "text": [
            "TEST- ACC: 43.333333333333336\n",
            "EPOCH: 11/30 LOSS: 149974.9375 "
          ]
        },
        {
          "name": "stderr",
          "output_type": "stream",
          "text": [
            " 37%|███▋      | 11/30 [04:39<07:50, 24.74s/it]"
          ]
        },
        {
          "name": "stdout",
          "output_type": "stream",
          "text": [
            "TEST- ACC: 42.0\n",
            "EPOCH: 12/30 LOSS: 148606.2143 "
          ]
        },
        {
          "name": "stderr",
          "output_type": "stream",
          "text": [
            " 40%|████      | 12/30 [05:03<07:24, 24.68s/it]"
          ]
        },
        {
          "name": "stdout",
          "output_type": "stream",
          "text": [
            "TEST- ACC: 42.333333333333336\n",
            "EPOCH: 13/30 LOSS: 147578.7656 "
          ]
        },
        {
          "name": "stderr",
          "output_type": "stream",
          "text": [
            " 43%|████▎     | 13/30 [05:28<07:00, 24.73s/it]"
          ]
        },
        {
          "name": "stdout",
          "output_type": "stream",
          "text": [
            "TEST- ACC: 43.0\n",
            "EPOCH: 14/30 LOSS: 148075.1540 "
          ]
        },
        {
          "name": "stderr",
          "output_type": "stream",
          "text": [
            " 47%|████▋     | 14/30 [05:52<06:33, 24.59s/it]"
          ]
        },
        {
          "name": "stdout",
          "output_type": "stream",
          "text": [
            "TEST- ACC: 43.333333333333336\n",
            "EPOCH: 15/30 LOSS: 146778.4062 "
          ]
        },
        {
          "name": "stderr",
          "output_type": "stream",
          "text": [
            " 50%|█████     | 15/30 [06:17<06:07, 24.53s/it]"
          ]
        },
        {
          "name": "stdout",
          "output_type": "stream",
          "text": [
            "TEST- ACC: 44.333333333333336\n",
            "EPOCH: 16/30 LOSS: 146020.0647 "
          ]
        },
        {
          "name": "stderr",
          "output_type": "stream",
          "text": [
            " 53%|█████▎    | 16/30 [06:50<06:23, 27.36s/it]"
          ]
        },
        {
          "name": "stdout",
          "output_type": "stream",
          "text": [
            "TEST- ACC: 44.666666666666664\n",
            "EPOCH: 17/30 LOSS: 146157.7098 "
          ]
        },
        {
          "name": "stderr",
          "output_type": "stream",
          "text": [
            " 57%|█████▋    | 17/30 [07:17<05:50, 26.96s/it]"
          ]
        },
        {
          "name": "stdout",
          "output_type": "stream",
          "text": [
            "TEST- ACC: 45.333333333333336\n"
          ]
        }
      ],
      "source": [
        "if torch.cuda.is_available():\n",
        "    device = torch.device('cuda')\n",
        "\n",
        "else:\n",
        "    device = torch.device('cpu')\n",
        "\n",
        "model= EmbeddingNet().to(device)\n",
        "\n",
        "margin = 10\n",
        "\n",
        "criterion = ContrastiveLoss(10, PairSelector(), False)\n",
        "optimizer = torch.optim.Adam(model.parameters(), lr = 0.001)\n",
        "# optimizer = tf.keras.optimizers.Adam(learning_rate=0.001, beta_1=0.9, beta_2=0.999, epsilon=1e-8)\n",
        "\n",
        "trainer= Train(model=model,\n",
        "               device=device,\n",
        "               criterion=criterion,\n",
        "               optimizer=optimizer,\n",
        "               training_DataLoader=triplets_train_loader,\n",
        "               epochs=30)\n",
        "\n",
        "trainer.run_train()\n",
        "\n",
        "model_task2_state = model.state_dict()\n",
        "\n",
        "# TripletLoss(margin,  Informative_Negative_TripletSelector(margin, 0.2))"
      ]
    },
    {
      "cell_type": "code",
      "execution_count": 122,
      "id": "de4e866d",
      "metadata": {},
      "outputs": [],
      "source": [
        "class Informative_PairSelector():\n",
        "\n",
        "    def __init__(self, margin, loss_margin):\n",
        "        super(Informative_PairSelector, self).__init__()\n",
        "  \n",
        "        self.margin = margin\n",
        "        self.loss_margin = loss_margin\n",
        "\n",
        "\n",
        "    def get_doubles(self, embeddings, labels):\n",
        "        #filters embeddings based on their loss with all other pairs by taking the row sumn and filtering out embeddings which contribute to the loss in a minimal way\n",
        "        #this makes sure we mine semi-hard or hard pairs based on the set threshold\n",
        "\n",
        "        D = labels.unsqueeze(0) == labels.unsqueeze(1)\n",
        "        D = D.float()\n",
        "\n",
        "        losses = torch.tril(pdist(embeddings))*D + (1-D)*torch.tril(torch.clamp_min(margin - pdist(embeddings), 0))\n",
        "\n",
        "        row_sum = torch.sum(losses, dim=1)\n",
        "        keep_mask = torch.gt(row_sum, loss_margin)\n",
        "        print(len(embeddings))\n",
        "        print(len(embeddings[keep_mask]))\n",
        "\n",
        "        return embeddings[keep_mask], labels[keep_mask]"
      ]
    },
    {
      "cell_type": "code",
      "execution_count": 117,
      "id": "510cf8a3",
      "metadata": {},
      "outputs": [],
      "source": [
        "model_task2_state = model.state_dict()"
      ]
    },
    {
      "cell_type": "code",
      "execution_count": 172,
      "id": "51218e23",
      "metadata": {},
      "outputs": [
        {
          "name": "stderr",
          "output_type": "stream",
          "text": [
            "  0%|          | 0/1 [00:00<?, ?it/s]"
          ]
        },
        {
          "name": "stdout",
          "output_type": "stream",
          "text": [
            "2000\n",
            "1856\n",
            "2000\n",
            "1824\n",
            "2000\n",
            "1834\n",
            "2000\n",
            "1853\n",
            "2000\n",
            "1841\n",
            "2000\n",
            "1846\n",
            "2000\n",
            "1851\n",
            "EPOCH: 1/1 LOSS: 124942.8605 "
          ]
        },
        {
          "name": "stderr",
          "output_type": "stream",
          "text": [
            "100%|██████████| 1/1 [00:26<00:00, 26.50s/it]"
          ]
        },
        {
          "name": "stdout",
          "output_type": "stream",
          "text": [
            "TEST- ACC: 73.66666666666667\n"
          ]
        },
        {
          "name": "stderr",
          "output_type": "stream",
          "text": [
            "\n"
          ]
        }
      ],
      "source": [
        "# device\n",
        "if torch.cuda.is_available():\n",
        "    device = torch.device('cuda')\n",
        "    print('GPU is available')\n",
        "else:\n",
        "    device=torch.device('cpu')\n",
        "    \n",
        "# model\n",
        "mined_embedding_net = EmbeddingNet()\n",
        "mined_model = mined_embedding_net.to(device)\n",
        "\n",
        "mined_model.load_state_dict(model_task2_state)\n",
        "# margin value\n",
        "margin= 5\n",
        "loss_margin = 10\n",
        "\n",
        "# criterion\n",
        "criterion = ContrastiveLoss(10,  Informative_PairSelector(margin, loss_margin), False)\n",
        "# optimizer\n",
        "optimizer = torch.optim.Adam(mined_model.parameters(), lr=0.001)\n",
        "\n",
        "# trainer\n",
        "trainer = Train(model=mined_model,\n",
        "                  device=device,\n",
        "                  criterion=criterion,\n",
        "                  optimizer=optimizer,\n",
        "                  training_DataLoader=triplets_train_loader,\n",
        "                  epochs=1)\n",
        "\n",
        "# start training\n",
        "trainer.run_train()"
      ]
    },
    {
      "cell_type": "code",
      "execution_count": 165,
      "id": "fd0cc1db-e473-412e-b6b8-c95adc5438dd",
      "metadata": {
        "id": "fd0cc1db-e473-412e-b6b8-c95adc5438dd"
      },
      "outputs": [],
      "source": [
        "# function to determine performance of model\n",
        "def query_performance(queries, targets, gt, model, top=1):\n",
        "    assert top >= 1\n",
        "    cnt = 0\n",
        "\n",
        "    #convert to torch tensors\n",
        "    queries= torch.tensor(queries)\n",
        "    targets= torch.tensor(targets)\n",
        "\n",
        "    q = queries.float()\n",
        "    t = targets.float()\n",
        "\n",
        "    with torch.no_grad():\n",
        "        \n",
        "        \n",
        "        ### MODIFY IF NECESSARY ###\n",
        "        #set model to evaluation mode\n",
        "        model.eval()\n",
        "\n",
        "        #For each query, compute embeddings for both query and 4 targets and store them in the most efficient way\n",
        "        emb_q = model(q).cpu().numpy()\n",
        "        emb_t=np.empty((len(queries),1,4,576)) #embedding shape\n",
        "        for i in range(len(queries)):\n",
        "            emb_t_ind=model(t[i]).cpu().numpy()\n",
        "            emb_t_ind = np.expand_dims(emb_t_ind, axis=0)\n",
        "            emb_t[i]=emb_t_ind\n",
        "                \n",
        "        for i in range(len(queries)):  \n",
        "            dist = cdist(np.expand_dims(emb_q[i],axis=0), np.concatenate(emb_t[i]))\n",
        "        \n",
        "            if top == 1:\n",
        "                pred = np.argmin(dist)\n",
        "                if pred == gt[i]:\n",
        "                    cnt += 1\n",
        "            \n",
        "            else:\n",
        "                pred = np.argsort(dist)\n",
        "                if gt[i] in pred[0,:top].tolist():\n",
        "                    cnt+=1       \n",
        "\n",
        "    return (100*cnt/gt.shape[0])"
      ]
    },
    {
      "cell_type": "code",
      "execution_count": 166,
      "id": "413dfdbe",
      "metadata": {},
      "outputs": [],
      "source": [
        "performance_mined = query_performance(queries, targets, gt, model = mined_model, top = 1)"
      ]
    },
    {
      "cell_type": "code",
      "execution_count": 167,
      "id": "df487434",
      "metadata": {},
      "outputs": [
        {
          "data": {
            "text/plain": [
              "75.66666666666667"
            ]
          },
          "execution_count": 167,
          "metadata": {},
          "output_type": "execute_result"
        }
      ],
      "source": [
        "performance_mined "
      ]
    },
    {
      "cell_type": "code",
      "execution_count": 162,
      "id": "b99f0f60",
      "metadata": {},
      "outputs": [],
      "source": [
        "performance = query_performance(queries, targets, gt, model, top=1)"
      ]
    },
    {
      "cell_type": "code",
      "execution_count": 163,
      "id": "b1f0a240",
      "metadata": {},
      "outputs": [
        {
          "data": {
            "text/plain": [
              "72.33333333333333"
            ]
          },
          "execution_count": 163,
          "metadata": {},
          "output_type": "execute_result"
        }
      ],
      "source": [
        "performance"
      ]
    }
  ],
  "metadata": {
    "accelerator": "GPU",
    "colab": {
      "gpuType": "T4",
      "provenance": []
    },
    "gpuClass": "standard",
    "kernelspec": {
      "display_name": "Python 3 (ipykernel)",
      "language": "python",
      "name": "python3"
    },
    "language_info": {
      "codemirror_mode": {
        "name": "ipython",
        "version": 3
      },
      "file_extension": ".py",
      "mimetype": "text/x-python",
      "name": "python",
      "nbconvert_exporter": "python",
      "pygments_lexer": "ipython3",
      "version": "3.10.8"
    }
  },
  "nbformat": 4,
  "nbformat_minor": 5
}
