{
 "cells": [
  {
   "attachments": {},
   "cell_type": "markdown",
   "id": "d32f8d18",
   "metadata": {},
   "source": [
    "# Group Details\n",
    "\n",
    "## Group Name:\n",
    "\n",
    "### Student 1:\n",
    "\n",
    "### Student 2:\n",
    "\n",
    "### Student 3:"
   ]
  },
  {
   "attachments": {},
   "cell_type": "markdown",
   "id": "faec2056",
   "metadata": {},
   "source": [
    "# Loading Data and Preliminaries"
   ]
  },
  {
   "cell_type": "code",
   "execution_count": 9,
   "id": "7d0580a5",
   "metadata": {},
   "outputs": [],
   "source": [
    "import matplotlib.pyplot as plt\n",
    "import matplotlib\n",
    "import numpy as np"
   ]
  },
  {
   "cell_type": "code",
   "execution_count": 10,
   "id": "b0756591",
   "metadata": {},
   "outputs": [],
   "source": [
    "def load_array(filename, task):\n",
    "    datapoint = np.load(filename)\n",
    "    if task == 'task 1':\n",
    "        initial_state = datapoint['initial_state']\n",
    "        terminal_state = datapoint['terminal_state']\n",
    "        return initial_state, terminal_state\n",
    "    elif task == 'task 2' or task == 'task 3':\n",
    "        whole_trajectory = datapoint['trajectory']\n",
    "        # change shape: (num_bodies, attributes, time) ->  num_bodies, time, attributes\n",
    "        whole_trajectory = np.swapaxes(whole_trajectory, 1, 2)\n",
    "        initial_state = whole_trajectory[:, 0]\n",
    "        target = whole_trajectory[:, 1:, 1:]  # drop the first timepoint (second dim) and mass (last dim) for the prediction task\n",
    "        return initial_state, target\n",
    "    else:\n",
    "        raise NotImplementedError(\"'task' argument should be 'task 1', 'task 2' or 'task 3'!\")\n"
   ]
  },
  {
   "cell_type": "code",
   "execution_count": 11,
   "id": "bb77a4be",
   "metadata": {},
   "outputs": [
    {
     "name": "stdout",
     "output_type": "stream",
     "text": [
      "shape of initial state (model input): (8, 5)\n",
      "shape of terminal state (to be predicted by model): (8, 2)\n",
      "The initial x-coordinate of the body with index 2 in this trajectory was -5.159721083543527\n"
     ]
    }
   ],
   "source": [
    "\"\"\"\n",
    "This cell gives an example of loading a datapoint with numpy for task 1.\n",
    "\n",
    "The arrays returned by the function are structures as follows:\n",
    "initial_state: shape (n_bodies, [mass, x, y, v_x, v_y])\n",
    "terminal_state: shape (n_bodies, [x, y])\n",
    "\n",
    "\"\"\"\n",
    "\n",
    "example = load_array('data/task 1/train/trajectory_0.npz', task='task 1')\n",
    "\n",
    "initial_state, terminal_state = example\n",
    "print(f'shape of initial state (model input): {initial_state.shape}')\n",
    "print(f'shape of terminal state (to be predicted by model): {terminal_state.shape}')\n",
    "\n",
    "body_idx = 2\n",
    "print(f'The initial x-coordinate of the body with index {body_idx} in this trajectory was {initial_state[body_idx, 1]}')"
   ]
  },
  {
   "cell_type": "code",
   "execution_count": 12,
   "id": "953ecece",
   "metadata": {},
   "outputs": [
    {
     "name": "stdout",
     "output_type": "stream",
     "text": [
      "shape of initial state (model input): (5, 5)\n",
      "shape of terminal state (to be predicted by model): (5, 2)\n"
     ]
    }
   ],
   "source": [
    "\n",
    "example = load_array('data/task 1/train/trajectory_1.npz', task='task 1')\n",
    "\n",
    "initial_state, terminal_state = example\n",
    "print(f'shape of initial state (model input): {initial_state.shape}')\n",
    "print(f'shape of terminal state (to be predicted by model): {terminal_state.shape}')"
   ]
  },
  {
   "cell_type": "code",
   "execution_count": 13,
   "id": "1c3ea4cb",
   "metadata": {},
   "outputs": [
    {
     "name": "stdout",
     "output_type": "stream",
     "text": [
      "shape of initial state (model input): (8, 5)\n",
      "shape of terminal state (to be predicted by model): (8, 49, 4)\n",
      "The y-coordinate of the body with index 2 at time with index 30 in remaining_trajectory was -0.3861544940435097\n",
      "the shape of the input of a test data example is (8, 5)\n",
      "the shape of the target of a test data example is (8, 49, 4)\n",
      "values of the test data example at time 30:\n",
      " [[-1.11611543  3.21149953         nan         nan]\n",
      " [-0.2865083   4.30801877         nan         nan]\n",
      " [ 1.07701594 -8.12529269         nan         nan]\n",
      " [-0.92053478  3.13709551         nan         nan]\n",
      " [-3.96308297 -4.27733589         nan         nan]\n",
      " [ 2.33945401 -8.67733599         nan         nan]\n",
      " [-4.83949085  3.67854952         nan         nan]\n",
      " [ 0.31080159 -9.74720071         nan         nan]]\n",
      "note: velocity values are unobserved (NaNs) in the test data!\n"
     ]
    }
   ],
   "source": [
    "\"\"\"\n",
    "This cell gives an example of loading a datapoint with numpy for task 2 / 3.\n",
    "\n",
    "The arrays returned by the function are structures as follows:\n",
    "initial_state: shape (n_bodies, [mass, x, y, v_x, v_y])\n",
    "remaining_trajectory: shape (n_bodies, time, [x, y, v_x, v_y])\n",
    "\n",
    "Note that for this task, you are asked to evaluate performance only with regard to the predictions of the positions (x and y).\n",
    "If you use the velocity of the remaining trajectory for training,\n",
    "this use should be purely auxiliary for the goal of predicting the positions [x,y] over time. \n",
    "While testing performance of your model on the test set, you do not have access to v_x and v_y of the remaining trajectory.\n",
    "\n",
    "\"\"\"\n",
    "\n",
    "example = load_array('data/task 2_3/train/trajectory_0.npz', task='task 2')\n",
    "\n",
    "initial_state, remaining_trajectory = example\n",
    "print(f'shape of initial state (model input): {initial_state.shape}')\n",
    "print(f'shape of terminal state (to be predicted by model): {remaining_trajectory.shape}')\n",
    "\n",
    "body_idx = 2\n",
    "time_idx = 30\n",
    "print(f'The y-coordinate of the body with index {body_idx} at time with index {time_idx} in remaining_trajectory was {remaining_trajectory[body_idx, time_idx, 1]}')\n",
    "\n",
    "test_example = load_array('data/task 2_3/test/trajectory_900.npz', task='task 3')\n",
    "test_initial_state, test_remaining_trajectory = test_example\n",
    "print(f'the shape of the input of a test data example is {test_initial_state.shape}')\n",
    "print(f'the shape of the target of a test data example is {test_remaining_trajectory.shape}')\n",
    "print(f'values of the test data example at time {time_idx}:\\n {test_remaining_trajectory[:, time_idx]}')\n",
    "print('note: velocity values are unobserved (NaNs) in the test data!')"
   ]
  },
  {
   "cell_type": "code",
   "execution_count": 14,
   "id": "10a3438a",
   "metadata": {},
   "outputs": [],
   "source": [
    "import torch\n",
    "from torch.utils.data import Dataset, DataLoader\n",
    "import torch.nn as nn\n",
    "import torch.optim as optim\n",
    "import os"
   ]
  },
  {
   "cell_type": "code",
   "execution_count": 72,
   "id": "f9106543",
   "metadata": {},
   "outputs": [],
   "source": [
    "#Read data from multiple files\n",
    "initial_state_train=[]\n",
    "terminal_state_train=[]\n",
    "for i in range(900):\n",
    "    data =load_array('data/task 1/train/trajectory_'+str(i)+'.npz', task='task 1')\n",
    "    initial_state_train.append(data[0])\n",
    "    terminal_state_train.append(data[1])\n",
    "\n"
   ]
  },
  {
   "cell_type": "code",
   "execution_count": 73,
   "id": "61ff3ead",
   "metadata": {},
   "outputs": [
    {
     "data": {
      "text/plain": [
       "array([[ 4.54673709, -5.27118739,  5.07863417, -1.09690628, -3.66929964],\n",
       "       [ 3.57509525,  4.3270607 , -0.08095022, -0.57868726, -2.95971243],\n",
       "       [ 2.67733735, -5.15972108,  5.35238208,  2.42652043,  1.45870728],\n",
       "       [ 2.27455417, -6.79584511,  2.29632123,  0.30418238, -0.4065998 ],\n",
       "       [ 2.38359341, -2.75861066,  1.77940931, -0.07643627, -0.35954359],\n",
       "       [ 4.28596268,  0.34981219,  4.8286224 ,  1.35630962, -2.55760522],\n",
       "       [ 3.03118516, -0.50562258, 15.04631712, -0.94772523, 14.98127867],\n",
       "       [ 4.13530017,  1.81342682,  3.84375499, -0.6989711 , -2.25092411]])"
      ]
     },
     "execution_count": 73,
     "metadata": {},
     "output_type": "execute_result"
    }
   ],
   "source": [
    "initial_state_train[0]"
   ]
  },
  {
   "cell_type": "code",
   "execution_count": null,
   "id": "c2b85cef",
   "metadata": {},
   "outputs": [],
   "source": [
    "#For each intial state, measure the relative distance to the other bodies\n"
   ]
  },
  {
   "cell_type": "code",
   "execution_count": 16,
   "id": "0bf5e56c",
   "metadata": {},
   "outputs": [
    {
     "data": {
      "text/plain": [
       "' max_length=0\\nfor i in range(900):\\n    if initial_state_train[i].shape[0]>max_length:\\n        max_length=initial_state_train[i].shape[0] '"
      ]
     },
     "execution_count": 16,
     "metadata": {},
     "output_type": "execute_result"
    }
   ],
   "source": [
    "#find the max length of the data\n",
    "\"\"\" max_length=0\n",
    "for i in range(900):\n",
    "    if initial_state_train[i].shape[0]>max_length:\n",
    "        max_length=initial_state_train[i].shape[0] \"\"\""
   ]
  },
  {
   "attachments": {},
   "cell_type": "markdown",
   "id": "059b633c",
   "metadata": {},
   "source": [
    "# Data Handling and Preprocessing"
   ]
  },
  {
   "cell_type": "code",
   "execution_count": 17,
   "id": "e6ecb529",
   "metadata": {},
   "outputs": [],
   "source": [
    "#build a custom dataset\n",
    "class CustomDataset(Dataset):\n",
    "    def __init__(self, data_dir):\n",
    "        self.data_dir = data_dir\n",
    "        self.file_list = os.listdir(data_dir)\n",
    "\n",
    "    def __getitem__(self, index):\n",
    "        file_path = os.path.join(self.data_dir, self.file_list[index])\n",
    "        # Read and preprocess the data from the file\n",
    "        data = self._read_file(file_path)\n",
    "        # Return the preprocessed data\n",
    "        return data\n",
    "\n",
    "    def __len__(self):\n",
    "        return len(self.file_list)\n",
    "\n",
    "    def _read_file(self, file_path):\n",
    "        data= load_array(file_path, task='task 1')\n",
    "        # Pad the data with zeros so that all sequences have length 9\n",
    "        input_tensor= np.pad(data[0], ((0,9-len(data[0])),(0,0)), 'constant', constant_values=(0))\n",
    "        target_tensor= np.pad(data[1], ((0,9-len(data[0])),(0,0)), 'constant', constant_values=(0))\n",
    "\n",
    "\n",
    "        input_tensor = torch.tensor(input_tensor)\n",
    "        target_tensor = torch.tensor(target_tensor)\n",
    "        return input_tensor, target_tensor \n"
   ]
  },
  {
   "cell_type": "code",
   "execution_count": 18,
   "id": "9093e279",
   "metadata": {},
   "outputs": [],
   "source": [
    "data_dir = 'data/task 1/train'"
   ]
  },
  {
   "cell_type": "code",
   "execution_count": 19,
   "id": "f8633eb8",
   "metadata": {},
   "outputs": [],
   "source": [
    "dataset = CustomDataset(data_dir)\n",
    "data_loader = DataLoader(dataset, batch_size=32, shuffle=True)"
   ]
  },
  {
   "cell_type": "code",
   "execution_count": null,
   "id": "0a99a32b",
   "metadata": {},
   "outputs": [],
   "source": []
  },
  {
   "attachments": {},
   "cell_type": "markdown",
   "id": "18b2874d",
   "metadata": {},
   "source": [
    "# Model Implementation"
   ]
  },
  {
   "cell_type": "code",
   "execution_count": 46,
   "id": "66774050",
   "metadata": {},
   "outputs": [],
   "source": [
    "class DeepSet(nn.Module):\n",
    "    def __init__(self, input_dim, hidden_dim, output_dim):\n",
    "        super(DeepSet, self).__init__()\n",
    "        self.encoder = nn.Sequential(\n",
    "            nn.Linear(input_dim, hidden_dim),\n",
    "            nn.ReLU(),\n",
    "            nn.Linear(hidden_dim, hidden_dim),\n",
    "            nn.ReLU(),\n",
    "            nn.Linear(hidden_dim, hidden_dim),\n",
    "            nn.ReLU(),\n",
    "            nn.Linear(hidden_dim, hidden_dim),\n",
    "            nn.ReLU(),\n",
    "\n",
    "        )\n",
    "        self.aggregator = nn.Sequential(\n",
    "            nn.Linear(hidden_dim, hidden_dim),\n",
    "            nn.ReLU(),\n",
    "            nn.Linear(hidden_dim, hidden_dim)\n",
    "        )\n",
    "        self.decoder = nn.Sequential(\n",
    "            nn.Linear(hidden_dim, hidden_dim),\n",
    "            nn.ReLU(),\n",
    "            nn.Linear(hidden_dim, output_dim[0]*output_dim[1])\n",
    "        )\n",
    "        self.output_dim = output_dim\n",
    "\n",
    "    def forward(self, x):\n",
    "        batch_size = x.shape[0]\n",
    "        encoded = self.encoder(x)\n",
    "        aggregated = torch.mean(encoded, dim=1)\n",
    "        aggregated = self.aggregator(aggregated)\n",
    "        output = self.decoder(aggregated)\n",
    "        output = output.view(batch_size, self.output_dim[0], self.output_dim[1])\n",
    "        return output\n",
    "\n"
   ]
  },
  {
   "cell_type": "code",
   "execution_count": 68,
   "id": "17dd4ed4",
   "metadata": {},
   "outputs": [],
   "source": [
    "import torch\n",
    "import torch.nn as nn\n",
    "\n",
    "class DeepSetRNN(nn.Module):\n",
    "    def __init__(self, input_dim, hidden_dim, output_dim,activation= nn.LeakyReLU()):\n",
    "        super(DeepSetRNN, self).__init__()\n",
    "        self.encoder = nn.Sequential(\n",
    "            nn.Linear(input_dim, hidden_dim),\n",
    "            activation,\n",
    "            nn.Linear(hidden_dim, hidden_dim),\n",
    "            activation,\n",
    "            nn.Linear(hidden_dim, hidden_dim),\n",
    "            activation,\n",
    "            nn.Linear(hidden_dim, hidden_dim),\n",
    "            \n",
    "        )\n",
    "        self.aggregator = nn.GRU(hidden_dim, hidden_dim, batch_first=True) # Replace with GRU\n",
    "\n",
    "        self.decoder = nn.Sequential(\n",
    "            nn.Linear(hidden_dim, hidden_dim),\n",
    "            activation,\n",
    "            nn.Linear(hidden_dim, hidden_dim),\n",
    "            activation,\n",
    "            nn.Linear(hidden_dim, hidden_dim),\n",
    "            activation,\n",
    "            nn.Linear(hidden_dim, output_dim[0] * output_dim[1])\n",
    "        )\n",
    "        self.output_dim = output_dim\n",
    "\n",
    "    def forward(self, x):\n",
    "        batch_size = x.shape[0]\n",
    "        encoded = self.encoder(x)\n",
    "        _, aggregated = self.aggregator(encoded)  # Use the RNN aggregator\n",
    "        aggregated = aggregated.squeeze(0)  # Remove the sequence dimension\n",
    "        output = self.decoder(aggregated)\n",
    "        output = output.view(batch_size, self.output_dim[0], self.output_dim[1])\n",
    "        return output\n"
   ]
  },
  {
   "cell_type": "code",
   "execution_count": 69,
   "id": "ba598378",
   "metadata": {},
   "outputs": [],
   "source": [
    "input_dim = 5\n",
    "hidden_dim = 64\n",
    "output_dim = [9,2]  # Output x and y coordinates\n",
    "batch_size = 32\n",
    "num_epochs = 50"
   ]
  },
  {
   "cell_type": "code",
   "execution_count": null,
   "id": "95154df7",
   "metadata": {},
   "outputs": [],
   "source": []
  },
  {
   "attachments": {},
   "cell_type": "markdown",
   "id": "dea70d73",
   "metadata": {},
   "source": [
    "# Model Training"
   ]
  },
  {
   "cell_type": "code",
   "execution_count": 63,
   "id": "3af520ae",
   "metadata": {},
   "outputs": [],
   "source": [
    "model = DeepSet(input_dim, hidden_dim, output_dim)\n",
    "\n",
    "# Create the data loader\n",
    "dataset = CustomDataset(data_dir)\n",
    "data_loader = DataLoader(dataset, batch_size=32, shuffle=True)\n",
    "\n",
    "# Define the loss function and optimizer\n",
    "criterion = nn.MSELoss()\n",
    "optimizer = optim.Adam(model.parameters(), lr=0.001)"
   ]
  },
  {
   "cell_type": "code",
   "execution_count": 64,
   "id": "8bf46187",
   "metadata": {},
   "outputs": [],
   "source": [
    "test_data_dir = 'data/task 1/test'\n",
    "test_dataset = CustomDataset(test_data_dir)\n",
    "test_data_loader = DataLoader(test_dataset, batch_size=32, shuffle=True)\n",
    "\n"
   ]
  },
  {
   "cell_type": "code",
   "execution_count": 70,
   "id": "6de0828c",
   "metadata": {},
   "outputs": [],
   "source": [
    "model = DeepSetRNN(input_dim, hidden_dim, output_dim)\n",
    "\n",
    "# Create the data loader\n",
    "dataset = CustomDataset(data_dir)\n",
    "data_loader = DataLoader(dataset, batch_size=32, shuffle=True)\n",
    "\n",
    "# Define the loss function and optimizer\n",
    "criterion = nn.MSELoss()\n",
    "optimizer = optim.Adam(model.parameters(), lr=0.001)"
   ]
  },
  {
   "cell_type": "code",
   "execution_count": 71,
   "id": "1ee07941",
   "metadata": {},
   "outputs": [
    {
     "name": "stdout",
     "output_type": "stream",
     "text": [
      "Epoch [1/50], Loss: 12.599453926086426, Test Loss: 14.747041029559664\n",
      "Epoch [2/50], Loss: 15.24623966217041, Test Loss: 14.212319937163151\n",
      "Epoch [3/50], Loss: 9.712862014770508, Test Loss: 15.662670619772591\n",
      "Epoch [4/50], Loss: 17.36570167541504, Test Loss: 14.065373895045274\n",
      "Epoch [5/50], Loss: 12.51584243774414, Test Loss: 14.187860914964032\n",
      "Epoch [6/50], Loss: 9.923476219177246, Test Loss: 12.975637932418723\n",
      "Epoch [7/50], Loss: 9.939854621887207, Test Loss: 12.88765626277024\n",
      "Epoch [8/50], Loss: 18.01913070678711, Test Loss: 12.952148250987916\n",
      "Epoch [9/50], Loss: 13.629838943481445, Test Loss: 13.140239588249504\n",
      "Epoch [10/50], Loss: 12.470887184143066, Test Loss: 13.359621736682953\n",
      "Epoch [11/50], Loss: 17.428478240966797, Test Loss: 13.773844002575249\n",
      "Epoch [12/50], Loss: 14.444316864013672, Test Loss: 12.438155121061193\n",
      "Epoch [13/50], Loss: 12.469012260437012, Test Loss: 12.827209521209065\n",
      "Epoch [14/50], Loss: 9.219258308410645, Test Loss: 11.945247133675291\n",
      "Epoch [15/50], Loss: 14.09851360321045, Test Loss: 13.550298671111719\n",
      "Epoch [16/50], Loss: 10.99209213256836, Test Loss: 12.449333585435197\n",
      "Epoch [17/50], Loss: 13.73572063446045, Test Loss: 12.822251834704\n",
      "Epoch [18/50], Loss: 10.74199390411377, Test Loss: 12.359480243095373\n",
      "Epoch [19/50], Loss: 11.757152557373047, Test Loss: 12.457202218351242\n",
      "Epoch [20/50], Loss: 15.518583297729492, Test Loss: 13.570499976503868\n",
      "Epoch [21/50], Loss: 15.57252311706543, Test Loss: 12.035570966044466\n",
      "Epoch [22/50], Loss: 12.753523826599121, Test Loss: 12.260402227283713\n",
      "Epoch [23/50], Loss: 9.256596565246582, Test Loss: 12.179380715360265\n",
      "Epoch [24/50], Loss: 7.695811748504639, Test Loss: 12.475910009212964\n",
      "Epoch [25/50], Loss: 15.564640045166016, Test Loss: 13.209306767012993\n",
      "Epoch [26/50], Loss: 11.447229385375977, Test Loss: 11.373382806362102\n",
      "Epoch [27/50], Loss: 11.021330833435059, Test Loss: 10.81303730855511\n",
      "Epoch [28/50], Loss: 9.895041465759277, Test Loss: 11.751065412740978\n",
      "Epoch [29/50], Loss: 12.21560287475586, Test Loss: 11.638466286340488\n",
      "Epoch [30/50], Loss: 8.119098663330078, Test Loss: 11.197768495070578\n",
      "Epoch [31/50], Loss: 6.802387714385986, Test Loss: 11.478477416491149\n",
      "Epoch [32/50], Loss: 15.997669219970703, Test Loss: 10.742302250661602\n",
      "Epoch [33/50], Loss: 10.094141960144043, Test Loss: 12.49201617950867\n",
      "Epoch [34/50], Loss: 14.031668663024902, Test Loss: 12.4023924655717\n",
      "Epoch [35/50], Loss: 11.255959510803223, Test Loss: 11.666396347949116\n",
      "Epoch [36/50], Loss: 8.667329788208008, Test Loss: 12.110058203072528\n",
      "Epoch [37/50], Loss: 10.858882904052734, Test Loss: 10.71978403910599\n",
      "Epoch [38/50], Loss: 12.654803276062012, Test Loss: 11.584323045097856\n",
      "Epoch [39/50], Loss: 17.726566314697266, Test Loss: 11.597632838713267\n",
      "Epoch [40/50], Loss: 9.93181037902832, Test Loss: 11.538353911579376\n",
      "Epoch [41/50], Loss: 9.888575553894043, Test Loss: 11.43367270508477\n",
      "Epoch [42/50], Loss: 9.982362747192383, Test Loss: 11.772610089240917\n",
      "Epoch [43/50], Loss: 9.405238151550293, Test Loss: 11.982350939570985\n",
      "Epoch [44/50], Loss: 10.02822494506836, Test Loss: 11.515065707514156\n",
      "Epoch [45/50], Loss: 14.557525634765625, Test Loss: 10.879511390227956\n",
      "Epoch [46/50], Loss: 12.310267448425293, Test Loss: 11.475567920656893\n",
      "Epoch [47/50], Loss: 3.8158090114593506, Test Loss: 10.931720894479923\n",
      "Epoch [48/50], Loss: 8.91639518737793, Test Loss: 11.497006744998119\n",
      "Epoch [49/50], Loss: 6.615074157714844, Test Loss: 10.118651351605184\n",
      "Epoch [50/50], Loss: 13.242386817932129, Test Loss: 10.494498814154438\n"
     ]
    }
   ],
   "source": [
    "for epoch in range(num_epochs):\n",
    "    model.train()\n",
    "    for input_tensor, target_tensor in data_loader:\n",
    "        #set input and target to float\n",
    "        input = input_tensor.to('cpu').float()\n",
    "        target = target_tensor.to('cpu').float()\n",
    "\n",
    "        # Forward pass\n",
    "        output = model(input).to('cpu')\n",
    "        # Compute the loss\n",
    "        loss = criterion(output, target)\n",
    "        # Backward pass\n",
    "        optimizer.zero_grad()\n",
    "        loss.backward()\n",
    "        optimizer.step()\n",
    "\n",
    "    model.eval()\n",
    "    test_loss=0.0\n",
    "    with torch.no_grad():\n",
    "        for input_tensor, target_tensor in test_data_loader:\n",
    "            input = input_tensor.to('cpu').float()\n",
    "            target = target_tensor.to('cpu').float()\n",
    "            output = model(input).to('cpu')\n",
    "            test_loss += criterion(output, target_tensor).item()\n",
    "    test_loss /= len(test_data_loader)\n",
    "    \n",
    "    print(f\"Epoch [{epoch+1}/{num_epochs}], Loss: {loss.item()}, Test Loss: {test_loss}\")"
   ]
  },
  {
   "cell_type": "code",
   "execution_count": 41,
   "id": "e95af5f9",
   "metadata": {},
   "outputs": [
    {
     "name": "stdout",
     "output_type": "stream",
     "text": [
      "<class 'list'>\n"
     ]
    },
    {
     "ename": "TypeError",
     "evalue": "linear(): argument 'input' (position 1) must be Tensor, not list",
     "output_type": "error",
     "traceback": [
      "\u001b[1;31m---------------------------------------------------------------------------\u001b[0m",
      "\u001b[1;31mTypeError\u001b[0m                                 Traceback (most recent call last)",
      "Cell \u001b[1;32mIn[41], line 5\u001b[0m\n\u001b[0;32m      3\u001b[0m \u001b[39mprint\u001b[39m(\u001b[39mtype\u001b[39m(batch))\n\u001b[0;32m      4\u001b[0m optimizer\u001b[39m.\u001b[39mzero_grad()\n\u001b[1;32m----> 5\u001b[0m output \u001b[39m=\u001b[39m model(batch)\n\u001b[0;32m      6\u001b[0m loss \u001b[39m=\u001b[39m criterion(output, batch)\n\u001b[0;32m      7\u001b[0m loss\u001b[39m.\u001b[39mbackward()\n",
      "File \u001b[1;32md:\\DSAI-22-24\\TUe-Year1\\Q4\\Deep Learning\\tue-deeplearning\\.conda\\lib\\site-packages\\torch\\nn\\modules\\module.py:1501\u001b[0m, in \u001b[0;36mModule._call_impl\u001b[1;34m(self, *args, **kwargs)\u001b[0m\n\u001b[0;32m   1496\u001b[0m \u001b[39m# If we don't have any hooks, we want to skip the rest of the logic in\u001b[39;00m\n\u001b[0;32m   1497\u001b[0m \u001b[39m# this function, and just call forward.\u001b[39;00m\n\u001b[0;32m   1498\u001b[0m \u001b[39mif\u001b[39;00m \u001b[39mnot\u001b[39;00m (\u001b[39mself\u001b[39m\u001b[39m.\u001b[39m_backward_hooks \u001b[39mor\u001b[39;00m \u001b[39mself\u001b[39m\u001b[39m.\u001b[39m_backward_pre_hooks \u001b[39mor\u001b[39;00m \u001b[39mself\u001b[39m\u001b[39m.\u001b[39m_forward_hooks \u001b[39mor\u001b[39;00m \u001b[39mself\u001b[39m\u001b[39m.\u001b[39m_forward_pre_hooks\n\u001b[0;32m   1499\u001b[0m         \u001b[39mor\u001b[39;00m _global_backward_pre_hooks \u001b[39mor\u001b[39;00m _global_backward_hooks\n\u001b[0;32m   1500\u001b[0m         \u001b[39mor\u001b[39;00m _global_forward_hooks \u001b[39mor\u001b[39;00m _global_forward_pre_hooks):\n\u001b[1;32m-> 1501\u001b[0m     \u001b[39mreturn\u001b[39;00m forward_call(\u001b[39m*\u001b[39margs, \u001b[39m*\u001b[39m\u001b[39m*\u001b[39mkwargs)\n\u001b[0;32m   1502\u001b[0m \u001b[39m# Do not call functions when jit is used\u001b[39;00m\n\u001b[0;32m   1503\u001b[0m full_backward_hooks, non_full_backward_hooks \u001b[39m=\u001b[39m [], []\n",
      "Cell \u001b[1;32mIn[34], line 22\u001b[0m, in \u001b[0;36mDeepSet.forward\u001b[1;34m(self, x)\u001b[0m\n\u001b[0;32m     21\u001b[0m \u001b[39mdef\u001b[39;00m \u001b[39mforward\u001b[39m(\u001b[39mself\u001b[39m, x):\n\u001b[1;32m---> 22\u001b[0m     encoded \u001b[39m=\u001b[39m \u001b[39mself\u001b[39;49m\u001b[39m.\u001b[39;49mencoder(x)\n\u001b[0;32m     23\u001b[0m     aggregated \u001b[39m=\u001b[39m torch\u001b[39m.\u001b[39msum(encoded, dim\u001b[39m=\u001b[39m\u001b[39m0\u001b[39m)\n\u001b[0;32m     24\u001b[0m     aggregated \u001b[39m=\u001b[39m \u001b[39mself\u001b[39m\u001b[39m.\u001b[39maggregator(aggregated)\n",
      "File \u001b[1;32md:\\DSAI-22-24\\TUe-Year1\\Q4\\Deep Learning\\tue-deeplearning\\.conda\\lib\\site-packages\\torch\\nn\\modules\\module.py:1501\u001b[0m, in \u001b[0;36mModule._call_impl\u001b[1;34m(self, *args, **kwargs)\u001b[0m\n\u001b[0;32m   1496\u001b[0m \u001b[39m# If we don't have any hooks, we want to skip the rest of the logic in\u001b[39;00m\n\u001b[0;32m   1497\u001b[0m \u001b[39m# this function, and just call forward.\u001b[39;00m\n\u001b[0;32m   1498\u001b[0m \u001b[39mif\u001b[39;00m \u001b[39mnot\u001b[39;00m (\u001b[39mself\u001b[39m\u001b[39m.\u001b[39m_backward_hooks \u001b[39mor\u001b[39;00m \u001b[39mself\u001b[39m\u001b[39m.\u001b[39m_backward_pre_hooks \u001b[39mor\u001b[39;00m \u001b[39mself\u001b[39m\u001b[39m.\u001b[39m_forward_hooks \u001b[39mor\u001b[39;00m \u001b[39mself\u001b[39m\u001b[39m.\u001b[39m_forward_pre_hooks\n\u001b[0;32m   1499\u001b[0m         \u001b[39mor\u001b[39;00m _global_backward_pre_hooks \u001b[39mor\u001b[39;00m _global_backward_hooks\n\u001b[0;32m   1500\u001b[0m         \u001b[39mor\u001b[39;00m _global_forward_hooks \u001b[39mor\u001b[39;00m _global_forward_pre_hooks):\n\u001b[1;32m-> 1501\u001b[0m     \u001b[39mreturn\u001b[39;00m forward_call(\u001b[39m*\u001b[39margs, \u001b[39m*\u001b[39m\u001b[39m*\u001b[39mkwargs)\n\u001b[0;32m   1502\u001b[0m \u001b[39m# Do not call functions when jit is used\u001b[39;00m\n\u001b[0;32m   1503\u001b[0m full_backward_hooks, non_full_backward_hooks \u001b[39m=\u001b[39m [], []\n",
      "File \u001b[1;32md:\\DSAI-22-24\\TUe-Year1\\Q4\\Deep Learning\\tue-deeplearning\\.conda\\lib\\site-packages\\torch\\nn\\modules\\container.py:217\u001b[0m, in \u001b[0;36mSequential.forward\u001b[1;34m(self, input)\u001b[0m\n\u001b[0;32m    215\u001b[0m \u001b[39mdef\u001b[39;00m \u001b[39mforward\u001b[39m(\u001b[39mself\u001b[39m, \u001b[39minput\u001b[39m):\n\u001b[0;32m    216\u001b[0m     \u001b[39mfor\u001b[39;00m module \u001b[39min\u001b[39;00m \u001b[39mself\u001b[39m:\n\u001b[1;32m--> 217\u001b[0m         \u001b[39minput\u001b[39m \u001b[39m=\u001b[39m module(\u001b[39minput\u001b[39;49m)\n\u001b[0;32m    218\u001b[0m     \u001b[39mreturn\u001b[39;00m \u001b[39minput\u001b[39m\n",
      "File \u001b[1;32md:\\DSAI-22-24\\TUe-Year1\\Q4\\Deep Learning\\tue-deeplearning\\.conda\\lib\\site-packages\\torch\\nn\\modules\\module.py:1501\u001b[0m, in \u001b[0;36mModule._call_impl\u001b[1;34m(self, *args, **kwargs)\u001b[0m\n\u001b[0;32m   1496\u001b[0m \u001b[39m# If we don't have any hooks, we want to skip the rest of the logic in\u001b[39;00m\n\u001b[0;32m   1497\u001b[0m \u001b[39m# this function, and just call forward.\u001b[39;00m\n\u001b[0;32m   1498\u001b[0m \u001b[39mif\u001b[39;00m \u001b[39mnot\u001b[39;00m (\u001b[39mself\u001b[39m\u001b[39m.\u001b[39m_backward_hooks \u001b[39mor\u001b[39;00m \u001b[39mself\u001b[39m\u001b[39m.\u001b[39m_backward_pre_hooks \u001b[39mor\u001b[39;00m \u001b[39mself\u001b[39m\u001b[39m.\u001b[39m_forward_hooks \u001b[39mor\u001b[39;00m \u001b[39mself\u001b[39m\u001b[39m.\u001b[39m_forward_pre_hooks\n\u001b[0;32m   1499\u001b[0m         \u001b[39mor\u001b[39;00m _global_backward_pre_hooks \u001b[39mor\u001b[39;00m _global_backward_hooks\n\u001b[0;32m   1500\u001b[0m         \u001b[39mor\u001b[39;00m _global_forward_hooks \u001b[39mor\u001b[39;00m _global_forward_pre_hooks):\n\u001b[1;32m-> 1501\u001b[0m     \u001b[39mreturn\u001b[39;00m forward_call(\u001b[39m*\u001b[39margs, \u001b[39m*\u001b[39m\u001b[39m*\u001b[39mkwargs)\n\u001b[0;32m   1502\u001b[0m \u001b[39m# Do not call functions when jit is used\u001b[39;00m\n\u001b[0;32m   1503\u001b[0m full_backward_hooks, non_full_backward_hooks \u001b[39m=\u001b[39m [], []\n",
      "File \u001b[1;32md:\\DSAI-22-24\\TUe-Year1\\Q4\\Deep Learning\\tue-deeplearning\\.conda\\lib\\site-packages\\torch\\nn\\modules\\linear.py:114\u001b[0m, in \u001b[0;36mLinear.forward\u001b[1;34m(self, input)\u001b[0m\n\u001b[0;32m    113\u001b[0m \u001b[39mdef\u001b[39;00m \u001b[39mforward\u001b[39m(\u001b[39mself\u001b[39m, \u001b[39minput\u001b[39m: Tensor) \u001b[39m-\u001b[39m\u001b[39m>\u001b[39m Tensor:\n\u001b[1;32m--> 114\u001b[0m     \u001b[39mreturn\u001b[39;00m F\u001b[39m.\u001b[39;49mlinear(\u001b[39minput\u001b[39;49m, \u001b[39mself\u001b[39;49m\u001b[39m.\u001b[39;49mweight, \u001b[39mself\u001b[39;49m\u001b[39m.\u001b[39;49mbias)\n",
      "\u001b[1;31mTypeError\u001b[0m: linear(): argument 'input' (position 1) must be Tensor, not list"
     ]
    }
   ],
   "source": [
    "for epoch in range(num_epochs):\n",
    "    for batch in data_loader:\n",
    "        print(type(batch))\n",
    "        optimizer.zero_grad()\n",
    "        output = model(batch)\n",
    "        loss = criterion(output, batch)\n",
    "        loss.backward()\n",
    "        optimizer.step()\n",
    "    \n",
    "    print(f\"Epoch [{epoch+1}/{num_epochs}], Loss: {loss.item()}\")"
   ]
  },
  {
   "cell_type": "code",
   "execution_count": null,
   "id": "07e03ddf",
   "metadata": {},
   "outputs": [],
   "source": []
  },
  {
   "attachments": {},
   "cell_type": "markdown",
   "id": "d5fb3b29",
   "metadata": {},
   "source": [
    "# Evaluation"
   ]
  },
  {
   "cell_type": "code",
   "execution_count": null,
   "id": "bf5fa1b4",
   "metadata": {},
   "outputs": [],
   "source": [
    "#todo"
   ]
  },
  {
   "cell_type": "code",
   "execution_count": null,
   "id": "2280031f",
   "metadata": {},
   "outputs": [],
   "source": []
  },
  {
   "cell_type": "code",
   "execution_count": null,
   "id": "3a8240f1",
   "metadata": {},
   "outputs": [],
   "source": []
  }
 ],
 "metadata": {
  "kernelspec": {
   "display_name": "Python 3 (ipykernel)",
   "language": "python",
   "name": "python3"
  },
  "language_info": {
   "codemirror_mode": {
    "name": "ipython",
    "version": 3
   },
   "file_extension": ".py",
   "mimetype": "text/x-python",
   "name": "python",
   "nbconvert_exporter": "python",
   "pygments_lexer": "ipython3",
   "version": "3.10.11"
  }
 },
 "nbformat": 4,
 "nbformat_minor": 5
}
