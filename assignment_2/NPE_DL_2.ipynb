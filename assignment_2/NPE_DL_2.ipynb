{
  "cells": [
    {
      "cell_type": "markdown",
      "metadata": {
        "id": "d32f8d18"
      },
      "source": [
        "# Group Details\n",
        "\n",
        "## Group Name:\n",
        "\n",
        "### Student 1:\n",
        "\n",
        "### Student 2:\n",
        "\n",
        "### Student 3:"
      ]
    },
    {
      "cell_type": "markdown",
      "metadata": {
        "id": "faec2056"
      },
      "source": [
        "# Loading Data and Preliminaries"
      ]
    },
    {
      "cell_type": "code",
      "execution_count": null,
      "metadata": {
        "colab": {
          "base_uri": "https://localhost:8080/"
        },
        "id": "qBIurCVzjuvR",
        "outputId": "55feb223-e47f-43f1-c99f-47ef73cf35b2"
      },
      "outputs": [
        {
          "name": "stdout",
          "output_type": "stream",
          "text": [
            "/content/drive/MyDrive/TUe/DeepLearning/Assignment2\n"
          ]
        }
      ],
      "source": [
        "%cd /content/drive/MyDrive/TUe/DeepLearning/Assignment2"
      ]
    },
    {
      "cell_type": "code",
      "execution_count": null,
      "metadata": {
        "id": "7d0580a5"
      },
      "outputs": [],
      "source": [
        "import os\n",
        "\n",
        "import matplotlib\n",
        "import matplotlib.pyplot as plt\n",
        "\n",
        "import numpy as np\n",
        "\n",
        "import torch\n",
        "import torch.nn as nn\n",
        "import torch.optim as optim\n",
        "from torch.utils.data import Dataset, DataLoader\n",
        "\n",
        "from tqdm.notebook import tqdm\n",
        "from glob import glob\n",
        "from sklearn.model_selection import train_test_split"
      ]
    },
    {
      "cell_type": "code",
      "execution_count": null,
      "metadata": {
        "id": "b0756591"
      },
      "outputs": [],
      "source": [
        "def load_array(filename, task):\n",
        "    datapoint = np.load(filename)\n",
        "    if task == 'task 1':\n",
        "        initial_state = datapoint['initial_state']\n",
        "        terminal_state = datapoint['terminal_state']\n",
        "        return initial_state, terminal_state\n",
        "    elif task == 'task 2' or task == 'task 3':\n",
        "        whole_trajectory = datapoint['trajectory']\n",
        "        # change shape: (num_bodies, attributes, time) ->  num_bodies, time, attributes\n",
        "        whole_trajectory = np.swapaxes(whole_trajectory, 1, 2)\n",
        "        initial_state = whole_trajectory[:, 0]\n",
        "        target = whole_trajectory[:, 1:, 1:]  # drop the first timepoint (second dim) and mass (last dim) for the prediction task\n",
        "        return initial_state, target\n",
        "    else:\n",
        "        raise NotImplementedError(\"'task' argument should be 'task 1', 'task 2' or 'task 3'!\")\n"
      ]
    },
    {
      "cell_type": "markdown",
      "metadata": {
        "id": "059b633c"
      },
      "source": [
        "# Data Handling and Preprocessing"
      ]
    },
    {
      "cell_type": "code",
      "execution_count": 218,
      "metadata": {
        "id": "dac58511"
      },
      "outputs": [],
      "source": [
        "def pad_array(data):\n",
        "    # Pad the array with zeros if necessary to have 9 rows\n",
        "    padded_input_data  = np.pad(data[0], ((0, 9 - data[0].shape[0]), (0, 0)), mode='constant')\n",
        "    padded_target_data = np.pad(data[1], ((0, 9 - data[1].shape[0]), (0, 0)), mode='constant')\n",
        "    return torch.tensor(padded_input_data, dtype=torch.float32), torch.tensor(padded_target_data, dtype=torch.float32)\n",
        "\n",
        "def create_mask(data,padded_input_data):\n",
        "    # Create a boolean mask array indicating the padded rows\n",
        "    mask = np.ones_like(padded_input_data, dtype=bool)\n",
        "    mask[data[0].shape[0]:] = False\n",
        "    return torch.tensor(mask, dtype=torch.bool)\n",
        "\n",
        "def pair_values(data):\n",
        "    # Pair up the values of the same columns from every row with every other row\n",
        "    num_rows, num_cols = data.shape\n",
        "    padded_input_data = torch.zeros((num_rows, num_rows, num_cols, 2))\n",
        "\n",
        "    for i in range(num_rows):\n",
        "        pair_idx = 0\n",
        "        for j in range(num_rows):\n",
        "\n",
        "            padded_input_data[i, pair_idx, :, 0] = data[i]\n",
        "            padded_input_data[i, pair_idx, :, 1] = data[j]\n",
        "            pair_idx += 1\n",
        "\n",
        "    return padded_input_data\n",
        "\n",
        "def get_euclidean_distance(x):\n",
        "    euclidean_distances = torch.zeros((len(x), len(x)))\n",
        "    for i in range(len(x)):\n",
        "        source_x, source_y= x[i][1], x[i][2]\n",
        "        #euclidean_distance=[]\n",
        "        for j in range(len(x)):\n",
        "            target_x, target_y= x[j][1], x[j][2]\n",
        "            euclidean_distances[i][j]=np.sqrt((source_x-target_x)**2+(source_y-target_y)**2)\n",
        "            #euclidean_distance.append(np.sqrt((source_x-target_x)**2+(source_y-target_y)**2))\n",
        "        #euclidean_distances.append(euclidean_distance)\n",
        "\n",
        "    return euclidean_distances #list of lists\n",
        "\n",
        "def target_difference(target_x, source_x):\n",
        "    # target x and source x are of shape (9, 2)\n",
        "    #Subtract the x and y coordinates of the target from the source\n",
        "    return target_x - source_x\n",
        "\n",
        "\n",
        "def process_file(file_path):\n",
        "    # Main function to process a single file\n",
        "    data = load_array(file_path, 'task 1')\n",
        "    padded_input_data, padded_target_data = pad_array(data)\n",
        "    mask = create_mask(data,padded_input_data)\n",
        "    input_data = pair_values(padded_input_data)\n",
        "    euclidean_distance = get_euclidean_distance(padded_input_data)\n",
        "    target_data= target_difference(padded_target_data, padded_input_data[:,1:3])\n",
        "\n",
        "    return input_data, target_data, padded_input_data, mask, euclidean_distance\n"
      ]
    },
    {
      "cell_type": "code",
      "execution_count": 219,
      "metadata": {
        "id": "6073689e"
      },
      "outputs": [],
      "source": [
        "class CustomDataset_2(Dataset):\n",
        "    def __init__(self, folder):\n",
        "        self.folder = folder\n",
        "        self.file_list = os.listdir(folder)\n",
        "\n",
        "    def __len__(self):\n",
        "        return len(self.file_list)\n",
        "\n",
        "    def _read_file(self, file_path):\n",
        "        input_data, target_data,data, mask, distances= process_file(file_path)\n",
        "        return input_data, target_data,data, mask, distances\n",
        "\n",
        "    def __getitem__(self, index):\n",
        "        file_path = os.path.join(self.folder, self.file_list[index])\n",
        "        # Read and preprocess the data from the file\n",
        "        input_data, target_data,data, mask, distance = self._read_file(file_path)\n",
        "        # Return the preprocessed data\n",
        "        return input_data, target_data,data, mask, distance"
      ]
    },
    {
      "cell_type": "markdown",
      "metadata": {
        "id": "18b2874d"
      },
      "source": [
        "# Model Implementation"
      ]
    },
    {
      "cell_type": "markdown",
      "metadata": {
        "id": "44baf9a4"
      },
      "source": [
        "## NPE implementation"
      ]
    },
    {
      "cell_type": "code",
      "execution_count": 220,
      "metadata": {
        "id": "95154df7"
      },
      "outputs": [],
      "source": [
        "class NPEEncoder(nn.Module):\n",
        "    def __init__(self, hidden_units):\n",
        "        super(NPEEncoder, self).__init__()\n",
        "        self.pairwise_layer = nn.Linear(10, hidden_units, bias=False)\n",
        "        self.feedforward = nn.Sequential(\n",
        "            nn.Linear(hidden_units, 50, bias=False),\n",
        "            nn.ReLU(),\n",
        "            nn.Linear(50, 50, bias=False),\n",
        "            nn.ReLU(),\n",
        "            nn.Linear(50, 50, bias=False),\n",
        "            nn.ReLU(),\n",
        "            nn.Linear(50, 50, bias=False),\n",
        "            nn.ReLU()\n",
        "        )\n",
        "\n",
        "    def forward(self, x):\n",
        "        x= x.to(torch.float32)\n",
        "        x = self.pairwise_layer(x)\n",
        "        x = self.feedforward(x)\n",
        "        return x\n",
        "\n",
        "class NPEDecoder(nn.Module):\n",
        "    def __init__(self):\n",
        "        super(NPEDecoder, self).__init__()\n",
        "        self.decoder = nn.Sequential(\n",
        "            nn.Linear(55, 50),\n",
        "            nn.ReLU(),\n",
        "            nn.Linear(50, 50),\n",
        "            nn.ReLU(),\n",
        "            nn.Linear(50, 50),\n",
        "            nn.ReLU(),\n",
        "            nn.Linear(50, 50),\n",
        "            nn.ReLU(),\n",
        "            nn.Linear(50, 2)\n",
        "        )\n",
        "\n",
        "    def forward(self, x):\n",
        "        x = self.decoder(x)\n",
        "        return x"
      ]
    },
    {
      "cell_type": "code",
      "execution_count": 221,
      "metadata": {
        "id": "ebe6c765"
      },
      "outputs": [],
      "source": [
        "class NPEModel(nn.Module):\n",
        "    def __init__(self, hidden_units, device):\n",
        "        super(NPEModel, self).__init__()\n",
        "        self.encoder = NPEEncoder(hidden_units)\n",
        "        self.decoder = NPEDecoder()\n",
        "        self.device = device\n",
        "\n",
        "    def forward(self, x,unpaired_data, mask, distance, neighborhood_threshold=5):\n",
        "        output=[]\n",
        "        dist_mask = ((distance > 0) & (distance < neighborhood_threshold))\n",
        "        for batch in range(x.size(0)):\n",
        "            batch_data= x[batch]\n",
        "            decoder_input = []\n",
        "            for body in range(batch_data.size(0)):\n",
        "                focus_body= unpaired_data[batch][body]\n",
        "\n",
        "                if dist_mask[batch][body].any():\n",
        "                    chunk = torch.flatten(x[batch][body][dist_mask[batch][body]],start_dim=1)\n",
        "                    neighbor_encodings = torch.sum(self.encoder(chunk), dim=0)\n",
        "                else:\n",
        "                    neighbor_encodings = torch.zeros(50).to(self.device)\n",
        "                # Concatenate the focus body encoding with the focus_body\n",
        "                decoder_input.append(torch.cat((neighbor_encodings, focus_body), dim=0))\n",
        "\n",
        "            # Decode the concatenated vector\n",
        "            decoded = self.decoder(torch.stack(decoder_input))\n",
        "            output.append(decoded)\n",
        "\n",
        "\n",
        "        return output"
      ]
    },
    {
      "cell_type": "markdown",
      "metadata": {
        "id": "dea70d73"
      },
      "source": [
        "# Model Training"
      ]
    },
    {
      "cell_type": "markdown",
      "metadata": {
        "id": "d78cead1"
      },
      "source": [
        "## NPE training"
      ]
    },
    {
      "cell_type": "code",
      "execution_count": 223,
      "metadata": {
        "id": "OkS0_ALBo9HI"
      },
      "outputs": [],
      "source": [
        "def load_data(folder):\n",
        "    file_list = os.listdir(folder)\n",
        "    output = []\n",
        "\n",
        "    for filename in file_list:\n",
        "        file_path = os.path.join(folder, filename)\n",
        "        output.append(process_file(file_path))\n",
        "\n",
        "    return output"
      ]
    },
    {
      "cell_type": "code",
      "execution_count": 224,
      "metadata": {
        "id": "3ff06815"
      },
      "outputs": [],
      "source": [
        "data_dir = 'data/task 1/train'\n",
        "# dataset = CustomDataset_2(data_dir)\n",
        "\n",
        "dataset = load_data(data_dir)\n",
        "\n",
        "\n",
        "data_loader = DataLoader(dataset, batch_size=64, shuffle=True)"
      ]
    },
    {
      "cell_type": "code",
      "execution_count": 225,
      "metadata": {
        "id": "5w0upAM-54MI"
      },
      "outputs": [],
      "source": [
        "test_data_dir = 'data/task 1/test'\n",
        "# test_dataset = CustomDataset_2(test_data_dir)\n",
        "\n",
        "test_dataset = load_data(test_data_dir)\n",
        "\n",
        "\n",
        "test_data_loader = DataLoader(test_dataset, batch_size=64, shuffle=False)"
      ]
    },
    {
      "cell_type": "code",
      "execution_count": 226,
      "metadata": {
        "colab": {
          "base_uri": "https://localhost:8080/"
        },
        "id": "7efb3949",
        "outputId": "4a2802dd-1524-4b82-e802-f79a1551049d"
      },
      "outputs": [
        {
          "output_type": "execute_result",
          "data": {
            "text/plain": [
              "device(type='cpu')"
            ]
          },
          "metadata": {},
          "execution_count": 226
        }
      ],
      "source": [
        "# device = torch.device('cuda' if torch.cuda.is_available() else 'cpu')\n",
        "device = torch.device('cpu')\n",
        "device"
      ]
    },
    {
      "cell_type": "code",
      "execution_count": 227,
      "metadata": {
        "id": "07e03ddf"
      },
      "outputs": [],
      "source": [
        "# Hyperparameters\n",
        "hidden_units = 25\n",
        "learning_rate = 1e-3\n",
        "learning_rate_decay = 0.99\n",
        "iterations = 50\n",
        "batch_size = 100\n",
        "\n",
        "# Create the model\n",
        "model = NPEModel(hidden_units, device=device)\n",
        "model.to(device)\n",
        "criterion = nn.MSELoss()\n",
        "# optimizer = optim.RMSprop(model.parameters(), lr=learning_rate)\n",
        "optimizer = optim.AdamW(model.parameters(), lr=learning_rate)"
      ]
    },
    {
      "cell_type": "code",
      "execution_count": 228,
      "metadata": {
        "id": "a760bea0"
      },
      "outputs": [],
      "source": [
        "def train_sim_model(model, train_data_loader, valid_data_loader, optimizer, criterion, device=torch.device('cpu'), iterations=50):\n",
        "    for iteration in tqdm(range(iterations)):\n",
        "        model.train()\n",
        "        train_loss=0.0\n",
        "        for input_data, target_data,unpaired_data, mask, distance in train_data_loader:\n",
        "        # Training steps\n",
        "            input_data = input_data.to(device)\n",
        "            unpaired_data = unpaired_data.to(device)\n",
        "            mask = mask.to(device)\n",
        "            distance = distance.to(device)\n",
        "            target_data=target_data.to(device)\n",
        "\n",
        "            optimizer.zero_grad()\n",
        "            output = model(input_data, unpaired_data, mask, distance)\n",
        "            output = torch.stack(output)\n",
        "\n",
        "            loss = criterion(output, target_data)\n",
        "            train_loss += loss.item()\n",
        "            loss.backward()\n",
        "            optimizer.step()\n",
        "\n",
        "        train_loss /= len(train_data_loader)\n",
        "\n",
        "\n",
        "        model.eval()\n",
        "        test_loss=0.0\n",
        "        with torch.no_grad():\n",
        "            for input_data, target_data,unpaired_data, mask, distance in valid_data_loader:\n",
        "                input_data = input_data.to(device)\n",
        "                target_data = target_data.to(device)\n",
        "                unpaired_data = unpaired_data.to(device)\n",
        "                mask = mask.to(device)\n",
        "                distance = distance.to(device)\n",
        "\n",
        "                output = model(input_data, unpaired_data, mask, distance)\n",
        "                output = torch.stack(output)\n",
        "                test_loss += criterion(output, target_data).item()\n",
        "        test_loss /= len(valid_data_loader)\n",
        "\n",
        "\n",
        "            # Print loss for monitoring\n",
        "            #if (iteration + 1) % 10000 == 0:\n",
        "        print(f\"Epoch [{iteration+1}/{iterations}], Loss: {train_loss}, Test Loss: {test_loss}\")"
      ]
    },
    {
      "cell_type": "code",
      "execution_count": 229,
      "metadata": {
        "id": "xxpPfpa-WxcP",
        "colab": {
          "base_uri": "https://localhost:8080/",
          "height": 899,
          "referenced_widgets": [
            "db98952504fb4848baeb965779f8de8a",
            "5e854e11a68344e0913abf23201b6d8f",
            "c1878c47324749529fe60acee6f730db",
            "2c6954c21e8b44ac8c91f7cfa9f99b51",
            "6a75d569e4d6404dbcc120535772af94",
            "808206c5066f4634b76fbf6cad5bc781",
            "aa334bbf554c4fdb8decbbd8df86f0c7",
            "b94d0941a7ca4ef0b10524364aab7e12",
            "9467724eccf44e73b92a83369b9c5e14",
            "36421676d9a64338a8fafceb7f381e65",
            "11fcc535c0454be5854dc7611fc16dce"
          ]
        },
        "outputId": "9cdd6e0f-bddd-4165-f451-7ea97bc963a1"
      },
      "outputs": [
        {
          "output_type": "display_data",
          "data": {
            "text/plain": [
              "  0%|          | 0/50 [00:00<?, ?it/s]"
            ],
            "application/vnd.jupyter.widget-view+json": {
              "version_major": 2,
              "version_minor": 0,
              "model_id": "db98952504fb4848baeb965779f8de8a"
            }
          },
          "metadata": {}
        },
        {
          "output_type": "stream",
          "name": "stdout",
          "text": [
            "Epoch [1/50], Loss: 9.939079666137696, Test Loss: 7.648855209350586\n",
            "Epoch [2/50], Loss: 8.725012143452963, Test Loss: 5.483811616897583\n",
            "Epoch [3/50], Loss: 6.850018787384033, Test Loss: 4.3958611488342285\n",
            "Epoch [4/50], Loss: 6.19133555094401, Test Loss: 4.082082748413086\n",
            "Epoch [5/50], Loss: 5.726301956176758, Test Loss: 3.9446059465408325\n",
            "Epoch [6/50], Loss: 6.038074620564779, Test Loss: 3.8227548599243164\n",
            "Epoch [7/50], Loss: 5.315569623311361, Test Loss: 3.4849575757980347\n",
            "Epoch [8/50], Loss: 5.040620136260986, Test Loss: 3.281022310256958\n",
            "Epoch [9/50], Loss: 4.7967591444651285, Test Loss: 3.218953013420105\n",
            "Epoch [10/50], Loss: 4.6282915592193605, Test Loss: 2.973642945289612\n",
            "Epoch [11/50], Loss: 4.3582629839579266, Test Loss: 2.850334882736206\n",
            "Epoch [12/50], Loss: 4.26755428314209, Test Loss: 2.8038569688796997\n",
            "Epoch [13/50], Loss: 4.1107229868570965, Test Loss: 2.7229620218276978\n",
            "Epoch [14/50], Loss: 3.9689907868703207, Test Loss: 2.653095841407776\n",
            "Epoch [15/50], Loss: 3.896149746576945, Test Loss: 2.5424840450286865\n",
            "Epoch [16/50], Loss: 3.6886836369832356, Test Loss: 2.5715153217315674\n",
            "Epoch [17/50], Loss: 3.7072339057922363, Test Loss: 2.528067111968994\n",
            "Epoch [18/50], Loss: 3.548195759455363, Test Loss: 2.533987045288086\n",
            "Epoch [19/50], Loss: 3.483289845784505, Test Loss: 2.5080090761184692\n",
            "Epoch [20/50], Loss: 3.388604180018107, Test Loss: 2.506264805793762\n",
            "Epoch [21/50], Loss: 3.365056546529134, Test Loss: 2.415787696838379\n",
            "Epoch [22/50], Loss: 3.2674569447835284, Test Loss: 2.371408462524414\n",
            "Epoch [23/50], Loss: 3.179813798268636, Test Loss: 2.321597456932068\n",
            "Epoch [24/50], Loss: 3.138498226801554, Test Loss: 2.3356685638427734\n",
            "Epoch [25/50], Loss: 3.0707300980885823, Test Loss: 2.299662947654724\n",
            "Epoch [26/50], Loss: 2.980971622467041, Test Loss: 2.2954641580581665\n",
            "Epoch [27/50], Loss: 3.0206802527109784, Test Loss: 2.3951079845428467\n",
            "Epoch [28/50], Loss: 3.004807138442993, Test Loss: 2.3230890035629272\n",
            "Epoch [29/50], Loss: 2.96571634610494, Test Loss: 2.290118455886841\n",
            "Epoch [30/50], Loss: 2.8795236110687257, Test Loss: 2.396515727043152\n",
            "Epoch [31/50], Loss: 2.8797950903574625, Test Loss: 2.356177806854248\n",
            "Epoch [32/50], Loss: 2.8886958758036294, Test Loss: 2.3850767612457275\n",
            "Epoch [33/50], Loss: 2.8636690934499103, Test Loss: 2.217833638191223\n",
            "Epoch [34/50], Loss: 2.7625780582427977, Test Loss: 2.229020118713379\n",
            "Epoch [35/50], Loss: 2.7245228131612143, Test Loss: 2.2328466176986694\n",
            "Epoch [36/50], Loss: 2.7837326526641846, Test Loss: 2.2364662885665894\n",
            "Epoch [37/50], Loss: 2.775317605336507, Test Loss: 2.206518769264221\n",
            "Epoch [38/50], Loss: 2.6832807461420694, Test Loss: 2.174510955810547\n",
            "Epoch [39/50], Loss: 2.664589778582255, Test Loss: 2.2002604007720947\n",
            "Epoch [40/50], Loss: 2.6560386498769124, Test Loss: 2.1828205585479736\n",
            "Epoch [41/50], Loss: 2.6138357798258465, Test Loss: 2.217924475669861\n",
            "Epoch [42/50], Loss: 2.6401962280273437, Test Loss: 2.2029412984848022\n",
            "Epoch [43/50], Loss: 2.65025216738383, Test Loss: 2.178772449493408\n",
            "Epoch [44/50], Loss: 2.6105234622955322, Test Loss: 2.182223677635193\n",
            "Epoch [45/50], Loss: 2.5824878374735514, Test Loss: 2.177998423576355\n",
            "Epoch [46/50], Loss: 2.551551620165507, Test Loss: 2.173775553703308\n",
            "Epoch [47/50], Loss: 2.5651179949442544, Test Loss: 2.158467411994934\n",
            "Epoch [48/50], Loss: 2.5870999018351237, Test Loss: 2.160380721092224\n",
            "Epoch [49/50], Loss: 2.598699450492859, Test Loss: 2.2153185606002808\n",
            "Epoch [50/50], Loss: 2.5429975191752114, Test Loss: 2.1457645893096924\n"
          ]
        }
      ],
      "source": [
        "train_sim_model(model, data_loader, test_data_loader, optimizer, criterion, device=device, iterations=iterations)"
      ]
    },
    {
      "cell_type": "markdown",
      "metadata": {
        "id": "ABEFBFEzs2jd"
      },
      "source": [
        "# Task 2"
      ]
    },
    {
      "cell_type": "code",
      "execution_count": 231,
      "metadata": {
        "id": "GZ60Vp-pQXfl"
      },
      "outputs": [],
      "source": [
        "def files_2_data(files):\n",
        "    output = []\n",
        "    for file_path in tqdm(files):\n",
        "        datapoint = np.load(file_path)\n",
        "        whole_trajectory = datapoint['trajectory']\n",
        "        # change shape: (num_bodies, attributes, time) ->  num_bodies, time, attributes\n",
        "        whole_trajectory = np.swapaxes(whole_trajectory, 1, 2)\n",
        "        for i in range(whole_trajectory.shape[1] - 1):\n",
        "            data = whole_trajectory[:, i], whole_trajectory[:, i + 1, 1:3]\n",
        "            padded_input_data, padded_target_data = pad_array(data)\n",
        "            mask = create_mask(data,padded_input_data)\n",
        "            input_data = pair_values(padded_input_data)\n",
        "            euclidean_distance = get_euclidean_distance(padded_input_data)\n",
        "            target_data= target_difference(padded_target_data, padded_input_data[:,1:3])\n",
        "\n",
        "            output.append((input_data, target_data, padded_input_data, mask, euclidean_distance))\n",
        "    return output"
      ]
    },
    {
      "cell_type": "code",
      "execution_count": 232,
      "metadata": {
        "id": "2ejokMDu0aTn"
      },
      "outputs": [],
      "source": [
        "files_rate = 0.2\n",
        "\n",
        "train_files = glob('data/task 2_3/train/*')\n",
        "train_files = train_files[:int(len(train_files) * files_rate)]\n",
        "\n",
        "train_files, valid_files = train_test_split(train_files, train_size=0.7)"
      ]
    },
    {
      "cell_type": "code",
      "execution_count": 233,
      "metadata": {
        "colab": {
          "base_uri": "https://localhost:8080/",
          "height": 81,
          "referenced_widgets": [
            "7c7b3ce3b78a4fecb1b07caad897468b",
            "58a7aaa264a14c8ab6bd77d9d95ad528",
            "7c4bf6cd853c4347bfc7627d5549f2d0",
            "7a9496e51ea94da7a00b6253ef7f4f8a",
            "70885b54ebf74be08127c4064003699e",
            "d9b590aad4e54b0597b94d492187fa3a",
            "c8b1fc27f0764291bf46924fcd0e1c6a",
            "7d2a53b553e2498fb4ab52d328060757",
            "ac0208cf6aa64b0bbbf4659b26e0cf35",
            "ff599c5277e04c13941fec2d9e915ec3",
            "5c73a517c39d48b4a6f8867084022a3d",
            "522439c07cd5486db31b881678d64e1b",
            "f4dffc7be6d94d929f03a25a1dcefc91",
            "c8791eca538c4d77837f8c46296313bb",
            "b1c3ff4bde324e55a46ec008ccc7446c",
            "3ca4b8b37f5e4a54a7353f6b8d477c5b",
            "549b70ca34e74c0e992e4e63ddc401dc",
            "c1330e1aaa0743dd8dda32b9d4b2fd1b",
            "ffc6fe92dc66420d8e7e5b97abe59384",
            "26a0b5d460a64d9498565328c864b2f3",
            "8bdef517cc5146de955d5f512c7a3547",
            "cc5a07c1618f419a9a19bc1fb46a9ab8"
          ]
        },
        "id": "U5EKuoBvR-Hc",
        "outputId": "a99b2354-807e-4a2f-fbaa-ef9873e0e517"
      },
      "outputs": [
        {
          "output_type": "display_data",
          "data": {
            "text/plain": [
              "  0%|          | 0/125 [00:00<?, ?it/s]"
            ],
            "application/vnd.jupyter.widget-view+json": {
              "version_major": 2,
              "version_minor": 0,
              "model_id": "7c7b3ce3b78a4fecb1b07caad897468b"
            }
          },
          "metadata": {}
        },
        {
          "output_type": "display_data",
          "data": {
            "text/plain": [
              "  0%|          | 0/55 [00:00<?, ?it/s]"
            ],
            "application/vnd.jupyter.widget-view+json": {
              "version_major": 2,
              "version_minor": 0,
              "model_id": "522439c07cd5486db31b881678d64e1b"
            }
          },
          "metadata": {}
        }
      ],
      "source": [
        "train_data = files_2_data(train_files)\n",
        "\n",
        "valid_data = files_2_data(valid_files)"
      ]
    },
    {
      "cell_type": "code",
      "source": [
        "len(train_data)"
      ],
      "metadata": {
        "colab": {
          "base_uri": "https://localhost:8080/"
        },
        "id": "iaxNWdxdcJ32",
        "outputId": "6936ef4b-8734-458e-d537-5f5a7d1f8d89"
      },
      "execution_count": 234,
      "outputs": [
        {
          "output_type": "execute_result",
          "data": {
            "text/plain": [
              "6125"
            ]
          },
          "metadata": {},
          "execution_count": 234
        }
      ]
    },
    {
      "cell_type": "code",
      "execution_count": 235,
      "metadata": {
        "id": "t20UMcE35YNX"
      },
      "outputs": [],
      "source": [
        "BATCH_SIZE = 128\n",
        "\n",
        "train_data_loader = DataLoader(train_data, batch_size=BATCH_SIZE, shuffle=True)\n",
        "valid_data_loader = DataLoader(valid_data, batch_size=BATCH_SIZE, shuffle=False)"
      ]
    },
    {
      "cell_type": "code",
      "execution_count": 236,
      "metadata": {
        "colab": {
          "base_uri": "https://localhost:8080/"
        },
        "id": "GM83dBy0XGdT",
        "outputId": "34d1cb6a-a7c5-4221-93ce-02cfd24ade7f"
      },
      "outputs": [
        {
          "output_type": "execute_result",
          "data": {
            "text/plain": [
              "device(type='cpu')"
            ]
          },
          "metadata": {},
          "execution_count": 236
        }
      ],
      "source": [
        "device = torch.device('cuda' if torch.cuda.is_available() else 'cpu')\n",
        "device"
      ]
    },
    {
      "cell_type": "code",
      "execution_count": 237,
      "metadata": {
        "id": "ewmxqXngXGdV"
      },
      "outputs": [],
      "source": [
        "# Hyperparameters\n",
        "hidden_units = 25\n",
        "LR = 1e-3\n",
        "EPOCHS = 10\n",
        "\n",
        "# Create the model\n",
        "model = NPEModel(hidden_units, device=device).to(device)\n",
        "\n",
        "criterion = nn.MSELoss()\n",
        "optimizer = optim.AdamW(model.parameters(), lr=LR)"
      ]
    },
    {
      "cell_type": "code",
      "execution_count": 238,
      "metadata": {
        "id": "e9cEYSC8W5tH",
        "colab": {
          "base_uri": "https://localhost:8080/",
          "height": 219,
          "referenced_widgets": [
            "54dffb9da20c4762a880186b2327bfca",
            "21b7e37252314d9387a7008c9d1a255a",
            "ed089a695e204e83b0a4927a8f2fa39f",
            "ac4e757908e44bafb8ee6482ddb443d9",
            "890f61c9c39c4858ac2bad99aeedb970",
            "4ce1cd7625e7489ca06483089d74e3eb",
            "369883990b124261a34b603655444ea6",
            "17b30ce7155a43abb6bc43718faa287b",
            "b3d71524aec449acbbb05b31490e458c",
            "7f8d40103c984cc693d16e53b37d8474",
            "5000e6da2a5c445d8698a64a6ec98952"
          ]
        },
        "outputId": "d4625ee6-d54d-4575-a1ad-041be13f4b75"
      },
      "outputs": [
        {
          "output_type": "display_data",
          "data": {
            "text/plain": [
              "  0%|          | 0/10 [00:00<?, ?it/s]"
            ],
            "application/vnd.jupyter.widget-view+json": {
              "version_major": 2,
              "version_minor": 0,
              "model_id": "54dffb9da20c4762a880186b2327bfca"
            }
          },
          "metadata": {}
        },
        {
          "output_type": "stream",
          "name": "stdout",
          "text": [
            "Epoch [1/10], Loss: 0.005665687662258279, Test Loss: 0.0018616489912594923\n",
            "Epoch [2/10], Loss: 0.0011458572601744284, Test Loss: 0.0015075538712236184\n",
            "Epoch [3/10], Loss: 0.0010063542734618143, Test Loss: 0.001485489628976211\n",
            "Epoch [4/10], Loss: 0.0009744990717687566, Test Loss: 0.001460649390620264\n",
            "Epoch [5/10], Loss: 0.0009574162128653066, Test Loss: 0.0014283904271327299\n",
            "Epoch [6/10], Loss: 0.0009554821517667733, Test Loss: 0.001445167598748495\n",
            "Epoch [7/10], Loss: 0.0009393441020317065, Test Loss: 0.0014472210869743403\n",
            "Epoch [8/10], Loss: 0.0009338501028347915, Test Loss: 0.0014305383811006323\n",
            "Epoch [9/10], Loss: 0.000924186944757821, Test Loss: 0.0014180150398963385\n",
            "Epoch [10/10], Loss: 0.0009200674576277379, Test Loss: 0.0014225230922668495\n"
          ]
        }
      ],
      "source": [
        "train_sim_model(model, train_data_loader, valid_data_loader, optimizer, criterion, device, iterations=EPOCHS)"
      ]
    },
    {
      "cell_type": "code",
      "execution_count": 239,
      "metadata": {
        "id": "jJ2l0Xn35t5p"
      },
      "outputs": [],
      "source": [
        "def recalc_data(padded_input_data):\n",
        "    input_data = []\n",
        "    euclidean_distance = []\n",
        "    for elem in padded_input_data:\n",
        "        input_data.append(pair_values(elem))\n",
        "        euclidean_distance.append(get_euclidean_distance(elem))\n",
        "\n",
        "    return torch.stack(input_data), padded_input_data, torch.stack(euclidean_distance)"
      ]
    },
    {
      "cell_type": "code",
      "execution_count": 240,
      "metadata": {
        "id": "rN_SOPIm6fDP"
      },
      "outputs": [],
      "source": [
        "def simulate(init_data, times=5):\n",
        "    input_data, unpaired_data, mask, distance = init_data\n",
        "\n",
        "    input_data = input_data.to(device)\n",
        "    unpaired_data = unpaired_data.to(device)\n",
        "    mask = mask.to(device)\n",
        "    distance = distance.to(device)\n",
        "\n",
        "    locations = []\n",
        "    model.eval()\n",
        "    with torch.no_grad():\n",
        "        for time in tqdm(range(times)):\n",
        "\n",
        "            output = model(input_data, unpaired_data, mask, distance)\n",
        "\n",
        "            unpaired_data[:,:,3:5] = torch.stack([torch.stack(ten) for ten in output])\n",
        "            unpaired_data[:,:,1:3] += unpaired_data[:,:,3:5]\n",
        "            locations.append(unpaired_data[:,:,1:3])\n",
        "\n",
        "            input_data, unpaired_data, distance = recalc_data(unpaired_data)\n",
        "\n",
        "\n",
        "    return locations"
      ]
    },
    {
      "cell_type": "markdown",
      "metadata": {
        "id": "d5fb3b29"
      },
      "source": [
        "# Evaluation"
      ]
    },
    {
      "cell_type": "code",
      "execution_count": null,
      "metadata": {
        "id": "bf5fa1b4"
      },
      "outputs": [],
      "source": [
        "#todo"
      ]
    },
    {
      "cell_type": "code",
      "execution_count": null,
      "metadata": {
        "id": "2280031f"
      },
      "outputs": [],
      "source": []
    },
    {
      "cell_type": "code",
      "execution_count": null,
      "metadata": {
        "id": "3a8240f1"
      },
      "outputs": [],
      "source": []
    }
  ],
  "metadata": {
    "accelerator": "GPU",
    "colab": {
      "provenance": []
    },
    "kernelspec": {
      "display_name": "Python 3",
      "name": "python3"
    },
    "language_info": {
      "name": "python"
    },
    "widgets": {
      "application/vnd.jupyter.widget-state+json": {
        "db98952504fb4848baeb965779f8de8a": {
          "model_module": "@jupyter-widgets/controls",
          "model_name": "HBoxModel",
          "model_module_version": "1.5.0",
          "state": {
            "_dom_classes": [],
            "_model_module": "@jupyter-widgets/controls",
            "_model_module_version": "1.5.0",
            "_model_name": "HBoxModel",
            "_view_count": null,
            "_view_module": "@jupyter-widgets/controls",
            "_view_module_version": "1.5.0",
            "_view_name": "HBoxView",
            "box_style": "",
            "children": [
              "IPY_MODEL_5e854e11a68344e0913abf23201b6d8f",
              "IPY_MODEL_c1878c47324749529fe60acee6f730db",
              "IPY_MODEL_2c6954c21e8b44ac8c91f7cfa9f99b51"
            ],
            "layout": "IPY_MODEL_6a75d569e4d6404dbcc120535772af94"
          }
        },
        "5e854e11a68344e0913abf23201b6d8f": {
          "model_module": "@jupyter-widgets/controls",
          "model_name": "HTMLModel",
          "model_module_version": "1.5.0",
          "state": {
            "_dom_classes": [],
            "_model_module": "@jupyter-widgets/controls",
            "_model_module_version": "1.5.0",
            "_model_name": "HTMLModel",
            "_view_count": null,
            "_view_module": "@jupyter-widgets/controls",
            "_view_module_version": "1.5.0",
            "_view_name": "HTMLView",
            "description": "",
            "description_tooltip": null,
            "layout": "IPY_MODEL_808206c5066f4634b76fbf6cad5bc781",
            "placeholder": "​",
            "style": "IPY_MODEL_aa334bbf554c4fdb8decbbd8df86f0c7",
            "value": "100%"
          }
        },
        "c1878c47324749529fe60acee6f730db": {
          "model_module": "@jupyter-widgets/controls",
          "model_name": "FloatProgressModel",
          "model_module_version": "1.5.0",
          "state": {
            "_dom_classes": [],
            "_model_module": "@jupyter-widgets/controls",
            "_model_module_version": "1.5.0",
            "_model_name": "FloatProgressModel",
            "_view_count": null,
            "_view_module": "@jupyter-widgets/controls",
            "_view_module_version": "1.5.0",
            "_view_name": "ProgressView",
            "bar_style": "success",
            "description": "",
            "description_tooltip": null,
            "layout": "IPY_MODEL_b94d0941a7ca4ef0b10524364aab7e12",
            "max": 50,
            "min": 0,
            "orientation": "horizontal",
            "style": "IPY_MODEL_9467724eccf44e73b92a83369b9c5e14",
            "value": 50
          }
        },
        "2c6954c21e8b44ac8c91f7cfa9f99b51": {
          "model_module": "@jupyter-widgets/controls",
          "model_name": "HTMLModel",
          "model_module_version": "1.5.0",
          "state": {
            "_dom_classes": [],
            "_model_module": "@jupyter-widgets/controls",
            "_model_module_version": "1.5.0",
            "_model_name": "HTMLModel",
            "_view_count": null,
            "_view_module": "@jupyter-widgets/controls",
            "_view_module_version": "1.5.0",
            "_view_name": "HTMLView",
            "description": "",
            "description_tooltip": null,
            "layout": "IPY_MODEL_36421676d9a64338a8fafceb7f381e65",
            "placeholder": "​",
            "style": "IPY_MODEL_11fcc535c0454be5854dc7611fc16dce",
            "value": " 50/50 [04:13&lt;00:00,  4.73s/it]"
          }
        },
        "6a75d569e4d6404dbcc120535772af94": {
          "model_module": "@jupyter-widgets/base",
          "model_name": "LayoutModel",
          "model_module_version": "1.2.0",
          "state": {
            "_model_module": "@jupyter-widgets/base",
            "_model_module_version": "1.2.0",
            "_model_name": "LayoutModel",
            "_view_count": null,
            "_view_module": "@jupyter-widgets/base",
            "_view_module_version": "1.2.0",
            "_view_name": "LayoutView",
            "align_content": null,
            "align_items": null,
            "align_self": null,
            "border": null,
            "bottom": null,
            "display": null,
            "flex": null,
            "flex_flow": null,
            "grid_area": null,
            "grid_auto_columns": null,
            "grid_auto_flow": null,
            "grid_auto_rows": null,
            "grid_column": null,
            "grid_gap": null,
            "grid_row": null,
            "grid_template_areas": null,
            "grid_template_columns": null,
            "grid_template_rows": null,
            "height": null,
            "justify_content": null,
            "justify_items": null,
            "left": null,
            "margin": null,
            "max_height": null,
            "max_width": null,
            "min_height": null,
            "min_width": null,
            "object_fit": null,
            "object_position": null,
            "order": null,
            "overflow": null,
            "overflow_x": null,
            "overflow_y": null,
            "padding": null,
            "right": null,
            "top": null,
            "visibility": null,
            "width": null
          }
        },
        "808206c5066f4634b76fbf6cad5bc781": {
          "model_module": "@jupyter-widgets/base",
          "model_name": "LayoutModel",
          "model_module_version": "1.2.0",
          "state": {
            "_model_module": "@jupyter-widgets/base",
            "_model_module_version": "1.2.0",
            "_model_name": "LayoutModel",
            "_view_count": null,
            "_view_module": "@jupyter-widgets/base",
            "_view_module_version": "1.2.0",
            "_view_name": "LayoutView",
            "align_content": null,
            "align_items": null,
            "align_self": null,
            "border": null,
            "bottom": null,
            "display": null,
            "flex": null,
            "flex_flow": null,
            "grid_area": null,
            "grid_auto_columns": null,
            "grid_auto_flow": null,
            "grid_auto_rows": null,
            "grid_column": null,
            "grid_gap": null,
            "grid_row": null,
            "grid_template_areas": null,
            "grid_template_columns": null,
            "grid_template_rows": null,
            "height": null,
            "justify_content": null,
            "justify_items": null,
            "left": null,
            "margin": null,
            "max_height": null,
            "max_width": null,
            "min_height": null,
            "min_width": null,
            "object_fit": null,
            "object_position": null,
            "order": null,
            "overflow": null,
            "overflow_x": null,
            "overflow_y": null,
            "padding": null,
            "right": null,
            "top": null,
            "visibility": null,
            "width": null
          }
        },
        "aa334bbf554c4fdb8decbbd8df86f0c7": {
          "model_module": "@jupyter-widgets/controls",
          "model_name": "DescriptionStyleModel",
          "model_module_version": "1.5.0",
          "state": {
            "_model_module": "@jupyter-widgets/controls",
            "_model_module_version": "1.5.0",
            "_model_name": "DescriptionStyleModel",
            "_view_count": null,
            "_view_module": "@jupyter-widgets/base",
            "_view_module_version": "1.2.0",
            "_view_name": "StyleView",
            "description_width": ""
          }
        },
        "b94d0941a7ca4ef0b10524364aab7e12": {
          "model_module": "@jupyter-widgets/base",
          "model_name": "LayoutModel",
          "model_module_version": "1.2.0",
          "state": {
            "_model_module": "@jupyter-widgets/base",
            "_model_module_version": "1.2.0",
            "_model_name": "LayoutModel",
            "_view_count": null,
            "_view_module": "@jupyter-widgets/base",
            "_view_module_version": "1.2.0",
            "_view_name": "LayoutView",
            "align_content": null,
            "align_items": null,
            "align_self": null,
            "border": null,
            "bottom": null,
            "display": null,
            "flex": null,
            "flex_flow": null,
            "grid_area": null,
            "grid_auto_columns": null,
            "grid_auto_flow": null,
            "grid_auto_rows": null,
            "grid_column": null,
            "grid_gap": null,
            "grid_row": null,
            "grid_template_areas": null,
            "grid_template_columns": null,
            "grid_template_rows": null,
            "height": null,
            "justify_content": null,
            "justify_items": null,
            "left": null,
            "margin": null,
            "max_height": null,
            "max_width": null,
            "min_height": null,
            "min_width": null,
            "object_fit": null,
            "object_position": null,
            "order": null,
            "overflow": null,
            "overflow_x": null,
            "overflow_y": null,
            "padding": null,
            "right": null,
            "top": null,
            "visibility": null,
            "width": null
          }
        },
        "9467724eccf44e73b92a83369b9c5e14": {
          "model_module": "@jupyter-widgets/controls",
          "model_name": "ProgressStyleModel",
          "model_module_version": "1.5.0",
          "state": {
            "_model_module": "@jupyter-widgets/controls",
            "_model_module_version": "1.5.0",
            "_model_name": "ProgressStyleModel",
            "_view_count": null,
            "_view_module": "@jupyter-widgets/base",
            "_view_module_version": "1.2.0",
            "_view_name": "StyleView",
            "bar_color": null,
            "description_width": ""
          }
        },
        "36421676d9a64338a8fafceb7f381e65": {
          "model_module": "@jupyter-widgets/base",
          "model_name": "LayoutModel",
          "model_module_version": "1.2.0",
          "state": {
            "_model_module": "@jupyter-widgets/base",
            "_model_module_version": "1.2.0",
            "_model_name": "LayoutModel",
            "_view_count": null,
            "_view_module": "@jupyter-widgets/base",
            "_view_module_version": "1.2.0",
            "_view_name": "LayoutView",
            "align_content": null,
            "align_items": null,
            "align_self": null,
            "border": null,
            "bottom": null,
            "display": null,
            "flex": null,
            "flex_flow": null,
            "grid_area": null,
            "grid_auto_columns": null,
            "grid_auto_flow": null,
            "grid_auto_rows": null,
            "grid_column": null,
            "grid_gap": null,
            "grid_row": null,
            "grid_template_areas": null,
            "grid_template_columns": null,
            "grid_template_rows": null,
            "height": null,
            "justify_content": null,
            "justify_items": null,
            "left": null,
            "margin": null,
            "max_height": null,
            "max_width": null,
            "min_height": null,
            "min_width": null,
            "object_fit": null,
            "object_position": null,
            "order": null,
            "overflow": null,
            "overflow_x": null,
            "overflow_y": null,
            "padding": null,
            "right": null,
            "top": null,
            "visibility": null,
            "width": null
          }
        },
        "11fcc535c0454be5854dc7611fc16dce": {
          "model_module": "@jupyter-widgets/controls",
          "model_name": "DescriptionStyleModel",
          "model_module_version": "1.5.0",
          "state": {
            "_model_module": "@jupyter-widgets/controls",
            "_model_module_version": "1.5.0",
            "_model_name": "DescriptionStyleModel",
            "_view_count": null,
            "_view_module": "@jupyter-widgets/base",
            "_view_module_version": "1.2.0",
            "_view_name": "StyleView",
            "description_width": ""
          }
        },
        "7c7b3ce3b78a4fecb1b07caad897468b": {
          "model_module": "@jupyter-widgets/controls",
          "model_name": "HBoxModel",
          "model_module_version": "1.5.0",
          "state": {
            "_dom_classes": [],
            "_model_module": "@jupyter-widgets/controls",
            "_model_module_version": "1.5.0",
            "_model_name": "HBoxModel",
            "_view_count": null,
            "_view_module": "@jupyter-widgets/controls",
            "_view_module_version": "1.5.0",
            "_view_name": "HBoxView",
            "box_style": "",
            "children": [
              "IPY_MODEL_58a7aaa264a14c8ab6bd77d9d95ad528",
              "IPY_MODEL_7c4bf6cd853c4347bfc7627d5549f2d0",
              "IPY_MODEL_7a9496e51ea94da7a00b6253ef7f4f8a"
            ],
            "layout": "IPY_MODEL_70885b54ebf74be08127c4064003699e"
          }
        },
        "58a7aaa264a14c8ab6bd77d9d95ad528": {
          "model_module": "@jupyter-widgets/controls",
          "model_name": "HTMLModel",
          "model_module_version": "1.5.0",
          "state": {
            "_dom_classes": [],
            "_model_module": "@jupyter-widgets/controls",
            "_model_module_version": "1.5.0",
            "_model_name": "HTMLModel",
            "_view_count": null,
            "_view_module": "@jupyter-widgets/controls",
            "_view_module_version": "1.5.0",
            "_view_name": "HTMLView",
            "description": "",
            "description_tooltip": null,
            "layout": "IPY_MODEL_d9b590aad4e54b0597b94d492187fa3a",
            "placeholder": "​",
            "style": "IPY_MODEL_c8b1fc27f0764291bf46924fcd0e1c6a",
            "value": "100%"
          }
        },
        "7c4bf6cd853c4347bfc7627d5549f2d0": {
          "model_module": "@jupyter-widgets/controls",
          "model_name": "FloatProgressModel",
          "model_module_version": "1.5.0",
          "state": {
            "_dom_classes": [],
            "_model_module": "@jupyter-widgets/controls",
            "_model_module_version": "1.5.0",
            "_model_name": "FloatProgressModel",
            "_view_count": null,
            "_view_module": "@jupyter-widgets/controls",
            "_view_module_version": "1.5.0",
            "_view_name": "ProgressView",
            "bar_style": "success",
            "description": "",
            "description_tooltip": null,
            "layout": "IPY_MODEL_7d2a53b553e2498fb4ab52d328060757",
            "max": 125,
            "min": 0,
            "orientation": "horizontal",
            "style": "IPY_MODEL_ac0208cf6aa64b0bbbf4659b26e0cf35",
            "value": 125
          }
        },
        "7a9496e51ea94da7a00b6253ef7f4f8a": {
          "model_module": "@jupyter-widgets/controls",
          "model_name": "HTMLModel",
          "model_module_version": "1.5.0",
          "state": {
            "_dom_classes": [],
            "_model_module": "@jupyter-widgets/controls",
            "_model_module_version": "1.5.0",
            "_model_name": "HTMLModel",
            "_view_count": null,
            "_view_module": "@jupyter-widgets/controls",
            "_view_module_version": "1.5.0",
            "_view_name": "HTMLView",
            "description": "",
            "description_tooltip": null,
            "layout": "IPY_MODEL_ff599c5277e04c13941fec2d9e915ec3",
            "placeholder": "​",
            "style": "IPY_MODEL_5c73a517c39d48b4a6f8867084022a3d",
            "value": " 125/125 [00:46&lt;00:00,  2.96it/s]"
          }
        },
        "70885b54ebf74be08127c4064003699e": {
          "model_module": "@jupyter-widgets/base",
          "model_name": "LayoutModel",
          "model_module_version": "1.2.0",
          "state": {
            "_model_module": "@jupyter-widgets/base",
            "_model_module_version": "1.2.0",
            "_model_name": "LayoutModel",
            "_view_count": null,
            "_view_module": "@jupyter-widgets/base",
            "_view_module_version": "1.2.0",
            "_view_name": "LayoutView",
            "align_content": null,
            "align_items": null,
            "align_self": null,
            "border": null,
            "bottom": null,
            "display": null,
            "flex": null,
            "flex_flow": null,
            "grid_area": null,
            "grid_auto_columns": null,
            "grid_auto_flow": null,
            "grid_auto_rows": null,
            "grid_column": null,
            "grid_gap": null,
            "grid_row": null,
            "grid_template_areas": null,
            "grid_template_columns": null,
            "grid_template_rows": null,
            "height": null,
            "justify_content": null,
            "justify_items": null,
            "left": null,
            "margin": null,
            "max_height": null,
            "max_width": null,
            "min_height": null,
            "min_width": null,
            "object_fit": null,
            "object_position": null,
            "order": null,
            "overflow": null,
            "overflow_x": null,
            "overflow_y": null,
            "padding": null,
            "right": null,
            "top": null,
            "visibility": null,
            "width": null
          }
        },
        "d9b590aad4e54b0597b94d492187fa3a": {
          "model_module": "@jupyter-widgets/base",
          "model_name": "LayoutModel",
          "model_module_version": "1.2.0",
          "state": {
            "_model_module": "@jupyter-widgets/base",
            "_model_module_version": "1.2.0",
            "_model_name": "LayoutModel",
            "_view_count": null,
            "_view_module": "@jupyter-widgets/base",
            "_view_module_version": "1.2.0",
            "_view_name": "LayoutView",
            "align_content": null,
            "align_items": null,
            "align_self": null,
            "border": null,
            "bottom": null,
            "display": null,
            "flex": null,
            "flex_flow": null,
            "grid_area": null,
            "grid_auto_columns": null,
            "grid_auto_flow": null,
            "grid_auto_rows": null,
            "grid_column": null,
            "grid_gap": null,
            "grid_row": null,
            "grid_template_areas": null,
            "grid_template_columns": null,
            "grid_template_rows": null,
            "height": null,
            "justify_content": null,
            "justify_items": null,
            "left": null,
            "margin": null,
            "max_height": null,
            "max_width": null,
            "min_height": null,
            "min_width": null,
            "object_fit": null,
            "object_position": null,
            "order": null,
            "overflow": null,
            "overflow_x": null,
            "overflow_y": null,
            "padding": null,
            "right": null,
            "top": null,
            "visibility": null,
            "width": null
          }
        },
        "c8b1fc27f0764291bf46924fcd0e1c6a": {
          "model_module": "@jupyter-widgets/controls",
          "model_name": "DescriptionStyleModel",
          "model_module_version": "1.5.0",
          "state": {
            "_model_module": "@jupyter-widgets/controls",
            "_model_module_version": "1.5.0",
            "_model_name": "DescriptionStyleModel",
            "_view_count": null,
            "_view_module": "@jupyter-widgets/base",
            "_view_module_version": "1.2.0",
            "_view_name": "StyleView",
            "description_width": ""
          }
        },
        "7d2a53b553e2498fb4ab52d328060757": {
          "model_module": "@jupyter-widgets/base",
          "model_name": "LayoutModel",
          "model_module_version": "1.2.0",
          "state": {
            "_model_module": "@jupyter-widgets/base",
            "_model_module_version": "1.2.0",
            "_model_name": "LayoutModel",
            "_view_count": null,
            "_view_module": "@jupyter-widgets/base",
            "_view_module_version": "1.2.0",
            "_view_name": "LayoutView",
            "align_content": null,
            "align_items": null,
            "align_self": null,
            "border": null,
            "bottom": null,
            "display": null,
            "flex": null,
            "flex_flow": null,
            "grid_area": null,
            "grid_auto_columns": null,
            "grid_auto_flow": null,
            "grid_auto_rows": null,
            "grid_column": null,
            "grid_gap": null,
            "grid_row": null,
            "grid_template_areas": null,
            "grid_template_columns": null,
            "grid_template_rows": null,
            "height": null,
            "justify_content": null,
            "justify_items": null,
            "left": null,
            "margin": null,
            "max_height": null,
            "max_width": null,
            "min_height": null,
            "min_width": null,
            "object_fit": null,
            "object_position": null,
            "order": null,
            "overflow": null,
            "overflow_x": null,
            "overflow_y": null,
            "padding": null,
            "right": null,
            "top": null,
            "visibility": null,
            "width": null
          }
        },
        "ac0208cf6aa64b0bbbf4659b26e0cf35": {
          "model_module": "@jupyter-widgets/controls",
          "model_name": "ProgressStyleModel",
          "model_module_version": "1.5.0",
          "state": {
            "_model_module": "@jupyter-widgets/controls",
            "_model_module_version": "1.5.0",
            "_model_name": "ProgressStyleModel",
            "_view_count": null,
            "_view_module": "@jupyter-widgets/base",
            "_view_module_version": "1.2.0",
            "_view_name": "StyleView",
            "bar_color": null,
            "description_width": ""
          }
        },
        "ff599c5277e04c13941fec2d9e915ec3": {
          "model_module": "@jupyter-widgets/base",
          "model_name": "LayoutModel",
          "model_module_version": "1.2.0",
          "state": {
            "_model_module": "@jupyter-widgets/base",
            "_model_module_version": "1.2.0",
            "_model_name": "LayoutModel",
            "_view_count": null,
            "_view_module": "@jupyter-widgets/base",
            "_view_module_version": "1.2.0",
            "_view_name": "LayoutView",
            "align_content": null,
            "align_items": null,
            "align_self": null,
            "border": null,
            "bottom": null,
            "display": null,
            "flex": null,
            "flex_flow": null,
            "grid_area": null,
            "grid_auto_columns": null,
            "grid_auto_flow": null,
            "grid_auto_rows": null,
            "grid_column": null,
            "grid_gap": null,
            "grid_row": null,
            "grid_template_areas": null,
            "grid_template_columns": null,
            "grid_template_rows": null,
            "height": null,
            "justify_content": null,
            "justify_items": null,
            "left": null,
            "margin": null,
            "max_height": null,
            "max_width": null,
            "min_height": null,
            "min_width": null,
            "object_fit": null,
            "object_position": null,
            "order": null,
            "overflow": null,
            "overflow_x": null,
            "overflow_y": null,
            "padding": null,
            "right": null,
            "top": null,
            "visibility": null,
            "width": null
          }
        },
        "5c73a517c39d48b4a6f8867084022a3d": {
          "model_module": "@jupyter-widgets/controls",
          "model_name": "DescriptionStyleModel",
          "model_module_version": "1.5.0",
          "state": {
            "_model_module": "@jupyter-widgets/controls",
            "_model_module_version": "1.5.0",
            "_model_name": "DescriptionStyleModel",
            "_view_count": null,
            "_view_module": "@jupyter-widgets/base",
            "_view_module_version": "1.2.0",
            "_view_name": "StyleView",
            "description_width": ""
          }
        },
        "522439c07cd5486db31b881678d64e1b": {
          "model_module": "@jupyter-widgets/controls",
          "model_name": "HBoxModel",
          "model_module_version": "1.5.0",
          "state": {
            "_dom_classes": [],
            "_model_module": "@jupyter-widgets/controls",
            "_model_module_version": "1.5.0",
            "_model_name": "HBoxModel",
            "_view_count": null,
            "_view_module": "@jupyter-widgets/controls",
            "_view_module_version": "1.5.0",
            "_view_name": "HBoxView",
            "box_style": "",
            "children": [
              "IPY_MODEL_f4dffc7be6d94d929f03a25a1dcefc91",
              "IPY_MODEL_c8791eca538c4d77837f8c46296313bb",
              "IPY_MODEL_b1c3ff4bde324e55a46ec008ccc7446c"
            ],
            "layout": "IPY_MODEL_3ca4b8b37f5e4a54a7353f6b8d477c5b"
          }
        },
        "f4dffc7be6d94d929f03a25a1dcefc91": {
          "model_module": "@jupyter-widgets/controls",
          "model_name": "HTMLModel",
          "model_module_version": "1.5.0",
          "state": {
            "_dom_classes": [],
            "_model_module": "@jupyter-widgets/controls",
            "_model_module_version": "1.5.0",
            "_model_name": "HTMLModel",
            "_view_count": null,
            "_view_module": "@jupyter-widgets/controls",
            "_view_module_version": "1.5.0",
            "_view_name": "HTMLView",
            "description": "",
            "description_tooltip": null,
            "layout": "IPY_MODEL_549b70ca34e74c0e992e4e63ddc401dc",
            "placeholder": "​",
            "style": "IPY_MODEL_c1330e1aaa0743dd8dda32b9d4b2fd1b",
            "value": "100%"
          }
        },
        "c8791eca538c4d77837f8c46296313bb": {
          "model_module": "@jupyter-widgets/controls",
          "model_name": "FloatProgressModel",
          "model_module_version": "1.5.0",
          "state": {
            "_dom_classes": [],
            "_model_module": "@jupyter-widgets/controls",
            "_model_module_version": "1.5.0",
            "_model_name": "FloatProgressModel",
            "_view_count": null,
            "_view_module": "@jupyter-widgets/controls",
            "_view_module_version": "1.5.0",
            "_view_name": "ProgressView",
            "bar_style": "success",
            "description": "",
            "description_tooltip": null,
            "layout": "IPY_MODEL_ffc6fe92dc66420d8e7e5b97abe59384",
            "max": 55,
            "min": 0,
            "orientation": "horizontal",
            "style": "IPY_MODEL_26a0b5d460a64d9498565328c864b2f3",
            "value": 55
          }
        },
        "b1c3ff4bde324e55a46ec008ccc7446c": {
          "model_module": "@jupyter-widgets/controls",
          "model_name": "HTMLModel",
          "model_module_version": "1.5.0",
          "state": {
            "_dom_classes": [],
            "_model_module": "@jupyter-widgets/controls",
            "_model_module_version": "1.5.0",
            "_model_name": "HTMLModel",
            "_view_count": null,
            "_view_module": "@jupyter-widgets/controls",
            "_view_module_version": "1.5.0",
            "_view_name": "HTMLView",
            "description": "",
            "description_tooltip": null,
            "layout": "IPY_MODEL_8bdef517cc5146de955d5f512c7a3547",
            "placeholder": "​",
            "style": "IPY_MODEL_cc5a07c1618f419a9a19bc1fb46a9ab8",
            "value": " 55/55 [00:21&lt;00:00,  2.90it/s]"
          }
        },
        "3ca4b8b37f5e4a54a7353f6b8d477c5b": {
          "model_module": "@jupyter-widgets/base",
          "model_name": "LayoutModel",
          "model_module_version": "1.2.0",
          "state": {
            "_model_module": "@jupyter-widgets/base",
            "_model_module_version": "1.2.0",
            "_model_name": "LayoutModel",
            "_view_count": null,
            "_view_module": "@jupyter-widgets/base",
            "_view_module_version": "1.2.0",
            "_view_name": "LayoutView",
            "align_content": null,
            "align_items": null,
            "align_self": null,
            "border": null,
            "bottom": null,
            "display": null,
            "flex": null,
            "flex_flow": null,
            "grid_area": null,
            "grid_auto_columns": null,
            "grid_auto_flow": null,
            "grid_auto_rows": null,
            "grid_column": null,
            "grid_gap": null,
            "grid_row": null,
            "grid_template_areas": null,
            "grid_template_columns": null,
            "grid_template_rows": null,
            "height": null,
            "justify_content": null,
            "justify_items": null,
            "left": null,
            "margin": null,
            "max_height": null,
            "max_width": null,
            "min_height": null,
            "min_width": null,
            "object_fit": null,
            "object_position": null,
            "order": null,
            "overflow": null,
            "overflow_x": null,
            "overflow_y": null,
            "padding": null,
            "right": null,
            "top": null,
            "visibility": null,
            "width": null
          }
        },
        "549b70ca34e74c0e992e4e63ddc401dc": {
          "model_module": "@jupyter-widgets/base",
          "model_name": "LayoutModel",
          "model_module_version": "1.2.0",
          "state": {
            "_model_module": "@jupyter-widgets/base",
            "_model_module_version": "1.2.0",
            "_model_name": "LayoutModel",
            "_view_count": null,
            "_view_module": "@jupyter-widgets/base",
            "_view_module_version": "1.2.0",
            "_view_name": "LayoutView",
            "align_content": null,
            "align_items": null,
            "align_self": null,
            "border": null,
            "bottom": null,
            "display": null,
            "flex": null,
            "flex_flow": null,
            "grid_area": null,
            "grid_auto_columns": null,
            "grid_auto_flow": null,
            "grid_auto_rows": null,
            "grid_column": null,
            "grid_gap": null,
            "grid_row": null,
            "grid_template_areas": null,
            "grid_template_columns": null,
            "grid_template_rows": null,
            "height": null,
            "justify_content": null,
            "justify_items": null,
            "left": null,
            "margin": null,
            "max_height": null,
            "max_width": null,
            "min_height": null,
            "min_width": null,
            "object_fit": null,
            "object_position": null,
            "order": null,
            "overflow": null,
            "overflow_x": null,
            "overflow_y": null,
            "padding": null,
            "right": null,
            "top": null,
            "visibility": null,
            "width": null
          }
        },
        "c1330e1aaa0743dd8dda32b9d4b2fd1b": {
          "model_module": "@jupyter-widgets/controls",
          "model_name": "DescriptionStyleModel",
          "model_module_version": "1.5.0",
          "state": {
            "_model_module": "@jupyter-widgets/controls",
            "_model_module_version": "1.5.0",
            "_model_name": "DescriptionStyleModel",
            "_view_count": null,
            "_view_module": "@jupyter-widgets/base",
            "_view_module_version": "1.2.0",
            "_view_name": "StyleView",
            "description_width": ""
          }
        },
        "ffc6fe92dc66420d8e7e5b97abe59384": {
          "model_module": "@jupyter-widgets/base",
          "model_name": "LayoutModel",
          "model_module_version": "1.2.0",
          "state": {
            "_model_module": "@jupyter-widgets/base",
            "_model_module_version": "1.2.0",
            "_model_name": "LayoutModel",
            "_view_count": null,
            "_view_module": "@jupyter-widgets/base",
            "_view_module_version": "1.2.0",
            "_view_name": "LayoutView",
            "align_content": null,
            "align_items": null,
            "align_self": null,
            "border": null,
            "bottom": null,
            "display": null,
            "flex": null,
            "flex_flow": null,
            "grid_area": null,
            "grid_auto_columns": null,
            "grid_auto_flow": null,
            "grid_auto_rows": null,
            "grid_column": null,
            "grid_gap": null,
            "grid_row": null,
            "grid_template_areas": null,
            "grid_template_columns": null,
            "grid_template_rows": null,
            "height": null,
            "justify_content": null,
            "justify_items": null,
            "left": null,
            "margin": null,
            "max_height": null,
            "max_width": null,
            "min_height": null,
            "min_width": null,
            "object_fit": null,
            "object_position": null,
            "order": null,
            "overflow": null,
            "overflow_x": null,
            "overflow_y": null,
            "padding": null,
            "right": null,
            "top": null,
            "visibility": null,
            "width": null
          }
        },
        "26a0b5d460a64d9498565328c864b2f3": {
          "model_module": "@jupyter-widgets/controls",
          "model_name": "ProgressStyleModel",
          "model_module_version": "1.5.0",
          "state": {
            "_model_module": "@jupyter-widgets/controls",
            "_model_module_version": "1.5.0",
            "_model_name": "ProgressStyleModel",
            "_view_count": null,
            "_view_module": "@jupyter-widgets/base",
            "_view_module_version": "1.2.0",
            "_view_name": "StyleView",
            "bar_color": null,
            "description_width": ""
          }
        },
        "8bdef517cc5146de955d5f512c7a3547": {
          "model_module": "@jupyter-widgets/base",
          "model_name": "LayoutModel",
          "model_module_version": "1.2.0",
          "state": {
            "_model_module": "@jupyter-widgets/base",
            "_model_module_version": "1.2.0",
            "_model_name": "LayoutModel",
            "_view_count": null,
            "_view_module": "@jupyter-widgets/base",
            "_view_module_version": "1.2.0",
            "_view_name": "LayoutView",
            "align_content": null,
            "align_items": null,
            "align_self": null,
            "border": null,
            "bottom": null,
            "display": null,
            "flex": null,
            "flex_flow": null,
            "grid_area": null,
            "grid_auto_columns": null,
            "grid_auto_flow": null,
            "grid_auto_rows": null,
            "grid_column": null,
            "grid_gap": null,
            "grid_row": null,
            "grid_template_areas": null,
            "grid_template_columns": null,
            "grid_template_rows": null,
            "height": null,
            "justify_content": null,
            "justify_items": null,
            "left": null,
            "margin": null,
            "max_height": null,
            "max_width": null,
            "min_height": null,
            "min_width": null,
            "object_fit": null,
            "object_position": null,
            "order": null,
            "overflow": null,
            "overflow_x": null,
            "overflow_y": null,
            "padding": null,
            "right": null,
            "top": null,
            "visibility": null,
            "width": null
          }
        },
        "cc5a07c1618f419a9a19bc1fb46a9ab8": {
          "model_module": "@jupyter-widgets/controls",
          "model_name": "DescriptionStyleModel",
          "model_module_version": "1.5.0",
          "state": {
            "_model_module": "@jupyter-widgets/controls",
            "_model_module_version": "1.5.0",
            "_model_name": "DescriptionStyleModel",
            "_view_count": null,
            "_view_module": "@jupyter-widgets/base",
            "_view_module_version": "1.2.0",
            "_view_name": "StyleView",
            "description_width": ""
          }
        },
        "54dffb9da20c4762a880186b2327bfca": {
          "model_module": "@jupyter-widgets/controls",
          "model_name": "HBoxModel",
          "model_module_version": "1.5.0",
          "state": {
            "_dom_classes": [],
            "_model_module": "@jupyter-widgets/controls",
            "_model_module_version": "1.5.0",
            "_model_name": "HBoxModel",
            "_view_count": null,
            "_view_module": "@jupyter-widgets/controls",
            "_view_module_version": "1.5.0",
            "_view_name": "HBoxView",
            "box_style": "",
            "children": [
              "IPY_MODEL_21b7e37252314d9387a7008c9d1a255a",
              "IPY_MODEL_ed089a695e204e83b0a4927a8f2fa39f",
              "IPY_MODEL_ac4e757908e44bafb8ee6482ddb443d9"
            ],
            "layout": "IPY_MODEL_890f61c9c39c4858ac2bad99aeedb970"
          }
        },
        "21b7e37252314d9387a7008c9d1a255a": {
          "model_module": "@jupyter-widgets/controls",
          "model_name": "HTMLModel",
          "model_module_version": "1.5.0",
          "state": {
            "_dom_classes": [],
            "_model_module": "@jupyter-widgets/controls",
            "_model_module_version": "1.5.0",
            "_model_name": "HTMLModel",
            "_view_count": null,
            "_view_module": "@jupyter-widgets/controls",
            "_view_module_version": "1.5.0",
            "_view_name": "HTMLView",
            "description": "",
            "description_tooltip": null,
            "layout": "IPY_MODEL_4ce1cd7625e7489ca06483089d74e3eb",
            "placeholder": "​",
            "style": "IPY_MODEL_369883990b124261a34b603655444ea6",
            "value": "100%"
          }
        },
        "ed089a695e204e83b0a4927a8f2fa39f": {
          "model_module": "@jupyter-widgets/controls",
          "model_name": "FloatProgressModel",
          "model_module_version": "1.5.0",
          "state": {
            "_dom_classes": [],
            "_model_module": "@jupyter-widgets/controls",
            "_model_module_version": "1.5.0",
            "_model_name": "FloatProgressModel",
            "_view_count": null,
            "_view_module": "@jupyter-widgets/controls",
            "_view_module_version": "1.5.0",
            "_view_name": "ProgressView",
            "bar_style": "success",
            "description": "",
            "description_tooltip": null,
            "layout": "IPY_MODEL_17b30ce7155a43abb6bc43718faa287b",
            "max": 10,
            "min": 0,
            "orientation": "horizontal",
            "style": "IPY_MODEL_b3d71524aec449acbbb05b31490e458c",
            "value": 10
          }
        },
        "ac4e757908e44bafb8ee6482ddb443d9": {
          "model_module": "@jupyter-widgets/controls",
          "model_name": "HTMLModel",
          "model_module_version": "1.5.0",
          "state": {
            "_dom_classes": [],
            "_model_module": "@jupyter-widgets/controls",
            "_model_module_version": "1.5.0",
            "_model_name": "HTMLModel",
            "_view_count": null,
            "_view_module": "@jupyter-widgets/controls",
            "_view_module_version": "1.5.0",
            "_view_name": "HTMLView",
            "description": "",
            "description_tooltip": null,
            "layout": "IPY_MODEL_7f8d40103c984cc693d16e53b37d8474",
            "placeholder": "​",
            "style": "IPY_MODEL_5000e6da2a5c445d8698a64a6ec98952",
            "value": " 10/10 [06:08&lt;00:00, 37.13s/it]"
          }
        },
        "890f61c9c39c4858ac2bad99aeedb970": {
          "model_module": "@jupyter-widgets/base",
          "model_name": "LayoutModel",
          "model_module_version": "1.2.0",
          "state": {
            "_model_module": "@jupyter-widgets/base",
            "_model_module_version": "1.2.0",
            "_model_name": "LayoutModel",
            "_view_count": null,
            "_view_module": "@jupyter-widgets/base",
            "_view_module_version": "1.2.0",
            "_view_name": "LayoutView",
            "align_content": null,
            "align_items": null,
            "align_self": null,
            "border": null,
            "bottom": null,
            "display": null,
            "flex": null,
            "flex_flow": null,
            "grid_area": null,
            "grid_auto_columns": null,
            "grid_auto_flow": null,
            "grid_auto_rows": null,
            "grid_column": null,
            "grid_gap": null,
            "grid_row": null,
            "grid_template_areas": null,
            "grid_template_columns": null,
            "grid_template_rows": null,
            "height": null,
            "justify_content": null,
            "justify_items": null,
            "left": null,
            "margin": null,
            "max_height": null,
            "max_width": null,
            "min_height": null,
            "min_width": null,
            "object_fit": null,
            "object_position": null,
            "order": null,
            "overflow": null,
            "overflow_x": null,
            "overflow_y": null,
            "padding": null,
            "right": null,
            "top": null,
            "visibility": null,
            "width": null
          }
        },
        "4ce1cd7625e7489ca06483089d74e3eb": {
          "model_module": "@jupyter-widgets/base",
          "model_name": "LayoutModel",
          "model_module_version": "1.2.0",
          "state": {
            "_model_module": "@jupyter-widgets/base",
            "_model_module_version": "1.2.0",
            "_model_name": "LayoutModel",
            "_view_count": null,
            "_view_module": "@jupyter-widgets/base",
            "_view_module_version": "1.2.0",
            "_view_name": "LayoutView",
            "align_content": null,
            "align_items": null,
            "align_self": null,
            "border": null,
            "bottom": null,
            "display": null,
            "flex": null,
            "flex_flow": null,
            "grid_area": null,
            "grid_auto_columns": null,
            "grid_auto_flow": null,
            "grid_auto_rows": null,
            "grid_column": null,
            "grid_gap": null,
            "grid_row": null,
            "grid_template_areas": null,
            "grid_template_columns": null,
            "grid_template_rows": null,
            "height": null,
            "justify_content": null,
            "justify_items": null,
            "left": null,
            "margin": null,
            "max_height": null,
            "max_width": null,
            "min_height": null,
            "min_width": null,
            "object_fit": null,
            "object_position": null,
            "order": null,
            "overflow": null,
            "overflow_x": null,
            "overflow_y": null,
            "padding": null,
            "right": null,
            "top": null,
            "visibility": null,
            "width": null
          }
        },
        "369883990b124261a34b603655444ea6": {
          "model_module": "@jupyter-widgets/controls",
          "model_name": "DescriptionStyleModel",
          "model_module_version": "1.5.0",
          "state": {
            "_model_module": "@jupyter-widgets/controls",
            "_model_module_version": "1.5.0",
            "_model_name": "DescriptionStyleModel",
            "_view_count": null,
            "_view_module": "@jupyter-widgets/base",
            "_view_module_version": "1.2.0",
            "_view_name": "StyleView",
            "description_width": ""
          }
        },
        "17b30ce7155a43abb6bc43718faa287b": {
          "model_module": "@jupyter-widgets/base",
          "model_name": "LayoutModel",
          "model_module_version": "1.2.0",
          "state": {
            "_model_module": "@jupyter-widgets/base",
            "_model_module_version": "1.2.0",
            "_model_name": "LayoutModel",
            "_view_count": null,
            "_view_module": "@jupyter-widgets/base",
            "_view_module_version": "1.2.0",
            "_view_name": "LayoutView",
            "align_content": null,
            "align_items": null,
            "align_self": null,
            "border": null,
            "bottom": null,
            "display": null,
            "flex": null,
            "flex_flow": null,
            "grid_area": null,
            "grid_auto_columns": null,
            "grid_auto_flow": null,
            "grid_auto_rows": null,
            "grid_column": null,
            "grid_gap": null,
            "grid_row": null,
            "grid_template_areas": null,
            "grid_template_columns": null,
            "grid_template_rows": null,
            "height": null,
            "justify_content": null,
            "justify_items": null,
            "left": null,
            "margin": null,
            "max_height": null,
            "max_width": null,
            "min_height": null,
            "min_width": null,
            "object_fit": null,
            "object_position": null,
            "order": null,
            "overflow": null,
            "overflow_x": null,
            "overflow_y": null,
            "padding": null,
            "right": null,
            "top": null,
            "visibility": null,
            "width": null
          }
        },
        "b3d71524aec449acbbb05b31490e458c": {
          "model_module": "@jupyter-widgets/controls",
          "model_name": "ProgressStyleModel",
          "model_module_version": "1.5.0",
          "state": {
            "_model_module": "@jupyter-widgets/controls",
            "_model_module_version": "1.5.0",
            "_model_name": "ProgressStyleModel",
            "_view_count": null,
            "_view_module": "@jupyter-widgets/base",
            "_view_module_version": "1.2.0",
            "_view_name": "StyleView",
            "bar_color": null,
            "description_width": ""
          }
        },
        "7f8d40103c984cc693d16e53b37d8474": {
          "model_module": "@jupyter-widgets/base",
          "model_name": "LayoutModel",
          "model_module_version": "1.2.0",
          "state": {
            "_model_module": "@jupyter-widgets/base",
            "_model_module_version": "1.2.0",
            "_model_name": "LayoutModel",
            "_view_count": null,
            "_view_module": "@jupyter-widgets/base",
            "_view_module_version": "1.2.0",
            "_view_name": "LayoutView",
            "align_content": null,
            "align_items": null,
            "align_self": null,
            "border": null,
            "bottom": null,
            "display": null,
            "flex": null,
            "flex_flow": null,
            "grid_area": null,
            "grid_auto_columns": null,
            "grid_auto_flow": null,
            "grid_auto_rows": null,
            "grid_column": null,
            "grid_gap": null,
            "grid_row": null,
            "grid_template_areas": null,
            "grid_template_columns": null,
            "grid_template_rows": null,
            "height": null,
            "justify_content": null,
            "justify_items": null,
            "left": null,
            "margin": null,
            "max_height": null,
            "max_width": null,
            "min_height": null,
            "min_width": null,
            "object_fit": null,
            "object_position": null,
            "order": null,
            "overflow": null,
            "overflow_x": null,
            "overflow_y": null,
            "padding": null,
            "right": null,
            "top": null,
            "visibility": null,
            "width": null
          }
        },
        "5000e6da2a5c445d8698a64a6ec98952": {
          "model_module": "@jupyter-widgets/controls",
          "model_name": "DescriptionStyleModel",
          "model_module_version": "1.5.0",
          "state": {
            "_model_module": "@jupyter-widgets/controls",
            "_model_module_version": "1.5.0",
            "_model_name": "DescriptionStyleModel",
            "_view_count": null,
            "_view_module": "@jupyter-widgets/base",
            "_view_module_version": "1.2.0",
            "_view_name": "StyleView",
            "description_width": ""
          }
        }
      }
    }
  },
  "nbformat": 4,
  "nbformat_minor": 0
}