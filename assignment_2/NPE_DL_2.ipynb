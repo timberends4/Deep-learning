{
  "cells": [
    {
      "attachments": {},
      "cell_type": "markdown",
      "metadata": {
        "id": "d32f8d18"
      },
      "source": [
        "# Group Details\n",
        "\n",
        "## Group Name:\n",
        "\n",
        "### Student 1:\n",
        "\n",
        "### Student 2:\n",
        "\n",
        "### Student 3:"
      ]
    },
    {
      "attachments": {},
      "cell_type": "markdown",
      "metadata": {
        "id": "faec2056"
      },
      "source": [
        "# Loading Data and Preliminaries"
      ]
    },
    {
      "cell_type": "code",
      "execution_count": 1,
      "metadata": {
        "colab": {
          "base_uri": "https://localhost:8080/"
        },
        "id": "qBIurCVzjuvR",
        "outputId": "189f3a55-64d5-4395-e729-95e30fc0360b"
      },
      "outputs": [
        {
          "name": "stdout",
          "output_type": "stream",
          "text": [
            "[WinError 3] The system cannot find the path specified: '/content/drive/MyDrive/TUe/DeepLearning/Assignment2'\n",
            "d:\\Master\\Y1\\Deep learning\\Deep-learning\\assignment_2\n"
          ]
        }
      ],
      "source": [
        "%cd /content/drive/MyDrive/TUe/DeepLearning/Assignment2"
      ]
    },
    {
      "cell_type": "code",
      "execution_count": 2,
      "metadata": {
        "id": "7d0580a5"
      },
      "outputs": [],
      "source": [
        "import os\n",
        "\n",
        "import matplotlib\n",
        "import matplotlib.pyplot as plt\n",
        "\n",
        "import numpy as np\n",
        "\n",
        "import torch\n",
        "import torch.nn as nn\n",
        "import torch.optim as optim\n",
        "from torch.utils.data import Dataset, DataLoader\n",
        "\n",
        "from tqdm.notebook import tqdm\n",
        "from glob import glob\n",
        "from sklearn.model_selection import train_test_split"
      ]
    },
    {
      "cell_type": "code",
      "execution_count": 3,
      "metadata": {
        "id": "b0756591"
      },
      "outputs": [],
      "source": [
        "def load_array(filename, task):\n",
        "    datapoint = np.load(filename)\n",
        "    if task == 'task 1':\n",
        "        initial_state = datapoint['initial_state']\n",
        "        terminal_state = datapoint['terminal_state']\n",
        "        return initial_state, terminal_state\n",
        "    elif task == 'task 2' or task == 'task 3':\n",
        "        whole_trajectory = datapoint['trajectory']\n",
        "        # change shape: (num_bodies, attributes, time) ->  num_bodies, time, attributes\n",
        "        whole_trajectory = np.swapaxes(whole_trajectory, 1, 2)\n",
        "        initial_state = whole_trajectory[:, 0]\n",
        "        target = whole_trajectory[:, 1:, 1:]  # drop the first timepoint (second dim) and mass (last dim) for the prediction task\n",
        "        return initial_state, target\n",
        "    else:\n",
        "        raise NotImplementedError(\"'task' argument should be 'task 1', 'task 2' or 'task 3'!\")\n"
      ]
    },
    {
      "attachments": {},
      "cell_type": "markdown",
      "metadata": {
        "id": "059b633c"
      },
      "source": [
        "# Data Handling and Preprocessing"
      ]
    },
    {
      "cell_type": "code",
      "execution_count": 4,
      "metadata": {
        "id": "dac58511"
      },
      "outputs": [],
      "source": [
        "def pad_array(data):\n",
        "    # Pad the array with zeros if necessary to have 9 rows\n",
        "    padded_input_data  = np.pad(data[0], ((0, 9 - data[0].shape[0]), (0, 0)), mode='constant')\n",
        "    padded_target_data = np.pad(data[1], ((0, 9 - data[1].shape[0]), (0, 0)), mode='constant')\n",
        "    return torch.tensor(padded_input_data, dtype=torch.float32), torch.tensor(padded_target_data, dtype=torch.float32)\n",
        "\n",
        "def create_mask(data,padded_input_data):\n",
        "    # Create a boolean mask array indicating the padded rows\n",
        "    mask = np.ones_like(padded_input_data, dtype=bool)\n",
        "    mask[data[0].shape[0]:] = False\n",
        "    return torch.tensor(mask, dtype=torch.bool)\n",
        "\n",
        "def pair_values(data):\n",
        "    # Pair up the values of the same columns from every row with every other row\n",
        "    num_rows, num_cols = data.shape\n",
        "    padded_input_data = torch.zeros((num_rows, num_rows, num_cols, 2))\n",
        "\n",
        "    for i in range(num_rows):\n",
        "        pair_idx = 0\n",
        "        for j in range(num_rows):\n",
        "\n",
        "            padded_input_data[i, pair_idx, :, 0] = data[i]\n",
        "            padded_input_data[i, pair_idx, :, 1] = data[j]\n",
        "            pair_idx += 1\n",
        "\n",
        "    return padded_input_data\n",
        "\n",
        "def get_euclidean_distance(x):\n",
        "    euclidean_distances = torch.zeros((len(x), len(x)))\n",
        "    for i in range(len(x)):\n",
        "        source_x, source_y= x[i][1], x[i][2]\n",
        "        #euclidean_distance=[]\n",
        "        for j in range(len(x)):\n",
        "            target_x, target_y= x[j][1], x[j][2]\n",
        "            euclidean_distances[i][j]=np.sqrt((source_x-target_x)**2+(source_y-target_y)**2)\n",
        "            #euclidean_distance.append(np.sqrt((source_x-target_x)**2+(source_y-target_y)**2))\n",
        "        #euclidean_distances.append(euclidean_distance)\n",
        "\n",
        "    return euclidean_distances #list of lists\n",
        "\n",
        "def target_difference(target_x, source_x):\n",
        "    # target x and source x are of shape (9, 2)\n",
        "    #Subtract the x and y coordinates of the target from the source\n",
        "    return target_x - source_x\n",
        "\n",
        "\n",
        "def process_file(file_path):\n",
        "    # Main function to process a single file\n",
        "    data = load_array(file_path, 'task 1')\n",
        "    padded_input_data, padded_target_data = pad_array(data)\n",
        "    mask = create_mask(data,padded_input_data)\n",
        "    input_data = pair_values(padded_input_data)\n",
        "    euclidean_distance = get_euclidean_distance(padded_input_data)\n",
        "    target_data= target_difference(padded_target_data, padded_input_data[:,1:3])\n",
        "\n",
        "    return input_data, target_data, padded_input_data, mask, euclidean_distance\n"
      ]
    },
    {
      "cell_type": "code",
      "execution_count": 5,
      "metadata": {
        "id": "6073689e"
      },
      "outputs": [],
      "source": [
        "class CustomDataset_2(Dataset):\n",
        "    def __init__(self, folder):\n",
        "        self.folder = folder\n",
        "        self.file_list = os.listdir(folder)\n",
        "\n",
        "    def __len__(self):\n",
        "        return len(self.file_list)\n",
        "\n",
        "    def _read_file(self, file_path):\n",
        "        input_data, target_data,data, mask, distances= process_file(file_path)\n",
        "        return input_data, target_data,data, mask, distances\n",
        "\n",
        "    def __getitem__(self, index):\n",
        "        file_path = os.path.join(self.folder, self.file_list[index])\n",
        "        # Read and preprocess the data from the file\n",
        "        input_data, target_data,data, mask, distance = self._read_file(file_path)\n",
        "        # Return the preprocessed data\n",
        "        return input_data, target_data,data, mask, distance"
      ]
    },
    {
      "attachments": {},
      "cell_type": "markdown",
      "metadata": {
        "id": "18b2874d"
      },
      "source": [
        "# Model Implementation"
      ]
    },
    {
      "attachments": {},
      "cell_type": "markdown",
      "metadata": {
        "id": "44baf9a4"
      },
      "source": [
        "## NPE implementation"
      ]
    },
    {
      "cell_type": "code",
      "execution_count": 6,
      "metadata": {
        "id": "95154df7"
      },
      "outputs": [],
      "source": [
        "class NPEEncoder(nn.Module):\n",
        "    def __init__(self, hidden_units):\n",
        "        super(NPEEncoder, self).__init__()\n",
        "        self.pairwise_layer = nn.Linear(10, hidden_units, bias=False)\n",
        "        self.feedforward = nn.Sequential(\n",
        "            nn.Linear(hidden_units, 50, bias=False),\n",
        "            nn.ReLU(),\n",
        "            nn.Linear(50, 50, bias=False),\n",
        "            nn.ReLU(),\n",
        "            nn.Linear(50, 50, bias=False),\n",
        "            nn.ReLU(),\n",
        "            nn.Linear(50, 50, bias=False),\n",
        "            nn.ReLU()\n",
        "        )\n",
        "\n",
        "    def forward(self, x):\n",
        "        x= x.to(torch.float32)\n",
        "        x = self.pairwise_layer(x)\n",
        "        x = self.feedforward(x)\n",
        "        return x\n",
        "\n",
        "class NPEDecoder(nn.Module):\n",
        "    def __init__(self):\n",
        "        super(NPEDecoder, self).__init__()\n",
        "        self.decoder = nn.Sequential(\n",
        "            nn.Linear(55, 50),\n",
        "            nn.ReLU(),\n",
        "            nn.Linear(50, 50),\n",
        "            nn.ReLU(),\n",
        "            nn.Linear(50, 50),\n",
        "            nn.ReLU(),\n",
        "            nn.Linear(50, 50),\n",
        "            nn.ReLU(),\n",
        "            nn.Linear(50, 2)\n",
        "        )\n",
        "\n",
        "    def forward(self, x):\n",
        "        x = self.decoder(x)\n",
        "        return x"
      ]
    },
    {
      "cell_type": "code",
      "execution_count": 7,
      "metadata": {
        "id": "ebe6c765"
      },
      "outputs": [],
      "source": [
        "class NPEModel(nn.Module):\n",
        "    def __init__(self, hidden_units, device):\n",
        "        super(NPEModel, self).__init__()\n",
        "        self.encoder = NPEEncoder(hidden_units)\n",
        "        self.decoder = NPEDecoder()\n",
        "        self.device = device\n",
        "\n",
        "    def forward(self, x,unpaired_data, mask, distance, neighborhood_threshold=5):\n",
        "        decoder_input = []\n",
        "        dist_mask = ((distance > 0) & (distance < neighborhood_threshold))\n",
        "        for batch in range(x.size(0)):\n",
        "            batch_data= x[batch]\n",
        "            for body in range(batch_data.size(0)):\n",
        "                if torch.all(mask[batch][body]==1):\n",
        "                    focus_body = unpaired_data[batch][body]\n",
        "\n",
        "                    if dist_mask[batch][body].any():\n",
        "                        chunk = torch.flatten(x[batch][body][dist_mask[batch][body]],start_dim=1)\n",
        "                        neighbor_encodings = torch.sum(self.encoder(chunk), dim=0)\n",
        "                    else:\n",
        "                        neighbor_encodings = torch.zeros(50).to(self.device)\n",
        "                    # Concatenate the focus body encoding with the focus_body\n",
        "                    decoder_input.append(torch.cat((neighbor_encodings, focus_body), dim=0))\n",
        "                else:\n",
        "                    decoder_input.append(torch.cat((torch.zeros(50, device=self.device), torch.zeros_like(unpaired_data[batch][body])), dim=0))\n",
        "\n",
        "        # Decode the concatenated vector\n",
        "        decoded = self.decoder(torch.stack(decoder_input))\n",
        "\n",
        "        out_shape = x.size()\n",
        "        decoded = decoded.view(out_shape[0], out_shape[1], -1)\n",
        "\n",
        "        return decoded"
      ]
    },
    {
      "attachments": {},
      "cell_type": "markdown",
      "metadata": {
        "id": "dea70d73"
      },
      "source": [
        "# Model Training"
      ]
    },
    {
      "attachments": {},
      "cell_type": "markdown",
      "metadata": {
        "id": "d78cead1"
      },
      "source": [
        "## NPE training"
      ]
    },
    {
      "cell_type": "code",
      "execution_count": 8,
      "metadata": {
        "id": "OkS0_ALBo9HI"
      },
      "outputs": [],
      "source": [
        "def load_data(folder):\n",
        "    file_list = os.listdir(folder)\n",
        "    output = []\n",
        "\n",
        "    for filename in file_list:\n",
        "        file_path = os.path.join(folder, filename)\n",
        "        output.append(process_file(file_path))\n",
        "\n",
        "    return output"
      ]
    },
    {
      "cell_type": "code",
      "execution_count": 9,
      "metadata": {
        "id": "3ff06815"
      },
      "outputs": [],
      "source": [
        "data_dir = 'data/task 1/train'\n",
        "# dataset = CustomDataset_2(data_dir)\n",
        "\n",
        "dataset = load_data(data_dir)\n",
        "\n",
        "\n",
        "data_loader = DataLoader(dataset, batch_size=64, shuffle=True)"
      ]
    },
    {
      "cell_type": "code",
      "execution_count": 10,
      "metadata": {
        "id": "5w0upAM-54MI"
      },
      "outputs": [],
      "source": [
        "test_data_dir = 'data/task 1/test'\n",
        "# test_dataset = CustomDataset_2(test_data_dir)\n",
        "\n",
        "test_dataset = load_data(test_data_dir)\n",
        "\n",
        "\n",
        "test_data_loader = DataLoader(test_dataset, batch_size=64, shuffle=False)"
      ]
    },
    {
      "cell_type": "code",
      "execution_count": 11,
      "metadata": {
        "colab": {
          "base_uri": "https://localhost:8080/"
        },
        "id": "7efb3949",
        "outputId": "39608b86-e5fe-4bfe-def9-7453f0a6ae5e"
      },
      "outputs": [
        {
          "data": {
            "text/plain": [
              "device(type='cpu')"
            ]
          },
          "execution_count": 11,
          "metadata": {},
          "output_type": "execute_result"
        }
      ],
      "source": [
        "device = torch.device('cuda' if torch.cuda.is_available() else 'cpu')\n",
        "# device = torch.device('cpu')\n",
        "device"
      ]
    },
    {
      "cell_type": "code",
      "execution_count": 12,
      "metadata": {
        "id": "07e03ddf"
      },
      "outputs": [],
      "source": [
        "# Hyperparameters\n",
        "hidden_units = 25\n",
        "learning_rate = 1e-3\n",
        "learning_rate_decay = 0.99\n",
        "iterations = 50\n",
        "batch_size = 100\n",
        "\n",
        "# Create the model\n",
        "model = NPEModel(hidden_units, device=device)\n",
        "model.to(device)\n",
        "criterion = nn.MSELoss(reduction='none')\n",
        "# optimizer = optim.RMSprop(model.parameters(), lr=learning_rate)\n",
        "optimizer = optim.AdamW(model.parameters(), lr=learning_rate)"
      ]
    },
    {
      "cell_type": "code",
      "execution_count": 13,
      "metadata": {
        "id": "a760bea0"
      },
      "outputs": [],
      "source": [
        "def train_sim_model(model, train_data_loader, valid_data_loader, optimizer, criterion,\n",
        "                    device=torch.device('cpu'), iterations=50, model_file='best_model.pth'):\n",
        "    best_val_loss = np.inf\n",
        "    for iteration in tqdm(range(iterations)):\n",
        "        model.train()\n",
        "        train_loss=0.0\n",
        "        for input_data, target_data,unpaired_data, mask, distance in train_data_loader:\n",
        "        # Training steps\n",
        "            input_data = input_data.to(device)\n",
        "            unpaired_data = unpaired_data.to(device)\n",
        "            mask = mask.to(device)\n",
        "            distance = distance.to(device)\n",
        "            target_data=target_data.to(device)\n",
        "\n",
        "            optimizer.zero_grad()\n",
        "            output = model(input_data, unpaired_data, mask, distance)\n",
        "\n",
        "            loss = torch.masked_select(criterion(target_data, output),\n",
        "                                       torch.stack([mask.all(dim=2), mask.all(dim=2)], dim=2)).mean()\n",
        "            train_loss += loss.item()\n",
        "            loss.backward()\n",
        "            optimizer.step()\n",
        "\n",
        "        train_loss /= len(train_data_loader)\n",
        "\n",
        "\n",
        "        model.eval()\n",
        "        test_loss=0.0\n",
        "        with torch.no_grad():\n",
        "            for input_data, target_data,unpaired_data, mask, distance in valid_data_loader:\n",
        "                input_data = input_data.to(device)\n",
        "                target_data = target_data.to(device)\n",
        "                unpaired_data = unpaired_data.to(device)\n",
        "                mask = mask.to(device)\n",
        "                distance = distance.to(device)\n",
        "\n",
        "                output = model(input_data, unpaired_data, mask, distance)\n",
        "                loss = torch.masked_select(criterion(target_data, output),\n",
        "                                       torch.stack([mask.all(dim=2), mask.all(dim=2)], dim=2)).mean()\n",
        "                test_loss += loss.item()\n",
        "        test_loss /= len(valid_data_loader)\n",
        "\n",
        "        if test_loss < best_val_loss:\n",
        "            best_val_loss = test_loss\n",
        "            torch.save({\n",
        "                'epoch': iteration+1,\n",
        "                'model_state_dict': model.state_dict(),\n",
        "                'optimizer_state_dict': optimizer.state_dict(),\n",
        "                'loss': criterion,\n",
        "                }, model_file)\n",
        "\n",
        "\n",
        "            # Print loss for monitoring\n",
        "            #if (iteration + 1) % 10000 == 0:\n",
        "        print(f\"Epoch [{iteration+1}/{iterations}], Loss: {train_loss}, \\tTest Loss: {test_loss}\")"
      ]
    },
    {
      "cell_type": "code",
      "execution_count": 14,
      "metadata": {
        "colab": {
          "base_uri": "https://localhost:8080/",
          "height": 899,
          "referenced_widgets": [
            "48297f5609324674aeed85ae1d3b62ba",
            "2215dfba08114aa594608bf7cfb96ac5",
            "fd4d4bd9a6ea44e3b7ee5f8eb65dd244",
            "fd2b815361244a809427009365cbd326",
            "11fa7d62753c41149d54ff596bfd60cc",
            "adc0716739f54557a9dd5403f1f3c559",
            "8c6e8b91901a4ea6a9c7440ad86c50bf",
            "ec78e6ce8de342f09e585099e3f867b9",
            "8db7a480794e414e9e14240711000b80",
            "4288723f8f794e498097c7a4d7e466c9",
            "45768b5ed593494cb75c39cf0b18a815"
          ]
        },
        "id": "xxpPfpa-WxcP",
        "outputId": "f7197698-4865-48fc-9970-e12ba505510f"
      },
      "outputs": [
        {
          "data": {
            "application/vnd.jupyter.widget-view+json": {
              "model_id": "5d9f5dac35e54f20b08ada351a00b73d",
              "version_major": 2,
              "version_minor": 0
            },
            "text/plain": [
              "  0%|          | 0/50 [00:00<?, ?it/s]"
            ]
          },
          "metadata": {},
          "output_type": "display_data"
        },
        {
          "name": "stdout",
          "output_type": "stream",
          "text": [
            "Epoch [1/50], Loss: 13.975900650024414, \tTest Loss: 11.085716247558594\n",
            "Epoch [2/50], Loss: 12.24067637125651, \tTest Loss: 8.26022481918335\n",
            "Epoch [3/50], Loss: 9.866868782043458, \tTest Loss: 6.843049049377441\n",
            "Epoch [4/50], Loss: 8.797270711263021, \tTest Loss: 6.272561311721802\n",
            "Epoch [5/50], Loss: 8.142369747161865, \tTest Loss: 5.850163698196411\n",
            "Epoch [6/50], Loss: 8.24245179494222, \tTest Loss: 5.630490303039551\n",
            "Epoch [7/50], Loss: 7.781321334838867, \tTest Loss: 5.539731025695801\n",
            "Epoch [8/50], Loss: 7.3664349238077795, \tTest Loss: 5.290923833847046\n",
            "Epoch [9/50], Loss: 7.361207230885824, \tTest Loss: 5.191218852996826\n",
            "Epoch [10/50], Loss: 7.09626096089681, \tTest Loss: 4.657576560974121\n",
            "Epoch [11/50], Loss: 6.620022900899252, \tTest Loss: 4.662717342376709\n",
            "Epoch [12/50], Loss: 6.3750201543172205, \tTest Loss: 4.308298110961914\n",
            "Epoch [13/50], Loss: 6.0293377558390295, \tTest Loss: 3.994609832763672\n",
            "Epoch [14/50], Loss: 5.714624452590942, \tTest Loss: 3.897097587585449\n",
            "Epoch [15/50], Loss: 5.527440325419108, \tTest Loss: 3.689171552658081\n",
            "Epoch [16/50], Loss: 5.323940467834473, \tTest Loss: 3.782514452934265\n",
            "Epoch [17/50], Loss: 5.075415627161662, \tTest Loss: 3.5024726390838623\n",
            "Epoch [18/50], Loss: 4.9797255833943685, \tTest Loss: 3.4282796382904053\n",
            "Epoch [19/50], Loss: 4.724552694956461, \tTest Loss: 3.354918956756592\n",
            "Epoch [20/50], Loss: 4.806904379526774, \tTest Loss: 3.3530800342559814\n",
            "Epoch [21/50], Loss: 4.577853139241537, \tTest Loss: 3.3435064554214478\n",
            "Epoch [22/50], Loss: 4.506691853205363, \tTest Loss: 3.2518019676208496\n",
            "Epoch [23/50], Loss: 4.4318900903066, \tTest Loss: 3.3088769912719727\n",
            "Epoch [24/50], Loss: 4.449590984980265, \tTest Loss: 3.1979693174362183\n",
            "Epoch [25/50], Loss: 4.2907391548156735, \tTest Loss: 3.2241212129592896\n",
            "Epoch [26/50], Loss: 4.301523764928182, \tTest Loss: 3.200664758682251\n",
            "Epoch [27/50], Loss: 4.263823175430298, \tTest Loss: 3.249030113220215\n",
            "Epoch [28/50], Loss: 4.198086325327555, \tTest Loss: 3.1209640502929688\n",
            "Epoch [29/50], Loss: 4.037599658966064, \tTest Loss: 3.0801737308502197\n",
            "Epoch [30/50], Loss: 3.9280256112416585, \tTest Loss: 3.4561392068862915\n",
            "Epoch [31/50], Loss: 4.220249144236247, \tTest Loss: 3.2374167442321777\n",
            "Epoch [32/50], Loss: 3.928724257151286, \tTest Loss: 3.177803158760071\n",
            "Epoch [33/50], Loss: 3.935438394546509, \tTest Loss: 3.1188042163848877\n",
            "Epoch [34/50], Loss: 3.8736669222513833, \tTest Loss: 3.1587250232696533\n",
            "Epoch [35/50], Loss: 3.958348608016968, \tTest Loss: 3.0878487825393677\n",
            "Epoch [36/50], Loss: 3.881708351771037, \tTest Loss: 3.1136224269866943\n",
            "Epoch [37/50], Loss: 3.7665467739105223, \tTest Loss: 3.098818302154541\n",
            "Epoch [38/50], Loss: 3.94063089688619, \tTest Loss: 3.2802326679229736\n",
            "Epoch [39/50], Loss: 3.7927073001861573, \tTest Loss: 3.048534631729126\n",
            "Epoch [40/50], Loss: 3.6272043228149413, \tTest Loss: 3.09003746509552\n",
            "Epoch [41/50], Loss: 3.694458754857381, \tTest Loss: 3.0108046531677246\n",
            "Epoch [42/50], Loss: 3.827105696996053, \tTest Loss: 3.178497791290283\n",
            "Epoch [43/50], Loss: 3.667676830291748, \tTest Loss: 3.1542768478393555\n",
            "Epoch [44/50], Loss: 3.6455026626586915, \tTest Loss: 3.0884604454040527\n",
            "Epoch [45/50], Loss: 3.5895089149475097, \tTest Loss: 3.1387356519699097\n",
            "Epoch [46/50], Loss: 3.7022610187530516, \tTest Loss: 3.0818068981170654\n",
            "Epoch [47/50], Loss: 3.4732539812723795, \tTest Loss: 3.003393530845642\n",
            "Epoch [48/50], Loss: 3.5596813042958577, \tTest Loss: 3.1021463871002197\n",
            "Epoch [49/50], Loss: 3.590617291132609, \tTest Loss: 3.055763840675354\n",
            "Epoch [50/50], Loss: 3.7299349784851072, \tTest Loss: 3.1557505130767822\n"
          ]
        }
      ],
      "source": [
        "train_sim_model(model, data_loader, test_data_loader, optimizer, criterion, device=device, iterations=iterations)"
      ]
    },
    {
      "attachments": {},
      "cell_type": "markdown",
      "metadata": {
        "id": "ABEFBFEzs2jd"
      },
      "source": [
        "# Task 2"
      ]
    },
    {
      "cell_type": "code",
      "execution_count": 15,
      "metadata": {
        "id": "GZ60Vp-pQXfl"
      },
      "outputs": [],
      "source": [
        "def files_2_data(files):\n",
        "    output = []\n",
        "    for file_path in tqdm(files):\n",
        "        datapoint = np.load(file_path)\n",
        "        whole_trajectory = datapoint['trajectory']\n",
        "        # change shape: (num_bodies, attributes, time) ->  num_bodies, time, attributes\n",
        "        whole_trajectory = np.swapaxes(whole_trajectory, 1, 2)\n",
        "        for i in range(whole_trajectory.shape[1] - 1):\n",
        "            data = whole_trajectory[:, i], whole_trajectory[:, i + 1, 1:3]\n",
        "            padded_input_data, padded_target_data = pad_array(data)\n",
        "            mask = create_mask(data,padded_input_data)\n",
        "            input_data = pair_values(padded_input_data)\n",
        "            euclidean_distance = get_euclidean_distance(padded_input_data)\n",
        "            target_data= target_difference(padded_target_data, padded_input_data[:,1:3])\n",
        "\n",
        "            output.append((input_data, target_data, padded_input_data, mask, euclidean_distance))\n",
        "    return output"
      ]
    },
    {
      "cell_type": "code",
      "execution_count": 16,
      "metadata": {
        "id": "2ejokMDu0aTn"
      },
      "outputs": [],
      "source": [
        "files_rate = 1.0\n",
        "\n",
        "train_files = glob('data/task 2_3/train/*')\n",
        "train_files = train_files[:int(len(train_files) * files_rate)]\n",
        "\n",
        "train_files, valid_files = train_test_split(train_files, train_size=0.7)"
      ]
    },
    {
      "cell_type": "code",
      "execution_count": 17,
      "metadata": {
        "colab": {
          "base_uri": "https://localhost:8080/",
          "height": 81,
          "referenced_widgets": [
            "d9d29c6e23a14d4bb23396c05dfffb6d",
            "7712b5e9dc5f4e90b0af38dd4920732f",
            "297d13bb2c40484b8422da20b890512d",
            "6a07040175b74373afb263a83f877b4c",
            "084e6574ef714bd6b1f1ed4da0ca6d52",
            "f71091bf646c4a1da015da688fbe3500",
            "298a26ab61294990a87195269cc60de0",
            "3e51044e6a1d46d1a08d61e5bf44011c",
            "526b76939e274db99e9a5fc020e5008c",
            "c83a8126b22c41158854db999d097994",
            "edf54510c4374c4ba049dbcae67a4712",
            "02629b8e02b34dcb898087ee4c38a50c",
            "7cdd742b1b9b411aa60cba52e79ed1fe",
            "f87df60b25d646329064d2f4d5d56804",
            "195e24778c9749bdb71de5cc70ad5065",
            "382bd0183fd64130aef2b8a49d731395",
            "15d837cdb5284b9a8d1d53e2e85da302",
            "b2bd5cb0b4164adf9d760baddea3a416",
            "f2b5ef6982484d2c8034772e688db3e0",
            "fb79a9d9ebe942279e4d607da41594d1",
            "2f40f73847bc446d916b12fb1a6f149e",
            "7255aaa7f3da458082f985a95ec042ef"
          ]
        },
        "id": "U5EKuoBvR-Hc",
        "outputId": "b8e20858-9d91-41b8-f543-8bdaefeec350"
      },
      "outputs": [
        {
          "data": {
            "application/vnd.jupyter.widget-view+json": {
              "model_id": "1c2f4704fc2e4b0c9a9c216c8a76a444",
              "version_major": 2,
              "version_minor": 0
            },
            "text/plain": [
              "  0%|          | 0/630 [00:00<?, ?it/s]"
            ]
          },
          "metadata": {},
          "output_type": "display_data"
        },
        {
          "data": {
            "application/vnd.jupyter.widget-view+json": {
              "model_id": "dfbf8cb595574a3e97156b5d7247af35",
              "version_major": 2,
              "version_minor": 0
            },
            "text/plain": [
              "  0%|          | 0/270 [00:00<?, ?it/s]"
            ]
          },
          "metadata": {},
          "output_type": "display_data"
        }
      ],
      "source": [
        "train_data = files_2_data(train_files)\n",
        "\n",
        "valid_data = files_2_data(valid_files)"
      ]
    },
    {
      "cell_type": "code",
      "execution_count": 18,
      "metadata": {
        "id": "t20UMcE35YNX"
      },
      "outputs": [],
      "source": [
        "BATCH_SIZE = 256\n",
        "\n",
        "train_data_loader = DataLoader(train_data, batch_size=BATCH_SIZE, shuffle=True)\n",
        "valid_data_loader = DataLoader(valid_data, batch_size=BATCH_SIZE, shuffle=False)"
      ]
    },
    {
      "cell_type": "code",
      "execution_count": 19,
      "metadata": {
        "colab": {
          "base_uri": "https://localhost:8080/"
        },
        "id": "GM83dBy0XGdT",
        "outputId": "6a87e3e4-ac87-4e1b-aefa-5ecb4d63b7c6"
      },
      "outputs": [
        {
          "data": {
            "text/plain": [
              "device(type='cpu')"
            ]
          },
          "execution_count": 19,
          "metadata": {},
          "output_type": "execute_result"
        }
      ],
      "source": [
        "device = torch.device('cuda' if torch.cuda.is_available() else 'cpu')\n",
        "device"
      ]
    },
    {
      "cell_type": "code",
      "execution_count": 20,
      "metadata": {
        "id": "ewmxqXngXGdV"
      },
      "outputs": [],
      "source": [
        "# Hyperparameters\n",
        "hidden_units = 25\n",
        "LR = 1e-3\n",
        "EPOCHS = 20\n",
        "\n",
        "# Create the model\n",
        "model = NPEModel(hidden_units, device=device).to(device)\n",
        "\n",
        "criterion = nn.MSELoss(reduction='none')\n",
        "optimizer = optim.AdamW(model.parameters(), lr=LR)"
      ]
    },
    {
      "cell_type": "code",
      "execution_count": 21,
      "metadata": {
        "colab": {
          "base_uri": "https://localhost:8080/",
          "height": 389,
          "referenced_widgets": [
            "983a1905713c41989e2b3aeaf1f23d9b",
            "4c9a9d3c9d754941aa84890b724ea3bd",
            "8d07b9f34c9543c992ab6dcfd38df0f7",
            "405c564da4ef4647bba9e3909efaa222",
            "aa5a6600f392446b8fb50e2c8619b764",
            "a7c59d78ebe64e4ead5a02107ca7e26a",
            "49c4b1166247413cb50a71ec1867a761",
            "8ef0a7eeeaf142149bfe9a1bc7b7e1ec",
            "57fe44fad9a8442b97491cdb1dae70cd",
            "03d24b1edb8f45fcb0e260dabad56e5a",
            "6121f588a3484931be34c57a9e3c87b4"
          ]
        },
        "id": "e9cEYSC8W5tH",
        "outputId": "74ecc6fa-287f-437b-b482-9d62141636a1"
      },
      "outputs": [
        {
          "data": {
            "application/vnd.jupyter.widget-view+json": {
              "model_id": "d5188a525ce04698a5adc4e83e76a014",
              "version_major": 2,
              "version_minor": 0
            },
            "text/plain": [
              "  0%|          | 0/1 [00:00<?, ?it/s]"
            ]
          },
          "metadata": {},
          "output_type": "display_data"
        },
        {
          "name": "stdout",
          "output_type": "stream",
          "text": [
            "Epoch [1/1], Loss: 0.003911160049990804, \tTest Loss: 0.0018548479890271735\n"
          ]
        }
      ],
      "source": [
        "train_sim_model(model, train_data_loader, valid_data_loader, optimizer, criterion, device, iterations=1, model_file='best_task2_model.pth')"
      ]
    },
    {
      "cell_type": "code",
      "execution_count": 22,
      "metadata": {
        "id": "jJ2l0Xn35t5p"
      },
      "outputs": [],
      "source": [
        "def recalc_data(padded_input_data):\n",
        "    input_data = []\n",
        "    euclidean_distance = []\n",
        "    for elem in padded_input_data:\n",
        "        input_data.append(pair_values(elem))\n",
        "        euclidean_distance.append(get_euclidean_distance(elem))\n",
        "\n",
        "    return torch.stack(input_data), padded_input_data, torch.stack(euclidean_distance)"
      ]
    },
    {
      "cell_type": "code",
      "execution_count": 96,
      "metadata": {
        "id": "rN_SOPIm6fDP"
      },
      "outputs": [],
      "source": [
        "def simulate(init_data, times=5):\n",
        "    input_data, unpaired_data, mask, distance = init_data\n",
        "\n",
        "    input_data = input_data.to(device)\n",
        "    unpaired_data = unpaired_data.to(device)\n",
        "    mask = mask.to(device)\n",
        "    distance = distance.to(device)\n",
        "\n",
        "    locations = []\n",
        "    # locations = locations.to(device)\n",
        "    model.eval()\n",
        "    with torch.no_grad():\n",
        "        for time in range(times):\n",
        "            \n",
        "            output = model(input_data, unpaired_data, mask, distance)\n",
        "        \n",
        "            unpaired_data[:,:,3:5] = output\n",
        "            unpaired_data[:,:,1:3] += unpaired_data[:,:,3:5]\n",
        "            locations.append(unpaired_data[:,:,1:3][0].clone())\n",
        "            \n",
        "           \n",
        "            input_data, unpaired_data, distance = recalc_data(unpaired_data)\n",
        "\n",
        "    return locations"
      ]
    },
    {
      "attachments": {},
      "cell_type": "markdown",
      "metadata": {
        "id": "d5fb3b29"
      },
      "source": [
        "# Evaluation"
      ]
    },
    {
      "cell_type": "code",
      "execution_count": 107,
      "metadata": {},
      "outputs": [],
      "source": [
        "def files_2_data_test(files):\n",
        "    output = []\n",
        "    for file_path in tqdm(files):\n",
        "        _, target = load_array(file_path, 'task 2')\n",
        "        output.append((np.transpose(target[:,:5,:2], axes=(1, 0, 2)).reshape(target[:,:5,:2].shape[1],-1, target[:,:5,:2].shape[2])))\n",
        "    return output"
      ]
    },
    {
      "cell_type": "code",
      "execution_count": null,
      "metadata": {},
      "outputs": [
        {
          "data": {
            "application/vnd.jupyter.widget-view+json": {
              "model_id": "fbe6ce3ad91e462f9376cc171b1ea497",
              "version_major": 2,
              "version_minor": 0
            },
            "text/plain": [
              "  0%|          | 0/100 [00:00<?, ?it/s]"
            ]
          },
          "metadata": {},
          "output_type": "display_data"
        }
      ],
      "source": [
        "test_files = glob('data/task 2_3/test/*')\n",
        "test_data = files_2_data(test_files)"
      ]
    },
    {
      "cell_type": "code",
      "execution_count": 205,
      "metadata": {},
      "outputs": [],
      "source": [
        "BATCH_SIZE = 1\n",
        "\n",
        "test_data_loader = DataLoader(test_data, batch_size=BATCH_SIZE, shuffle=False)\n",
        "train_data_loader = DataLoader(train_data, batch_size=BATCH_SIZE, shuffle=True)\n",
        "valid_data_loader = DataLoader(valid_data, batch_size=BATCH_SIZE, shuffle=False)"
      ]
    },
    {
      "cell_type": "code",
      "execution_count": 210,
      "metadata": {
        "id": "2280031f"
      },
      "outputs": [],
      "source": [
        "def eval_model_2(data_loader, targets):\n",
        "    model.eval()\n",
        "    test_loss=0.0\n",
        "    count = 0\n",
        "    outputs = []\n",
        "\n",
        "    with torch.no_grad():\n",
        "        for input_data, target_data, unpaired_data, mask, euclidean_distance in data_loader:\n",
        "            \n",
        "            if count % 49 == 0:\n",
        "                unpaired_data[torch.isnan(unpaired_data)] = 0\n",
        "\n",
        "                input_data[torch.isnan(input_data)] = 0\n",
        "                \n",
        "                system = input_data, unpaired_data, mask, euclidean_distance\n",
        "        \n",
        "                output = simulate(system)\n",
        "                outputs.append(output)\n",
        "                target_data = targets[int(count/49)]\n",
        "\n",
        "\n",
        "                output = torch.stack(output)\n",
        "                target_data = [torch.from_numpy(val) for val in target_data]\n",
        "    \n",
        "                target_data = torch.stack(target_data)\n",
        "                target_padded = torch.tensor([np.pad(tensor, ((0, 9 - tensor.shape[0]), (0, 0)), mode='constant') for tensor in target_data])\n",
        "\n",
        "                print(target_padded)\n",
        "                print(output)\n",
        "                break\n",
        "                loss = torch.masked_select(criterion(target_padded, output),\n",
        "                                    torch.stack([mask.all(dim=2), mask.all(dim=2)], dim=2)).mean()\n",
        "            \n",
        "                test_loss += loss.item()\n",
        "\n",
        "\n",
        "            count += 1\n",
        "    test_loss /= int(len(data_loader)/49)\n",
        "\n",
        "    return test_loss"
      ]
    },
    {
      "cell_type": "code",
      "execution_count": 211,
      "metadata": {},
      "outputs": [
        {
          "data": {
            "application/vnd.jupyter.widget-view+json": {
              "model_id": "6e3e0c2e2c8848fc8e1d4f05cabb7913",
              "version_major": 2,
              "version_minor": 0
            },
            "text/plain": [
              "  0%|          | 0/100 [00:00<?, ?it/s]"
            ]
          },
          "metadata": {},
          "output_type": "display_data"
        },
        {
          "name": "stdout",
          "output_type": "stream",
          "text": [
            "tensor([[[-2.6894, -0.0828],\n",
            "         [-4.2424,  7.2504],\n",
            "         [ 2.5693, -4.9245],\n",
            "         [-2.7368,  0.1516],\n",
            "         [-4.2096, -6.0082],\n",
            "         [ 2.6533, -4.6996],\n",
            "         [-3.3348,  2.2385],\n",
            "         [ 4.8935, -8.4710],\n",
            "         [ 0.0000,  0.0000]],\n",
            "\n",
            "        [[-2.7741,  0.2847],\n",
            "         [-4.1090,  7.2313],\n",
            "         [ 2.7098, -4.6662],\n",
            "         [-2.7578,  0.0601],\n",
            "         [-4.2326, -5.9787],\n",
            "         [ 2.5107, -5.0261],\n",
            "         [-3.1910,  2.2147],\n",
            "         [ 4.8268, -8.5243],\n",
            "         [ 0.0000,  0.0000]],\n",
            "\n",
            "        [[-2.8234,  0.2399],\n",
            "         [-3.9748,  7.2087],\n",
            "         [ 2.8266, -4.6453],\n",
            "         [-2.8173,  0.4017],\n",
            "         [-4.2535, -5.9465],\n",
            "         [ 2.3772, -5.2491],\n",
            "         [-3.0436,  2.1741],\n",
            "         [ 4.7576, -8.5743],\n",
            "         [ 0.0000,  0.0000]],\n",
            "\n",
            "        [[-2.8782,  0.4877],\n",
            "         [-3.8399,  7.1825],\n",
            "         [ 2.9020, -4.6812],\n",
            "         [-2.8727,  0.4671],\n",
            "         [-4.2723, -5.9118],\n",
            "         [ 2.2606, -5.4481],\n",
            "         [-2.8935,  2.1121],\n",
            "         [ 4.6857, -8.6210],\n",
            "         [ 0.0000,  0.0000]],\n",
            "\n",
            "        [[-2.9051,  0.7146],\n",
            "         [-3.7043,  7.1527],\n",
            "         [ 2.9525, -4.7465],\n",
            "         [-2.9558,  0.5812],\n",
            "         [-4.2890, -5.8746],\n",
            "         [ 2.1539, -5.6353],\n",
            "         [-2.7432,  2.0218],\n",
            "         [ 4.6111, -8.6642],\n",
            "         [ 0.0000,  0.0000]]], dtype=torch.float64)\n",
            "tensor([[[-2.6873e+00, -5.0422e-03],\n",
            "         [-4.3902e+00,  7.2603e+00],\n",
            "         [ 2.6235e+00, -5.0711e+00],\n",
            "         [-2.6202e+00, -2.0364e-01],\n",
            "         [-4.1813e+00, -6.0253e+00],\n",
            "         [ 2.6924e+00, -4.4313e+00],\n",
            "         [-3.4742e+00,  2.2411e+00],\n",
            "         [ 4.9524e+00, -8.4183e+00],\n",
            "         [ 1.4483e-02,  3.6332e-02]],\n",
            "\n",
            "        [[-2.6796e+00, -8.5732e-03],\n",
            "         [-4.4067e+00,  7.2538e+00],\n",
            "         [ 2.6087e+00, -5.0741e+00],\n",
            "         [-2.6117e+00, -2.0787e-01],\n",
            "         [-4.1777e+00, -6.0147e+00],\n",
            "         [ 2.6812e+00, -4.4388e+00],\n",
            "         [-3.4738e+00,  2.2327e+00],\n",
            "         [ 4.9466e+00, -8.4224e+00],\n",
            "         [ 2.8967e-02,  7.2663e-02]],\n",
            "\n",
            "        [[-2.6718e+00, -1.2167e-02],\n",
            "         [-4.4237e+00,  7.2473e+00],\n",
            "         [ 2.5939e+00, -5.0772e+00],\n",
            "         [-2.6030e+00, -2.1218e-01],\n",
            "         [-4.1741e+00, -6.0039e+00],\n",
            "         [ 2.6700e+00, -4.4463e+00],\n",
            "         [-3.4733e+00,  2.2244e+00],\n",
            "         [ 4.9407e+00, -8.4266e+00],\n",
            "         [ 4.3450e-02,  1.0900e-01]],\n",
            "\n",
            "        [[-2.6639e+00, -1.5808e-02],\n",
            "         [-4.4409e+00,  7.2409e+00],\n",
            "         [ 2.5791e+00, -5.0803e+00],\n",
            "         [-2.5943e+00, -2.1655e-01],\n",
            "         [-4.1705e+00, -5.9932e+00],\n",
            "         [ 2.6587e+00, -4.4537e+00],\n",
            "         [-3.4728e+00,  2.2161e+00],\n",
            "         [ 4.9348e+00, -8.4308e+00],\n",
            "         [ 5.7934e-02,  1.4533e-01]],\n",
            "\n",
            "        [[-2.6561e+00, -1.9493e-02],\n",
            "         [-4.4584e+00,  7.2346e+00],\n",
            "         [ 2.5643e+00, -5.0834e+00],\n",
            "         [-2.5856e+00, -2.2097e-01],\n",
            "         [-4.1669e+00, -5.9826e+00],\n",
            "         [ 2.6474e+00, -4.4611e+00],\n",
            "         [-3.4723e+00,  2.2078e+00],\n",
            "         [ 4.9289e+00, -8.4350e+00],\n",
            "         [ 7.2417e-02,  1.8166e-01]]])\n"
          ]
        },
        {
          "data": {
            "text/plain": [
              "0.0"
            ]
          },
          "execution_count": 211,
          "metadata": {},
          "output_type": "execute_result"
        }
      ],
      "source": [
        "targets_test = files_2_data_test(test_files)\n",
        "eval_model_2(test_data_loader, targets_test)"
      ]
    },
    {
      "cell_type": "code",
      "execution_count": 208,
      "metadata": {},
      "outputs": [
        {
          "data": {
            "application/vnd.jupyter.widget-view+json": {
              "model_id": "be5a073d04794f88a41b8515daba8d0f",
              "version_major": 2,
              "version_minor": 0
            },
            "text/plain": [
              "  0%|          | 0/270 [00:00<?, ?it/s]"
            ]
          },
          "metadata": {},
          "output_type": "display_data"
        },
        {
          "data": {
            "text/plain": [
              "0.06151738556783848"
            ]
          },
          "execution_count": 208,
          "metadata": {},
          "output_type": "execute_result"
        }
      ],
      "source": [
        "targets_valid = files_2_data_test(valid_files)\n",
        "eval_model_2(valid_data_loader, targets_valid)"
      ]
    },
    {
      "cell_type": "code",
      "execution_count": 212,
      "metadata": {},
      "outputs": [
        {
          "data": {
            "application/vnd.jupyter.widget-view+json": {
              "model_id": "aa299b8a181a4dbaae27416b22f29eff",
              "version_major": 2,
              "version_minor": 0
            },
            "text/plain": [
              "  0%|          | 0/630 [00:00<?, ?it/s]"
            ]
          },
          "metadata": {},
          "output_type": "display_data"
        },
        {
          "name": "stdout",
          "output_type": "stream",
          "text": [
            "tensor([[[ 4.8255, -5.4938],\n",
            "         [ 4.6022, -6.3353],\n",
            "         [-1.2701,  4.7831],\n",
            "         [ 1.7126, -2.4064],\n",
            "         [ 2.4603, -3.0338],\n",
            "         [ 1.7559, -0.9022],\n",
            "         [ 6.1379,  7.5383],\n",
            "         [-4.1480, -4.0618],\n",
            "         [ 4.6823, -5.4821]],\n",
            "\n",
            "        [[ 4.8112, -5.1515],\n",
            "         [ 4.4553, -6.4663],\n",
            "         [-1.0915,  4.9335],\n",
            "         [ 1.7358, -2.5488],\n",
            "         [ 2.4363, -3.3290],\n",
            "         [ 1.7919, -0.8450],\n",
            "         [ 6.2590,  7.5434],\n",
            "         [-4.1477, -3.9055],\n",
            "         [ 4.7248, -5.5732]],\n",
            "\n",
            "        [[ 4.7464, -4.9174],\n",
            "         [ 4.3164, -6.5503],\n",
            "         [-0.9115,  5.0809],\n",
            "         [ 1.7876, -2.7062],\n",
            "         [ 2.3954, -3.6000],\n",
            "         [ 1.8302, -0.8087],\n",
            "         [ 6.3792,  7.5466],\n",
            "         [-4.1433, -3.7484],\n",
            "         [ 4.8437, -5.4771]],\n",
            "\n",
            "        [[ 4.6766, -4.7437],\n",
            "         [ 4.1830, -6.6028],\n",
            "         [-0.7302,  5.2255],\n",
            "         [ 1.8633, -2.8833],\n",
            "         [ 2.3445, -3.8473],\n",
            "         [ 1.8705, -0.7898],\n",
            "         [ 6.4984,  7.5481],\n",
            "         [-4.1345, -3.5907],\n",
            "         [ 4.9226, -5.2726]],\n",
            "\n",
            "        [[ 4.6141, -4.6202],\n",
            "         [ 4.0522, -6.6312],\n",
            "         [-0.5476,  5.3673],\n",
            "         [ 1.9593, -3.0856],\n",
            "         [ 2.2892, -4.0693],\n",
            "         [ 1.9125, -0.7861],\n",
            "         [ 6.6168,  7.5478],\n",
            "         [-4.1213, -3.4326],\n",
            "         [ 4.9296, -4.9661]]], dtype=torch.float64)\n",
            "tensor([[[-0.3236,  3.8624],\n",
            "         [-2.4188, -4.3591],\n",
            "         [-4.3672, -2.6431],\n",
            "         [ 2.4237, -7.3186],\n",
            "         [ 7.1003, -1.0044],\n",
            "         [ 3.0326, -8.2751],\n",
            "         [ 0.0145,  0.0363],\n",
            "         [ 0.0145,  0.0363],\n",
            "         [ 0.0145,  0.0363]],\n",
            "\n",
            "        [[-0.3126,  3.8522],\n",
            "         [-2.4323, -4.3527],\n",
            "         [-4.3640, -2.6460],\n",
            "         [ 2.4125, -7.3196],\n",
            "         [ 7.1202, -1.0391],\n",
            "         [ 3.0291, -8.2867],\n",
            "         [ 0.0290,  0.0727],\n",
            "         [ 0.0290,  0.0727],\n",
            "         [ 0.0290,  0.0727]],\n",
            "\n",
            "        [[-0.3090,  3.8398],\n",
            "         [-2.4387, -4.3481],\n",
            "         [-4.3681, -2.6526],\n",
            "         [ 2.4067, -7.3202],\n",
            "         [ 7.1402, -1.0706],\n",
            "         [ 3.0307, -8.2949],\n",
            "         [ 0.0435,  0.1090],\n",
            "         [ 0.0435,  0.1090],\n",
            "         [ 0.0435,  0.1090]],\n",
            "\n",
            "        [[-0.3059,  3.8275],\n",
            "         [-2.4445, -4.3436],\n",
            "         [-4.3729, -2.6595],\n",
            "         [ 2.4014, -7.3208],\n",
            "         [ 7.1603, -1.1021],\n",
            "         [ 3.0329, -8.3028],\n",
            "         [ 0.0579,  0.1453],\n",
            "         [ 0.0579,  0.1453],\n",
            "         [ 0.0579,  0.1453]],\n",
            "\n",
            "        [[-0.3028,  3.8152],\n",
            "         [-2.4502, -4.3391],\n",
            "         [-4.3778, -2.6664],\n",
            "         [ 2.3961, -7.3214],\n",
            "         [ 7.1802, -1.1339],\n",
            "         [ 3.0352, -8.3106],\n",
            "         [ 0.0724,  0.1817],\n",
            "         [ 0.0724,  0.1817],\n",
            "         [ 0.0724,  0.1817]]])\n"
          ]
        },
        {
          "data": {
            "text/plain": [
              "0.0"
            ]
          },
          "execution_count": 212,
          "metadata": {},
          "output_type": "execute_result"
        }
      ],
      "source": [
        "targets_train = files_2_data_test(train_files)\n",
        "eval_model_2(train_data_loader, targets_train)"
      ]
    },
    {
      "cell_type": "code",
      "execution_count": null,
      "metadata": {},
      "outputs": [],
      "source": []
    }
  ],
  "metadata": {
    "colab": {
      "gpuType": "T4",
      "provenance": []
    },
    "kernelspec": {
      "display_name": "Python 3",
      "name": "python3"
    },
    "language_info": {
      "codemirror_mode": {
        "name": "ipython",
        "version": 3
      },
      "file_extension": ".py",
      "mimetype": "text/x-python",
      "name": "python",
      "nbconvert_exporter": "python",
      "pygments_lexer": "ipython3",
      "version": "3.10.8"
    },
    "widgets": {
      "application/vnd.jupyter.widget-state+json": {
        "02629b8e02b34dcb898087ee4c38a50c": {
          "model_module": "@jupyter-widgets/controls",
          "model_module_version": "1.5.0",
          "model_name": "HBoxModel",
          "state": {
            "_dom_classes": [],
            "_model_module": "@jupyter-widgets/controls",
            "_model_module_version": "1.5.0",
            "_model_name": "HBoxModel",
            "_view_count": null,
            "_view_module": "@jupyter-widgets/controls",
            "_view_module_version": "1.5.0",
            "_view_name": "HBoxView",
            "box_style": "",
            "children": [
              "IPY_MODEL_7cdd742b1b9b411aa60cba52e79ed1fe",
              "IPY_MODEL_f87df60b25d646329064d2f4d5d56804",
              "IPY_MODEL_195e24778c9749bdb71de5cc70ad5065"
            ],
            "layout": "IPY_MODEL_382bd0183fd64130aef2b8a49d731395"
          }
        },
        "03d24b1edb8f45fcb0e260dabad56e5a": {
          "model_module": "@jupyter-widgets/base",
          "model_module_version": "1.2.0",
          "model_name": "LayoutModel",
          "state": {
            "_model_module": "@jupyter-widgets/base",
            "_model_module_version": "1.2.0",
            "_model_name": "LayoutModel",
            "_view_count": null,
            "_view_module": "@jupyter-widgets/base",
            "_view_module_version": "1.2.0",
            "_view_name": "LayoutView",
            "align_content": null,
            "align_items": null,
            "align_self": null,
            "border": null,
            "bottom": null,
            "display": null,
            "flex": null,
            "flex_flow": null,
            "grid_area": null,
            "grid_auto_columns": null,
            "grid_auto_flow": null,
            "grid_auto_rows": null,
            "grid_column": null,
            "grid_gap": null,
            "grid_row": null,
            "grid_template_areas": null,
            "grid_template_columns": null,
            "grid_template_rows": null,
            "height": null,
            "justify_content": null,
            "justify_items": null,
            "left": null,
            "margin": null,
            "max_height": null,
            "max_width": null,
            "min_height": null,
            "min_width": null,
            "object_fit": null,
            "object_position": null,
            "order": null,
            "overflow": null,
            "overflow_x": null,
            "overflow_y": null,
            "padding": null,
            "right": null,
            "top": null,
            "visibility": null,
            "width": null
          }
        },
        "084e6574ef714bd6b1f1ed4da0ca6d52": {
          "model_module": "@jupyter-widgets/base",
          "model_module_version": "1.2.0",
          "model_name": "LayoutModel",
          "state": {
            "_model_module": "@jupyter-widgets/base",
            "_model_module_version": "1.2.0",
            "_model_name": "LayoutModel",
            "_view_count": null,
            "_view_module": "@jupyter-widgets/base",
            "_view_module_version": "1.2.0",
            "_view_name": "LayoutView",
            "align_content": null,
            "align_items": null,
            "align_self": null,
            "border": null,
            "bottom": null,
            "display": null,
            "flex": null,
            "flex_flow": null,
            "grid_area": null,
            "grid_auto_columns": null,
            "grid_auto_flow": null,
            "grid_auto_rows": null,
            "grid_column": null,
            "grid_gap": null,
            "grid_row": null,
            "grid_template_areas": null,
            "grid_template_columns": null,
            "grid_template_rows": null,
            "height": null,
            "justify_content": null,
            "justify_items": null,
            "left": null,
            "margin": null,
            "max_height": null,
            "max_width": null,
            "min_height": null,
            "min_width": null,
            "object_fit": null,
            "object_position": null,
            "order": null,
            "overflow": null,
            "overflow_x": null,
            "overflow_y": null,
            "padding": null,
            "right": null,
            "top": null,
            "visibility": null,
            "width": null
          }
        },
        "11fa7d62753c41149d54ff596bfd60cc": {
          "model_module": "@jupyter-widgets/base",
          "model_module_version": "1.2.0",
          "model_name": "LayoutModel",
          "state": {
            "_model_module": "@jupyter-widgets/base",
            "_model_module_version": "1.2.0",
            "_model_name": "LayoutModel",
            "_view_count": null,
            "_view_module": "@jupyter-widgets/base",
            "_view_module_version": "1.2.0",
            "_view_name": "LayoutView",
            "align_content": null,
            "align_items": null,
            "align_self": null,
            "border": null,
            "bottom": null,
            "display": null,
            "flex": null,
            "flex_flow": null,
            "grid_area": null,
            "grid_auto_columns": null,
            "grid_auto_flow": null,
            "grid_auto_rows": null,
            "grid_column": null,
            "grid_gap": null,
            "grid_row": null,
            "grid_template_areas": null,
            "grid_template_columns": null,
            "grid_template_rows": null,
            "height": null,
            "justify_content": null,
            "justify_items": null,
            "left": null,
            "margin": null,
            "max_height": null,
            "max_width": null,
            "min_height": null,
            "min_width": null,
            "object_fit": null,
            "object_position": null,
            "order": null,
            "overflow": null,
            "overflow_x": null,
            "overflow_y": null,
            "padding": null,
            "right": null,
            "top": null,
            "visibility": null,
            "width": null
          }
        },
        "15d837cdb5284b9a8d1d53e2e85da302": {
          "model_module": "@jupyter-widgets/base",
          "model_module_version": "1.2.0",
          "model_name": "LayoutModel",
          "state": {
            "_model_module": "@jupyter-widgets/base",
            "_model_module_version": "1.2.0",
            "_model_name": "LayoutModel",
            "_view_count": null,
            "_view_module": "@jupyter-widgets/base",
            "_view_module_version": "1.2.0",
            "_view_name": "LayoutView",
            "align_content": null,
            "align_items": null,
            "align_self": null,
            "border": null,
            "bottom": null,
            "display": null,
            "flex": null,
            "flex_flow": null,
            "grid_area": null,
            "grid_auto_columns": null,
            "grid_auto_flow": null,
            "grid_auto_rows": null,
            "grid_column": null,
            "grid_gap": null,
            "grid_row": null,
            "grid_template_areas": null,
            "grid_template_columns": null,
            "grid_template_rows": null,
            "height": null,
            "justify_content": null,
            "justify_items": null,
            "left": null,
            "margin": null,
            "max_height": null,
            "max_width": null,
            "min_height": null,
            "min_width": null,
            "object_fit": null,
            "object_position": null,
            "order": null,
            "overflow": null,
            "overflow_x": null,
            "overflow_y": null,
            "padding": null,
            "right": null,
            "top": null,
            "visibility": null,
            "width": null
          }
        },
        "195e24778c9749bdb71de5cc70ad5065": {
          "model_module": "@jupyter-widgets/controls",
          "model_module_version": "1.5.0",
          "model_name": "HTMLModel",
          "state": {
            "_dom_classes": [],
            "_model_module": "@jupyter-widgets/controls",
            "_model_module_version": "1.5.0",
            "_model_name": "HTMLModel",
            "_view_count": null,
            "_view_module": "@jupyter-widgets/controls",
            "_view_module_version": "1.5.0",
            "_view_name": "HTMLView",
            "description": "",
            "description_tooltip": null,
            "layout": "IPY_MODEL_2f40f73847bc446d916b12fb1a6f149e",
            "placeholder": "​",
            "style": "IPY_MODEL_7255aaa7f3da458082f985a95ec042ef",
            "value": " 270/270 [02:10&lt;00:00,  2.58it/s]"
          }
        },
        "2215dfba08114aa594608bf7cfb96ac5": {
          "model_module": "@jupyter-widgets/controls",
          "model_module_version": "1.5.0",
          "model_name": "HTMLModel",
          "state": {
            "_dom_classes": [],
            "_model_module": "@jupyter-widgets/controls",
            "_model_module_version": "1.5.0",
            "_model_name": "HTMLModel",
            "_view_count": null,
            "_view_module": "@jupyter-widgets/controls",
            "_view_module_version": "1.5.0",
            "_view_name": "HTMLView",
            "description": "",
            "description_tooltip": null,
            "layout": "IPY_MODEL_adc0716739f54557a9dd5403f1f3c559",
            "placeholder": "​",
            "style": "IPY_MODEL_8c6e8b91901a4ea6a9c7440ad86c50bf",
            "value": "100%"
          }
        },
        "297d13bb2c40484b8422da20b890512d": {
          "model_module": "@jupyter-widgets/controls",
          "model_module_version": "1.5.0",
          "model_name": "FloatProgressModel",
          "state": {
            "_dom_classes": [],
            "_model_module": "@jupyter-widgets/controls",
            "_model_module_version": "1.5.0",
            "_model_name": "FloatProgressModel",
            "_view_count": null,
            "_view_module": "@jupyter-widgets/controls",
            "_view_module_version": "1.5.0",
            "_view_name": "ProgressView",
            "bar_style": "success",
            "description": "",
            "description_tooltip": null,
            "layout": "IPY_MODEL_3e51044e6a1d46d1a08d61e5bf44011c",
            "max": 630,
            "min": 0,
            "orientation": "horizontal",
            "style": "IPY_MODEL_526b76939e274db99e9a5fc020e5008c",
            "value": 630
          }
        },
        "298a26ab61294990a87195269cc60de0": {
          "model_module": "@jupyter-widgets/controls",
          "model_module_version": "1.5.0",
          "model_name": "DescriptionStyleModel",
          "state": {
            "_model_module": "@jupyter-widgets/controls",
            "_model_module_version": "1.5.0",
            "_model_name": "DescriptionStyleModel",
            "_view_count": null,
            "_view_module": "@jupyter-widgets/base",
            "_view_module_version": "1.2.0",
            "_view_name": "StyleView",
            "description_width": ""
          }
        },
        "2f40f73847bc446d916b12fb1a6f149e": {
          "model_module": "@jupyter-widgets/base",
          "model_module_version": "1.2.0",
          "model_name": "LayoutModel",
          "state": {
            "_model_module": "@jupyter-widgets/base",
            "_model_module_version": "1.2.0",
            "_model_name": "LayoutModel",
            "_view_count": null,
            "_view_module": "@jupyter-widgets/base",
            "_view_module_version": "1.2.0",
            "_view_name": "LayoutView",
            "align_content": null,
            "align_items": null,
            "align_self": null,
            "border": null,
            "bottom": null,
            "display": null,
            "flex": null,
            "flex_flow": null,
            "grid_area": null,
            "grid_auto_columns": null,
            "grid_auto_flow": null,
            "grid_auto_rows": null,
            "grid_column": null,
            "grid_gap": null,
            "grid_row": null,
            "grid_template_areas": null,
            "grid_template_columns": null,
            "grid_template_rows": null,
            "height": null,
            "justify_content": null,
            "justify_items": null,
            "left": null,
            "margin": null,
            "max_height": null,
            "max_width": null,
            "min_height": null,
            "min_width": null,
            "object_fit": null,
            "object_position": null,
            "order": null,
            "overflow": null,
            "overflow_x": null,
            "overflow_y": null,
            "padding": null,
            "right": null,
            "top": null,
            "visibility": null,
            "width": null
          }
        },
        "382bd0183fd64130aef2b8a49d731395": {
          "model_module": "@jupyter-widgets/base",
          "model_module_version": "1.2.0",
          "model_name": "LayoutModel",
          "state": {
            "_model_module": "@jupyter-widgets/base",
            "_model_module_version": "1.2.0",
            "_model_name": "LayoutModel",
            "_view_count": null,
            "_view_module": "@jupyter-widgets/base",
            "_view_module_version": "1.2.0",
            "_view_name": "LayoutView",
            "align_content": null,
            "align_items": null,
            "align_self": null,
            "border": null,
            "bottom": null,
            "display": null,
            "flex": null,
            "flex_flow": null,
            "grid_area": null,
            "grid_auto_columns": null,
            "grid_auto_flow": null,
            "grid_auto_rows": null,
            "grid_column": null,
            "grid_gap": null,
            "grid_row": null,
            "grid_template_areas": null,
            "grid_template_columns": null,
            "grid_template_rows": null,
            "height": null,
            "justify_content": null,
            "justify_items": null,
            "left": null,
            "margin": null,
            "max_height": null,
            "max_width": null,
            "min_height": null,
            "min_width": null,
            "object_fit": null,
            "object_position": null,
            "order": null,
            "overflow": null,
            "overflow_x": null,
            "overflow_y": null,
            "padding": null,
            "right": null,
            "top": null,
            "visibility": null,
            "width": null
          }
        },
        "3e51044e6a1d46d1a08d61e5bf44011c": {
          "model_module": "@jupyter-widgets/base",
          "model_module_version": "1.2.0",
          "model_name": "LayoutModel",
          "state": {
            "_model_module": "@jupyter-widgets/base",
            "_model_module_version": "1.2.0",
            "_model_name": "LayoutModel",
            "_view_count": null,
            "_view_module": "@jupyter-widgets/base",
            "_view_module_version": "1.2.0",
            "_view_name": "LayoutView",
            "align_content": null,
            "align_items": null,
            "align_self": null,
            "border": null,
            "bottom": null,
            "display": null,
            "flex": null,
            "flex_flow": null,
            "grid_area": null,
            "grid_auto_columns": null,
            "grid_auto_flow": null,
            "grid_auto_rows": null,
            "grid_column": null,
            "grid_gap": null,
            "grid_row": null,
            "grid_template_areas": null,
            "grid_template_columns": null,
            "grid_template_rows": null,
            "height": null,
            "justify_content": null,
            "justify_items": null,
            "left": null,
            "margin": null,
            "max_height": null,
            "max_width": null,
            "min_height": null,
            "min_width": null,
            "object_fit": null,
            "object_position": null,
            "order": null,
            "overflow": null,
            "overflow_x": null,
            "overflow_y": null,
            "padding": null,
            "right": null,
            "top": null,
            "visibility": null,
            "width": null
          }
        },
        "405c564da4ef4647bba9e3909efaa222": {
          "model_module": "@jupyter-widgets/controls",
          "model_module_version": "1.5.0",
          "model_name": "HTMLModel",
          "state": {
            "_dom_classes": [],
            "_model_module": "@jupyter-widgets/controls",
            "_model_module_version": "1.5.0",
            "_model_name": "HTMLModel",
            "_view_count": null,
            "_view_module": "@jupyter-widgets/controls",
            "_view_module_version": "1.5.0",
            "_view_name": "HTMLView",
            "description": "",
            "description_tooltip": null,
            "layout": "IPY_MODEL_03d24b1edb8f45fcb0e260dabad56e5a",
            "placeholder": "​",
            "style": "IPY_MODEL_6121f588a3484931be34c57a9e3c87b4",
            "value": " 20/20 [52:58&lt;00:00, 156.96s/it]"
          }
        },
        "4288723f8f794e498097c7a4d7e466c9": {
          "model_module": "@jupyter-widgets/base",
          "model_module_version": "1.2.0",
          "model_name": "LayoutModel",
          "state": {
            "_model_module": "@jupyter-widgets/base",
            "_model_module_version": "1.2.0",
            "_model_name": "LayoutModel",
            "_view_count": null,
            "_view_module": "@jupyter-widgets/base",
            "_view_module_version": "1.2.0",
            "_view_name": "LayoutView",
            "align_content": null,
            "align_items": null,
            "align_self": null,
            "border": null,
            "bottom": null,
            "display": null,
            "flex": null,
            "flex_flow": null,
            "grid_area": null,
            "grid_auto_columns": null,
            "grid_auto_flow": null,
            "grid_auto_rows": null,
            "grid_column": null,
            "grid_gap": null,
            "grid_row": null,
            "grid_template_areas": null,
            "grid_template_columns": null,
            "grid_template_rows": null,
            "height": null,
            "justify_content": null,
            "justify_items": null,
            "left": null,
            "margin": null,
            "max_height": null,
            "max_width": null,
            "min_height": null,
            "min_width": null,
            "object_fit": null,
            "object_position": null,
            "order": null,
            "overflow": null,
            "overflow_x": null,
            "overflow_y": null,
            "padding": null,
            "right": null,
            "top": null,
            "visibility": null,
            "width": null
          }
        },
        "45768b5ed593494cb75c39cf0b18a815": {
          "model_module": "@jupyter-widgets/controls",
          "model_module_version": "1.5.0",
          "model_name": "DescriptionStyleModel",
          "state": {
            "_model_module": "@jupyter-widgets/controls",
            "_model_module_version": "1.5.0",
            "_model_name": "DescriptionStyleModel",
            "_view_count": null,
            "_view_module": "@jupyter-widgets/base",
            "_view_module_version": "1.2.0",
            "_view_name": "StyleView",
            "description_width": ""
          }
        },
        "48297f5609324674aeed85ae1d3b62ba": {
          "model_module": "@jupyter-widgets/controls",
          "model_module_version": "1.5.0",
          "model_name": "HBoxModel",
          "state": {
            "_dom_classes": [],
            "_model_module": "@jupyter-widgets/controls",
            "_model_module_version": "1.5.0",
            "_model_name": "HBoxModel",
            "_view_count": null,
            "_view_module": "@jupyter-widgets/controls",
            "_view_module_version": "1.5.0",
            "_view_name": "HBoxView",
            "box_style": "",
            "children": [
              "IPY_MODEL_2215dfba08114aa594608bf7cfb96ac5",
              "IPY_MODEL_fd4d4bd9a6ea44e3b7ee5f8eb65dd244",
              "IPY_MODEL_fd2b815361244a809427009365cbd326"
            ],
            "layout": "IPY_MODEL_11fa7d62753c41149d54ff596bfd60cc"
          }
        },
        "49c4b1166247413cb50a71ec1867a761": {
          "model_module": "@jupyter-widgets/controls",
          "model_module_version": "1.5.0",
          "model_name": "DescriptionStyleModel",
          "state": {
            "_model_module": "@jupyter-widgets/controls",
            "_model_module_version": "1.5.0",
            "_model_name": "DescriptionStyleModel",
            "_view_count": null,
            "_view_module": "@jupyter-widgets/base",
            "_view_module_version": "1.2.0",
            "_view_name": "StyleView",
            "description_width": ""
          }
        },
        "4c9a9d3c9d754941aa84890b724ea3bd": {
          "model_module": "@jupyter-widgets/controls",
          "model_module_version": "1.5.0",
          "model_name": "HTMLModel",
          "state": {
            "_dom_classes": [],
            "_model_module": "@jupyter-widgets/controls",
            "_model_module_version": "1.5.0",
            "_model_name": "HTMLModel",
            "_view_count": null,
            "_view_module": "@jupyter-widgets/controls",
            "_view_module_version": "1.5.0",
            "_view_name": "HTMLView",
            "description": "",
            "description_tooltip": null,
            "layout": "IPY_MODEL_a7c59d78ebe64e4ead5a02107ca7e26a",
            "placeholder": "​",
            "style": "IPY_MODEL_49c4b1166247413cb50a71ec1867a761",
            "value": "100%"
          }
        },
        "526b76939e274db99e9a5fc020e5008c": {
          "model_module": "@jupyter-widgets/controls",
          "model_module_version": "1.5.0",
          "model_name": "ProgressStyleModel",
          "state": {
            "_model_module": "@jupyter-widgets/controls",
            "_model_module_version": "1.5.0",
            "_model_name": "ProgressStyleModel",
            "_view_count": null,
            "_view_module": "@jupyter-widgets/base",
            "_view_module_version": "1.2.0",
            "_view_name": "StyleView",
            "bar_color": null,
            "description_width": ""
          }
        },
        "57fe44fad9a8442b97491cdb1dae70cd": {
          "model_module": "@jupyter-widgets/controls",
          "model_module_version": "1.5.0",
          "model_name": "ProgressStyleModel",
          "state": {
            "_model_module": "@jupyter-widgets/controls",
            "_model_module_version": "1.5.0",
            "_model_name": "ProgressStyleModel",
            "_view_count": null,
            "_view_module": "@jupyter-widgets/base",
            "_view_module_version": "1.2.0",
            "_view_name": "StyleView",
            "bar_color": null,
            "description_width": ""
          }
        },
        "6121f588a3484931be34c57a9e3c87b4": {
          "model_module": "@jupyter-widgets/controls",
          "model_module_version": "1.5.0",
          "model_name": "DescriptionStyleModel",
          "state": {
            "_model_module": "@jupyter-widgets/controls",
            "_model_module_version": "1.5.0",
            "_model_name": "DescriptionStyleModel",
            "_view_count": null,
            "_view_module": "@jupyter-widgets/base",
            "_view_module_version": "1.2.0",
            "_view_name": "StyleView",
            "description_width": ""
          }
        },
        "6a07040175b74373afb263a83f877b4c": {
          "model_module": "@jupyter-widgets/controls",
          "model_module_version": "1.5.0",
          "model_name": "HTMLModel",
          "state": {
            "_dom_classes": [],
            "_model_module": "@jupyter-widgets/controls",
            "_model_module_version": "1.5.0",
            "_model_name": "HTMLModel",
            "_view_count": null,
            "_view_module": "@jupyter-widgets/controls",
            "_view_module_version": "1.5.0",
            "_view_name": "HTMLView",
            "description": "",
            "description_tooltip": null,
            "layout": "IPY_MODEL_c83a8126b22c41158854db999d097994",
            "placeholder": "​",
            "style": "IPY_MODEL_edf54510c4374c4ba049dbcae67a4712",
            "value": " 630/630 [05:32&lt;00:00,  2.44it/s]"
          }
        },
        "7255aaa7f3da458082f985a95ec042ef": {
          "model_module": "@jupyter-widgets/controls",
          "model_module_version": "1.5.0",
          "model_name": "DescriptionStyleModel",
          "state": {
            "_model_module": "@jupyter-widgets/controls",
            "_model_module_version": "1.5.0",
            "_model_name": "DescriptionStyleModel",
            "_view_count": null,
            "_view_module": "@jupyter-widgets/base",
            "_view_module_version": "1.2.0",
            "_view_name": "StyleView",
            "description_width": ""
          }
        },
        "7712b5e9dc5f4e90b0af38dd4920732f": {
          "model_module": "@jupyter-widgets/controls",
          "model_module_version": "1.5.0",
          "model_name": "HTMLModel",
          "state": {
            "_dom_classes": [],
            "_model_module": "@jupyter-widgets/controls",
            "_model_module_version": "1.5.0",
            "_model_name": "HTMLModel",
            "_view_count": null,
            "_view_module": "@jupyter-widgets/controls",
            "_view_module_version": "1.5.0",
            "_view_name": "HTMLView",
            "description": "",
            "description_tooltip": null,
            "layout": "IPY_MODEL_f71091bf646c4a1da015da688fbe3500",
            "placeholder": "​",
            "style": "IPY_MODEL_298a26ab61294990a87195269cc60de0",
            "value": "100%"
          }
        },
        "7cdd742b1b9b411aa60cba52e79ed1fe": {
          "model_module": "@jupyter-widgets/controls",
          "model_module_version": "1.5.0",
          "model_name": "HTMLModel",
          "state": {
            "_dom_classes": [],
            "_model_module": "@jupyter-widgets/controls",
            "_model_module_version": "1.5.0",
            "_model_name": "HTMLModel",
            "_view_count": null,
            "_view_module": "@jupyter-widgets/controls",
            "_view_module_version": "1.5.0",
            "_view_name": "HTMLView",
            "description": "",
            "description_tooltip": null,
            "layout": "IPY_MODEL_15d837cdb5284b9a8d1d53e2e85da302",
            "placeholder": "​",
            "style": "IPY_MODEL_b2bd5cb0b4164adf9d760baddea3a416",
            "value": "100%"
          }
        },
        "8c6e8b91901a4ea6a9c7440ad86c50bf": {
          "model_module": "@jupyter-widgets/controls",
          "model_module_version": "1.5.0",
          "model_name": "DescriptionStyleModel",
          "state": {
            "_model_module": "@jupyter-widgets/controls",
            "_model_module_version": "1.5.0",
            "_model_name": "DescriptionStyleModel",
            "_view_count": null,
            "_view_module": "@jupyter-widgets/base",
            "_view_module_version": "1.2.0",
            "_view_name": "StyleView",
            "description_width": ""
          }
        },
        "8d07b9f34c9543c992ab6dcfd38df0f7": {
          "model_module": "@jupyter-widgets/controls",
          "model_module_version": "1.5.0",
          "model_name": "FloatProgressModel",
          "state": {
            "_dom_classes": [],
            "_model_module": "@jupyter-widgets/controls",
            "_model_module_version": "1.5.0",
            "_model_name": "FloatProgressModel",
            "_view_count": null,
            "_view_module": "@jupyter-widgets/controls",
            "_view_module_version": "1.5.0",
            "_view_name": "ProgressView",
            "bar_style": "success",
            "description": "",
            "description_tooltip": null,
            "layout": "IPY_MODEL_8ef0a7eeeaf142149bfe9a1bc7b7e1ec",
            "max": 20,
            "min": 0,
            "orientation": "horizontal",
            "style": "IPY_MODEL_57fe44fad9a8442b97491cdb1dae70cd",
            "value": 20
          }
        },
        "8db7a480794e414e9e14240711000b80": {
          "model_module": "@jupyter-widgets/controls",
          "model_module_version": "1.5.0",
          "model_name": "ProgressStyleModel",
          "state": {
            "_model_module": "@jupyter-widgets/controls",
            "_model_module_version": "1.5.0",
            "_model_name": "ProgressStyleModel",
            "_view_count": null,
            "_view_module": "@jupyter-widgets/base",
            "_view_module_version": "1.2.0",
            "_view_name": "StyleView",
            "bar_color": null,
            "description_width": ""
          }
        },
        "8ef0a7eeeaf142149bfe9a1bc7b7e1ec": {
          "model_module": "@jupyter-widgets/base",
          "model_module_version": "1.2.0",
          "model_name": "LayoutModel",
          "state": {
            "_model_module": "@jupyter-widgets/base",
            "_model_module_version": "1.2.0",
            "_model_name": "LayoutModel",
            "_view_count": null,
            "_view_module": "@jupyter-widgets/base",
            "_view_module_version": "1.2.0",
            "_view_name": "LayoutView",
            "align_content": null,
            "align_items": null,
            "align_self": null,
            "border": null,
            "bottom": null,
            "display": null,
            "flex": null,
            "flex_flow": null,
            "grid_area": null,
            "grid_auto_columns": null,
            "grid_auto_flow": null,
            "grid_auto_rows": null,
            "grid_column": null,
            "grid_gap": null,
            "grid_row": null,
            "grid_template_areas": null,
            "grid_template_columns": null,
            "grid_template_rows": null,
            "height": null,
            "justify_content": null,
            "justify_items": null,
            "left": null,
            "margin": null,
            "max_height": null,
            "max_width": null,
            "min_height": null,
            "min_width": null,
            "object_fit": null,
            "object_position": null,
            "order": null,
            "overflow": null,
            "overflow_x": null,
            "overflow_y": null,
            "padding": null,
            "right": null,
            "top": null,
            "visibility": null,
            "width": null
          }
        },
        "983a1905713c41989e2b3aeaf1f23d9b": {
          "model_module": "@jupyter-widgets/controls",
          "model_module_version": "1.5.0",
          "model_name": "HBoxModel",
          "state": {
            "_dom_classes": [],
            "_model_module": "@jupyter-widgets/controls",
            "_model_module_version": "1.5.0",
            "_model_name": "HBoxModel",
            "_view_count": null,
            "_view_module": "@jupyter-widgets/controls",
            "_view_module_version": "1.5.0",
            "_view_name": "HBoxView",
            "box_style": "",
            "children": [
              "IPY_MODEL_4c9a9d3c9d754941aa84890b724ea3bd",
              "IPY_MODEL_8d07b9f34c9543c992ab6dcfd38df0f7",
              "IPY_MODEL_405c564da4ef4647bba9e3909efaa222"
            ],
            "layout": "IPY_MODEL_aa5a6600f392446b8fb50e2c8619b764"
          }
        },
        "a7c59d78ebe64e4ead5a02107ca7e26a": {
          "model_module": "@jupyter-widgets/base",
          "model_module_version": "1.2.0",
          "model_name": "LayoutModel",
          "state": {
            "_model_module": "@jupyter-widgets/base",
            "_model_module_version": "1.2.0",
            "_model_name": "LayoutModel",
            "_view_count": null,
            "_view_module": "@jupyter-widgets/base",
            "_view_module_version": "1.2.0",
            "_view_name": "LayoutView",
            "align_content": null,
            "align_items": null,
            "align_self": null,
            "border": null,
            "bottom": null,
            "display": null,
            "flex": null,
            "flex_flow": null,
            "grid_area": null,
            "grid_auto_columns": null,
            "grid_auto_flow": null,
            "grid_auto_rows": null,
            "grid_column": null,
            "grid_gap": null,
            "grid_row": null,
            "grid_template_areas": null,
            "grid_template_columns": null,
            "grid_template_rows": null,
            "height": null,
            "justify_content": null,
            "justify_items": null,
            "left": null,
            "margin": null,
            "max_height": null,
            "max_width": null,
            "min_height": null,
            "min_width": null,
            "object_fit": null,
            "object_position": null,
            "order": null,
            "overflow": null,
            "overflow_x": null,
            "overflow_y": null,
            "padding": null,
            "right": null,
            "top": null,
            "visibility": null,
            "width": null
          }
        },
        "aa5a6600f392446b8fb50e2c8619b764": {
          "model_module": "@jupyter-widgets/base",
          "model_module_version": "1.2.0",
          "model_name": "LayoutModel",
          "state": {
            "_model_module": "@jupyter-widgets/base",
            "_model_module_version": "1.2.0",
            "_model_name": "LayoutModel",
            "_view_count": null,
            "_view_module": "@jupyter-widgets/base",
            "_view_module_version": "1.2.0",
            "_view_name": "LayoutView",
            "align_content": null,
            "align_items": null,
            "align_self": null,
            "border": null,
            "bottom": null,
            "display": null,
            "flex": null,
            "flex_flow": null,
            "grid_area": null,
            "grid_auto_columns": null,
            "grid_auto_flow": null,
            "grid_auto_rows": null,
            "grid_column": null,
            "grid_gap": null,
            "grid_row": null,
            "grid_template_areas": null,
            "grid_template_columns": null,
            "grid_template_rows": null,
            "height": null,
            "justify_content": null,
            "justify_items": null,
            "left": null,
            "margin": null,
            "max_height": null,
            "max_width": null,
            "min_height": null,
            "min_width": null,
            "object_fit": null,
            "object_position": null,
            "order": null,
            "overflow": null,
            "overflow_x": null,
            "overflow_y": null,
            "padding": null,
            "right": null,
            "top": null,
            "visibility": null,
            "width": null
          }
        },
        "adc0716739f54557a9dd5403f1f3c559": {
          "model_module": "@jupyter-widgets/base",
          "model_module_version": "1.2.0",
          "model_name": "LayoutModel",
          "state": {
            "_model_module": "@jupyter-widgets/base",
            "_model_module_version": "1.2.0",
            "_model_name": "LayoutModel",
            "_view_count": null,
            "_view_module": "@jupyter-widgets/base",
            "_view_module_version": "1.2.0",
            "_view_name": "LayoutView",
            "align_content": null,
            "align_items": null,
            "align_self": null,
            "border": null,
            "bottom": null,
            "display": null,
            "flex": null,
            "flex_flow": null,
            "grid_area": null,
            "grid_auto_columns": null,
            "grid_auto_flow": null,
            "grid_auto_rows": null,
            "grid_column": null,
            "grid_gap": null,
            "grid_row": null,
            "grid_template_areas": null,
            "grid_template_columns": null,
            "grid_template_rows": null,
            "height": null,
            "justify_content": null,
            "justify_items": null,
            "left": null,
            "margin": null,
            "max_height": null,
            "max_width": null,
            "min_height": null,
            "min_width": null,
            "object_fit": null,
            "object_position": null,
            "order": null,
            "overflow": null,
            "overflow_x": null,
            "overflow_y": null,
            "padding": null,
            "right": null,
            "top": null,
            "visibility": null,
            "width": null
          }
        },
        "b2bd5cb0b4164adf9d760baddea3a416": {
          "model_module": "@jupyter-widgets/controls",
          "model_module_version": "1.5.0",
          "model_name": "DescriptionStyleModel",
          "state": {
            "_model_module": "@jupyter-widgets/controls",
            "_model_module_version": "1.5.0",
            "_model_name": "DescriptionStyleModel",
            "_view_count": null,
            "_view_module": "@jupyter-widgets/base",
            "_view_module_version": "1.2.0",
            "_view_name": "StyleView",
            "description_width": ""
          }
        },
        "c83a8126b22c41158854db999d097994": {
          "model_module": "@jupyter-widgets/base",
          "model_module_version": "1.2.0",
          "model_name": "LayoutModel",
          "state": {
            "_model_module": "@jupyter-widgets/base",
            "_model_module_version": "1.2.0",
            "_model_name": "LayoutModel",
            "_view_count": null,
            "_view_module": "@jupyter-widgets/base",
            "_view_module_version": "1.2.0",
            "_view_name": "LayoutView",
            "align_content": null,
            "align_items": null,
            "align_self": null,
            "border": null,
            "bottom": null,
            "display": null,
            "flex": null,
            "flex_flow": null,
            "grid_area": null,
            "grid_auto_columns": null,
            "grid_auto_flow": null,
            "grid_auto_rows": null,
            "grid_column": null,
            "grid_gap": null,
            "grid_row": null,
            "grid_template_areas": null,
            "grid_template_columns": null,
            "grid_template_rows": null,
            "height": null,
            "justify_content": null,
            "justify_items": null,
            "left": null,
            "margin": null,
            "max_height": null,
            "max_width": null,
            "min_height": null,
            "min_width": null,
            "object_fit": null,
            "object_position": null,
            "order": null,
            "overflow": null,
            "overflow_x": null,
            "overflow_y": null,
            "padding": null,
            "right": null,
            "top": null,
            "visibility": null,
            "width": null
          }
        },
        "d9d29c6e23a14d4bb23396c05dfffb6d": {
          "model_module": "@jupyter-widgets/controls",
          "model_module_version": "1.5.0",
          "model_name": "HBoxModel",
          "state": {
            "_dom_classes": [],
            "_model_module": "@jupyter-widgets/controls",
            "_model_module_version": "1.5.0",
            "_model_name": "HBoxModel",
            "_view_count": null,
            "_view_module": "@jupyter-widgets/controls",
            "_view_module_version": "1.5.0",
            "_view_name": "HBoxView",
            "box_style": "",
            "children": [
              "IPY_MODEL_7712b5e9dc5f4e90b0af38dd4920732f",
              "IPY_MODEL_297d13bb2c40484b8422da20b890512d",
              "IPY_MODEL_6a07040175b74373afb263a83f877b4c"
            ],
            "layout": "IPY_MODEL_084e6574ef714bd6b1f1ed4da0ca6d52"
          }
        },
        "ec78e6ce8de342f09e585099e3f867b9": {
          "model_module": "@jupyter-widgets/base",
          "model_module_version": "1.2.0",
          "model_name": "LayoutModel",
          "state": {
            "_model_module": "@jupyter-widgets/base",
            "_model_module_version": "1.2.0",
            "_model_name": "LayoutModel",
            "_view_count": null,
            "_view_module": "@jupyter-widgets/base",
            "_view_module_version": "1.2.0",
            "_view_name": "LayoutView",
            "align_content": null,
            "align_items": null,
            "align_self": null,
            "border": null,
            "bottom": null,
            "display": null,
            "flex": null,
            "flex_flow": null,
            "grid_area": null,
            "grid_auto_columns": null,
            "grid_auto_flow": null,
            "grid_auto_rows": null,
            "grid_column": null,
            "grid_gap": null,
            "grid_row": null,
            "grid_template_areas": null,
            "grid_template_columns": null,
            "grid_template_rows": null,
            "height": null,
            "justify_content": null,
            "justify_items": null,
            "left": null,
            "margin": null,
            "max_height": null,
            "max_width": null,
            "min_height": null,
            "min_width": null,
            "object_fit": null,
            "object_position": null,
            "order": null,
            "overflow": null,
            "overflow_x": null,
            "overflow_y": null,
            "padding": null,
            "right": null,
            "top": null,
            "visibility": null,
            "width": null
          }
        },
        "edf54510c4374c4ba049dbcae67a4712": {
          "model_module": "@jupyter-widgets/controls",
          "model_module_version": "1.5.0",
          "model_name": "DescriptionStyleModel",
          "state": {
            "_model_module": "@jupyter-widgets/controls",
            "_model_module_version": "1.5.0",
            "_model_name": "DescriptionStyleModel",
            "_view_count": null,
            "_view_module": "@jupyter-widgets/base",
            "_view_module_version": "1.2.0",
            "_view_name": "StyleView",
            "description_width": ""
          }
        },
        "f2b5ef6982484d2c8034772e688db3e0": {
          "model_module": "@jupyter-widgets/base",
          "model_module_version": "1.2.0",
          "model_name": "LayoutModel",
          "state": {
            "_model_module": "@jupyter-widgets/base",
            "_model_module_version": "1.2.0",
            "_model_name": "LayoutModel",
            "_view_count": null,
            "_view_module": "@jupyter-widgets/base",
            "_view_module_version": "1.2.0",
            "_view_name": "LayoutView",
            "align_content": null,
            "align_items": null,
            "align_self": null,
            "border": null,
            "bottom": null,
            "display": null,
            "flex": null,
            "flex_flow": null,
            "grid_area": null,
            "grid_auto_columns": null,
            "grid_auto_flow": null,
            "grid_auto_rows": null,
            "grid_column": null,
            "grid_gap": null,
            "grid_row": null,
            "grid_template_areas": null,
            "grid_template_columns": null,
            "grid_template_rows": null,
            "height": null,
            "justify_content": null,
            "justify_items": null,
            "left": null,
            "margin": null,
            "max_height": null,
            "max_width": null,
            "min_height": null,
            "min_width": null,
            "object_fit": null,
            "object_position": null,
            "order": null,
            "overflow": null,
            "overflow_x": null,
            "overflow_y": null,
            "padding": null,
            "right": null,
            "top": null,
            "visibility": null,
            "width": null
          }
        },
        "f71091bf646c4a1da015da688fbe3500": {
          "model_module": "@jupyter-widgets/base",
          "model_module_version": "1.2.0",
          "model_name": "LayoutModel",
          "state": {
            "_model_module": "@jupyter-widgets/base",
            "_model_module_version": "1.2.0",
            "_model_name": "LayoutModel",
            "_view_count": null,
            "_view_module": "@jupyter-widgets/base",
            "_view_module_version": "1.2.0",
            "_view_name": "LayoutView",
            "align_content": null,
            "align_items": null,
            "align_self": null,
            "border": null,
            "bottom": null,
            "display": null,
            "flex": null,
            "flex_flow": null,
            "grid_area": null,
            "grid_auto_columns": null,
            "grid_auto_flow": null,
            "grid_auto_rows": null,
            "grid_column": null,
            "grid_gap": null,
            "grid_row": null,
            "grid_template_areas": null,
            "grid_template_columns": null,
            "grid_template_rows": null,
            "height": null,
            "justify_content": null,
            "justify_items": null,
            "left": null,
            "margin": null,
            "max_height": null,
            "max_width": null,
            "min_height": null,
            "min_width": null,
            "object_fit": null,
            "object_position": null,
            "order": null,
            "overflow": null,
            "overflow_x": null,
            "overflow_y": null,
            "padding": null,
            "right": null,
            "top": null,
            "visibility": null,
            "width": null
          }
        },
        "f87df60b25d646329064d2f4d5d56804": {
          "model_module": "@jupyter-widgets/controls",
          "model_module_version": "1.5.0",
          "model_name": "FloatProgressModel",
          "state": {
            "_dom_classes": [],
            "_model_module": "@jupyter-widgets/controls",
            "_model_module_version": "1.5.0",
            "_model_name": "FloatProgressModel",
            "_view_count": null,
            "_view_module": "@jupyter-widgets/controls",
            "_view_module_version": "1.5.0",
            "_view_name": "ProgressView",
            "bar_style": "success",
            "description": "",
            "description_tooltip": null,
            "layout": "IPY_MODEL_f2b5ef6982484d2c8034772e688db3e0",
            "max": 270,
            "min": 0,
            "orientation": "horizontal",
            "style": "IPY_MODEL_fb79a9d9ebe942279e4d607da41594d1",
            "value": 270
          }
        },
        "fb79a9d9ebe942279e4d607da41594d1": {
          "model_module": "@jupyter-widgets/controls",
          "model_module_version": "1.5.0",
          "model_name": "ProgressStyleModel",
          "state": {
            "_model_module": "@jupyter-widgets/controls",
            "_model_module_version": "1.5.0",
            "_model_name": "ProgressStyleModel",
            "_view_count": null,
            "_view_module": "@jupyter-widgets/base",
            "_view_module_version": "1.2.0",
            "_view_name": "StyleView",
            "bar_color": null,
            "description_width": ""
          }
        },
        "fd2b815361244a809427009365cbd326": {
          "model_module": "@jupyter-widgets/controls",
          "model_module_version": "1.5.0",
          "model_name": "HTMLModel",
          "state": {
            "_dom_classes": [],
            "_model_module": "@jupyter-widgets/controls",
            "_model_module_version": "1.5.0",
            "_model_name": "HTMLModel",
            "_view_count": null,
            "_view_module": "@jupyter-widgets/controls",
            "_view_module_version": "1.5.0",
            "_view_name": "HTMLView",
            "description": "",
            "description_tooltip": null,
            "layout": "IPY_MODEL_4288723f8f794e498097c7a4d7e466c9",
            "placeholder": "​",
            "style": "IPY_MODEL_45768b5ed593494cb75c39cf0b18a815",
            "value": " 50/50 [02:35&lt;00:00,  2.83s/it]"
          }
        },
        "fd4d4bd9a6ea44e3b7ee5f8eb65dd244": {
          "model_module": "@jupyter-widgets/controls",
          "model_module_version": "1.5.0",
          "model_name": "FloatProgressModel",
          "state": {
            "_dom_classes": [],
            "_model_module": "@jupyter-widgets/controls",
            "_model_module_version": "1.5.0",
            "_model_name": "FloatProgressModel",
            "_view_count": null,
            "_view_module": "@jupyter-widgets/controls",
            "_view_module_version": "1.5.0",
            "_view_name": "ProgressView",
            "bar_style": "success",
            "description": "",
            "description_tooltip": null,
            "layout": "IPY_MODEL_ec78e6ce8de342f09e585099e3f867b9",
            "max": 50,
            "min": 0,
            "orientation": "horizontal",
            "style": "IPY_MODEL_8db7a480794e414e9e14240711000b80",
            "value": 50
          }
        }
      }
    }
  },
  "nbformat": 4,
  "nbformat_minor": 0
}
