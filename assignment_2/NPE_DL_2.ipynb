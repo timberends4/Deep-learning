{
  "cells": [
    {
      "cell_type": "markdown",
      "metadata": {
        "id": "d32f8d18"
      },
      "source": [
        "# Group Details\n",
        "\n",
        "## Group Name:\n",
        "\n",
        "### Student 1:\n",
        "\n",
        "### Student 2:\n",
        "\n",
        "### Student 3:"
      ]
    },
    {
      "cell_type": "markdown",
      "metadata": {
        "id": "faec2056"
      },
      "source": [
        "# Loading Data and Preliminaries"
      ]
    },
    {
      "cell_type": "code",
      "execution_count": 1,
      "metadata": {
        "colab": {
          "base_uri": "https://localhost:8080/"
        },
        "id": "qBIurCVzjuvR",
        "outputId": "56b54478-2f62-4d60-bfdf-16a145f7f7b4"
      },
      "outputs": [
        {
          "output_type": "stream",
          "name": "stdout",
          "text": [
            "/content/drive/MyDrive/TUe/DeepLearning/Assignment2\n"
          ]
        }
      ],
      "source": [
        "%cd /content/drive/MyDrive/TUe/DeepLearning/Assignment2"
      ]
    },
    {
      "cell_type": "code",
      "execution_count": 2,
      "metadata": {
        "id": "7d0580a5"
      },
      "outputs": [],
      "source": [
        "import os\n",
        "\n",
        "import matplotlib\n",
        "import matplotlib.pyplot as plt\n",
        "\n",
        "import numpy as np\n",
        "\n",
        "import torch\n",
        "import torch.nn as nn\n",
        "import torch.optim as optim\n",
        "from torch.utils.data import Dataset, DataLoader\n",
        "\n",
        "from tqdm.notebook import tqdm\n",
        "from glob import glob\n",
        "from sklearn.model_selection import train_test_split"
      ]
    },
    {
      "cell_type": "code",
      "execution_count": 3,
      "metadata": {
        "id": "b0756591"
      },
      "outputs": [],
      "source": [
        "def load_array(filename, task):\n",
        "    datapoint = np.load(filename)\n",
        "    if task == 'task 1':\n",
        "        initial_state = datapoint['initial_state']\n",
        "        terminal_state = datapoint['terminal_state']\n",
        "        return initial_state, terminal_state\n",
        "    elif task == 'task 2' or task == 'task 3':\n",
        "        whole_trajectory = datapoint['trajectory']\n",
        "        # change shape: (num_bodies, attributes, time) ->  num_bodies, time, attributes\n",
        "        whole_trajectory = np.swapaxes(whole_trajectory, 1, 2)\n",
        "        initial_state = whole_trajectory[:, 0]\n",
        "        target = whole_trajectory[:, 1:, 1:]  # drop the first timepoint (second dim) and mass (last dim) for the prediction task\n",
        "        return initial_state, target\n",
        "    else:\n",
        "        raise NotImplementedError(\"'task' argument should be 'task 1', 'task 2' or 'task 3'!\")\n"
      ]
    },
    {
      "cell_type": "markdown",
      "metadata": {
        "id": "059b633c"
      },
      "source": [
        "# Data Handling and Preprocessing"
      ]
    },
    {
      "cell_type": "code",
      "execution_count": 4,
      "metadata": {
        "id": "dac58511"
      },
      "outputs": [],
      "source": [
        "def pad_array(data):\n",
        "    # Pad the array with zeros if necessary to have 9 rows\n",
        "    padded_input_data  = np.pad(data[0], ((0, 9 - data[0].shape[0]), (0, 0)), mode='constant')\n",
        "    padded_target_data = np.pad(data[1], ((0, 9 - data[1].shape[0]), (0, 0)), mode='constant')\n",
        "    return torch.tensor(padded_input_data, dtype=torch.float32), torch.tensor(padded_target_data, dtype=torch.float32)\n",
        "\n",
        "def create_mask(data,padded_input_data):\n",
        "    # Create a boolean mask array indicating the padded rows\n",
        "    mask = np.ones_like(padded_input_data, dtype=bool)\n",
        "    mask[data[0].shape[0]:] = False\n",
        "    return torch.tensor(mask, dtype=torch.bool)\n",
        "\n",
        "def pair_values(data):\n",
        "    # Pair up the values of the same columns from every row with every other row\n",
        "    num_rows, num_cols = data.shape\n",
        "    padded_input_data = torch.zeros((num_rows, num_rows, num_cols, 2))\n",
        "\n",
        "    for i in range(num_rows):\n",
        "        pair_idx = 0\n",
        "        for j in range(num_rows):\n",
        "\n",
        "            padded_input_data[i, pair_idx, :, 0] = data[i]\n",
        "            padded_input_data[i, pair_idx, :, 1] = data[j]\n",
        "            pair_idx += 1\n",
        "\n",
        "    return padded_input_data\n",
        "\n",
        "def get_euclidean_distance(x):\n",
        "    euclidean_distances = torch.zeros((len(x), len(x)))\n",
        "    for i in range(len(x)):\n",
        "        source_x, source_y= x[i][1], x[i][2]\n",
        "        #euclidean_distance=[]\n",
        "        for j in range(len(x)):\n",
        "            target_x, target_y= x[j][1], x[j][2]\n",
        "            euclidean_distances[i][j]=np.sqrt((source_x-target_x)**2+(source_y-target_y)**2)\n",
        "            #euclidean_distance.append(np.sqrt((source_x-target_x)**2+(source_y-target_y)**2))\n",
        "        #euclidean_distances.append(euclidean_distance)\n",
        "\n",
        "    return euclidean_distances #list of lists\n",
        "\n",
        "def target_difference(target_x, source_x):\n",
        "    # target x and source x are of shape (9, 2)\n",
        "    #Subtract the x and y coordinates of the target from the source\n",
        "    return target_x - source_x\n",
        "\n",
        "\n",
        "def process_file(file_path):\n",
        "    # Main function to process a single file\n",
        "    data = load_array(file_path, 'task 1')\n",
        "    padded_input_data, padded_target_data = pad_array(data)\n",
        "    mask = create_mask(data,padded_input_data)\n",
        "    input_data = pair_values(padded_input_data)\n",
        "    euclidean_distance = get_euclidean_distance(padded_input_data)\n",
        "    target_data= target_difference(padded_target_data, padded_input_data[:,1:3])\n",
        "\n",
        "    return input_data, target_data, padded_input_data, mask, euclidean_distance\n"
      ]
    },
    {
      "cell_type": "code",
      "execution_count": 5,
      "metadata": {
        "id": "6073689e"
      },
      "outputs": [],
      "source": [
        "class CustomDataset_2(Dataset):\n",
        "    def __init__(self, folder):\n",
        "        self.folder = folder\n",
        "        self.file_list = os.listdir(folder)\n",
        "\n",
        "    def __len__(self):\n",
        "        return len(self.file_list)\n",
        "\n",
        "    def _read_file(self, file_path):\n",
        "        input_data, target_data,data, mask, distances= process_file(file_path)\n",
        "        return input_data, target_data,data, mask, distances\n",
        "\n",
        "    def __getitem__(self, index):\n",
        "        file_path = os.path.join(self.folder, self.file_list[index])\n",
        "        # Read and preprocess the data from the file\n",
        "        input_data, target_data,data, mask, distance = self._read_file(file_path)\n",
        "        # Return the preprocessed data\n",
        "        return input_data, target_data,data, mask, distance"
      ]
    },
    {
      "cell_type": "markdown",
      "metadata": {
        "id": "18b2874d"
      },
      "source": [
        "# Model Implementation"
      ]
    },
    {
      "cell_type": "markdown",
      "metadata": {
        "id": "44baf9a4"
      },
      "source": [
        "## NPE implementation"
      ]
    },
    {
      "cell_type": "code",
      "source": [
        "class NPEEncoder(nn.Module):\n",
        "    def __init__(self, hidden_units):\n",
        "        super(NPEEncoder, self).__init__()\n",
        "        self.pairwise_layer = nn.Linear(10, hidden_units, bias=False)\n",
        "        self.feedforward = nn.Sequential(\n",
        "            nn.Linear(hidden_units, 50, bias=False),\n",
        "            nn.ReLU(),\n",
        "            nn.Linear(50, 50, bias=False),\n",
        "            nn.ReLU(),\n",
        "            nn.Linear(50, 50, bias=False),\n",
        "            nn.ReLU(),\n",
        "            nn.Linear(50, 50, bias=False),\n",
        "            nn.ReLU()\n",
        "        )\n",
        "\n",
        "    def forward(self, x):\n",
        "        x= x.to(torch.float32)\n",
        "        x = self.pairwise_layer(x)\n",
        "        x = self.feedforward(x)\n",
        "        return x\n",
        "\n",
        "class NPEDecoder(nn.Module):\n",
        "    def __init__(self):\n",
        "        super(NPEDecoder, self).__init__()\n",
        "        self.decoder = nn.Sequential(\n",
        "            nn.Linear(55, 50),\n",
        "            nn.ReLU(),\n",
        "            nn.Linear(50, 50),\n",
        "            nn.ReLU(),\n",
        "            nn.Linear(50, 50),\n",
        "            nn.ReLU(),\n",
        "            nn.Linear(50, 50),\n",
        "            nn.ReLU(),\n",
        "            nn.Linear(50, 2)\n",
        "        )\n",
        "\n",
        "    def forward(self, x):\n",
        "        x = self.decoder(x)\n",
        "        return x"
      ],
      "metadata": {
        "id": "Czt_9lz4K1Sk"
      },
      "execution_count": 6,
      "outputs": []
    },
    {
      "cell_type": "code",
      "execution_count": 8,
      "metadata": {
        "id": "ebe6c765"
      },
      "outputs": [],
      "source": [
        "class NPEModel(nn.Module):\n",
        "    def __init__(self, hidden_units, device):\n",
        "        super(NPEModel, self).__init__()\n",
        "        self.encoder = NPEEncoder(hidden_units)\n",
        "        self.decoder = NPEDecoder()\n",
        "        self.device = device\n",
        "\n",
        "    def forward(self, x,unpaired_data, mask, distance, neighborhood_threshold=5):\n",
        "        decoder_input = []\n",
        "        dist_mask = ((distance > 0) & (distance < neighborhood_threshold))\n",
        "        for batch in range(x.size(0)):\n",
        "            batch_data= x[batch]\n",
        "            for body in range(batch_data.size(0)):\n",
        "                if torch.all(mask[batch][body]==1):\n",
        "                    focus_body = unpaired_data[batch][body]\n",
        "\n",
        "                    if dist_mask[batch][body].any():\n",
        "                        chunk = torch.flatten(x[batch][body][dist_mask[batch][body]],start_dim=1)\n",
        "                        neighbor_encodings = torch.sum(self.encoder(chunk), dim=0)\n",
        "                    else:\n",
        "                        neighbor_encodings = torch.zeros(50).to(self.device)\n",
        "                    # Concatenate the focus body encoding with the focus_body\n",
        "                    decoder_input.append(torch.cat((neighbor_encodings, focus_body), dim=0))\n",
        "                else:\n",
        "                    decoder_input.append(torch.cat((torch.zeros(50, device=self.device), torch.zeros_like(unpaired_data[batch][body])), dim=0))\n",
        "\n",
        "        # Decode the concatenated vector\n",
        "        decoded = self.decoder(torch.stack(decoder_input))\n",
        "\n",
        "        out_shape = x.size()\n",
        "        decoded = decoded.view(out_shape[0], out_shape[1], -1)\n",
        "\n",
        "        return decoded"
      ]
    },
    {
      "cell_type": "markdown",
      "metadata": {
        "id": "dea70d73"
      },
      "source": [
        "# Model Training"
      ]
    },
    {
      "cell_type": "markdown",
      "metadata": {
        "id": "d78cead1"
      },
      "source": [
        "## NPE training"
      ]
    },
    {
      "cell_type": "code",
      "execution_count": null,
      "metadata": {
        "id": "OkS0_ALBo9HI"
      },
      "outputs": [],
      "source": [
        "def load_data(folder):\n",
        "    file_list = os.listdir(folder)\n",
        "    output = []\n",
        "\n",
        "    for filename in file_list:\n",
        "        file_path = os.path.join(folder, filename)\n",
        "        output.append(process_file(file_path))\n",
        "\n",
        "    return output"
      ]
    },
    {
      "cell_type": "code",
      "execution_count": null,
      "metadata": {
        "id": "3ff06815"
      },
      "outputs": [],
      "source": [
        "data_dir = 'data/task 1/train'\n",
        "# dataset = CustomDataset_2(data_dir)\n",
        "\n",
        "dataset = load_data(data_dir)\n",
        "\n",
        "\n",
        "data_loader = DataLoader(dataset, batch_size=64, shuffle=True)"
      ]
    },
    {
      "cell_type": "code",
      "execution_count": null,
      "metadata": {
        "id": "5w0upAM-54MI"
      },
      "outputs": [],
      "source": [
        "test_data_dir = 'data/task 1/test'\n",
        "# test_dataset = CustomDataset_2(test_data_dir)\n",
        "\n",
        "test_dataset = load_data(test_data_dir)\n",
        "\n",
        "\n",
        "test_data_loader = DataLoader(test_dataset, batch_size=64, shuffle=False)"
      ]
    },
    {
      "cell_type": "code",
      "execution_count": null,
      "metadata": {
        "colab": {
          "base_uri": "https://localhost:8080/"
        },
        "id": "7efb3949",
        "outputId": "39608b86-e5fe-4bfe-def9-7453f0a6ae5e"
      },
      "outputs": [
        {
          "output_type": "execute_result",
          "data": {
            "text/plain": [
              "device(type='cpu')"
            ]
          },
          "metadata": {},
          "execution_count": 11
        }
      ],
      "source": [
        "device = torch.device('cuda' if torch.cuda.is_available() else 'cpu')\n",
        "# device = torch.device('cpu')\n",
        "device"
      ]
    },
    {
      "cell_type": "code",
      "execution_count": null,
      "metadata": {
        "id": "07e03ddf"
      },
      "outputs": [],
      "source": [
        "# Hyperparameters\n",
        "hidden_units = 25\n",
        "learning_rate = 1e-3\n",
        "learning_rate_decay = 0.99\n",
        "iterations = 50\n",
        "batch_size = 100\n",
        "\n",
        "# Create the model\n",
        "model = NPEModel(hidden_units, device=device)\n",
        "model.to(device)\n",
        "criterion = nn.MSELoss(reduction='none')\n",
        "# optimizer = optim.RMSprop(model.parameters(), lr=learning_rate)\n",
        "optimizer = optim.AdamW(model.parameters(), lr=learning_rate)"
      ]
    },
    {
      "cell_type": "code",
      "execution_count": 59,
      "metadata": {
        "id": "a760bea0"
      },
      "outputs": [],
      "source": [
        "def train_sim_model(model, train_data_loader, valid_data_loader, optimizer, criterion,\n",
        "                    device=torch.device('cpu'), iterations=50, model_file='best_model.pth'):\n",
        "    best_val_loss = np.inf\n",
        "    for iteration in tqdm(range(iterations)):\n",
        "        model.train()\n",
        "        train_loss=0.0\n",
        "        for input_data, target_data,unpaired_data, mask, distance in train_data_loader:\n",
        "        # Training steps\n",
        "            input_data = input_data.to(device)\n",
        "            unpaired_data = unpaired_data.to(device)\n",
        "            mask = mask.to(device)\n",
        "            distance = distance.to(device)\n",
        "            target_data=target_data.to(device)\n",
        "\n",
        "            optimizer.zero_grad()\n",
        "            output = model(input_data, unpaired_data, mask, distance)\n",
        "\n",
        "            loss = torch.masked_select(criterion(target_data, output),\n",
        "                                       torch.stack([mask.all(dim=2), mask.all(dim=2)], dim=2)).mean()\n",
        "            train_loss += loss.item()\n",
        "            loss.backward()\n",
        "            optimizer.step()\n",
        "\n",
        "        train_loss /= len(train_data_loader)\n",
        "\n",
        "\n",
        "        model.eval()\n",
        "        test_loss=0.0\n",
        "        with torch.no_grad():\n",
        "            for input_data, target_data,unpaired_data, mask, distance in valid_data_loader:\n",
        "                input_data = input_data.to(device)\n",
        "                target_data = target_data.to(device)\n",
        "                unpaired_data = unpaired_data.to(device)\n",
        "                mask = mask.to(device)\n",
        "                distance = distance.to(device)\n",
        "\n",
        "                output = model(input_data, unpaired_data, mask, distance)\n",
        "                loss = torch.masked_select(criterion(target_data, output),\n",
        "                                       torch.stack([mask.all(dim=2), mask.all(dim=2)], dim=2)).mean()\n",
        "                test_loss += loss.item()\n",
        "        test_loss /= len(valid_data_loader)\n",
        "\n",
        "        if test_loss < best_val_loss:\n",
        "            best_val_loss = test_loss\n",
        "            torch.save({\n",
        "                'epoch': iteration+1,\n",
        "                'model_state_dict': model.state_dict(),\n",
        "                'optimizer_state_dict': optimizer.state_dict(),\n",
        "                'loss': criterion,\n",
        "                }, model_file)\n",
        "\n",
        "\n",
        "            # Print loss for monitoring\n",
        "            #if (iteration + 1) % 10000 == 0:\n",
        "        print(f\"Epoch [{iteration+1}/{iterations}], Loss: {train_loss}, \\tTest Loss: {test_loss}\")"
      ]
    },
    {
      "cell_type": "code",
      "execution_count": null,
      "metadata": {
        "id": "xxpPfpa-WxcP",
        "colab": {
          "base_uri": "https://localhost:8080/",
          "height": 899,
          "referenced_widgets": [
            "48297f5609324674aeed85ae1d3b62ba",
            "2215dfba08114aa594608bf7cfb96ac5",
            "fd4d4bd9a6ea44e3b7ee5f8eb65dd244",
            "fd2b815361244a809427009365cbd326",
            "11fa7d62753c41149d54ff596bfd60cc",
            "adc0716739f54557a9dd5403f1f3c559",
            "8c6e8b91901a4ea6a9c7440ad86c50bf",
            "ec78e6ce8de342f09e585099e3f867b9",
            "8db7a480794e414e9e14240711000b80",
            "4288723f8f794e498097c7a4d7e466c9",
            "45768b5ed593494cb75c39cf0b18a815"
          ]
        },
        "outputId": "f7197698-4865-48fc-9970-e12ba505510f"
      },
      "outputs": [
        {
          "output_type": "display_data",
          "data": {
            "text/plain": [
              "  0%|          | 0/50 [00:00<?, ?it/s]"
            ],
            "application/vnd.jupyter.widget-view+json": {
              "version_major": 2,
              "version_minor": 0,
              "model_id": "48297f5609324674aeed85ae1d3b62ba"
            }
          },
          "metadata": {}
        },
        {
          "output_type": "stream",
          "name": "stdout",
          "text": [
            "Epoch [1/50], Loss: 13.670190238952637, Test Loss: 10.866966724395752\n",
            "Epoch [2/50], Loss: 12.330539639790853, Test Loss: 7.881398677825928\n",
            "Epoch [3/50], Loss: 9.269953219095866, Test Loss: 6.145421266555786\n",
            "Epoch [4/50], Loss: 8.464724191029866, Test Loss: 5.677449464797974\n",
            "Epoch [5/50], Loss: 7.865085474650065, Test Loss: 5.412523984909058\n",
            "Epoch [6/50], Loss: 7.445688851674398, Test Loss: 5.126816749572754\n",
            "Epoch [7/50], Loss: 7.145092709859212, Test Loss: 4.831804275512695\n",
            "Epoch [8/50], Loss: 6.794183444976807, Test Loss: 4.623698472976685\n",
            "Epoch [9/50], Loss: 6.533312479654948, Test Loss: 4.355394124984741\n",
            "Epoch [10/50], Loss: 6.082845020294189, Test Loss: 4.140806436538696\n",
            "Epoch [11/50], Loss: 6.423442776997884, Test Loss: 3.815673351287842\n",
            "Epoch [12/50], Loss: 5.473369979858399, Test Loss: 3.7086188793182373\n",
            "Epoch [13/50], Loss: 5.2905560493469235, Test Loss: 3.6351418495178223\n",
            "Epoch [14/50], Loss: 5.2302872021993005, Test Loss: 3.466951847076416\n",
            "Epoch [15/50], Loss: 4.975616073608398, Test Loss: 3.3981528282165527\n",
            "Epoch [16/50], Loss: 4.906320349375407, Test Loss: 3.3968019485473633\n",
            "Epoch [17/50], Loss: 4.676248137156168, Test Loss: 3.3000296354293823\n",
            "Epoch [18/50], Loss: 4.63381732304891, Test Loss: 3.2462902069091797\n",
            "Epoch [19/50], Loss: 4.484918308258057, Test Loss: 3.193009376525879\n",
            "Epoch [20/50], Loss: 4.415384912490845, Test Loss: 3.198927402496338\n",
            "Epoch [21/50], Loss: 4.286769835154216, Test Loss: 3.1671723127365112\n",
            "Epoch [22/50], Loss: 4.241828473409017, Test Loss: 3.1506906747817993\n",
            "Epoch [23/50], Loss: 4.174660793940226, Test Loss: 3.1713331937789917\n",
            "Epoch [24/50], Loss: 4.078178755442301, Test Loss: 3.2019814252853394\n",
            "Epoch [25/50], Loss: 4.104481633504232, Test Loss: 3.0582350492477417\n",
            "Epoch [26/50], Loss: 3.979121764500936, Test Loss: 3.178179144859314\n",
            "Epoch [27/50], Loss: 4.0458687464396155, Test Loss: 3.0750633478164673\n",
            "Epoch [28/50], Loss: 3.9155522187550864, Test Loss: 3.1381582021713257\n",
            "Epoch [29/50], Loss: 3.9476451873779297, Test Loss: 3.0554239749908447\n",
            "Epoch [30/50], Loss: 3.845903253555298, Test Loss: 3.146175265312195\n",
            "Epoch [31/50], Loss: 3.8053771177927653, Test Loss: 3.0847748517990112\n",
            "Epoch [32/50], Loss: 3.7705687522888183, Test Loss: 3.0636086463928223\n",
            "Epoch [33/50], Loss: 3.7676947116851807, Test Loss: 2.9841076135635376\n",
            "Epoch [34/50], Loss: 3.7887288093566895, Test Loss: 2.9682326316833496\n",
            "Epoch [35/50], Loss: 3.719871155420939, Test Loss: 3.015788197517395\n",
            "Epoch [36/50], Loss: 3.755440441767375, Test Loss: 2.950278401374817\n",
            "Epoch [37/50], Loss: 3.647172514597575, Test Loss: 2.9651631116867065\n",
            "Epoch [38/50], Loss: 3.63010204633077, Test Loss: 2.9937156438827515\n",
            "Epoch [39/50], Loss: 3.683232069015503, Test Loss: 2.928130269050598\n",
            "Epoch [40/50], Loss: 3.6771578947703043, Test Loss: 2.9093366861343384\n",
            "Epoch [41/50], Loss: 3.631189743677775, Test Loss: 2.9683345556259155\n",
            "Epoch [42/50], Loss: 3.649366776148478, Test Loss: 2.9272366762161255\n",
            "Epoch [43/50], Loss: 3.5366230328877766, Test Loss: 2.943517327308655\n",
            "Epoch [44/50], Loss: 3.5437354882558187, Test Loss: 2.968730926513672\n",
            "Epoch [45/50], Loss: 3.5575296243031818, Test Loss: 3.0065784454345703\n",
            "Epoch [46/50], Loss: 3.5826561133066814, Test Loss: 2.9146536588668823\n",
            "Epoch [47/50], Loss: 3.518047078450521, Test Loss: 2.9479273557662964\n",
            "Epoch [48/50], Loss: 3.5402199745178224, Test Loss: 2.8976329565048218\n",
            "Epoch [49/50], Loss: 3.5544177691141763, Test Loss: 2.9594178199768066\n",
            "Epoch [50/50], Loss: 3.5479700247446697, Test Loss: 2.892133116722107\n"
          ]
        }
      ],
      "source": [
        "train_sim_model(model, data_loader, test_data_loader, optimizer, criterion, device=device, iterations=iterations)"
      ]
    },
    {
      "cell_type": "markdown",
      "metadata": {
        "id": "ABEFBFEzs2jd"
      },
      "source": [
        "# Data processing for tasks 2 and 3"
      ]
    },
    {
      "cell_type": "code",
      "execution_count": 9,
      "metadata": {
        "id": "GZ60Vp-pQXfl"
      },
      "outputs": [],
      "source": [
        "def files_2_data(files):\n",
        "    output = []\n",
        "    for file_path in tqdm(files):\n",
        "        datapoint = np.load(file_path)\n",
        "        whole_trajectory = datapoint['trajectory']\n",
        "        # change shape: (num_bodies, attributes, time) ->  num_bodies, time, attributes\n",
        "        whole_trajectory = np.swapaxes(whole_trajectory, 1, 2)\n",
        "        for i in range(whole_trajectory.shape[1] - 1):\n",
        "            data = whole_trajectory[:, i], whole_trajectory[:, i + 1, 1:3]\n",
        "            padded_input_data, padded_target_data = pad_array(data)\n",
        "            mask = create_mask(data,padded_input_data)\n",
        "            input_data = pair_values(padded_input_data)\n",
        "            euclidean_distance = get_euclidean_distance(padded_input_data)\n",
        "            target_data= target_difference(padded_target_data, padded_input_data[:,1:3])\n",
        "\n",
        "            output.append((input_data, target_data, padded_input_data, mask, euclidean_distance))\n",
        "    return output"
      ]
    },
    {
      "cell_type": "code",
      "execution_count": 45,
      "metadata": {
        "id": "2ejokMDu0aTn"
      },
      "outputs": [],
      "source": [
        "files_rate = 0.3\n",
        "\n",
        "train_files = glob('data/task 2_3/train/*')\n",
        "train_files = train_files[:int(len(train_files) * files_rate)]\n",
        "\n",
        "train_files, valid_files = train_test_split(train_files, train_size=0.7)"
      ]
    },
    {
      "cell_type": "code",
      "execution_count": 46,
      "metadata": {
        "colab": {
          "base_uri": "https://localhost:8080/",
          "height": 81,
          "referenced_widgets": [
            "0e87c20e0f5345ba8fbeb3f25a4507dc",
            "bc6409edfe464719b952b3c518570e10",
            "fb5490e0b41e444695927cb878d019b3",
            "564b3472fae14bd2bb363fb483093c48",
            "4d2489437c6f4158b42db49ae5e0673e",
            "80f7e83f553d48c1a21e34015921a3a2",
            "4b70d7a407c8469da673b6fe7f26d8b8",
            "e3af50fc991b4fb88541855947dbe627",
            "08b39f3b4b544d2ca895c3683677f264",
            "b3451da9a22549ec91951c169fdf1b1d",
            "7c5488282cd640aea6a656fc47b3db35",
            "66371dc262e34fa2aa1ef469781fd3a3",
            "b337c4af81c247bc818eb66951d6abb2",
            "bbbde43aeeaf41649f726eaa28f8e6f9",
            "160766be2e9b47a7af140ca9d9158774",
            "f2cf4fd5220b4e12bb2f88a66d770ed1",
            "1591d3ae1584488f9265324f287392f7",
            "82e1ca28844340eca8177e38a4c9e36d",
            "45eb696108944099a4f45048090e392f",
            "8dabbf4f75c448ceb1b7f74bc4f6a258",
            "a9881a7647df43639cfbd98e95ec8e6e",
            "b1660b5f51ca4b92a13759d67bdb868b"
          ]
        },
        "id": "U5EKuoBvR-Hc",
        "outputId": "3546e077-c66a-46ac-b716-ff34e57054c3"
      },
      "outputs": [
        {
          "output_type": "display_data",
          "data": {
            "text/plain": [
              "  0%|          | 0/189 [00:00<?, ?it/s]"
            ],
            "application/vnd.jupyter.widget-view+json": {
              "version_major": 2,
              "version_minor": 0,
              "model_id": "0e87c20e0f5345ba8fbeb3f25a4507dc"
            }
          },
          "metadata": {}
        },
        {
          "output_type": "display_data",
          "data": {
            "text/plain": [
              "  0%|          | 0/81 [00:00<?, ?it/s]"
            ],
            "application/vnd.jupyter.widget-view+json": {
              "version_major": 2,
              "version_minor": 0,
              "model_id": "66371dc262e34fa2aa1ef469781fd3a3"
            }
          },
          "metadata": {}
        }
      ],
      "source": [
        "train_data = files_2_data(train_files)\n",
        "\n",
        "valid_data = files_2_data(valid_files)"
      ]
    },
    {
      "cell_type": "code",
      "source": [
        "len(train_data)"
      ],
      "metadata": {
        "colab": {
          "base_uri": "https://localhost:8080/"
        },
        "id": "iaxNWdxdcJ32",
        "outputId": "d1dd4caf-87e9-4b81-ace2-7fb4a0ff41cc"
      },
      "execution_count": 47,
      "outputs": [
        {
          "output_type": "execute_result",
          "data": {
            "text/plain": [
              "9261"
            ]
          },
          "metadata": {},
          "execution_count": 47
        }
      ]
    },
    {
      "cell_type": "code",
      "execution_count": 48,
      "metadata": {
        "id": "t20UMcE35YNX"
      },
      "outputs": [],
      "source": [
        "BATCH_SIZE = 256\n",
        "\n",
        "train_data_loader = DataLoader(train_data, batch_size=BATCH_SIZE, shuffle=True)\n",
        "valid_data_loader = DataLoader(valid_data, batch_size=BATCH_SIZE, shuffle=False)"
      ]
    },
    {
      "cell_type": "code",
      "execution_count": 49,
      "metadata": {
        "colab": {
          "base_uri": "https://localhost:8080/"
        },
        "id": "GM83dBy0XGdT",
        "outputId": "ed9e4c04-2f03-48c9-dceb-69037f192a97"
      },
      "outputs": [
        {
          "output_type": "execute_result",
          "data": {
            "text/plain": [
              "device(type='cpu')"
            ]
          },
          "metadata": {},
          "execution_count": 49
        }
      ],
      "source": [
        "device = torch.device('cuda' if torch.cuda.is_available() else 'cpu')\n",
        "device"
      ]
    },
    {
      "cell_type": "markdown",
      "source": [
        "# Task 2"
      ],
      "metadata": {
        "id": "fyMUiYvtjPkw"
      }
    },
    {
      "cell_type": "code",
      "execution_count": null,
      "metadata": {
        "id": "ewmxqXngXGdV"
      },
      "outputs": [],
      "source": [
        "# Hyperparameters\n",
        "hidden_units = 25\n",
        "LR = 1e-3\n",
        "EPOCHS = 20\n",
        "\n",
        "# Create the model\n",
        "model = NPEModel(hidden_units, device=device).to(device)\n",
        "\n",
        "criterion = nn.MSELoss(reduction='none')\n",
        "optimizer = optim.AdamW(model.parameters(), lr=LR)"
      ]
    },
    {
      "cell_type": "code",
      "execution_count": null,
      "metadata": {
        "id": "e9cEYSC8W5tH",
        "colab": {
          "base_uri": "https://localhost:8080/",
          "height": 389,
          "referenced_widgets": [
            "983a1905713c41989e2b3aeaf1f23d9b",
            "4c9a9d3c9d754941aa84890b724ea3bd",
            "8d07b9f34c9543c992ab6dcfd38df0f7",
            "405c564da4ef4647bba9e3909efaa222",
            "aa5a6600f392446b8fb50e2c8619b764",
            "a7c59d78ebe64e4ead5a02107ca7e26a",
            "49c4b1166247413cb50a71ec1867a761",
            "8ef0a7eeeaf142149bfe9a1bc7b7e1ec",
            "57fe44fad9a8442b97491cdb1dae70cd",
            "03d24b1edb8f45fcb0e260dabad56e5a",
            "6121f588a3484931be34c57a9e3c87b4"
          ]
        },
        "outputId": "74ecc6fa-287f-437b-b482-9d62141636a1"
      },
      "outputs": [
        {
          "data": {
            "application/vnd.jupyter.widget-view+json": {
              "model_id": "983a1905713c41989e2b3aeaf1f23d9b",
              "version_major": 2,
              "version_minor": 0
            },
            "text/plain": [
              "  0%|          | 0/20 [00:00<?, ?it/s]"
            ]
          },
          "metadata": {},
          "output_type": "display_data"
        },
        {
          "output_type": "stream",
          "name": "stdout",
          "text": [
            "Epoch [1/20], Loss: 0.003398599378256635, Test Loss: 0.0016338409264930165\n",
            "Epoch [2/20], Loss: 0.001405528492548249, Test Loss: 0.0015441631761719831\n",
            "Epoch [3/20], Loss: 0.0013693399474309558, Test Loss: 0.001541016067046887\n",
            "Epoch [4/20], Loss: 0.0013417389969272186, Test Loss: 0.0014802648474869784\n",
            "Epoch [5/20], Loss: 0.0012797547084825837, Test Loss: 0.0013887820580119016\n",
            "Epoch [6/20], Loss: 0.0011059089081769825, Test Loss: 0.0011082712911817138\n",
            "Epoch [7/20], Loss: 0.0006842164049494611, Test Loss: 0.0005050683561981154\n",
            "Epoch [8/20], Loss: 0.0003725812120520902, Test Loss: 0.0003778186411671833\n",
            "Epoch [9/20], Loss: 0.00030229988732579174, Test Loss: 0.00036843588273208856\n",
            "Epoch [10/20], Loss: 0.0002553232464206228, Test Loss: 0.00034135403494964033\n",
            "Epoch [11/20], Loss: 0.00023656424093117923, Test Loss: 0.000310722683025233\n",
            "Epoch [12/20], Loss: 0.00022943207542152214, Test Loss: 0.00028460369818416296\n",
            "Epoch [13/20], Loss: 0.00021656104993683187, Test Loss: 0.0002697003819076389\n",
            "Epoch [14/20], Loss: 0.00019919761743498505, Test Loss: 0.00022910242471250688\n",
            "Epoch [15/20], Loss: 0.0001920196538009827, Test Loss: 0.000275799525437693\n",
            "Epoch [16/20], Loss: 0.00018516268912117836, Test Loss: 0.00023825072940571073\n",
            "Epoch [17/20], Loss: 0.00018035335467949371, Test Loss: 0.0002611554167602802\n",
            "Epoch [18/20], Loss: 0.00017289549565954857, Test Loss: 0.00024917370613436034\n",
            "Epoch [19/20], Loss: 0.00017129698088046255, Test Loss: 0.00022071651402746703\n",
            "Epoch [20/20], Loss: 0.00017657062670885592, Test Loss: 0.00022254992423908194\n"
          ]
        }
      ],
      "source": [
        "train_sim_model(model, train_data_loader, valid_data_loader, optimizer, criterion, device, iterations=EPOCHS, model_file='best_task2_model.pth')"
      ]
    },
    {
      "cell_type": "code",
      "execution_count": null,
      "metadata": {
        "id": "jJ2l0Xn35t5p"
      },
      "outputs": [],
      "source": [
        "def recalc_data(padded_input_data):\n",
        "    input_data = []\n",
        "    euclidean_distance = []\n",
        "    for elem in padded_input_data:\n",
        "        input_data.append(pair_values(elem))\n",
        "        euclidean_distance.append(get_euclidean_distance(elem))\n",
        "\n",
        "    return torch.stack(input_data), padded_input_data, torch.stack(euclidean_distance)"
      ]
    },
    {
      "cell_type": "code",
      "execution_count": null,
      "metadata": {
        "id": "rN_SOPIm6fDP"
      },
      "outputs": [],
      "source": [
        "def simulate(init_data, times=5):\n",
        "    input_data, unpaired_data, mask, distance = init_data\n",
        "\n",
        "    input_data = input_data.to(device).unsqueeze(0)\n",
        "    unpaired_data = unpaired_data.to(device).unsqueeze(0)\n",
        "    mask = mask.to(device).unsqueeze(0)\n",
        "    distance = distance.to(device).unsqueeze(0)\n",
        "\n",
        "    locations = []\n",
        "    model.eval()\n",
        "    with torch.no_grad():\n",
        "        for time in tqdm(range(times)):\n",
        "\n",
        "            output = model(input_data, unpaired_data, mask, distance).squeeze(0)\n",
        "\n",
        "            unpaired_data[:,:,3:5] = output\n",
        "            unpaired_data[:,:,1:3] += unpaired_data[:,:,3:5]\n",
        "            locations.append(unpaired_data[:,:,1:3])\n",
        "\n",
        "            input_data, unpaired_data, distance = recalc_data(unpaired_data)\n",
        "\n",
        "\n",
        "    return locations"
      ]
    },
    {
      "cell_type": "code",
      "source": [],
      "metadata": {
        "id": "gz7ChnqKvLkR"
      },
      "execution_count": null,
      "outputs": []
    },
    {
      "cell_type": "code",
      "source": [
        "def plot(model, test_data_loader, indices):\n",
        "    model.eval()\n",
        "\n",
        "    num_plots = len(indices)\n",
        "    num_cols = 3  # Number of columns in the subplot grid\n",
        "    num_rows = (num_plots + num_cols - 1) // num_cols  # Calculate the number of rows needed\n",
        "\n",
        "    fig, axes = plt.subplots(num_rows, num_cols, figsize=(30, 30), squeeze=False)  # Create the subplot grid\n",
        "\n",
        "\n",
        "    for i, index in enumerate(indices):\n",
        "        row = i // num_cols  # Calculate the row index\n",
        "        col = i % num_cols  # Calculate the column index\n",
        "\n",
        "        ax = axes[row, col] if num_plots > 1 else axes  # Select the appropriate subplot\n",
        "\n",
        "        with torch.no_grad():\n",
        "            input_data, target_diff, unpaired_data, mask, distance = test_data_loader.dataset[index]\n",
        "\n",
        "            input_data = input_data.unsqueeze(0)\n",
        "            unpaired_data = unpaired_data.unsqueeze(0)\n",
        "            mask = mask.unsqueeze(0)\n",
        "            distance = distance.unsqueeze(0)\n",
        "\n",
        "            output = model(input_data, unpaired_data, mask, distance)\n",
        "            init_pos = test_data_loader.dataset[index][2][:, 1:3]\n",
        "            mass = unpaired_data[:, :, :1]\n",
        "\n",
        "            predicted_pos = init_pos + output\n",
        "            gt = init_pos + test_data_loader.dataset[index][1]\n",
        "            for j in range(max(torch.where(mask.all(dim=2))[1]).item()):\n",
        "            # for j in range(1):\n",
        "                init_pos_body = init_pos[j]\n",
        "                predicted_pos_body = predicted_pos[0][j]\n",
        "                gt_body = gt[j]\n",
        "                mass_body = mass[0][j]\n",
        "\n",
        "                # Assign a unique color to each body\n",
        "                color = plt.cm.tab10(j)\n",
        "\n",
        "                # Calculate dot size based on mass value\n",
        "                dot_size = mass_body * 2\n",
        "\n",
        "                # plot x vs y for this body, with different styles for ground truth and prediction\n",
        "                ax.plot(gt_body[0], gt_body[1], 'o-', label=f'Body {j} Ground Truth', color=color, markersize=dot_size)\n",
        "                ax.plot(predicted_pos_body[0], predicted_pos_body[1], 'o--', label=f'Body {j} Predicted',\n",
        "                        color=color, markersize=dot_size)\n",
        "                # Draw lines connecting initial position, ground truth, and predicted positions\n",
        "                ax.plot([init_pos_body[0], gt_body[0]], [init_pos_body[1], gt_body[1]], '-', color=color, alpha=1.0)\n",
        "                ax.plot([init_pos_body[0], predicted_pos_body[0]], [init_pos_body[1], predicted_pos_body[1]], '--',\n",
        "                        color=color, alpha=1.0)\n",
        "\n",
        "\n",
        "        ax.set_xlabel('x')\n",
        "        ax.set_ylabel('y')\n",
        "        # if i < 3:\n",
        "        #     ax.set_title('Trajectories failure cases')\n",
        "        # else:\n",
        "        #     ax.set_title('Trajectories succesful cases')\n",
        "        ax.legend(loc='center left', bbox_to_anchor=(1, 0.5))\n",
        "        ax.grid(True)\n",
        "\n",
        "    plt.tight_layout()  # Adjust spacing between subplots\n",
        "    plt.subplots_adjust(wspace=0.55, hspace=0.1)\n",
        "    plt.show()"
      ],
      "metadata": {
        "id": "4BDTThmCtzun"
      },
      "execution_count": null,
      "outputs": []
    },
    {
      "cell_type": "markdown",
      "source": [
        "# Task 3"
      ],
      "metadata": {
        "id": "9OwzOfEKjTOx"
      }
    },
    {
      "cell_type": "code",
      "source": [
        "class NPEEncoderDropout(nn.Module):\n",
        "    def __init__(self, hidden_units, dropout_rate):\n",
        "        super(NPEEncoderDropout, self).__init__()\n",
        "        self.pairwise_layer = nn.Linear(10, hidden_units, bias=False)\n",
        "        self.feedforward = nn.Sequential(\n",
        "            nn.Linear(hidden_units, 50, bias=False),\n",
        "            nn.ReLU(),\n",
        "            nn.Dropout(dropout_rate),\n",
        "            nn.Linear(50, 50, bias=False),\n",
        "            nn.ReLU(),\n",
        "            nn.Dropout(dropout_rate),\n",
        "            nn.Linear(50, 50, bias=False),\n",
        "            nn.ReLU(),\n",
        "            nn.Dropout(dropout_rate),\n",
        "            nn.Linear(50, 50, bias=False),\n",
        "            nn.ReLU()\n",
        "        )\n",
        "\n",
        "    def forward(self, x):\n",
        "        x= x.to(torch.float32)\n",
        "        x = self.pairwise_layer(x)\n",
        "        x = self.feedforward(x)\n",
        "        return x\n",
        "\n",
        "class NPEDecoderDropout(nn.Module):\n",
        "    def __init__(self, dropout_rate):\n",
        "        super(NPEDecoderDropout, self).__init__()\n",
        "        self.decoder = nn.Sequential(\n",
        "            nn.Linear(55, 50),\n",
        "            nn.ReLU(),\n",
        "            nn.Dropout(dropout_rate),\n",
        "            nn.Linear(50, 50),\n",
        "            nn.ReLU(),\n",
        "            nn.Dropout(dropout_rate),\n",
        "            nn.Linear(50, 50),\n",
        "            nn.ReLU(),\n",
        "            nn.Dropout(dropout_rate),\n",
        "            nn.Linear(50, 50),\n",
        "            nn.ReLU(),\n",
        "            nn.Dropout(dropout_rate),\n",
        "            nn.Linear(50, 2)\n",
        "        )\n",
        "\n",
        "    def forward(self, x):\n",
        "        x = self.decoder(x)\n",
        "        return x"
      ],
      "metadata": {
        "id": "5Wv7KTiUsmTP"
      },
      "execution_count": 51,
      "outputs": []
    },
    {
      "cell_type": "code",
      "source": [
        "class NPEModelDropout(nn.Module):\n",
        "    def __init__(self, hidden_units, device, dropout_rate=0.0):\n",
        "        super(NPEModelDropout, self).__init__()\n",
        "        self.encoder = NPEEncoderDropout(hidden_units, dropout_rate)\n",
        "        self.decoder = NPEDecoderDropout(dropout_rate)\n",
        "        self.device = device\n",
        "\n",
        "    def forward(self, x,unpaired_data, mask, distance, neighborhood_threshold=5):\n",
        "        decoder_input = []\n",
        "        dist_mask = ((distance > 0) & (distance < neighborhood_threshold))\n",
        "        for batch in range(x.size(0)):\n",
        "            batch_data= x[batch]\n",
        "            for body in range(batch_data.size(0)):\n",
        "                if torch.all(mask[batch][body]==1):\n",
        "                    focus_body = unpaired_data[batch][body]\n",
        "\n",
        "                    if dist_mask[batch][body].any():\n",
        "                        chunk = torch.flatten(x[batch][body][dist_mask[batch][body]],start_dim=1)\n",
        "                        neighbor_encodings = torch.sum(self.encoder(chunk), dim=0)\n",
        "                    else:\n",
        "                        neighbor_encodings = torch.zeros(50).to(self.device)\n",
        "                    # Concatenate the focus body encoding with the focus_body\n",
        "                    decoder_input.append(torch.cat((neighbor_encodings, focus_body), dim=0))\n",
        "                else:\n",
        "                    decoder_input.append(torch.cat((torch.zeros(50, device=self.device), torch.zeros_like(unpaired_data[batch][body])), dim=0))\n",
        "\n",
        "        # Decode the concatenated vector\n",
        "        decoded = self.decoder(torch.stack(decoder_input))\n",
        "\n",
        "        out_shape = x.size()\n",
        "        decoded = decoded.view(out_shape[0], out_shape[1], -1)\n",
        "\n",
        "        return decoded"
      ],
      "metadata": {
        "id": "m7eFx4htsuM8"
      },
      "execution_count": 55,
      "outputs": []
    },
    {
      "cell_type": "code",
      "source": [
        "device = torch.device('cuda' if torch.cuda.is_available() else 'cpu')\n",
        "device"
      ],
      "metadata": {
        "colab": {
          "base_uri": "https://localhost:8080/"
        },
        "id": "Mg4QN5sJbq0X",
        "outputId": "6aecad3f-4f83-4479-8243-bb907cc607b1"
      },
      "execution_count": 56,
      "outputs": [
        {
          "output_type": "execute_result",
          "data": {
            "text/plain": [
              "device(type='cpu')"
            ]
          },
          "metadata": {},
          "execution_count": 56
        }
      ]
    },
    {
      "cell_type": "code",
      "execution_count": 57,
      "metadata": {
        "id": "RyvnY9eyjaBV"
      },
      "outputs": [],
      "source": [
        "# Hyperparameters\n",
        "hidden_units = 25\n",
        "LR = 1e-3\n",
        "EPOCHS = 20\n",
        "\n",
        "# Create the model\n",
        "model = NPEModelDropout(hidden_units, device=device, dropout_rate=0.3).to(device)\n",
        "\n",
        "criterion = nn.MSELoss(reduction='none')\n",
        "optimizer = optim.AdamW(model.parameters(), lr=LR)"
      ]
    },
    {
      "cell_type": "code",
      "execution_count": 60,
      "metadata": {
        "id": "BjSDnaGbjaBX",
        "colab": {
          "base_uri": "https://localhost:8080/",
          "height": 389,
          "referenced_widgets": [
            "151124f61f28465db9f2f14cf338c0ca",
            "b3e294752b0b487fbcfd7fc36a42653f",
            "c45e914255aa420685ec028a516af37a",
            "d5356708dda84a83af7e0084ca59039d",
            "64d99c9a49744a1e869328c9a0a978da",
            "907b223c5fec4b93a95762ee5a10fdbb",
            "597cf7aef49b4d2388fb068504fa1416",
            "67e55b5cb80f4de19a87fd4fc56d0083",
            "e2483fbc57db451b86698c71f0eeea87",
            "c93a18a5a2ba4c80b61d66b677744347",
            "9d6ab3e4a56f4853881d94670418390d"
          ]
        },
        "outputId": "ee58f957-3ceb-43b3-f119-23883be03e83"
      },
      "outputs": [
        {
          "output_type": "display_data",
          "data": {
            "text/plain": [
              "  0%|          | 0/20 [00:00<?, ?it/s]"
            ],
            "application/vnd.jupyter.widget-view+json": {
              "version_major": 2,
              "version_minor": 0,
              "model_id": "151124f61f28465db9f2f14cf338c0ca"
            }
          },
          "metadata": {}
        },
        {
          "output_type": "stream",
          "name": "stdout",
          "text": [
            "Epoch [1/20], Loss: 0.012949982708370363, \tTest Loss: 0.0091205820790492\n",
            "Epoch [2/20], Loss: 0.007615095331660799, \tTest Loss: 0.004434120302903466\n",
            "Epoch [3/20], Loss: 0.005269693663796863, \tTest Loss: 0.0027889816410606727\n",
            "Epoch [4/20], Loss: 0.00416692643980118, \tTest Loss: 0.002424637699732557\n",
            "Epoch [5/20], Loss: 0.003634752460277161, \tTest Loss: 0.002139194621122442\n",
            "Epoch [6/20], Loss: 0.003315887206259209, \tTest Loss: 0.0019647733570309356\n",
            "Epoch [7/20], Loss: 0.003084414198088485, \tTest Loss: 0.0018140831125492696\n",
            "Epoch [8/20], Loss: 0.0029272643968815334, \tTest Loss: 0.0017423677199985832\n",
            "Epoch [9/20], Loss: 0.0028170470613986254, \tTest Loss: 0.0017160063689516392\n",
            "Epoch [10/20], Loss: 0.002754022109297079, \tTest Loss: 0.001681297133472981\n",
            "Epoch [11/20], Loss: 0.0026947714866617243, \tTest Loss: 0.001713817906420445\n",
            "Epoch [12/20], Loss: 0.002634855975220735, \tTest Loss: 0.001669217374001164\n",
            "Epoch [13/20], Loss: 0.002593524854730915, \tTest Loss: 0.0016159622791747097\n",
            "Epoch [14/20], Loss: 0.0025545671720661827, \tTest Loss: 0.0017064464518625755\n",
            "Epoch [15/20], Loss: 0.0025111434389711233, \tTest Loss: 0.0016795941846794449\n",
            "Epoch [16/20], Loss: 0.0025101197078018574, \tTest Loss: 0.0017201706068590283\n",
            "Epoch [17/20], Loss: 0.00245520837504316, \tTest Loss: 0.0016387903378927149\n",
            "Epoch [18/20], Loss: 0.0024308450457111402, \tTest Loss: 0.0016763863131927792\n",
            "Epoch [19/20], Loss: 0.0024237516902487826, \tTest Loss: 0.001551444067445118\n",
            "Epoch [20/20], Loss: 0.0023829199285623996, \tTest Loss: 0.001693548787443433\n"
          ]
        }
      ],
      "source": [
        "train_sim_model(model, train_data_loader, valid_data_loader, optimizer, criterion, device, iterations=EPOCHS, model_file='best_task3_model_new.pth')"
      ]
    },
    {
      "cell_type": "code",
      "source": [
        "def mc_dropout_sim(model, batch, times = 100):\n",
        "    input_data, target_data,unpaired_data, mask, distance = batch\n",
        "    input_data = input_data.to(device)\n",
        "    target_data = target_data.to(device)\n",
        "    unpaired_data = unpaired_data.to(device)\n",
        "    mask = mask.to(device)\n",
        "    distance = distance.to(device)\n",
        "    sim_results = []\n",
        "\n",
        "    model.train()\n",
        "    with torch.no_grad():\n",
        "        for time in range(times):\n",
        "            output = model(input_data, unpaired_data, mask, distance)\n",
        "            sim_results.append(output)\n",
        "    sim_results = torch.stack(sim_results)\n",
        "    return sim_results.permute(1, 2, 0, 3)"
      ],
      "metadata": {
        "id": "PQazPtrakALW"
      },
      "execution_count": 61,
      "outputs": []
    },
    {
      "cell_type": "code",
      "source": [
        "def files_2_data_test(files):\n",
        "    output = []\n",
        "    for file_path in tqdm(files):\n",
        "        datapoint = np.load(file_path)\n",
        "        whole_trajectory = datapoint['trajectory']\n",
        "        # change shape: (num_bodies, attributes, time) ->  num_bodies, time, attributes\n",
        "        whole_trajectory = np.swapaxes(whole_trajectory, 1, 2)\n",
        "        data = whole_trajectory[:, 0], whole_trajectory[:, 1, 1:3]\n",
        "        padded_input_data, padded_target_data = pad_array(data)\n",
        "        mask = create_mask(data,padded_input_data)\n",
        "        input_data = pair_values(padded_input_data)\n",
        "        euclidean_distance = get_euclidean_distance(padded_input_data)\n",
        "        target_data= target_difference(padded_target_data, padded_input_data[:,1:3])\n",
        "\n",
        "        output.append((input_data, target_data, padded_input_data, mask, euclidean_distance))\n",
        "    return output"
      ],
      "metadata": {
        "id": "WiVyqYXpX_hF"
      },
      "execution_count": 62,
      "outputs": []
    },
    {
      "cell_type": "code",
      "source": [
        "test_files = glob('data/task 2_3/test/*')\n",
        "test_data = files_2_data_test(test_files)"
      ],
      "metadata": {
        "colab": {
          "base_uri": "https://localhost:8080/",
          "height": 49,
          "referenced_widgets": [
            "ddb021d635394d808e214f3dd86635c4",
            "9f5ce0fb6de640bfab137df9b68b08ab",
            "8aadf703917c45808fcc9596c9d24d01",
            "b7c9412db2044f94921d28c0b144f78d",
            "4deecd92f86c4e538b04214c2804b10a",
            "15bb6f2b1ad649578d8fff2a08c5c402",
            "0fd79d4b55cb48ec9180bff3da887a8f",
            "0ed4689369014d8f85e705b8943022df",
            "2b679659bf5d4837b78c8bad6a3eb366",
            "8e56a4f01175467bbaff1e141cf35833",
            "621b4efe1bb548ac92892320f86ce6e8"
          ]
        },
        "id": "6MauIhHSX6mR",
        "outputId": "0867e97b-fa48-46fd-82d6-18806bfb1484"
      },
      "execution_count": 63,
      "outputs": [
        {
          "output_type": "display_data",
          "data": {
            "text/plain": [
              "  0%|          | 0/100 [00:00<?, ?it/s]"
            ],
            "application/vnd.jupyter.widget-view+json": {
              "version_major": 2,
              "version_minor": 0,
              "model_id": "ddb021d635394d808e214f3dd86635c4"
            }
          },
          "metadata": {}
        }
      ]
    },
    {
      "cell_type": "code",
      "source": [
        "len(test_data)"
      ],
      "metadata": {
        "colab": {
          "base_uri": "https://localhost:8080/"
        },
        "id": "i8y42Le_Yl4B",
        "outputId": "91860161-e009-491e-a3e8-ace0db40f1fa"
      },
      "execution_count": 64,
      "outputs": [
        {
          "output_type": "execute_result",
          "data": {
            "text/plain": [
              "100"
            ]
          },
          "metadata": {},
          "execution_count": 64
        }
      ]
    },
    {
      "cell_type": "code",
      "source": [
        "BATCH_SIZE = 1\n",
        "\n",
        "test_data_loader = DataLoader(test_data, batch_size=BATCH_SIZE, shuffle=False)"
      ],
      "metadata": {
        "id": "80bc-3ROpwT9"
      },
      "execution_count": 65,
      "outputs": []
    },
    {
      "cell_type": "code",
      "source": [
        "indices = np.random.randint(low = 0,high=len(test_data_loader.dataset),size=9)"
      ],
      "metadata": {
        "id": "tlSmZ8EcKL4s"
      },
      "execution_count": 66,
      "outputs": []
    },
    {
      "cell_type": "code",
      "source": [
        "def plot(model, test_data_loader, indices):\n",
        "\n",
        "    num_plots = len(indices)\n",
        "    num_cols = 3  # Number of columns in the subplot grid\n",
        "    num_rows = (num_plots + num_cols - 1) // num_cols  # Calculate the number of rows needed\n",
        "\n",
        "    fig, axes = plt.subplots(num_rows, num_cols, figsize=(30, 20), squeeze=False)  # Create the subplot grid\n",
        "\n",
        "\n",
        "    for i, index in enumerate(indices):\n",
        "        row = i // num_cols  # Calculate the row index\n",
        "        col = i % num_cols  # Calculate the column index\n",
        "\n",
        "        ax = axes[row, col] if num_plots > 1 else axes  # Select the appropriate subplot\n",
        "\n",
        "        with torch.no_grad():\n",
        "            input_data, target_diff, unpaired_data, mask, distance = test_data_loader.dataset[index]\n",
        "\n",
        "            input_data = input_data.unsqueeze(0)\n",
        "            unpaired_data = unpaired_data.unsqueeze(0)\n",
        "            mask = mask.unsqueeze(0)\n",
        "            distance = distance.unsqueeze(0)\n",
        "            model.eval()\n",
        "            output = model(input_data, unpaired_data, mask, distance)\n",
        "            init_pos = test_data_loader.dataset[index][2][:, 1:3]\n",
        "            mass = unpaired_data[:, :, :1]\n",
        "\n",
        "            predicted_pos = init_pos + output\n",
        "            gt = init_pos + test_data_loader.dataset[index][1]\n",
        "            # for j in range(max(torch.where(mask.all(dim=2))[1]).item()):\n",
        "            for j in range(1):\n",
        "                init_pos_body = init_pos[j]\n",
        "                predicted_pos_body = predicted_pos[0][j]\n",
        "                gt_body = gt[j]\n",
        "                mass_body = mass[0][j]\n",
        "\n",
        "                # Assign a unique color to each body\n",
        "                color = plt.cm.tab10(j)\n",
        "\n",
        "                # Calculate dot size based on mass value\n",
        "                dot_size = mass_body * 2\n",
        "\n",
        "                # plot x vs y for this body, with different styles for ground truth and prediction\n",
        "                ax.plot(gt_body[0], gt_body[1], 'o-', label=f'Body {j} Ground Truth', color=color, markersize=dot_size)\n",
        "                ax.plot(predicted_pos_body[0], predicted_pos_body[1], 'o--', label=f'Body {j} Predicted',\n",
        "                        color=color, markersize=dot_size)\n",
        "                # Draw lines connecting initial position, ground truth, and predicted positions\n",
        "                ax.plot([init_pos_body[0], gt_body[0]], [init_pos_body[1], gt_body[1]], '-', color=color, alpha=1.0)\n",
        "                ax.plot([init_pos_body[0], predicted_pos_body[0]], [init_pos_body[1], predicted_pos_body[1]], '--',\n",
        "                        color=color, alpha=1.0)\n",
        "\n",
        "                simulations = mc_dropout_sim(model, (input_data, target_diff.unsqueeze(0), unpaired_data, mask, distance), times = 100).squeeze(0)\n",
        "                for sim in simulations[0]:\n",
        "                    predicted_pos_body = init_pos_body + sim\n",
        "                    ax.plot(predicted_pos_body[0], predicted_pos_body[1], 'o',\n",
        "                        color=color, markersize=dot_size, alpha=0.3)\n",
        "\n",
        "        ax.set_xlabel('x')\n",
        "        ax.set_ylabel('y')\n",
        "        # if i < 3:\n",
        "        #     ax.set_title('Trajectories failure cases')\n",
        "        # else:\n",
        "        #     ax.set_title('Trajectories succesful cases')\n",
        "        ax.legend(loc='center left', bbox_to_anchor=(1, 0.5))\n",
        "        ax.grid(True)\n",
        "\n",
        "    plt.tight_layout()  # Adjust spacing between subplots\n",
        "    plt.subplots_adjust(wspace=0.55, hspace=0.1)\n",
        "    plt.show()"
      ],
      "metadata": {
        "id": "y_uU1qK-KEfZ"
      },
      "execution_count": 71,
      "outputs": []
    },
    {
      "cell_type": "code",
      "source": [
        "plot(model, test_data_loader, indices)"
      ],
      "metadata": {
        "colab": {
          "base_uri": "https://localhost:8080/",
          "height": 894
        },
        "id": "aYvqhcH7SHXW",
        "outputId": "ad093086-74b7-46b3-ff62-3a27e42d8140"
      },
      "execution_count": 72,
      "outputs": [
        {
          "output_type": "display_data",
          "data": {
            "text/plain": [
              "<Figure size 3000x2000 with 9 Axes>"
            ],
            "image/png": "[encoded data removed]"
          },
          "metadata": {}
        }
      ]
    }
  ],
  "metadata": {
    "colab": {
      "provenance": [],
      "gpuType": "T4"
    },
    "kernelspec": {
      "display_name": "Python 3",
      "name": "python3"
    },
    "language_info": {
      "name": "python"
    },
    "widgets": {
      "application/vnd.jupyter.widget-state+json": {
        "48297f5609324674aeed85ae1d3b62ba": {
          "model_module": "@jupyter-widgets/controls",
          "model_name": "HBoxModel",
          "model_module_version": "1.5.0",
          "state": {
            "_dom_classes": [],
            "_model_module": "@jupyter-widgets/controls",
            "_model_module_version": "1.5.0",
            "_model_name": "HBoxModel",
            "_view_count": null,
            "_view_module": "@jupyter-widgets/controls",
            "_view_module_version": "1.5.0",
            "_view_name": "HBoxView",
            "box_style": "",
            "children": [
              "IPY_MODEL_2215dfba08114aa594608bf7cfb96ac5",
              "IPY_MODEL_fd4d4bd9a6ea44e3b7ee5f8eb65dd244",
              "IPY_MODEL_fd2b815361244a809427009365cbd326"
            ],
            "layout": "IPY_MODEL_11fa7d62753c41149d54ff596bfd60cc"
          }
        },
        "2215dfba08114aa594608bf7cfb96ac5": {
          "model_module": "@jupyter-widgets/controls",
          "model_name": "HTMLModel",
          "model_module_version": "1.5.0",
          "state": {
            "_dom_classes": [],
            "_model_module": "@jupyter-widgets/controls",
            "_model_module_version": "1.5.0",
            "_model_name": "HTMLModel",
            "_view_count": null,
            "_view_module": "@jupyter-widgets/controls",
            "_view_module_version": "1.5.0",
            "_view_name": "HTMLView",
            "description": "",
            "description_tooltip": null,
            "layout": "IPY_MODEL_adc0716739f54557a9dd5403f1f3c559",
            "placeholder": "​",
            "style": "IPY_MODEL_8c6e8b91901a4ea6a9c7440ad86c50bf",
            "value": "100%"
          }
        },
        "fd4d4bd9a6ea44e3b7ee5f8eb65dd244": {
          "model_module": "@jupyter-widgets/controls",
          "model_name": "FloatProgressModel",
          "model_module_version": "1.5.0",
          "state": {
            "_dom_classes": [],
            "_model_module": "@jupyter-widgets/controls",
            "_model_module_version": "1.5.0",
            "_model_name": "FloatProgressModel",
            "_view_count": null,
            "_view_module": "@jupyter-widgets/controls",
            "_view_module_version": "1.5.0",
            "_view_name": "ProgressView",
            "bar_style": "success",
            "description": "",
            "description_tooltip": null,
            "layout": "IPY_MODEL_ec78e6ce8de342f09e585099e3f867b9",
            "max": 50,
            "min": 0,
            "orientation": "horizontal",
            "style": "IPY_MODEL_8db7a480794e414e9e14240711000b80",
            "value": 50
          }
        },
        "fd2b815361244a809427009365cbd326": {
          "model_module": "@jupyter-widgets/controls",
          "model_name": "HTMLModel",
          "model_module_version": "1.5.0",
          "state": {
            "_dom_classes": [],
            "_model_module": "@jupyter-widgets/controls",
            "_model_module_version": "1.5.0",
            "_model_name": "HTMLModel",
            "_view_count": null,
            "_view_module": "@jupyter-widgets/controls",
            "_view_module_version": "1.5.0",
            "_view_name": "HTMLView",
            "description": "",
            "description_tooltip": null,
            "layout": "IPY_MODEL_4288723f8f794e498097c7a4d7e466c9",
            "placeholder": "​",
            "style": "IPY_MODEL_45768b5ed593494cb75c39cf0b18a815",
            "value": " 50/50 [02:35&lt;00:00,  2.83s/it]"
          }
        },
        "11fa7d62753c41149d54ff596bfd60cc": {
          "model_module": "@jupyter-widgets/base",
          "model_name": "LayoutModel",
          "model_module_version": "1.2.0",
          "state": {
            "_model_module": "@jupyter-widgets/base",
            "_model_module_version": "1.2.0",
            "_model_name": "LayoutModel",
            "_view_count": null,
            "_view_module": "@jupyter-widgets/base",
            "_view_module_version": "1.2.0",
            "_view_name": "LayoutView",
            "align_content": null,
            "align_items": null,
            "align_self": null,
            "border": null,
            "bottom": null,
            "display": null,
            "flex": null,
            "flex_flow": null,
            "grid_area": null,
            "grid_auto_columns": null,
            "grid_auto_flow": null,
            "grid_auto_rows": null,
            "grid_column": null,
            "grid_gap": null,
            "grid_row": null,
            "grid_template_areas": null,
            "grid_template_columns": null,
            "grid_template_rows": null,
            "height": null,
            "justify_content": null,
            "justify_items": null,
            "left": null,
            "margin": null,
            "max_height": null,
            "max_width": null,
            "min_height": null,
            "min_width": null,
            "object_fit": null,
            "object_position": null,
            "order": null,
            "overflow": null,
            "overflow_x": null,
            "overflow_y": null,
            "padding": null,
            "right": null,
            "top": null,
            "visibility": null,
            "width": null
          }
        },
        "adc0716739f54557a9dd5403f1f3c559": {
          "model_module": "@jupyter-widgets/base",
          "model_name": "LayoutModel",
          "model_module_version": "1.2.0",
          "state": {
            "_model_module": "@jupyter-widgets/base",
            "_model_module_version": "1.2.0",
            "_model_name": "LayoutModel",
            "_view_count": null,
            "_view_module": "@jupyter-widgets/base",
            "_view_module_version": "1.2.0",
            "_view_name": "LayoutView",
            "align_content": null,
            "align_items": null,
            "align_self": null,
            "border": null,
            "bottom": null,
            "display": null,
            "flex": null,
            "flex_flow": null,
            "grid_area": null,
            "grid_auto_columns": null,
            "grid_auto_flow": null,
            "grid_auto_rows": null,
            "grid_column": null,
            "grid_gap": null,
            "grid_row": null,
            "grid_template_areas": null,
            "grid_template_columns": null,
            "grid_template_rows": null,
            "height": null,
            "justify_content": null,
            "justify_items": null,
            "left": null,
            "margin": null,
            "max_height": null,
            "max_width": null,
            "min_height": null,
            "min_width": null,
            "object_fit": null,
            "object_position": null,
            "order": null,
            "overflow": null,
            "overflow_x": null,
            "overflow_y": null,
            "padding": null,
            "right": null,
            "top": null,
            "visibility": null,
            "width": null
          }
        },
        "8c6e8b91901a4ea6a9c7440ad86c50bf": {
          "model_module": "@jupyter-widgets/controls",
          "model_name": "DescriptionStyleModel",
          "model_module_version": "1.5.0",
          "state": {
            "_model_module": "@jupyter-widgets/controls",
            "_model_module_version": "1.5.0",
            "_model_name": "DescriptionStyleModel",
            "_view_count": null,
            "_view_module": "@jupyter-widgets/base",
            "_view_module_version": "1.2.0",
            "_view_name": "StyleView",
            "description_width": ""
          }
        },
        "ec78e6ce8de342f09e585099e3f867b9": {
          "model_module": "@jupyter-widgets/base",
          "model_name": "LayoutModel",
          "model_module_version": "1.2.0",
          "state": {
            "_model_module": "@jupyter-widgets/base",
            "_model_module_version": "1.2.0",
            "_model_name": "LayoutModel",
            "_view_count": null,
            "_view_module": "@jupyter-widgets/base",
            "_view_module_version": "1.2.0",
            "_view_name": "LayoutView",
            "align_content": null,
            "align_items": null,
            "align_self": null,
            "border": null,
            "bottom": null,
            "display": null,
            "flex": null,
            "flex_flow": null,
            "grid_area": null,
            "grid_auto_columns": null,
            "grid_auto_flow": null,
            "grid_auto_rows": null,
            "grid_column": null,
            "grid_gap": null,
            "grid_row": null,
            "grid_template_areas": null,
            "grid_template_columns": null,
            "grid_template_rows": null,
            "height": null,
            "justify_content": null,
            "justify_items": null,
            "left": null,
            "margin": null,
            "max_height": null,
            "max_width": null,
            "min_height": null,
            "min_width": null,
            "object_fit": null,
            "object_position": null,
            "order": null,
            "overflow": null,
            "overflow_x": null,
            "overflow_y": null,
            "padding": null,
            "right": null,
            "top": null,
            "visibility": null,
            "width": null
          }
        },
        "8db7a480794e414e9e14240711000b80": {
          "model_module": "@jupyter-widgets/controls",
          "model_name": "ProgressStyleModel",
          "model_module_version": "1.5.0",
          "state": {
            "_model_module": "@jupyter-widgets/controls",
            "_model_module_version": "1.5.0",
            "_model_name": "ProgressStyleModel",
            "_view_count": null,
            "_view_module": "@jupyter-widgets/base",
            "_view_module_version": "1.2.0",
            "_view_name": "StyleView",
            "bar_color": null,
            "description_width": ""
          }
        },
        "4288723f8f794e498097c7a4d7e466c9": {
          "model_module": "@jupyter-widgets/base",
          "model_name": "LayoutModel",
          "model_module_version": "1.2.0",
          "state": {
            "_model_module": "@jupyter-widgets/base",
            "_model_module_version": "1.2.0",
            "_model_name": "LayoutModel",
            "_view_count": null,
            "_view_module": "@jupyter-widgets/base",
            "_view_module_version": "1.2.0",
            "_view_name": "LayoutView",
            "align_content": null,
            "align_items": null,
            "align_self": null,
            "border": null,
            "bottom": null,
            "display": null,
            "flex": null,
            "flex_flow": null,
            "grid_area": null,
            "grid_auto_columns": null,
            "grid_auto_flow": null,
            "grid_auto_rows": null,
            "grid_column": null,
            "grid_gap": null,
            "grid_row": null,
            "grid_template_areas": null,
            "grid_template_columns": null,
            "grid_template_rows": null,
            "height": null,
            "justify_content": null,
            "justify_items": null,
            "left": null,
            "margin": null,
            "max_height": null,
            "max_width": null,
            "min_height": null,
            "min_width": null,
            "object_fit": null,
            "object_position": null,
            "order": null,
            "overflow": null,
            "overflow_x": null,
            "overflow_y": null,
            "padding": null,
            "right": null,
            "top": null,
            "visibility": null,
            "width": null
          }
        },
        "45768b5ed593494cb75c39cf0b18a815": {
          "model_module": "@jupyter-widgets/controls",
          "model_name": "DescriptionStyleModel",
          "model_module_version": "1.5.0",
          "state": {
            "_model_module": "@jupyter-widgets/controls",
            "_model_module_version": "1.5.0",
            "_model_name": "DescriptionStyleModel",
            "_view_count": null,
            "_view_module": "@jupyter-widgets/base",
            "_view_module_version": "1.2.0",
            "_view_name": "StyleView",
            "description_width": ""
          }
        },
        "983a1905713c41989e2b3aeaf1f23d9b": {
          "model_module": "@jupyter-widgets/controls",
          "model_name": "HBoxModel",
          "model_module_version": "1.5.0",
          "state": {
            "_dom_classes": [],
            "_model_module": "@jupyter-widgets/controls",
            "_model_module_version": "1.5.0",
            "_model_name": "HBoxModel",
            "_view_count": null,
            "_view_module": "@jupyter-widgets/controls",
            "_view_module_version": "1.5.0",
            "_view_name": "HBoxView",
            "box_style": "",
            "children": [
              "IPY_MODEL_4c9a9d3c9d754941aa84890b724ea3bd",
              "IPY_MODEL_8d07b9f34c9543c992ab6dcfd38df0f7",
              "IPY_MODEL_405c564da4ef4647bba9e3909efaa222"
            ],
            "layout": "IPY_MODEL_aa5a6600f392446b8fb50e2c8619b764"
          }
        },
        "4c9a9d3c9d754941aa84890b724ea3bd": {
          "model_module": "@jupyter-widgets/controls",
          "model_name": "HTMLModel",
          "model_module_version": "1.5.0",
          "state": {
            "_dom_classes": [],
            "_model_module": "@jupyter-widgets/controls",
            "_model_module_version": "1.5.0",
            "_model_name": "HTMLModel",
            "_view_count": null,
            "_view_module": "@jupyter-widgets/controls",
            "_view_module_version": "1.5.0",
            "_view_name": "HTMLView",
            "description": "",
            "description_tooltip": null,
            "layout": "IPY_MODEL_a7c59d78ebe64e4ead5a02107ca7e26a",
            "placeholder": "​",
            "style": "IPY_MODEL_49c4b1166247413cb50a71ec1867a761",
            "value": "100%"
          }
        },
        "8d07b9f34c9543c992ab6dcfd38df0f7": {
          "model_module": "@jupyter-widgets/controls",
          "model_name": "FloatProgressModel",
          "model_module_version": "1.5.0",
          "state": {
            "_dom_classes": [],
            "_model_module": "@jupyter-widgets/controls",
            "_model_module_version": "1.5.0",
            "_model_name": "FloatProgressModel",
            "_view_count": null,
            "_view_module": "@jupyter-widgets/controls",
            "_view_module_version": "1.5.0",
            "_view_name": "ProgressView",
            "bar_style": "success",
            "description": "",
            "description_tooltip": null,
            "layout": "IPY_MODEL_8ef0a7eeeaf142149bfe9a1bc7b7e1ec",
            "max": 20,
            "min": 0,
            "orientation": "horizontal",
            "style": "IPY_MODEL_57fe44fad9a8442b97491cdb1dae70cd",
            "value": 20
          }
        },
        "405c564da4ef4647bba9e3909efaa222": {
          "model_module": "@jupyter-widgets/controls",
          "model_name": "HTMLModel",
          "model_module_version": "1.5.0",
          "state": {
            "_dom_classes": [],
            "_model_module": "@jupyter-widgets/controls",
            "_model_module_version": "1.5.0",
            "_model_name": "HTMLModel",
            "_view_count": null,
            "_view_module": "@jupyter-widgets/controls",
            "_view_module_version": "1.5.0",
            "_view_name": "HTMLView",
            "description": "",
            "description_tooltip": null,
            "layout": "IPY_MODEL_03d24b1edb8f45fcb0e260dabad56e5a",
            "placeholder": "​",
            "style": "IPY_MODEL_6121f588a3484931be34c57a9e3c87b4",
            "value": " 20/20 [52:58&lt;00:00, 156.96s/it]"
          }
        },
        "aa5a6600f392446b8fb50e2c8619b764": {
          "model_module": "@jupyter-widgets/base",
          "model_name": "LayoutModel",
          "model_module_version": "1.2.0",
          "state": {
            "_model_module": "@jupyter-widgets/base",
            "_model_module_version": "1.2.0",
            "_model_name": "LayoutModel",
            "_view_count": null,
            "_view_module": "@jupyter-widgets/base",
            "_view_module_version": "1.2.0",
            "_view_name": "LayoutView",
            "align_content": null,
            "align_items": null,
            "align_self": null,
            "border": null,
            "bottom": null,
            "display": null,
            "flex": null,
            "flex_flow": null,
            "grid_area": null,
            "grid_auto_columns": null,
            "grid_auto_flow": null,
            "grid_auto_rows": null,
            "grid_column": null,
            "grid_gap": null,
            "grid_row": null,
            "grid_template_areas": null,
            "grid_template_columns": null,
            "grid_template_rows": null,
            "height": null,
            "justify_content": null,
            "justify_items": null,
            "left": null,
            "margin": null,
            "max_height": null,
            "max_width": null,
            "min_height": null,
            "min_width": null,
            "object_fit": null,
            "object_position": null,
            "order": null,
            "overflow": null,
            "overflow_x": null,
            "overflow_y": null,
            "padding": null,
            "right": null,
            "top": null,
            "visibility": null,
            "width": null
          }
        },
        "a7c59d78ebe64e4ead5a02107ca7e26a": {
          "model_module": "@jupyter-widgets/base",
          "model_name": "LayoutModel",
          "model_module_version": "1.2.0",
          "state": {
            "_model_module": "@jupyter-widgets/base",
            "_model_module_version": "1.2.0",
            "_model_name": "LayoutModel",
            "_view_count": null,
            "_view_module": "@jupyter-widgets/base",
            "_view_module_version": "1.2.0",
            "_view_name": "LayoutView",
            "align_content": null,
            "align_items": null,
            "align_self": null,
            "border": null,
            "bottom": null,
            "display": null,
            "flex": null,
            "flex_flow": null,
            "grid_area": null,
            "grid_auto_columns": null,
            "grid_auto_flow": null,
            "grid_auto_rows": null,
            "grid_column": null,
            "grid_gap": null,
            "grid_row": null,
            "grid_template_areas": null,
            "grid_template_columns": null,
            "grid_template_rows": null,
            "height": null,
            "justify_content": null,
            "justify_items": null,
            "left": null,
            "margin": null,
            "max_height": null,
            "max_width": null,
            "min_height": null,
            "min_width": null,
            "object_fit": null,
            "object_position": null,
            "order": null,
            "overflow": null,
            "overflow_x": null,
            "overflow_y": null,
            "padding": null,
            "right": null,
            "top": null,
            "visibility": null,
            "width": null
          }
        },
        "49c4b1166247413cb50a71ec1867a761": {
          "model_module": "@jupyter-widgets/controls",
          "model_name": "DescriptionStyleModel",
          "model_module_version": "1.5.0",
          "state": {
            "_model_module": "@jupyter-widgets/controls",
            "_model_module_version": "1.5.0",
            "_model_name": "DescriptionStyleModel",
            "_view_count": null,
            "_view_module": "@jupyter-widgets/base",
            "_view_module_version": "1.2.0",
            "_view_name": "StyleView",
            "description_width": ""
          }
        },
        "8ef0a7eeeaf142149bfe9a1bc7b7e1ec": {
          "model_module": "@jupyter-widgets/base",
          "model_name": "LayoutModel",
          "model_module_version": "1.2.0",
          "state": {
            "_model_module": "@jupyter-widgets/base",
            "_model_module_version": "1.2.0",
            "_model_name": "LayoutModel",
            "_view_count": null,
            "_view_module": "@jupyter-widgets/base",
            "_view_module_version": "1.2.0",
            "_view_name": "LayoutView",
            "align_content": null,
            "align_items": null,
            "align_self": null,
            "border": null,
            "bottom": null,
            "display": null,
            "flex": null,
            "flex_flow": null,
            "grid_area": null,
            "grid_auto_columns": null,
            "grid_auto_flow": null,
            "grid_auto_rows": null,
            "grid_column": null,
            "grid_gap": null,
            "grid_row": null,
            "grid_template_areas": null,
            "grid_template_columns": null,
            "grid_template_rows": null,
            "height": null,
            "justify_content": null,
            "justify_items": null,
            "left": null,
            "margin": null,
            "max_height": null,
            "max_width": null,
            "min_height": null,
            "min_width": null,
            "object_fit": null,
            "object_position": null,
            "order": null,
            "overflow": null,
            "overflow_x": null,
            "overflow_y": null,
            "padding": null,
            "right": null,
            "top": null,
            "visibility": null,
            "width": null
          }
        },
        "57fe44fad9a8442b97491cdb1dae70cd": {
          "model_module": "@jupyter-widgets/controls",
          "model_name": "ProgressStyleModel",
          "model_module_version": "1.5.0",
          "state": {
            "_model_module": "@jupyter-widgets/controls",
            "_model_module_version": "1.5.0",
            "_model_name": "ProgressStyleModel",
            "_view_count": null,
            "_view_module": "@jupyter-widgets/base",
            "_view_module_version": "1.2.0",
            "_view_name": "StyleView",
            "bar_color": null,
            "description_width": ""
          }
        },
        "03d24b1edb8f45fcb0e260dabad56e5a": {
          "model_module": "@jupyter-widgets/base",
          "model_name": "LayoutModel",
          "model_module_version": "1.2.0",
          "state": {
            "_model_module": "@jupyter-widgets/base",
            "_model_module_version": "1.2.0",
            "_model_name": "LayoutModel",
            "_view_count": null,
            "_view_module": "@jupyter-widgets/base",
            "_view_module_version": "1.2.0",
            "_view_name": "LayoutView",
            "align_content": null,
            "align_items": null,
            "align_self": null,
            "border": null,
            "bottom": null,
            "display": null,
            "flex": null,
            "flex_flow": null,
            "grid_area": null,
            "grid_auto_columns": null,
            "grid_auto_flow": null,
            "grid_auto_rows": null,
            "grid_column": null,
            "grid_gap": null,
            "grid_row": null,
            "grid_template_areas": null,
            "grid_template_columns": null,
            "grid_template_rows": null,
            "height": null,
            "justify_content": null,
            "justify_items": null,
            "left": null,
            "margin": null,
            "max_height": null,
            "max_width": null,
            "min_height": null,
            "min_width": null,
            "object_fit": null,
            "object_position": null,
            "order": null,
            "overflow": null,
            "overflow_x": null,
            "overflow_y": null,
            "padding": null,
            "right": null,
            "top": null,
            "visibility": null,
            "width": null
          }
        },
        "6121f588a3484931be34c57a9e3c87b4": {
          "model_module": "@jupyter-widgets/controls",
          "model_name": "DescriptionStyleModel",
          "model_module_version": "1.5.0",
          "state": {
            "_model_module": "@jupyter-widgets/controls",
            "_model_module_version": "1.5.0",
            "_model_name": "DescriptionStyleModel",
            "_view_count": null,
            "_view_module": "@jupyter-widgets/base",
            "_view_module_version": "1.2.0",
            "_view_name": "StyleView",
            "description_width": ""
          }
        },
        "0e87c20e0f5345ba8fbeb3f25a4507dc": {
          "model_module": "@jupyter-widgets/controls",
          "model_name": "HBoxModel",
          "model_module_version": "1.5.0",
          "state": {
            "_dom_classes": [],
            "_model_module": "@jupyter-widgets/controls",
            "_model_module_version": "1.5.0",
            "_model_name": "HBoxModel",
            "_view_count": null,
            "_view_module": "@jupyter-widgets/controls",
            "_view_module_version": "1.5.0",
            "_view_name": "HBoxView",
            "box_style": "",
            "children": [
              "IPY_MODEL_bc6409edfe464719b952b3c518570e10",
              "IPY_MODEL_fb5490e0b41e444695927cb878d019b3",
              "IPY_MODEL_564b3472fae14bd2bb363fb483093c48"
            ],
            "layout": "IPY_MODEL_4d2489437c6f4158b42db49ae5e0673e"
          }
        },
        "bc6409edfe464719b952b3c518570e10": {
          "model_module": "@jupyter-widgets/controls",
          "model_name": "HTMLModel",
          "model_module_version": "1.5.0",
          "state": {
            "_dom_classes": [],
            "_model_module": "@jupyter-widgets/controls",
            "_model_module_version": "1.5.0",
            "_model_name": "HTMLModel",
            "_view_count": null,
            "_view_module": "@jupyter-widgets/controls",
            "_view_module_version": "1.5.0",
            "_view_name": "HTMLView",
            "description": "",
            "description_tooltip": null,
            "layout": "IPY_MODEL_80f7e83f553d48c1a21e34015921a3a2",
            "placeholder": "​",
            "style": "IPY_MODEL_4b70d7a407c8469da673b6fe7f26d8b8",
            "value": "100%"
          }
        },
        "fb5490e0b41e444695927cb878d019b3": {
          "model_module": "@jupyter-widgets/controls",
          "model_name": "FloatProgressModel",
          "model_module_version": "1.5.0",
          "state": {
            "_dom_classes": [],
            "_model_module": "@jupyter-widgets/controls",
            "_model_module_version": "1.5.0",
            "_model_name": "FloatProgressModel",
            "_view_count": null,
            "_view_module": "@jupyter-widgets/controls",
            "_view_module_version": "1.5.0",
            "_view_name": "ProgressView",
            "bar_style": "success",
            "description": "",
            "description_tooltip": null,
            "layout": "IPY_MODEL_e3af50fc991b4fb88541855947dbe627",
            "max": 189,
            "min": 0,
            "orientation": "horizontal",
            "style": "IPY_MODEL_08b39f3b4b544d2ca895c3683677f264",
            "value": 189
          }
        },
        "564b3472fae14bd2bb363fb483093c48": {
          "model_module": "@jupyter-widgets/controls",
          "model_name": "HTMLModel",
          "model_module_version": "1.5.0",
          "state": {
            "_dom_classes": [],
            "_model_module": "@jupyter-widgets/controls",
            "_model_module_version": "1.5.0",
            "_model_name": "HTMLModel",
            "_view_count": null,
            "_view_module": "@jupyter-widgets/controls",
            "_view_module_version": "1.5.0",
            "_view_name": "HTMLView",
            "description": "",
            "description_tooltip": null,
            "layout": "IPY_MODEL_b3451da9a22549ec91951c169fdf1b1d",
            "placeholder": "​",
            "style": "IPY_MODEL_7c5488282cd640aea6a656fc47b3db35",
            "value": " 189/189 [01:38&lt;00:00,  1.54it/s]"
          }
        },
        "4d2489437c6f4158b42db49ae5e0673e": {
          "model_module": "@jupyter-widgets/base",
          "model_name": "LayoutModel",
          "model_module_version": "1.2.0",
          "state": {
            "_model_module": "@jupyter-widgets/base",
            "_model_module_version": "1.2.0",
            "_model_name": "LayoutModel",
            "_view_count": null,
            "_view_module": "@jupyter-widgets/base",
            "_view_module_version": "1.2.0",
            "_view_name": "LayoutView",
            "align_content": null,
            "align_items": null,
            "align_self": null,
            "border": null,
            "bottom": null,
            "display": null,
            "flex": null,
            "flex_flow": null,
            "grid_area": null,
            "grid_auto_columns": null,
            "grid_auto_flow": null,
            "grid_auto_rows": null,
            "grid_column": null,
            "grid_gap": null,
            "grid_row": null,
            "grid_template_areas": null,
            "grid_template_columns": null,
            "grid_template_rows": null,
            "height": null,
            "justify_content": null,
            "justify_items": null,
            "left": null,
            "margin": null,
            "max_height": null,
            "max_width": null,
            "min_height": null,
            "min_width": null,
            "object_fit": null,
            "object_position": null,
            "order": null,
            "overflow": null,
            "overflow_x": null,
            "overflow_y": null,
            "padding": null,
            "right": null,
            "top": null,
            "visibility": null,
            "width": null
          }
        },
        "80f7e83f553d48c1a21e34015921a3a2": {
          "model_module": "@jupyter-widgets/base",
          "model_name": "LayoutModel",
          "model_module_version": "1.2.0",
          "state": {
            "_model_module": "@jupyter-widgets/base",
            "_model_module_version": "1.2.0",
            "_model_name": "LayoutModel",
            "_view_count": null,
            "_view_module": "@jupyter-widgets/base",
            "_view_module_version": "1.2.0",
            "_view_name": "LayoutView",
            "align_content": null,
            "align_items": null,
            "align_self": null,
            "border": null,
            "bottom": null,
            "display": null,
            "flex": null,
            "flex_flow": null,
            "grid_area": null,
            "grid_auto_columns": null,
            "grid_auto_flow": null,
            "grid_auto_rows": null,
            "grid_column": null,
            "grid_gap": null,
            "grid_row": null,
            "grid_template_areas": null,
            "grid_template_columns": null,
            "grid_template_rows": null,
            "height": null,
            "justify_content": null,
            "justify_items": null,
            "left": null,
            "margin": null,
            "max_height": null,
            "max_width": null,
            "min_height": null,
            "min_width": null,
            "object_fit": null,
            "object_position": null,
            "order": null,
            "overflow": null,
            "overflow_x": null,
            "overflow_y": null,
            "padding": null,
            "right": null,
            "top": null,
            "visibility": null,
            "width": null
          }
        },
        "4b70d7a407c8469da673b6fe7f26d8b8": {
          "model_module": "@jupyter-widgets/controls",
          "model_name": "DescriptionStyleModel",
          "model_module_version": "1.5.0",
          "state": {
            "_model_module": "@jupyter-widgets/controls",
            "_model_module_version": "1.5.0",
            "_model_name": "DescriptionStyleModel",
            "_view_count": null,
            "_view_module": "@jupyter-widgets/base",
            "_view_module_version": "1.2.0",
            "_view_name": "StyleView",
            "description_width": ""
          }
        },
        "e3af50fc991b4fb88541855947dbe627": {
          "model_module": "@jupyter-widgets/base",
          "model_name": "LayoutModel",
          "model_module_version": "1.2.0",
          "state": {
            "_model_module": "@jupyter-widgets/base",
            "_model_module_version": "1.2.0",
            "_model_name": "LayoutModel",
            "_view_count": null,
            "_view_module": "@jupyter-widgets/base",
            "_view_module_version": "1.2.0",
            "_view_name": "LayoutView",
            "align_content": null,
            "align_items": null,
            "align_self": null,
            "border": null,
            "bottom": null,
            "display": null,
            "flex": null,
            "flex_flow": null,
            "grid_area": null,
            "grid_auto_columns": null,
            "grid_auto_flow": null,
            "grid_auto_rows": null,
            "grid_column": null,
            "grid_gap": null,
            "grid_row": null,
            "grid_template_areas": null,
            "grid_template_columns": null,
            "grid_template_rows": null,
            "height": null,
            "justify_content": null,
            "justify_items": null,
            "left": null,
            "margin": null,
            "max_height": null,
            "max_width": null,
            "min_height": null,
            "min_width": null,
            "object_fit": null,
            "object_position": null,
            "order": null,
            "overflow": null,
            "overflow_x": null,
            "overflow_y": null,
            "padding": null,
            "right": null,
            "top": null,
            "visibility": null,
            "width": null
          }
        },
        "08b39f3b4b544d2ca895c3683677f264": {
          "model_module": "@jupyter-widgets/controls",
          "model_name": "ProgressStyleModel",
          "model_module_version": "1.5.0",
          "state": {
            "_model_module": "@jupyter-widgets/controls",
            "_model_module_version": "1.5.0",
            "_model_name": "ProgressStyleModel",
            "_view_count": null,
            "_view_module": "@jupyter-widgets/base",
            "_view_module_version": "1.2.0",
            "_view_name": "StyleView",
            "bar_color": null,
            "description_width": ""
          }
        },
        "b3451da9a22549ec91951c169fdf1b1d": {
          "model_module": "@jupyter-widgets/base",
          "model_name": "LayoutModel",
          "model_module_version": "1.2.0",
          "state": {
            "_model_module": "@jupyter-widgets/base",
            "_model_module_version": "1.2.0",
            "_model_name": "LayoutModel",
            "_view_count": null,
            "_view_module": "@jupyter-widgets/base",
            "_view_module_version": "1.2.0",
            "_view_name": "LayoutView",
            "align_content": null,
            "align_items": null,
            "align_self": null,
            "border": null,
            "bottom": null,
            "display": null,
            "flex": null,
            "flex_flow": null,
            "grid_area": null,
            "grid_auto_columns": null,
            "grid_auto_flow": null,
            "grid_auto_rows": null,
            "grid_column": null,
            "grid_gap": null,
            "grid_row": null,
            "grid_template_areas": null,
            "grid_template_columns": null,
            "grid_template_rows": null,
            "height": null,
            "justify_content": null,
            "justify_items": null,
            "left": null,
            "margin": null,
            "max_height": null,
            "max_width": null,
            "min_height": null,
            "min_width": null,
            "object_fit": null,
            "object_position": null,
            "order": null,
            "overflow": null,
            "overflow_x": null,
            "overflow_y": null,
            "padding": null,
            "right": null,
            "top": null,
            "visibility": null,
            "width": null
          }
        },
        "7c5488282cd640aea6a656fc47b3db35": {
          "model_module": "@jupyter-widgets/controls",
          "model_name": "DescriptionStyleModel",
          "model_module_version": "1.5.0",
          "state": {
            "_model_module": "@jupyter-widgets/controls",
            "_model_module_version": "1.5.0",
            "_model_name": "DescriptionStyleModel",
            "_view_count": null,
            "_view_module": "@jupyter-widgets/base",
            "_view_module_version": "1.2.0",
            "_view_name": "StyleView",
            "description_width": ""
          }
        },
        "66371dc262e34fa2aa1ef469781fd3a3": {
          "model_module": "@jupyter-widgets/controls",
          "model_name": "HBoxModel",
          "model_module_version": "1.5.0",
          "state": {
            "_dom_classes": [],
            "_model_module": "@jupyter-widgets/controls",
            "_model_module_version": "1.5.0",
            "_model_name": "HBoxModel",
            "_view_count": null,
            "_view_module": "@jupyter-widgets/controls",
            "_view_module_version": "1.5.0",
            "_view_name": "HBoxView",
            "box_style": "",
            "children": [
              "IPY_MODEL_b337c4af81c247bc818eb66951d6abb2",
              "IPY_MODEL_bbbde43aeeaf41649f726eaa28f8e6f9",
              "IPY_MODEL_160766be2e9b47a7af140ca9d9158774"
            ],
            "layout": "IPY_MODEL_f2cf4fd5220b4e12bb2f88a66d770ed1"
          }
        },
        "b337c4af81c247bc818eb66951d6abb2": {
          "model_module": "@jupyter-widgets/controls",
          "model_name": "HTMLModel",
          "model_module_version": "1.5.0",
          "state": {
            "_dom_classes": [],
            "_model_module": "@jupyter-widgets/controls",
            "_model_module_version": "1.5.0",
            "_model_name": "HTMLModel",
            "_view_count": null,
            "_view_module": "@jupyter-widgets/controls",
            "_view_module_version": "1.5.0",
            "_view_name": "HTMLView",
            "description": "",
            "description_tooltip": null,
            "layout": "IPY_MODEL_1591d3ae1584488f9265324f287392f7",
            "placeholder": "​",
            "style": "IPY_MODEL_82e1ca28844340eca8177e38a4c9e36d",
            "value": "100%"
          }
        },
        "bbbde43aeeaf41649f726eaa28f8e6f9": {
          "model_module": "@jupyter-widgets/controls",
          "model_name": "FloatProgressModel",
          "model_module_version": "1.5.0",
          "state": {
            "_dom_classes": [],
            "_model_module": "@jupyter-widgets/controls",
            "_model_module_version": "1.5.0",
            "_model_name": "FloatProgressModel",
            "_view_count": null,
            "_view_module": "@jupyter-widgets/controls",
            "_view_module_version": "1.5.0",
            "_view_name": "ProgressView",
            "bar_style": "success",
            "description": "",
            "description_tooltip": null,
            "layout": "IPY_MODEL_45eb696108944099a4f45048090e392f",
            "max": 81,
            "min": 0,
            "orientation": "horizontal",
            "style": "IPY_MODEL_8dabbf4f75c448ceb1b7f74bc4f6a258",
            "value": 81
          }
        },
        "160766be2e9b47a7af140ca9d9158774": {
          "model_module": "@jupyter-widgets/controls",
          "model_name": "HTMLModel",
          "model_module_version": "1.5.0",
          "state": {
            "_dom_classes": [],
            "_model_module": "@jupyter-widgets/controls",
            "_model_module_version": "1.5.0",
            "_model_name": "HTMLModel",
            "_view_count": null,
            "_view_module": "@jupyter-widgets/controls",
            "_view_module_version": "1.5.0",
            "_view_name": "HTMLView",
            "description": "",
            "description_tooltip": null,
            "layout": "IPY_MODEL_a9881a7647df43639cfbd98e95ec8e6e",
            "placeholder": "​",
            "style": "IPY_MODEL_b1660b5f51ca4b92a13759d67bdb868b",
            "value": " 81/81 [00:42&lt;00:00,  1.21it/s]"
          }
        },
        "f2cf4fd5220b4e12bb2f88a66d770ed1": {
          "model_module": "@jupyter-widgets/base",
          "model_name": "LayoutModel",
          "model_module_version": "1.2.0",
          "state": {
            "_model_module": "@jupyter-widgets/base",
            "_model_module_version": "1.2.0",
            "_model_name": "LayoutModel",
            "_view_count": null,
            "_view_module": "@jupyter-widgets/base",
            "_view_module_version": "1.2.0",
            "_view_name": "LayoutView",
            "align_content": null,
            "align_items": null,
            "align_self": null,
            "border": null,
            "bottom": null,
            "display": null,
            "flex": null,
            "flex_flow": null,
            "grid_area": null,
            "grid_auto_columns": null,
            "grid_auto_flow": null,
            "grid_auto_rows": null,
            "grid_column": null,
            "grid_gap": null,
            "grid_row": null,
            "grid_template_areas": null,
            "grid_template_columns": null,
            "grid_template_rows": null,
            "height": null,
            "justify_content": null,
            "justify_items": null,
            "left": null,
            "margin": null,
            "max_height": null,
            "max_width": null,
            "min_height": null,
            "min_width": null,
            "object_fit": null,
            "object_position": null,
            "order": null,
            "overflow": null,
            "overflow_x": null,
            "overflow_y": null,
            "padding": null,
            "right": null,
            "top": null,
            "visibility": null,
            "width": null
          }
        },
        "1591d3ae1584488f9265324f287392f7": {
          "model_module": "@jupyter-widgets/base",
          "model_name": "LayoutModel",
          "model_module_version": "1.2.0",
          "state": {
            "_model_module": "@jupyter-widgets/base",
            "_model_module_version": "1.2.0",
            "_model_name": "LayoutModel",
            "_view_count": null,
            "_view_module": "@jupyter-widgets/base",
            "_view_module_version": "1.2.0",
            "_view_name": "LayoutView",
            "align_content": null,
            "align_items": null,
            "align_self": null,
            "border": null,
            "bottom": null,
            "display": null,
            "flex": null,
            "flex_flow": null,
            "grid_area": null,
            "grid_auto_columns": null,
            "grid_auto_flow": null,
            "grid_auto_rows": null,
            "grid_column": null,
            "grid_gap": null,
            "grid_row": null,
            "grid_template_areas": null,
            "grid_template_columns": null,
            "grid_template_rows": null,
            "height": null,
            "justify_content": null,
            "justify_items": null,
            "left": null,
            "margin": null,
            "max_height": null,
            "max_width": null,
            "min_height": null,
            "min_width": null,
            "object_fit": null,
            "object_position": null,
            "order": null,
            "overflow": null,
            "overflow_x": null,
            "overflow_y": null,
            "padding": null,
            "right": null,
            "top": null,
            "visibility": null,
            "width": null
          }
        },
        "82e1ca28844340eca8177e38a4c9e36d": {
          "model_module": "@jupyter-widgets/controls",
          "model_name": "DescriptionStyleModel",
          "model_module_version": "1.5.0",
          "state": {
            "_model_module": "@jupyter-widgets/controls",
            "_model_module_version": "1.5.0",
            "_model_name": "DescriptionStyleModel",
            "_view_count": null,
            "_view_module": "@jupyter-widgets/base",
            "_view_module_version": "1.2.0",
            "_view_name": "StyleView",
            "description_width": ""
          }
        },
        "45eb696108944099a4f45048090e392f": {
          "model_module": "@jupyter-widgets/base",
          "model_name": "LayoutModel",
          "model_module_version": "1.2.0",
          "state": {
            "_model_module": "@jupyter-widgets/base",
            "_model_module_version": "1.2.0",
            "_model_name": "LayoutModel",
            "_view_count": null,
            "_view_module": "@jupyter-widgets/base",
            "_view_module_version": "1.2.0",
            "_view_name": "LayoutView",
            "align_content": null,
            "align_items": null,
            "align_self": null,
            "border": null,
            "bottom": null,
            "display": null,
            "flex": null,
            "flex_flow": null,
            "grid_area": null,
            "grid_auto_columns": null,
            "grid_auto_flow": null,
            "grid_auto_rows": null,
            "grid_column": null,
            "grid_gap": null,
            "grid_row": null,
            "grid_template_areas": null,
            "grid_template_columns": null,
            "grid_template_rows": null,
            "height": null,
            "justify_content": null,
            "justify_items": null,
            "left": null,
            "margin": null,
            "max_height": null,
            "max_width": null,
            "min_height": null,
            "min_width": null,
            "object_fit": null,
            "object_position": null,
            "order": null,
            "overflow": null,
            "overflow_x": null,
            "overflow_y": null,
            "padding": null,
            "right": null,
            "top": null,
            "visibility": null,
            "width": null
          }
        },
        "8dabbf4f75c448ceb1b7f74bc4f6a258": {
          "model_module": "@jupyter-widgets/controls",
          "model_name": "ProgressStyleModel",
          "model_module_version": "1.5.0",
          "state": {
            "_model_module": "@jupyter-widgets/controls",
            "_model_module_version": "1.5.0",
            "_model_name": "ProgressStyleModel",
            "_view_count": null,
            "_view_module": "@jupyter-widgets/base",
            "_view_module_version": "1.2.0",
            "_view_name": "StyleView",
            "bar_color": null,
            "description_width": ""
          }
        },
        "a9881a7647df43639cfbd98e95ec8e6e": {
          "model_module": "@jupyter-widgets/base",
          "model_name": "LayoutModel",
          "model_module_version": "1.2.0",
          "state": {
            "_model_module": "@jupyter-widgets/base",
            "_model_module_version": "1.2.0",
            "_model_name": "LayoutModel",
            "_view_count": null,
            "_view_module": "@jupyter-widgets/base",
            "_view_module_version": "1.2.0",
            "_view_name": "LayoutView",
            "align_content": null,
            "align_items": null,
            "align_self": null,
            "border": null,
            "bottom": null,
            "display": null,
            "flex": null,
            "flex_flow": null,
            "grid_area": null,
            "grid_auto_columns": null,
            "grid_auto_flow": null,
            "grid_auto_rows": null,
            "grid_column": null,
            "grid_gap": null,
            "grid_row": null,
            "grid_template_areas": null,
            "grid_template_columns": null,
            "grid_template_rows": null,
            "height": null,
            "justify_content": null,
            "justify_items": null,
            "left": null,
            "margin": null,
            "max_height": null,
            "max_width": null,
            "min_height": null,
            "min_width": null,
            "object_fit": null,
            "object_position": null,
            "order": null,
            "overflow": null,
            "overflow_x": null,
            "overflow_y": null,
            "padding": null,
            "right": null,
            "top": null,
            "visibility": null,
            "width": null
          }
        },
        "b1660b5f51ca4b92a13759d67bdb868b": {
          "model_module": "@jupyter-widgets/controls",
          "model_name": "DescriptionStyleModel",
          "model_module_version": "1.5.0",
          "state": {
            "_model_module": "@jupyter-widgets/controls",
            "_model_module_version": "1.5.0",
            "_model_name": "DescriptionStyleModel",
            "_view_count": null,
            "_view_module": "@jupyter-widgets/base",
            "_view_module_version": "1.2.0",
            "_view_name": "StyleView",
            "description_width": ""
          }
        },
        "151124f61f28465db9f2f14cf338c0ca": {
          "model_module": "@jupyter-widgets/controls",
          "model_name": "HBoxModel",
          "model_module_version": "1.5.0",
          "state": {
            "_dom_classes": [],
            "_model_module": "@jupyter-widgets/controls",
            "_model_module_version": "1.5.0",
            "_model_name": "HBoxModel",
            "_view_count": null,
            "_view_module": "@jupyter-widgets/controls",
            "_view_module_version": "1.5.0",
            "_view_name": "HBoxView",
            "box_style": "",
            "children": [
              "IPY_MODEL_b3e294752b0b487fbcfd7fc36a42653f",
              "IPY_MODEL_c45e914255aa420685ec028a516af37a",
              "IPY_MODEL_d5356708dda84a83af7e0084ca59039d"
            ],
            "layout": "IPY_MODEL_64d99c9a49744a1e869328c9a0a978da"
          }
        },
        "b3e294752b0b487fbcfd7fc36a42653f": {
          "model_module": "@jupyter-widgets/controls",
          "model_name": "HTMLModel",
          "model_module_version": "1.5.0",
          "state": {
            "_dom_classes": [],
            "_model_module": "@jupyter-widgets/controls",
            "_model_module_version": "1.5.0",
            "_model_name": "HTMLModel",
            "_view_count": null,
            "_view_module": "@jupyter-widgets/controls",
            "_view_module_version": "1.5.0",
            "_view_name": "HTMLView",
            "description": "",
            "description_tooltip": null,
            "layout": "IPY_MODEL_907b223c5fec4b93a95762ee5a10fdbb",
            "placeholder": "​",
            "style": "IPY_MODEL_597cf7aef49b4d2388fb068504fa1416",
            "value": "100%"
          }
        },
        "c45e914255aa420685ec028a516af37a": {
          "model_module": "@jupyter-widgets/controls",
          "model_name": "FloatProgressModel",
          "model_module_version": "1.5.0",
          "state": {
            "_dom_classes": [],
            "_model_module": "@jupyter-widgets/controls",
            "_model_module_version": "1.5.0",
            "_model_name": "FloatProgressModel",
            "_view_count": null,
            "_view_module": "@jupyter-widgets/controls",
            "_view_module_version": "1.5.0",
            "_view_name": "ProgressView",
            "bar_style": "success",
            "description": "",
            "description_tooltip": null,
            "layout": "IPY_MODEL_67e55b5cb80f4de19a87fd4fc56d0083",
            "max": 20,
            "min": 0,
            "orientation": "horizontal",
            "style": "IPY_MODEL_e2483fbc57db451b86698c71f0eeea87",
            "value": 20
          }
        },
        "d5356708dda84a83af7e0084ca59039d": {
          "model_module": "@jupyter-widgets/controls",
          "model_name": "HTMLModel",
          "model_module_version": "1.5.0",
          "state": {
            "_dom_classes": [],
            "_model_module": "@jupyter-widgets/controls",
            "_model_module_version": "1.5.0",
            "_model_name": "HTMLModel",
            "_view_count": null,
            "_view_module": "@jupyter-widgets/controls",
            "_view_module_version": "1.5.0",
            "_view_name": "HTMLView",
            "description": "",
            "description_tooltip": null,
            "layout": "IPY_MODEL_c93a18a5a2ba4c80b61d66b677744347",
            "placeholder": "​",
            "style": "IPY_MODEL_9d6ab3e4a56f4853881d94670418390d",
            "value": " 20/20 [18:14&lt;00:00, 51.88s/it]"
          }
        },
        "64d99c9a49744a1e869328c9a0a978da": {
          "model_module": "@jupyter-widgets/base",
          "model_name": "LayoutModel",
          "model_module_version": "1.2.0",
          "state": {
            "_model_module": "@jupyter-widgets/base",
            "_model_module_version": "1.2.0",
            "_model_name": "LayoutModel",
            "_view_count": null,
            "_view_module": "@jupyter-widgets/base",
            "_view_module_version": "1.2.0",
            "_view_name": "LayoutView",
            "align_content": null,
            "align_items": null,
            "align_self": null,
            "border": null,
            "bottom": null,
            "display": null,
            "flex": null,
            "flex_flow": null,
            "grid_area": null,
            "grid_auto_columns": null,
            "grid_auto_flow": null,
            "grid_auto_rows": null,
            "grid_column": null,
            "grid_gap": null,
            "grid_row": null,
            "grid_template_areas": null,
            "grid_template_columns": null,
            "grid_template_rows": null,
            "height": null,
            "justify_content": null,
            "justify_items": null,
            "left": null,
            "margin": null,
            "max_height": null,
            "max_width": null,
            "min_height": null,
            "min_width": null,
            "object_fit": null,
            "object_position": null,
            "order": null,
            "overflow": null,
            "overflow_x": null,
            "overflow_y": null,
            "padding": null,
            "right": null,
            "top": null,
            "visibility": null,
            "width": null
          }
        },
        "907b223c5fec4b93a95762ee5a10fdbb": {
          "model_module": "@jupyter-widgets/base",
          "model_name": "LayoutModel",
          "model_module_version": "1.2.0",
          "state": {
            "_model_module": "@jupyter-widgets/base",
            "_model_module_version": "1.2.0",
            "_model_name": "LayoutModel",
            "_view_count": null,
            "_view_module": "@jupyter-widgets/base",
            "_view_module_version": "1.2.0",
            "_view_name": "LayoutView",
            "align_content": null,
            "align_items": null,
            "align_self": null,
            "border": null,
            "bottom": null,
            "display": null,
            "flex": null,
            "flex_flow": null,
            "grid_area": null,
            "grid_auto_columns": null,
            "grid_auto_flow": null,
            "grid_auto_rows": null,
            "grid_column": null,
            "grid_gap": null,
            "grid_row": null,
            "grid_template_areas": null,
            "grid_template_columns": null,
            "grid_template_rows": null,
            "height": null,
            "justify_content": null,
            "justify_items": null,
            "left": null,
            "margin": null,
            "max_height": null,
            "max_width": null,
            "min_height": null,
            "min_width": null,
            "object_fit": null,
            "object_position": null,
            "order": null,
            "overflow": null,
            "overflow_x": null,
            "overflow_y": null,
            "padding": null,
            "right": null,
            "top": null,
            "visibility": null,
            "width": null
          }
        },
        "597cf7aef49b4d2388fb068504fa1416": {
          "model_module": "@jupyter-widgets/controls",
          "model_name": "DescriptionStyleModel",
          "model_module_version": "1.5.0",
          "state": {
            "_model_module": "@jupyter-widgets/controls",
            "_model_module_version": "1.5.0",
            "_model_name": "DescriptionStyleModel",
            "_view_count": null,
            "_view_module": "@jupyter-widgets/base",
            "_view_module_version": "1.2.0",
            "_view_name": "StyleView",
            "description_width": ""
          }
        },
        "67e55b5cb80f4de19a87fd4fc56d0083": {
          "model_module": "@jupyter-widgets/base",
          "model_name": "LayoutModel",
          "model_module_version": "1.2.0",
          "state": {
            "_model_module": "@jupyter-widgets/base",
            "_model_module_version": "1.2.0",
            "_model_name": "LayoutModel",
            "_view_count": null,
            "_view_module": "@jupyter-widgets/base",
            "_view_module_version": "1.2.0",
            "_view_name": "LayoutView",
            "align_content": null,
            "align_items": null,
            "align_self": null,
            "border": null,
            "bottom": null,
            "display": null,
            "flex": null,
            "flex_flow": null,
            "grid_area": null,
            "grid_auto_columns": null,
            "grid_auto_flow": null,
            "grid_auto_rows": null,
            "grid_column": null,
            "grid_gap": null,
            "grid_row": null,
            "grid_template_areas": null,
            "grid_template_columns": null,
            "grid_template_rows": null,
            "height": null,
            "justify_content": null,
            "justify_items": null,
            "left": null,
            "margin": null,
            "max_height": null,
            "max_width": null,
            "min_height": null,
            "min_width": null,
            "object_fit": null,
            "object_position": null,
            "order": null,
            "overflow": null,
            "overflow_x": null,
            "overflow_y": null,
            "padding": null,
            "right": null,
            "top": null,
            "visibility": null,
            "width": null
          }
        },
        "e2483fbc57db451b86698c71f0eeea87": {
          "model_module": "@jupyter-widgets/controls",
          "model_name": "ProgressStyleModel",
          "model_module_version": "1.5.0",
          "state": {
            "_model_module": "@jupyter-widgets/controls",
            "_model_module_version": "1.5.0",
            "_model_name": "ProgressStyleModel",
            "_view_count": null,
            "_view_module": "@jupyter-widgets/base",
            "_view_module_version": "1.2.0",
            "_view_name": "StyleView",
            "bar_color": null,
            "description_width": ""
          }
        },
        "c93a18a5a2ba4c80b61d66b677744347": {
          "model_module": "@jupyter-widgets/base",
          "model_name": "LayoutModel",
          "model_module_version": "1.2.0",
          "state": {
            "_model_module": "@jupyter-widgets/base",
            "_model_module_version": "1.2.0",
            "_model_name": "LayoutModel",
            "_view_count": null,
            "_view_module": "@jupyter-widgets/base",
            "_view_module_version": "1.2.0",
            "_view_name": "LayoutView",
            "align_content": null,
            "align_items": null,
            "align_self": null,
            "border": null,
            "bottom": null,
            "display": null,
            "flex": null,
            "flex_flow": null,
            "grid_area": null,
            "grid_auto_columns": null,
            "grid_auto_flow": null,
            "grid_auto_rows": null,
            "grid_column": null,
            "grid_gap": null,
            "grid_row": null,
            "grid_template_areas": null,
            "grid_template_columns": null,
            "grid_template_rows": null,
            "height": null,
            "justify_content": null,
            "justify_items": null,
            "left": null,
            "margin": null,
            "max_height": null,
            "max_width": null,
            "min_height": null,
            "min_width": null,
            "object_fit": null,
            "object_position": null,
            "order": null,
            "overflow": null,
            "overflow_x": null,
            "overflow_y": null,
            "padding": null,
            "right": null,
            "top": null,
            "visibility": null,
            "width": null
          }
        },
        "9d6ab3e4a56f4853881d94670418390d": {
          "model_module": "@jupyter-widgets/controls",
          "model_name": "DescriptionStyleModel",
          "model_module_version": "1.5.0",
          "state": {
            "_model_module": "@jupyter-widgets/controls",
            "_model_module_version": "1.5.0",
            "_model_name": "DescriptionStyleModel",
            "_view_count": null,
            "_view_module": "@jupyter-widgets/base",
            "_view_module_version": "1.2.0",
            "_view_name": "StyleView",
            "description_width": ""
          }
        },
        "ddb021d635394d808e214f3dd86635c4": {
          "model_module": "@jupyter-widgets/controls",
          "model_name": "HBoxModel",
          "model_module_version": "1.5.0",
          "state": {
            "_dom_classes": [],
            "_model_module": "@jupyter-widgets/controls",
            "_model_module_version": "1.5.0",
            "_model_name": "HBoxModel",
            "_view_count": null,
            "_view_module": "@jupyter-widgets/controls",
            "_view_module_version": "1.5.0",
            "_view_name": "HBoxView",
            "box_style": "",
            "children": [
              "IPY_MODEL_9f5ce0fb6de640bfab137df9b68b08ab",
              "IPY_MODEL_8aadf703917c45808fcc9596c9d24d01",
              "IPY_MODEL_b7c9412db2044f94921d28c0b144f78d"
            ],
            "layout": "IPY_MODEL_4deecd92f86c4e538b04214c2804b10a"
          }
        },
        "9f5ce0fb6de640bfab137df9b68b08ab": {
          "model_module": "@jupyter-widgets/controls",
          "model_name": "HTMLModel",
          "model_module_version": "1.5.0",
          "state": {
            "_dom_classes": [],
            "_model_module": "@jupyter-widgets/controls",
            "_model_module_version": "1.5.0",
            "_model_name": "HTMLModel",
            "_view_count": null,
            "_view_module": "@jupyter-widgets/controls",
            "_view_module_version": "1.5.0",
            "_view_name": "HTMLView",
            "description": "",
            "description_tooltip": null,
            "layout": "IPY_MODEL_15bb6f2b1ad649578d8fff2a08c5c402",
            "placeholder": "​",
            "style": "IPY_MODEL_0fd79d4b55cb48ec9180bff3da887a8f",
            "value": "100%"
          }
        },
        "8aadf703917c45808fcc9596c9d24d01": {
          "model_module": "@jupyter-widgets/controls",
          "model_name": "FloatProgressModel",
          "model_module_version": "1.5.0",
          "state": {
            "_dom_classes": [],
            "_model_module": "@jupyter-widgets/controls",
            "_model_module_version": "1.5.0",
            "_model_name": "FloatProgressModel",
            "_view_count": null,
            "_view_module": "@jupyter-widgets/controls",
            "_view_module_version": "1.5.0",
            "_view_name": "ProgressView",
            "bar_style": "success",
            "description": "",
            "description_tooltip": null,
            "layout": "IPY_MODEL_0ed4689369014d8f85e705b8943022df",
            "max": 100,
            "min": 0,
            "orientation": "horizontal",
            "style": "IPY_MODEL_2b679659bf5d4837b78c8bad6a3eb366",
            "value": 100
          }
        },
        "b7c9412db2044f94921d28c0b144f78d": {
          "model_module": "@jupyter-widgets/controls",
          "model_name": "HTMLModel",
          "model_module_version": "1.5.0",
          "state": {
            "_dom_classes": [],
            "_model_module": "@jupyter-widgets/controls",
            "_model_module_version": "1.5.0",
            "_model_name": "HTMLModel",
            "_view_count": null,
            "_view_module": "@jupyter-widgets/controls",
            "_view_module_version": "1.5.0",
            "_view_name": "HTMLView",
            "description": "",
            "description_tooltip": null,
            "layout": "IPY_MODEL_8e56a4f01175467bbaff1e141cf35833",
            "placeholder": "​",
            "style": "IPY_MODEL_621b4efe1bb548ac92892320f86ce6e8",
            "value": " 100/100 [00:02&lt;00:00, 49.41it/s]"
          }
        },
        "4deecd92f86c4e538b04214c2804b10a": {
          "model_module": "@jupyter-widgets/base",
          "model_name": "LayoutModel",
          "model_module_version": "1.2.0",
          "state": {
            "_model_module": "@jupyter-widgets/base",
            "_model_module_version": "1.2.0",
            "_model_name": "LayoutModel",
            "_view_count": null,
            "_view_module": "@jupyter-widgets/base",
            "_view_module_version": "1.2.0",
            "_view_name": "LayoutView",
            "align_content": null,
            "align_items": null,
            "align_self": null,
            "border": null,
            "bottom": null,
            "display": null,
            "flex": null,
            "flex_flow": null,
            "grid_area": null,
            "grid_auto_columns": null,
            "grid_auto_flow": null,
            "grid_auto_rows": null,
            "grid_column": null,
            "grid_gap": null,
            "grid_row": null,
            "grid_template_areas": null,
            "grid_template_columns": null,
            "grid_template_rows": null,
            "height": null,
            "justify_content": null,
            "justify_items": null,
            "left": null,
            "margin": null,
            "max_height": null,
            "max_width": null,
            "min_height": null,
            "min_width": null,
            "object_fit": null,
            "object_position": null,
            "order": null,
            "overflow": null,
            "overflow_x": null,
            "overflow_y": null,
            "padding": null,
            "right": null,
            "top": null,
            "visibility": null,
            "width": null
          }
        },
        "15bb6f2b1ad649578d8fff2a08c5c402": {
          "model_module": "@jupyter-widgets/base",
          "model_name": "LayoutModel",
          "model_module_version": "1.2.0",
          "state": {
            "_model_module": "@jupyter-widgets/base",
            "_model_module_version": "1.2.0",
            "_model_name": "LayoutModel",
            "_view_count": null,
            "_view_module": "@jupyter-widgets/base",
            "_view_module_version": "1.2.0",
            "_view_name": "LayoutView",
            "align_content": null,
            "align_items": null,
            "align_self": null,
            "border": null,
            "bottom": null,
            "display": null,
            "flex": null,
            "flex_flow": null,
            "grid_area": null,
            "grid_auto_columns": null,
            "grid_auto_flow": null,
            "grid_auto_rows": null,
            "grid_column": null,
            "grid_gap": null,
            "grid_row": null,
            "grid_template_areas": null,
            "grid_template_columns": null,
            "grid_template_rows": null,
            "height": null,
            "justify_content": null,
            "justify_items": null,
            "left": null,
            "margin": null,
            "max_height": null,
            "max_width": null,
            "min_height": null,
            "min_width": null,
            "object_fit": null,
            "object_position": null,
            "order": null,
            "overflow": null,
            "overflow_x": null,
            "overflow_y": null,
            "padding": null,
            "right": null,
            "top": null,
            "visibility": null,
            "width": null
          }
        },
        "0fd79d4b55cb48ec9180bff3da887a8f": {
          "model_module": "@jupyter-widgets/controls",
          "model_name": "DescriptionStyleModel",
          "model_module_version": "1.5.0",
          "state": {
            "_model_module": "@jupyter-widgets/controls",
            "_model_module_version": "1.5.0",
            "_model_name": "DescriptionStyleModel",
            "_view_count": null,
            "_view_module": "@jupyter-widgets/base",
            "_view_module_version": "1.2.0",
            "_view_name": "StyleView",
            "description_width": ""
          }
        },
        "0ed4689369014d8f85e705b8943022df": {
          "model_module": "@jupyter-widgets/base",
          "model_name": "LayoutModel",
          "model_module_version": "1.2.0",
          "state": {
            "_model_module": "@jupyter-widgets/base",
            "_model_module_version": "1.2.0",
            "_model_name": "LayoutModel",
            "_view_count": null,
            "_view_module": "@jupyter-widgets/base",
            "_view_module_version": "1.2.0",
            "_view_name": "LayoutView",
            "align_content": null,
            "align_items": null,
            "align_self": null,
            "border": null,
            "bottom": null,
            "display": null,
            "flex": null,
            "flex_flow": null,
            "grid_area": null,
            "grid_auto_columns": null,
            "grid_auto_flow": null,
            "grid_auto_rows": null,
            "grid_column": null,
            "grid_gap": null,
            "grid_row": null,
            "grid_template_areas": null,
            "grid_template_columns": null,
            "grid_template_rows": null,
            "height": null,
            "justify_content": null,
            "justify_items": null,
            "left": null,
            "margin": null,
            "max_height": null,
            "max_width": null,
            "min_height": null,
            "min_width": null,
            "object_fit": null,
            "object_position": null,
            "order": null,
            "overflow": null,
            "overflow_x": null,
            "overflow_y": null,
            "padding": null,
            "right": null,
            "top": null,
            "visibility": null,
            "width": null
          }
        },
        "2b679659bf5d4837b78c8bad6a3eb366": {
          "model_module": "@jupyter-widgets/controls",
          "model_name": "ProgressStyleModel",
          "model_module_version": "1.5.0",
          "state": {
            "_model_module": "@jupyter-widgets/controls",
            "_model_module_version": "1.5.0",
            "_model_name": "ProgressStyleModel",
            "_view_count": null,
            "_view_module": "@jupyter-widgets/base",
            "_view_module_version": "1.2.0",
            "_view_name": "StyleView",
            "bar_color": null,
            "description_width": ""
          }
        },
        "8e56a4f01175467bbaff1e141cf35833": {
          "model_module": "@jupyter-widgets/base",
          "model_name": "LayoutModel",
          "model_module_version": "1.2.0",
          "state": {
            "_model_module": "@jupyter-widgets/base",
            "_model_module_version": "1.2.0",
            "_model_name": "LayoutModel",
            "_view_count": null,
            "_view_module": "@jupyter-widgets/base",
            "_view_module_version": "1.2.0",
            "_view_name": "LayoutView",
            "align_content": null,
            "align_items": null,
            "align_self": null,
            "border": null,
            "bottom": null,
            "display": null,
            "flex": null,
            "flex_flow": null,
            "grid_area": null,
            "grid_auto_columns": null,
            "grid_auto_flow": null,
            "grid_auto_rows": null,
            "grid_column": null,
            "grid_gap": null,
            "grid_row": null,
            "grid_template_areas": null,
            "grid_template_columns": null,
            "grid_template_rows": null,
            "height": null,
            "justify_content": null,
            "justify_items": null,
            "left": null,
            "margin": null,
            "max_height": null,
            "max_width": null,
            "min_height": null,
            "min_width": null,
            "object_fit": null,
            "object_position": null,
            "order": null,
            "overflow": null,
            "overflow_x": null,
            "overflow_y": null,
            "padding": null,
            "right": null,
            "top": null,
            "visibility": null,
            "width": null
          }
        },
        "621b4efe1bb548ac92892320f86ce6e8": {
          "model_module": "@jupyter-widgets/controls",
          "model_name": "DescriptionStyleModel",
          "model_module_version": "1.5.0",
          "state": {
            "_model_module": "@jupyter-widgets/controls",
            "_model_module_version": "1.5.0",
            "_model_name": "DescriptionStyleModel",
            "_view_count": null,
            "_view_module": "@jupyter-widgets/base",
            "_view_module_version": "1.2.0",
            "_view_name": "StyleView",
            "description_width": ""
          }
        }
      }
    }
  },
  "nbformat": 4,
  "nbformat_minor": 0
}