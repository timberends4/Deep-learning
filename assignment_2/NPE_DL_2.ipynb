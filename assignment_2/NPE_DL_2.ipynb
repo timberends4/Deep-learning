{
  "cells": [
    {
      "attachments": {},
      "cell_type": "markdown",
      "metadata": {
        "id": "d32f8d18"
      },
      "source": [
        "# Group Details\n",
        "\n",
        "## Group Name:\n",
        "\n",
        "### Student 1:\n",
        "\n",
        "### Student 2:\n",
        "\n",
        "### Student 3:"
      ]
    },
    {
      "attachments": {},
      "cell_type": "markdown",
      "metadata": {
        "id": "faec2056"
      },
      "source": [
        "# Loading Data and Preliminaries"
      ]
    },
    {
      "cell_type": "code",
      "execution_count": 1,
      "metadata": {
        "colab": {
          "base_uri": "https://localhost:8080/"
        },
        "id": "qBIurCVzjuvR",
        "outputId": "189f3a55-64d5-4395-e729-95e30fc0360b"
      },
      "outputs": [
        {
          "name": "stdout",
          "output_type": "stream",
          "text": [
            "[WinError 3] The system cannot find the path specified: '/content/drive/MyDrive/TUe/DeepLearning/Assignment2'\n",
            "d:\\Master\\Y1\\Deep learning\\Deep-learning\\assignment_2\n"
          ]
        }
      ],
      "source": [
        "%cd /content/drive/MyDrive/TUe/DeepLearning/Assignment2"
      ]
    },
    {
      "cell_type": "code",
      "execution_count": 2,
      "metadata": {
        "id": "7d0580a5"
      },
      "outputs": [],
      "source": [
        "import os\n",
        "\n",
        "import matplotlib\n",
        "import matplotlib.pyplot as plt\n",
        "\n",
        "import numpy as np\n",
        "\n",
        "import torch\n",
        "import torch.nn as nn\n",
        "import torch.optim as optim\n",
        "from torch.utils.data import Dataset, DataLoader\n",
        "\n",
        "from tqdm.notebook import tqdm\n",
        "from glob import glob\n",
        "from sklearn.model_selection import train_test_split"
      ]
    },
    {
      "cell_type": "code",
      "execution_count": 3,
      "metadata": {
        "id": "b0756591"
      },
      "outputs": [],
      "source": [
        "def load_array(filename, task):\n",
        "    datapoint = np.load(filename)\n",
        "    if task == 'task 1':\n",
        "        initial_state = datapoint['initial_state']\n",
        "        terminal_state = datapoint['terminal_state']\n",
        "        return initial_state, terminal_state\n",
        "    elif task == 'task 2' or task == 'task 3':\n",
        "        whole_trajectory = datapoint['trajectory']\n",
        "        # change shape: (num_bodies, attributes, time) ->  num_bodies, time, attributes\n",
        "        whole_trajectory = np.swapaxes(whole_trajectory, 1, 2)\n",
        "        initial_state = whole_trajectory[:, 0]\n",
        "        target = whole_trajectory[:, 1:, 1:]  # drop the first timepoint (second dim) and mass (last dim) for the prediction task\n",
        "        return initial_state, target\n",
        "    else:\n",
        "        raise NotImplementedError(\"'task' argument should be 'task 1', 'task 2' or 'task 3'!\")\n"
      ]
    },
    {
      "attachments": {},
      "cell_type": "markdown",
      "metadata": {
        "id": "059b633c"
      },
      "source": [
        "# Data Handling and Preprocessing"
      ]
    },
    {
      "cell_type": "code",
      "execution_count": 4,
      "metadata": {
        "id": "dac58511"
      },
      "outputs": [],
      "source": [
        "def pad_array(data):\n",
        "    # Pad the array with zeros if necessary to have 9 rows\n",
        "    padded_input_data  = np.pad(data[0], ((0, 9 - data[0].shape[0]), (0, 0)), mode='constant')\n",
        "    padded_target_data = np.pad(data[1], ((0, 9 - data[1].shape[0]), (0, 0)), mode='constant')\n",
        "    return torch.tensor(padded_input_data, dtype=torch.float32), torch.tensor(padded_target_data, dtype=torch.float32)\n",
        "\n",
        "def create_mask(data,padded_input_data):\n",
        "    # Create a boolean mask array indicating the padded rows\n",
        "    mask = np.ones_like(padded_input_data, dtype=bool)\n",
        "    mask[data[0].shape[0]:] = False\n",
        "    return torch.tensor(mask, dtype=torch.bool)\n",
        "\n",
        "def pair_values(data):\n",
        "    # Pair up the values of the same columns from every row with every other row\n",
        "    num_rows, num_cols = data.shape\n",
        "    padded_input_data = torch.zeros((num_rows, num_rows, num_cols, 2))\n",
        "\n",
        "    for i in range(num_rows):\n",
        "        pair_idx = 0\n",
        "        for j in range(num_rows):\n",
        "\n",
        "            padded_input_data[i, pair_idx, :, 0] = data[i]\n",
        "            padded_input_data[i, pair_idx, :, 1] = data[j]\n",
        "            pair_idx += 1\n",
        "\n",
        "    return padded_input_data\n",
        "\n",
        "def get_euclidean_distance(x):\n",
        "    euclidean_distances = torch.zeros((len(x), len(x)))\n",
        "    for i in range(len(x)):\n",
        "        source_x, source_y= x[i][1], x[i][2]\n",
        "        #euclidean_distance=[]\n",
        "        for j in range(len(x)):\n",
        "            target_x, target_y= x[j][1], x[j][2]\n",
        "            euclidean_distances[i][j]=np.sqrt((source_x-target_x)**2+(source_y-target_y)**2)\n",
        "            #euclidean_distance.append(np.sqrt((source_x-target_x)**2+(source_y-target_y)**2))\n",
        "        #euclidean_distances.append(euclidean_distance)\n",
        "\n",
        "    return euclidean_distances #list of lists\n",
        "\n",
        "def target_difference(target_x, source_x):\n",
        "    # target x and source x are of shape (9, 2)\n",
        "    #Subtract the x and y coordinates of the target from the source\n",
        "    return target_x - source_x\n",
        "\n",
        "\n",
        "def process_file(file_path):\n",
        "    # Main function to process a single file\n",
        "    data = load_array(file_path, 'task 1')\n",
        "    padded_input_data, padded_target_data = pad_array(data)\n",
        "    mask = create_mask(data,padded_input_data)\n",
        "    input_data = pair_values(padded_input_data)\n",
        "    euclidean_distance = get_euclidean_distance(padded_input_data)\n",
        "    target_data= target_difference(padded_target_data, padded_input_data[:,1:3])\n",
        "\n",
        "    return input_data, target_data, padded_input_data, mask, euclidean_distance\n"
      ]
    },
    {
      "cell_type": "code",
      "execution_count": 5,
      "metadata": {
        "id": "6073689e"
      },
      "outputs": [],
      "source": [
        "class CustomDataset_2(Dataset):\n",
        "    def __init__(self, folder):\n",
        "        self.folder = folder\n",
        "        self.file_list = os.listdir(folder)\n",
        "\n",
        "    def __len__(self):\n",
        "        return len(self.file_list)\n",
        "\n",
        "    def _read_file(self, file_path):\n",
        "        input_data, target_data,data, mask, distances= process_file(file_path)\n",
        "        return input_data, target_data,data, mask, distances\n",
        "\n",
        "    def __getitem__(self, index):\n",
        "        file_path = os.path.join(self.folder, self.file_list[index])\n",
        "        # Read and preprocess the data from the file\n",
        "        input_data, target_data,data, mask, distance = self._read_file(file_path)\n",
        "        # Return the preprocessed data\n",
        "        return input_data, target_data,data, mask, distance"
      ]
    },
    {
      "attachments": {},
      "cell_type": "markdown",
      "metadata": {
        "id": "18b2874d"
      },
      "source": [
        "# Model Implementation"
      ]
    },
    {
      "attachments": {},
      "cell_type": "markdown",
      "metadata": {
        "id": "44baf9a4"
      },
      "source": [
        "## NPE implementation"
      ]
    },
    {
      "cell_type": "code",
      "execution_count": 6,
      "metadata": {
        "id": "95154df7"
      },
      "outputs": [],
      "source": [
        "class NPEEncoder(nn.Module):\n",
        "    def __init__(self, hidden_units):\n",
        "        super(NPEEncoder, self).__init__()\n",
        "        self.pairwise_layer = nn.Linear(10, hidden_units, bias=False)\n",
        "        self.feedforward = nn.Sequential(\n",
        "            nn.Linear(hidden_units, 50, bias=False),\n",
        "            nn.ReLU(),\n",
        "            nn.Linear(50, 50, bias=False),\n",
        "            nn.ReLU(),\n",
        "            nn.Linear(50, 50, bias=False),\n",
        "            nn.ReLU(),\n",
        "            nn.Linear(50, 50, bias=False),\n",
        "            nn.ReLU()\n",
        "        )\n",
        "\n",
        "    def forward(self, x):\n",
        "        x= x.to(torch.float32)\n",
        "        x = self.pairwise_layer(x)\n",
        "        x = self.feedforward(x)\n",
        "        return x\n",
        "\n",
        "class NPEDecoder(nn.Module):\n",
        "    def __init__(self):\n",
        "        super(NPEDecoder, self).__init__()\n",
        "        self.decoder = nn.Sequential(\n",
        "            nn.Linear(55, 50),\n",
        "            nn.ReLU(),\n",
        "            nn.Linear(50, 50),\n",
        "            nn.ReLU(),\n",
        "            nn.Linear(50, 50),\n",
        "            nn.ReLU(),\n",
        "            nn.Linear(50, 50),\n",
        "            nn.ReLU(),\n",
        "            nn.Linear(50, 2)\n",
        "        )\n",
        "\n",
        "    def forward(self, x):\n",
        "        x = self.decoder(x)\n",
        "        return x"
      ]
    },
    {
      "cell_type": "code",
      "execution_count": 7,
      "metadata": {
        "id": "ebe6c765"
      },
      "outputs": [],
      "source": [
        "class NPEModel(nn.Module):\n",
        "    def __init__(self, hidden_units, device):\n",
        "        super(NPEModel, self).__init__()\n",
        "        self.encoder = NPEEncoder(hidden_units)\n",
        "        self.decoder = NPEDecoder()\n",
        "        self.device = device\n",
        "\n",
        "    def forward(self, x,unpaired_data, mask, distance, neighborhood_threshold=5):\n",
        "        decoder_input = []\n",
        "        dist_mask = ((distance > 0) & (distance < neighborhood_threshold))\n",
        "        for batch in range(x.size(0)):\n",
        "            batch_data= x[batch]\n",
        "            for body in range(batch_data.size(0)):\n",
        "                if torch.all(mask[batch][body]==1):\n",
        "                    focus_body = unpaired_data[batch][body]\n",
        "\n",
        "                    if dist_mask[batch][body].any():\n",
        "                        chunk = torch.flatten(x[batch][body][dist_mask[batch][body]],start_dim=1)\n",
        "                        neighbor_encodings = torch.sum(self.encoder(chunk), dim=0)\n",
        "                    else:\n",
        "                        neighbor_encodings = torch.zeros(50).to(self.device)\n",
        "                    # Concatenate the focus body encoding with the focus_body\n",
        "                    decoder_input.append(torch.cat((neighbor_encodings, focus_body), dim=0))\n",
        "                else:\n",
        "                    decoder_input.append(torch.cat((torch.zeros(50, device=self.device), torch.zeros_like(unpaired_data[batch][body])), dim=0))\n",
        "\n",
        "        # Decode the concatenated vector\n",
        "        decoded = self.decoder(torch.stack(decoder_input))\n",
        "\n",
        "        out_shape = x.size()\n",
        "        decoded = decoded.view(out_shape[0], out_shape[1], -1)\n",
        "\n",
        "        return decoded"
      ]
    },
    {
      "attachments": {},
      "cell_type": "markdown",
      "metadata": {
        "id": "dea70d73"
      },
      "source": [
        "# Model Training"
      ]
    },
    {
      "attachments": {},
      "cell_type": "markdown",
      "metadata": {
        "id": "d78cead1"
      },
      "source": [
        "## NPE training"
      ]
    },
    {
      "cell_type": "code",
      "execution_count": 8,
      "metadata": {
        "id": "OkS0_ALBo9HI"
      },
      "outputs": [],
      "source": [
        "def load_data(folder):\n",
        "    file_list = os.listdir(folder)\n",
        "    output = []\n",
        "\n",
        "    for filename in file_list:\n",
        "        file_path = os.path.join(folder, filename)\n",
        "        output.append(process_file(file_path))\n",
        "\n",
        "    return output"
      ]
    },
    {
      "cell_type": "code",
      "execution_count": 9,
      "metadata": {
        "id": "3ff06815"
      },
      "outputs": [],
      "source": [
        "data_dir = 'data/task 1/train'\n",
        "# dataset = CustomDataset_2(data_dir)\n",
        "\n",
        "dataset = load_data(data_dir)\n",
        "train_dataset, valid_dataset = train_test_split(dataset, train_size=0.7) \n",
        "\n",
        "\n",
        "train_data_loader = DataLoader(train_dataset, batch_size=64, shuffle=True)\n",
        "valid_data_loader = DataLoader(valid_dataset, batch_size=64, shuffle=True)"
      ]
    },
    {
      "cell_type": "code",
      "execution_count": 10,
      "metadata": {
        "id": "5w0upAM-54MI"
      },
      "outputs": [],
      "source": [
        "test_data_dir = 'data/task 1/test'\n",
        "# test_dataset = CustomDataset_2(test_data_dir)\n",
        "\n",
        "test_dataset = load_data(test_data_dir)\n",
        "\n",
        "\n",
        "test_data_loader = DataLoader(test_dataset, batch_size=64, shuffle=False)"
      ]
    },
    {
      "cell_type": "code",
      "execution_count": 11,
      "metadata": {
        "colab": {
          "base_uri": "https://localhost:8080/"
        },
        "id": "7efb3949",
        "outputId": "39608b86-e5fe-4bfe-def9-7453f0a6ae5e"
      },
      "outputs": [
        {
          "data": {
            "text/plain": [
              "device(type='cpu')"
            ]
          },
          "execution_count": 11,
          "metadata": {},
          "output_type": "execute_result"
        }
      ],
      "source": [
        "device = torch.device('cuda' if torch.cuda.is_available() else 'cpu')\n",
        "# device = torch.device('cpu')\n",
        "device"
      ]
    },
    {
      "cell_type": "code",
      "execution_count": 12,
      "metadata": {
        "id": "07e03ddf"
      },
      "outputs": [],
      "source": [
        "# Hyperparameters\n",
        "hidden_units = 25\n",
        "learning_rate = 1e-3\n",
        "learning_rate_decay = 0.99\n",
        "iterations = 50\n",
        "batch_size = 100\n",
        "\n",
        "# Create the model\n",
        "model = NPEModel(hidden_units, device=device)\n",
        "model.to(device)\n",
        "criterion = nn.MSELoss(reduction='none')\n",
        "# optimizer = optim.RMSprop(model.parameters(), lr=learning_rate)\n",
        "optimizer = optim.AdamW(model.parameters(), lr=learning_rate)"
      ]
    },
    {
      "cell_type": "code",
      "execution_count": 13,
      "metadata": {
        "id": "a760bea0"
      },
      "outputs": [],
      "source": [
        "def train_sim_model(model, train_data_loader, valid_data_loader, optimizer, criterion,\n",
        "                    device=torch.device('cpu'), iterations=50, model_file='best_model.pth'):\n",
        "    best_val_loss = np.inf\n",
        "    for iteration in tqdm(range(iterations)):\n",
        "        model.train()\n",
        "        train_loss=0.0\n",
        "        for input_data, target_data,unpaired_data, mask, distance in train_data_loader:\n",
        "        # Training steps\n",
        "            input_data = input_data.to(device)\n",
        "            unpaired_data = unpaired_data.to(device)\n",
        "            mask = mask.to(device)\n",
        "            distance = distance.to(device)\n",
        "            target_data=target_data.to(device)\n",
        "\n",
        "            optimizer.zero_grad()\n",
        "            output = model(input_data, unpaired_data, mask, distance)\n",
        "\n",
        "            loss = torch.masked_select(criterion(target_data, output),\n",
        "                                       torch.stack([mask.all(dim=2), mask.all(dim=2)], dim=2)).mean()\n",
        "            train_loss += loss.item()\n",
        "            loss.backward()\n",
        "            optimizer.step()\n",
        "\n",
        "        train_loss /= len(train_data_loader)\n",
        "\n",
        "\n",
        "        model.eval()\n",
        "        test_loss=0.0\n",
        "        with torch.no_grad():\n",
        "            for input_data, target_data,unpaired_data, mask, distance in valid_data_loader:\n",
        "                input_data = input_data.to(device)\n",
        "                target_data = target_data.to(device)\n",
        "                unpaired_data = unpaired_data.to(device)\n",
        "                mask = mask.to(device)\n",
        "                distance = distance.to(device)\n",
        "\n",
        "                output = model(input_data, unpaired_data, mask, distance)\n",
        "                loss = torch.masked_select(criterion(target_data, output),\n",
        "                                       torch.stack([mask.all(dim=2), mask.all(dim=2)], dim=2)).mean()\n",
        "                test_loss += loss.item()\n",
        "        test_loss /= len(valid_data_loader)\n",
        "\n",
        "        if test_loss < best_val_loss:\n",
        "            best_val_loss = test_loss\n",
        "            torch.save({\n",
        "                'epoch': iteration+1,\n",
        "                'model_state_dict': model.state_dict(),\n",
        "                'optimizer_state_dict': optimizer.state_dict(),\n",
        "                'loss': criterion,\n",
        "                }, model_file)\n",
        "\n",
        "\n",
        "            # Print loss for monitoring\n",
        "            #if (iteration + 1) % 10000 == 0:\n",
        "        print(f\"Epoch [{iteration+1}/{iterations}], Loss: {train_loss}, \\tTest Loss: {test_loss}\")"
      ]
    },
    {
      "cell_type": "code",
      "execution_count": 14,
      "metadata": {
        "colab": {
          "base_uri": "https://localhost:8080/",
          "height": 899,
          "referenced_widgets": [
            "48297f5609324674aeed85ae1d3b62ba",
            "2215dfba08114aa594608bf7cfb96ac5",
            "fd4d4bd9a6ea44e3b7ee5f8eb65dd244",
            "fd2b815361244a809427009365cbd326",
            "11fa7d62753c41149d54ff596bfd60cc",
            "adc0716739f54557a9dd5403f1f3c559",
            "8c6e8b91901a4ea6a9c7440ad86c50bf",
            "ec78e6ce8de342f09e585099e3f867b9",
            "8db7a480794e414e9e14240711000b80",
            "4288723f8f794e498097c7a4d7e466c9",
            "45768b5ed593494cb75c39cf0b18a815"
          ]
        },
        "id": "xxpPfpa-WxcP",
        "outputId": "f7197698-4865-48fc-9970-e12ba505510f"
      },
      "outputs": [
        {
          "data": {
            "application/vnd.jupyter.widget-view+json": {
              "model_id": "a56028424ab14ac4802c73609dd47da4",
              "version_major": 2,
              "version_minor": 0
            },
            "text/plain": [
              "  0%|          | 0/50 [00:00<?, ?it/s]"
            ]
          },
          "metadata": {},
          "output_type": "display_data"
        },
        {
          "name": "stdout",
          "output_type": "stream",
          "text": [
            "Epoch [1/50], Loss: 13.985816383361817, \tTest Loss: 11.244125843048096\n",
            "Epoch [2/50], Loss: 13.505384922027588, \tTest Loss: 10.31701135635376\n",
            "Epoch [3/50], Loss: 11.745889568328858, \tTest Loss: 7.520480155944824\n",
            "Epoch [4/50], Loss: 9.623817300796508, \tTest Loss: 6.42974853515625\n",
            "Epoch [5/50], Loss: 8.792934703826905, \tTest Loss: 6.128693342208862\n",
            "Epoch [6/50], Loss: 8.435100030899047, \tTest Loss: 6.139812469482422\n",
            "Epoch [7/50], Loss: 8.380176162719726, \tTest Loss: 5.854802846908569\n",
            "Epoch [8/50], Loss: 8.078586006164551, \tTest Loss: 5.513668775558472\n",
            "Epoch [9/50], Loss: 7.704919290542603, \tTest Loss: 5.280551433563232\n",
            "Epoch [10/50], Loss: 7.498129367828369, \tTest Loss: 5.014339923858643\n",
            "Epoch [11/50], Loss: 7.184095001220703, \tTest Loss: 4.788589954376221\n",
            "Epoch [12/50], Loss: 6.900307607650757, \tTest Loss: 4.6405580043792725\n",
            "Epoch [13/50], Loss: 6.804527330398559, \tTest Loss: 4.441267013549805\n",
            "Epoch [14/50], Loss: 6.376402568817139, \tTest Loss: 4.390193939208984\n",
            "Epoch [15/50], Loss: 6.136215114593506, \tTest Loss: 3.9923990964889526\n",
            "Epoch [16/50], Loss: 5.827300596237182, \tTest Loss: 3.933414340019226\n",
            "Epoch [17/50], Loss: 5.6781751155853275, \tTest Loss: 3.9434481859207153\n",
            "Epoch [18/50], Loss: 5.555202579498291, \tTest Loss: 3.8377429246902466\n",
            "Epoch [19/50], Loss: 5.424284029006958, \tTest Loss: 3.699505090713501\n",
            "Epoch [20/50], Loss: 5.248400926589966, \tTest Loss: 3.6969027519226074\n",
            "Epoch [21/50], Loss: 5.2196937799453735, \tTest Loss: 3.6151596307754517\n",
            "Epoch [22/50], Loss: 5.026744222640991, \tTest Loss: 3.5873160362243652\n",
            "Epoch [23/50], Loss: 5.0109819889068605, \tTest Loss: 3.5060521364212036\n",
            "Epoch [24/50], Loss: 4.895152521133423, \tTest Loss: 3.640776753425598\n",
            "Epoch [25/50], Loss: 4.840383148193359, \tTest Loss: 3.534387230873108\n",
            "Epoch [26/50], Loss: 4.75665431022644, \tTest Loss: 3.5149115324020386\n",
            "Epoch [27/50], Loss: 4.6561342716217045, \tTest Loss: 3.4967905282974243\n",
            "Epoch [28/50], Loss: 4.516483902931213, \tTest Loss: 3.526075005531311\n",
            "Epoch [29/50], Loss: 4.511888337135315, \tTest Loss: 3.611854076385498\n",
            "Epoch [30/50], Loss: 4.425001096725464, \tTest Loss: 3.5251576900482178\n",
            "Epoch [31/50], Loss: 4.376365804672242, \tTest Loss: 3.4950828552246094\n",
            "Epoch [32/50], Loss: 4.3722305536270145, \tTest Loss: 3.486061453819275\n",
            "Epoch [33/50], Loss: 4.223729848861694, \tTest Loss: 3.5879632234573364\n",
            "Epoch [34/50], Loss: 4.217557263374329, \tTest Loss: 3.494703531265259\n",
            "Epoch [35/50], Loss: 4.098454165458679, \tTest Loss: 3.4373520612716675\n",
            "Epoch [36/50], Loss: 4.04409818649292, \tTest Loss: 3.439511775970459\n",
            "Epoch [37/50], Loss: 4.018899989128113, \tTest Loss: 3.425569176673889\n",
            "Epoch [38/50], Loss: 3.9509277820587156, \tTest Loss: 3.4452484846115112\n",
            "Epoch [39/50], Loss: 3.9176941871643067, \tTest Loss: 3.40704345703125\n",
            "Epoch [40/50], Loss: 3.9184452295303345, \tTest Loss: 3.520060658454895\n",
            "Epoch [41/50], Loss: 3.8828511238098145, \tTest Loss: 3.40666663646698\n",
            "Epoch [42/50], Loss: 3.840724968910217, \tTest Loss: 3.3804558515548706\n",
            "Epoch [43/50], Loss: 3.8291139602661133, \tTest Loss: 3.411244034767151\n",
            "Epoch [44/50], Loss: 3.7621139526367187, \tTest Loss: 3.382059097290039\n",
            "Epoch [45/50], Loss: 3.7067148208618166, \tTest Loss: 3.365383267402649\n",
            "Epoch [46/50], Loss: 3.6977250576019287, \tTest Loss: 3.390425443649292\n",
            "Epoch [47/50], Loss: 3.7708845853805544, \tTest Loss: 3.5191270112991333\n",
            "Epoch [48/50], Loss: 3.7203820943832397, \tTest Loss: 3.342894434928894\n",
            "Epoch [49/50], Loss: 3.6713882446289063, \tTest Loss: 3.406093716621399\n",
            "Epoch [50/50], Loss: 3.6615878105163575, \tTest Loss: 3.310223937034607\n"
          ]
        }
      ],
      "source": [
        "train_sim_model(model, train_data_loader, test_data_loader, optimizer, criterion, device=device, iterations=iterations)"
      ]
    },
    {
      "attachments": {},
      "cell_type": "markdown",
      "metadata": {},
      "source": [
        "## Evaluation task 1"
      ]
    },
    {
      "cell_type": "code",
      "execution_count": 15,
      "metadata": {},
      "outputs": [],
      "source": [
        "def get_MSE(data_loader,model):\n",
        "    MSE_total = 0\n",
        "    MSE_data = []\n",
        "\n",
        "    model.eval()\n",
        "    with torch.no_grad():\n",
        "        num_points = len(data_loader.dataset)\n",
        "        for input_data, target_diff, unpaired_data, mask, distance in data_loader:\n",
        "            \n",
        "                \n",
        "                predicted_change = model(input_data, unpaired_data, mask, distance)\n",
        "\n",
        "                mask_stack = torch.stack([mask.all(dim=2), mask.all(dim=2)], dim=2)\n",
        "\n",
        "                MSE_data_batch = criterion(target_diff, predicted_change) * mask_stack.float()\n",
        "                \n",
        "                MSE_total += torch.masked_select(criterion(target_diff, predicted_change),\n",
        "                                        torch.stack([mask.all(dim=2), mask.all(dim=2)], dim=2)).mean() * len(unpaired_data)/num_points\n",
        "            \n",
        "                \n",
        "                MSE_data.append([MSE_data_batch, unpaired_data, target_diff])\n",
        "\n",
        "    return MSE_total, MSE_data"
      ]
    },
    {
      "cell_type": "code",
      "execution_count": 16,
      "metadata": {},
      "outputs": [],
      "source": [
        "valid_MSE, valid_MSE_data = get_MSE(valid_data_loader,model)"
      ]
    },
    {
      "cell_type": "code",
      "execution_count": 17,
      "metadata": {},
      "outputs": [],
      "source": [
        "test_MSE, test_MSE_data = get_MSE(test_data_loader, model)"
      ]
    },
    {
      "cell_type": "code",
      "execution_count": 18,
      "metadata": {},
      "outputs": [],
      "source": [
        "train_MSE, train_MSE_data = get_MSE(train_data_loader, model)"
      ]
    },
    {
      "cell_type": "code",
      "execution_count": 19,
      "metadata": {},
      "outputs": [],
      "source": [
        "first_batch_MSE = test_MSE_data[0]\n",
        "first_batch_MSE = [[val.mean() for val in batch] for batch in first_batch_MSE[0]]\n",
        "first_batch_MSE = [torch.stack(val).mean() for val in first_batch_MSE]"
      ]
    },
    {
      "cell_type": "code",
      "execution_count": 20,
      "metadata": {},
      "outputs": [],
      "source": [
        "sorted_indexes = torch.argsort(torch.stack(first_batch_MSE))\n",
        "top_3 = sorted_indexes[:3]\n",
        "min_3 = sorted_indexes[-3:]\n"
      ]
    },
    {
      "cell_type": "code",
      "execution_count": 21,
      "metadata": {},
      "outputs": [
        {
          "name": "stdout",
          "output_type": "stream",
          "text": [
            "Indexes of the three lowest MSE scores: tensor([17, 18, 54])\n",
            "Indexes of the three highest MSE scores: tensor([16, 24,  5])\n"
          ]
        }
      ],
      "source": [
        "print(\"Indexes of the three lowest MSE scores:\", top_3)\n",
        "print(\"Indexes of the three highest MSE scores:\", min_3)"
      ]
    },
    {
      "cell_type": "code",
      "execution_count": 22,
      "metadata": {},
      "outputs": [],
      "source": [
        "def plot(model, test_data_loader, indexes):\n",
        "    model.eval()\n",
        "    \n",
        "    num_plots = len(indexes)\n",
        "    num_cols = 3  # Number of columns in the subplot grid\n",
        "    num_rows = (num_plots + num_cols - 1) // num_cols  # Calculate the number of rows needed\n",
        "\n",
        "    fig, axes = plt.subplots(num_rows, num_cols, figsize=(20, 20), squeeze=False)  # Create the subplot grid\n",
        "    \n",
        "    \n",
        "    for i, index in enumerate(indexes):\n",
        "        row = i // num_cols  # Calculate the row index\n",
        "        col = i % num_cols  # Calculate the column index\n",
        "\n",
        "        ax = axes[row, col] if num_plots > 1 else axes  # Select the appropriate subplot\n",
        "\n",
        "        with torch.no_grad():\n",
        "            input_data, target_diff, unpaired_data, mask, distance = test_data_loader.dataset[index]\n",
        "\n",
        "            input_data = input_data.unsqueeze(0)\n",
        "            unpaired_data = unpaired_data.unsqueeze(0)\n",
        "            mask = mask.unsqueeze(0)\n",
        "            distance = distance.unsqueeze(0)\n",
        "\n",
        "            output = model(input_data, unpaired_data, mask, distance)\n",
        "            init_pos = test_data_loader.dataset[index][2][:, 1:3]\n",
        "            mass = unpaired_data[:, :, :1]\n",
        "\n",
        "            predicted_pos = init_pos + output \n",
        "            gt = init_pos + test_data_loader.dataset[index][1]\n",
        "\n",
        "            for j in range(init_pos.shape[0]):\n",
        "                init_pos_body = init_pos[j]\n",
        "                predicted_pos_body = predicted_pos[0][j]\n",
        "                gt_body = gt[j]\n",
        "                mass_body = mass[0][j]\n",
        "\n",
        "                # Assign a unique color to each body\n",
        "                color = plt.cm.tab10(j)\n",
        "\n",
        "                # Calculate dot size based on mass value\n",
        "                dot_size = mass_body * 3\n",
        "\n",
        "                # plot x vs y for this body, with different styles for ground truth and prediction\n",
        "                ax.plot(gt_body[0], gt_body[1], 'o-', label=f'Body {j} Ground Truth', color=color, markersize=dot_size)\n",
        "                ax.plot(predicted_pos_body[0], predicted_pos_body[1], 'o--', label=f'Body {j} Predicted',\n",
        "                        color=color, markersize=dot_size)\n",
        "\n",
        "                # Draw lines connecting initial position, ground truth, and predicted positions\n",
        "                ax.plot([init_pos_body[0], gt_body[0]], [init_pos_body[1], gt_body[1]], '-', color=color)\n",
        "                ax.plot([init_pos_body[0], predicted_pos_body[0]], [init_pos_body[1], predicted_pos_body[1]], '--',\n",
        "                        color=color)\n",
        "\n",
        "        ax.set_xlabel('x')\n",
        "        ax.set_ylabel('y')\n",
        "        if i < 4:\n",
        "            ax.set_title('Trajectories failure cases')\n",
        "        else:\n",
        "            ax.set_title('Trajectories succesful cases')\n",
        "        ax.legend(loc='center left', bbox_to_anchor=(1, 0.5))\n",
        "        ax.grid(True)\n",
        "\n",
        "    plt.tight_layout()  # Adjust spacing between subplots\n",
        "    plt.subplots_adjust(wspace=0.55, hspace=0.1)\n",
        "    plt.show()\n",
        "\n"
      ]
    },
    {
      "cell_type": "code",
      "execution_count": 23,
      "metadata": {},
      "outputs": [],
      "source": [
        "indexes = torch.cat((min_3, top_3), dim=0)"
      ]
    },
    {
      "cell_type": "code",
      "execution_count": 24,
      "metadata": {},
      "outputs": [
        {
          "data": {
            "image/png": "[encoded data removed]",
            "text/plain": [
              "<Figure size 2000x2000 with 6 Axes>"
            ]
          },
          "metadata": {},
          "output_type": "display_data"
        }
      ],
      "source": [
        "plot(model, test_data_loader, indexes)"
      ]
    },
    {
      "attachments": {},
      "cell_type": "markdown",
      "metadata": {},
      "source": [
        "## Eval to baseline"
      ]
    },
    {
      "cell_type": "code",
      "execution_count": 25,
      "metadata": {},
      "outputs": [],
      "source": [
        "def get_MSE_baseline(data_loader, t):\n",
        "    MSE_total_base = 0\n",
        "    MSE_total_const = 0\n",
        "\n",
        "    num_points = len(data_loader.dataset)\n",
        "    for input_data, target_diff, unpaired_data, mask, distance in data_loader:\n",
        "        \n",
        "        target = unpaired_data[:, :, 1:3] + target_diff\n",
        "        predicted_pos_base = unpaired_data[:, :, 1:3] + unpaired_data[:,:,3:5] * t\n",
        "        predicted_pos_const = unpaired_data[:, :, 1:3]\n",
        "\n",
        "        mask_stack = torch.stack([mask.all(dim=2), mask.all(dim=2)], dim=2)\n",
        "        \n",
        "        MSE_total_base += torch.masked_select(criterion(target, predicted_pos_base),\n",
        "                                torch.stack([mask.all(dim=2), mask.all(dim=2)], dim=2)).mean() * len(unpaired_data)/num_points\n",
        "        MSE_total_const += torch.masked_select(criterion(target, predicted_pos_const),\n",
        "                                torch.stack([mask.all(dim=2), mask.all(dim=2)], dim=2)).mean() * len(unpaired_data)/num_points\n",
        " \n",
        "\n",
        "    return MSE_total_base, MSE_total_const"
      ]
    },
    {
      "cell_type": "code",
      "execution_count": 26,
      "metadata": {},
      "outputs": [
        {
          "data": {
            "text/plain": [
              "(tensor(4.2166), tensor(3.6283), tensor(3.2045))"
            ]
          },
          "execution_count": 26,
          "metadata": {},
          "output_type": "execute_result"
        }
      ],
      "source": [
        "MSE_total_base_test, MSE_total_const_test = get_MSE_baseline(test_data_loader, 5)\n",
        "MSE_total_base_train, MSE_total_const_train = get_MSE_baseline(train_data_loader, 5)\n",
        "MSE_total_base_val, MSE_total_const_val = get_MSE_baseline(valid_data_loader, 5)\n",
        "valid_MSE, train_MSE, test_MSE"
      ]
    },
    {
      "cell_type": "code",
      "execution_count": 27,
      "metadata": {},
      "outputs": [
        {
          "name": "stdout",
          "output_type": "stream",
          "text": [
            "╒═════════════════╤═════════════╤══════════════════╤════════════╕\n",
            "│ Model           │   Train MSE │   Validation MSE │   Test MSE │\n",
            "╞═════════════════╪═════════════╪══════════════════╪════════════╡\n",
            "│ Baseline linear │    22.423   │         21.603   │   20.3079  │\n",
            "├─────────────────┼─────────────┼──────────────────┼────────────┤\n",
            "│ Constant        │    14.1394  │         13.5112  │   11.4935  │\n",
            "├─────────────────┼─────────────┼──────────────────┼────────────┤\n",
            "│ NPE             │     3.62834 │          4.21663 │    3.20451 │\n",
            "╘═════════════════╧═════════════╧══════════════════╧════════════╛\n"
          ]
        }
      ],
      "source": [
        "from tabulate import tabulate\n",
        "\n",
        "table_data = [\n",
        "    [\"Model\", \"Train MSE\", \"Validation MSE\", \"Test MSE\"],\n",
        "    [\"Baseline linear\", MSE_total_base_train, MSE_total_base_val, MSE_total_base_test],\n",
        "    [\"Constant\", MSE_total_const_train, MSE_total_const_val, MSE_total_const_test],\n",
        "    [\"NPE\", train_MSE, valid_MSE, test_MSE]\n",
        "]\n",
        "\n",
        "table = tabulate(table_data, headers=\"firstrow\", tablefmt=\"fancy_grid\")\n",
        "print(table)\n"
      ]
    },
    {
      "attachments": {},
      "cell_type": "markdown",
      "metadata": {
        "id": "ABEFBFEzs2jd"
      },
      "source": [
        "# Task 2"
      ]
    },
    {
      "cell_type": "code",
      "execution_count": 28,
      "metadata": {
        "id": "GZ60Vp-pQXfl"
      },
      "outputs": [],
      "source": [
        "def files_2_data(files):\n",
        "    output = []\n",
        "    for file_path in tqdm(files):\n",
        "        datapoint = np.load(file_path)\n",
        "        whole_trajectory = datapoint['trajectory']\n",
        "        # change shape: (num_bodies, attributes, time) ->  num_bodies, time, attributes\n",
        "        whole_trajectory = np.swapaxes(whole_trajectory, 1, 2)\n",
        "        for i in range(whole_trajectory.shape[1] - 1):\n",
        "            data = whole_trajectory[:, i], whole_trajectory[:, i + 1, 1:3]\n",
        "            padded_input_data, padded_target_data = pad_array(data)\n",
        "            mask = create_mask(data,padded_input_data)\n",
        "            input_data = pair_values(padded_input_data)\n",
        "            euclidean_distance = get_euclidean_distance(padded_input_data)\n",
        "            target_data= target_difference(padded_target_data, padded_input_data[:,1:3])\n",
        "\n",
        "            output.append((input_data, target_data, padded_input_data, mask, euclidean_distance))\n",
        "    return output"
      ]
    },
    {
      "cell_type": "code",
      "execution_count": 29,
      "metadata": {
        "id": "2ejokMDu0aTn"
      },
      "outputs": [],
      "source": [
        "files_rate = 1.0\n",
        "\n",
        "train_files = glob('data/task 2_3/train/*')\n",
        "train_files = train_files[:int(len(train_files) * files_rate)]\n",
        "\n",
        "train_files, valid_files = train_test_split(train_files, train_size=0.7)"
      ]
    },
    {
      "cell_type": "code",
      "execution_count": 32,
      "metadata": {
        "colab": {
          "base_uri": "https://localhost:8080/",
          "height": 81,
          "referenced_widgets": [
            "d9d29c6e23a14d4bb23396c05dfffb6d",
            "7712b5e9dc5f4e90b0af38dd4920732f",
            "297d13bb2c40484b8422da20b890512d",
            "6a07040175b74373afb263a83f877b4c",
            "084e6574ef714bd6b1f1ed4da0ca6d52",
            "f71091bf646c4a1da015da688fbe3500",
            "298a26ab61294990a87195269cc60de0",
            "3e51044e6a1d46d1a08d61e5bf44011c",
            "526b76939e274db99e9a5fc020e5008c",
            "c83a8126b22c41158854db999d097994",
            "edf54510c4374c4ba049dbcae67a4712",
            "02629b8e02b34dcb898087ee4c38a50c",
            "7cdd742b1b9b411aa60cba52e79ed1fe",
            "f87df60b25d646329064d2f4d5d56804",
            "195e24778c9749bdb71de5cc70ad5065",
            "382bd0183fd64130aef2b8a49d731395",
            "15d837cdb5284b9a8d1d53e2e85da302",
            "b2bd5cb0b4164adf9d760baddea3a416",
            "f2b5ef6982484d2c8034772e688db3e0",
            "fb79a9d9ebe942279e4d607da41594d1",
            "2f40f73847bc446d916b12fb1a6f149e",
            "7255aaa7f3da458082f985a95ec042ef"
          ]
        },
        "id": "U5EKuoBvR-Hc",
        "outputId": "b8e20858-9d91-41b8-f543-8bdaefeec350"
      },
      "outputs": [
        {
          "data": {
            "application/vnd.jupyter.widget-view+json": {
              "model_id": "b3b430b907a64f469c84b1219806db30",
              "version_major": 2,
              "version_minor": 0
            },
            "text/plain": [
              "  0%|          | 0/270 [00:00<?, ?it/s]"
            ]
          },
          "metadata": {},
          "output_type": "display_data"
        }
      ],
      "source": [
        "train_data = files_2_data(train_files)\n",
        "\n",
        "valid_data = files_2_data(valid_files)"
      ]
    },
    {
      "cell_type": "code",
      "execution_count": 33,
      "metadata": {
        "id": "t20UMcE35YNX"
      },
      "outputs": [],
      "source": [
        "BATCH_SIZE = 256\n",
        "\n",
        "train_data_loader = DataLoader(train_data, batch_size=BATCH_SIZE, shuffle=True)\n",
        "valid_data_loader = DataLoader(valid_data, batch_size=BATCH_SIZE, shuffle=False)"
      ]
    },
    {
      "cell_type": "code",
      "execution_count": 34,
      "metadata": {
        "colab": {
          "base_uri": "https://localhost:8080/"
        },
        "id": "GM83dBy0XGdT",
        "outputId": "6a87e3e4-ac87-4e1b-aefa-5ecb4d63b7c6"
      },
      "outputs": [
        {
          "data": {
            "text/plain": [
              "device(type='cpu')"
            ]
          },
          "execution_count": 34,
          "metadata": {},
          "output_type": "execute_result"
        }
      ],
      "source": [
        "device = torch.device('cuda' if torch.cuda.is_available() else 'cpu')\n",
        "device"
      ]
    },
    {
      "cell_type": "code",
      "execution_count": 35,
      "metadata": {
        "id": "ewmxqXngXGdV"
      },
      "outputs": [],
      "source": [
        "# Hyperparameters\n",
        "hidden_units = 25\n",
        "LR = 1e-3\n",
        "EPOCHS = 20\n",
        "\n",
        "# Create the model\n",
        "model = NPEModel(hidden_units, device=device).to(device)\n",
        "\n",
        "criterion = nn.MSELoss(reduction='none')\n",
        "optimizer = optim.AdamW(model.parameters(), lr=LR)"
      ]
    },
    {
      "cell_type": "code",
      "execution_count": 83,
      "metadata": {
        "colab": {
          "base_uri": "https://localhost:8080/",
          "height": 389,
          "referenced_widgets": [
            "983a1905713c41989e2b3aeaf1f23d9b",
            "4c9a9d3c9d754941aa84890b724ea3bd",
            "8d07b9f34c9543c992ab6dcfd38df0f7",
            "405c564da4ef4647bba9e3909efaa222",
            "aa5a6600f392446b8fb50e2c8619b764",
            "a7c59d78ebe64e4ead5a02107ca7e26a",
            "49c4b1166247413cb50a71ec1867a761",
            "8ef0a7eeeaf142149bfe9a1bc7b7e1ec",
            "57fe44fad9a8442b97491cdb1dae70cd",
            "03d24b1edb8f45fcb0e260dabad56e5a",
            "6121f588a3484931be34c57a9e3c87b4"
          ]
        },
        "id": "e9cEYSC8W5tH",
        "outputId": "74ecc6fa-287f-437b-b482-9d62141636a1"
      },
      "outputs": [
        {
          "data": {
            "application/vnd.jupyter.widget-view+json": {
              "model_id": "015a34d6b44f4f3b86c88962c0c0e458",
              "version_major": 2,
              "version_minor": 0
            },
            "text/plain": [
              "  0%|          | 0/10 [00:00<?, ?it/s]"
            ]
          },
          "metadata": {},
          "output_type": "display_data"
        },
        {
          "ename": "KeyboardInterrupt",
          "evalue": "",
          "output_type": "error",
          "traceback": [
            "\u001b[1;31m---------------------------------------------------------------------------\u001b[0m",
            "\u001b[1;31mKeyboardInterrupt\u001b[0m                         Traceback (most recent call last)",
            "\u001b[1;32md:\\Master\\Y1\\Deep learning\\Deep-learning\\assignment_2\\NPE_DL_2.ipynb Cell 44\u001b[0m in \u001b[0;36m1\n\u001b[1;32m----> <a href='vscode-notebook-cell:/d%3A/Master/Y1/Deep%20learning/Deep-learning/assignment_2/NPE_DL_2.ipynb#X61sZmlsZQ%3D%3D?line=0'>1</a>\u001b[0m train_sim_model(model, train_data_loader, valid_data_loader, optimizer, criterion, device, iterations\u001b[39m=\u001b[39;49m\u001b[39m10\u001b[39;49m, model_file\u001b[39m=\u001b[39;49m\u001b[39m'\u001b[39;49m\u001b[39mbest_task2_model.pth\u001b[39;49m\u001b[39m'\u001b[39;49m)\n",
            "\u001b[1;32md:\\Master\\Y1\\Deep learning\\Deep-learning\\assignment_2\\NPE_DL_2.ipynb Cell 44\u001b[0m in \u001b[0;36m1\n\u001b[0;32m     <a href='vscode-notebook-cell:/d%3A/Master/Y1/Deep%20learning/Deep-learning/assignment_2/NPE_DL_2.ipynb#X61sZmlsZQ%3D%3D?line=12'>13</a>\u001b[0m target_data\u001b[39m=\u001b[39mtarget_data\u001b[39m.\u001b[39mto(device)\n\u001b[0;32m     <a href='vscode-notebook-cell:/d%3A/Master/Y1/Deep%20learning/Deep-learning/assignment_2/NPE_DL_2.ipynb#X61sZmlsZQ%3D%3D?line=14'>15</a>\u001b[0m optimizer\u001b[39m.\u001b[39mzero_grad()\n\u001b[1;32m---> <a href='vscode-notebook-cell:/d%3A/Master/Y1/Deep%20learning/Deep-learning/assignment_2/NPE_DL_2.ipynb#X61sZmlsZQ%3D%3D?line=15'>16</a>\u001b[0m output \u001b[39m=\u001b[39m model(input_data, unpaired_data, mask, distance)\n\u001b[0;32m     <a href='vscode-notebook-cell:/d%3A/Master/Y1/Deep%20learning/Deep-learning/assignment_2/NPE_DL_2.ipynb#X61sZmlsZQ%3D%3D?line=17'>18</a>\u001b[0m loss \u001b[39m=\u001b[39m torch\u001b[39m.\u001b[39mmasked_select(criterion(target_data, output),\n\u001b[0;32m     <a href='vscode-notebook-cell:/d%3A/Master/Y1/Deep%20learning/Deep-learning/assignment_2/NPE_DL_2.ipynb#X61sZmlsZQ%3D%3D?line=18'>19</a>\u001b[0m                            torch\u001b[39m.\u001b[39mstack([mask\u001b[39m.\u001b[39mall(dim\u001b[39m=\u001b[39m\u001b[39m2\u001b[39m), mask\u001b[39m.\u001b[39mall(dim\u001b[39m=\u001b[39m\u001b[39m2\u001b[39m)], dim\u001b[39m=\u001b[39m\u001b[39m2\u001b[39m))\u001b[39m.\u001b[39mmean()\n\u001b[0;32m     <a href='vscode-notebook-cell:/d%3A/Master/Y1/Deep%20learning/Deep-learning/assignment_2/NPE_DL_2.ipynb#X61sZmlsZQ%3D%3D?line=19'>20</a>\u001b[0m train_loss \u001b[39m+\u001b[39m\u001b[39m=\u001b[39m loss\u001b[39m.\u001b[39mitem()\n",
            "File \u001b[1;32mc:\\Users\\20172048\\AppData\\Local\\Programs\\Python\\Python310\\lib\\site-packages\\torch\\nn\\modules\\module.py:1501\u001b[0m, in \u001b[0;36mModule._call_impl\u001b[1;34m(self, *args, **kwargs)\u001b[0m\n\u001b[0;32m   1496\u001b[0m \u001b[39m# If we don't have any hooks, we want to skip the rest of the logic in\u001b[39;00m\n\u001b[0;32m   1497\u001b[0m \u001b[39m# this function, and just call forward.\u001b[39;00m\n\u001b[0;32m   1498\u001b[0m \u001b[39mif\u001b[39;00m \u001b[39mnot\u001b[39;00m (\u001b[39mself\u001b[39m\u001b[39m.\u001b[39m_backward_hooks \u001b[39mor\u001b[39;00m \u001b[39mself\u001b[39m\u001b[39m.\u001b[39m_backward_pre_hooks \u001b[39mor\u001b[39;00m \u001b[39mself\u001b[39m\u001b[39m.\u001b[39m_forward_hooks \u001b[39mor\u001b[39;00m \u001b[39mself\u001b[39m\u001b[39m.\u001b[39m_forward_pre_hooks\n\u001b[0;32m   1499\u001b[0m         \u001b[39mor\u001b[39;00m _global_backward_pre_hooks \u001b[39mor\u001b[39;00m _global_backward_hooks\n\u001b[0;32m   1500\u001b[0m         \u001b[39mor\u001b[39;00m _global_forward_hooks \u001b[39mor\u001b[39;00m _global_forward_pre_hooks):\n\u001b[1;32m-> 1501\u001b[0m     \u001b[39mreturn\u001b[39;00m forward_call(\u001b[39m*\u001b[39margs, \u001b[39m*\u001b[39m\u001b[39m*\u001b[39mkwargs)\n\u001b[0;32m   1502\u001b[0m \u001b[39m# Do not call functions when jit is used\u001b[39;00m\n\u001b[0;32m   1503\u001b[0m full_backward_hooks, non_full_backward_hooks \u001b[39m=\u001b[39m [], []\n",
            "\u001b[1;32md:\\Master\\Y1\\Deep learning\\Deep-learning\\assignment_2\\NPE_DL_2.ipynb Cell 44\u001b[0m in \u001b[0;36m1\n\u001b[0;32m     <a href='vscode-notebook-cell:/d%3A/Master/Y1/Deep%20learning/Deep-learning/assignment_2/NPE_DL_2.ipynb#X61sZmlsZQ%3D%3D?line=16'>17</a>\u001b[0m \u001b[39mif\u001b[39;00m dist_mask[batch][body]\u001b[39m.\u001b[39many():\n\u001b[0;32m     <a href='vscode-notebook-cell:/d%3A/Master/Y1/Deep%20learning/Deep-learning/assignment_2/NPE_DL_2.ipynb#X61sZmlsZQ%3D%3D?line=17'>18</a>\u001b[0m     chunk \u001b[39m=\u001b[39m torch\u001b[39m.\u001b[39mflatten(x[batch][body][dist_mask[batch][body]],start_dim\u001b[39m=\u001b[39m\u001b[39m1\u001b[39m)\n\u001b[1;32m---> <a href='vscode-notebook-cell:/d%3A/Master/Y1/Deep%20learning/Deep-learning/assignment_2/NPE_DL_2.ipynb#X61sZmlsZQ%3D%3D?line=18'>19</a>\u001b[0m     neighbor_encodings \u001b[39m=\u001b[39m torch\u001b[39m.\u001b[39msum(\u001b[39mself\u001b[39;49m\u001b[39m.\u001b[39;49mencoder(chunk), dim\u001b[39m=\u001b[39m\u001b[39m0\u001b[39m)\n\u001b[0;32m     <a href='vscode-notebook-cell:/d%3A/Master/Y1/Deep%20learning/Deep-learning/assignment_2/NPE_DL_2.ipynb#X61sZmlsZQ%3D%3D?line=19'>20</a>\u001b[0m \u001b[39melse\u001b[39;00m:\n\u001b[0;32m     <a href='vscode-notebook-cell:/d%3A/Master/Y1/Deep%20learning/Deep-learning/assignment_2/NPE_DL_2.ipynb#X61sZmlsZQ%3D%3D?line=20'>21</a>\u001b[0m     neighbor_encodings \u001b[39m=\u001b[39m torch\u001b[39m.\u001b[39mzeros(\u001b[39m50\u001b[39m)\u001b[39m.\u001b[39mto(\u001b[39mself\u001b[39m\u001b[39m.\u001b[39mdevice)\n",
            "File \u001b[1;32mc:\\Users\\20172048\\AppData\\Local\\Programs\\Python\\Python310\\lib\\site-packages\\torch\\nn\\modules\\module.py:1501\u001b[0m, in \u001b[0;36mModule._call_impl\u001b[1;34m(self, *args, **kwargs)\u001b[0m\n\u001b[0;32m   1496\u001b[0m \u001b[39m# If we don't have any hooks, we want to skip the rest of the logic in\u001b[39;00m\n\u001b[0;32m   1497\u001b[0m \u001b[39m# this function, and just call forward.\u001b[39;00m\n\u001b[0;32m   1498\u001b[0m \u001b[39mif\u001b[39;00m \u001b[39mnot\u001b[39;00m (\u001b[39mself\u001b[39m\u001b[39m.\u001b[39m_backward_hooks \u001b[39mor\u001b[39;00m \u001b[39mself\u001b[39m\u001b[39m.\u001b[39m_backward_pre_hooks \u001b[39mor\u001b[39;00m \u001b[39mself\u001b[39m\u001b[39m.\u001b[39m_forward_hooks \u001b[39mor\u001b[39;00m \u001b[39mself\u001b[39m\u001b[39m.\u001b[39m_forward_pre_hooks\n\u001b[0;32m   1499\u001b[0m         \u001b[39mor\u001b[39;00m _global_backward_pre_hooks \u001b[39mor\u001b[39;00m _global_backward_hooks\n\u001b[0;32m   1500\u001b[0m         \u001b[39mor\u001b[39;00m _global_forward_hooks \u001b[39mor\u001b[39;00m _global_forward_pre_hooks):\n\u001b[1;32m-> 1501\u001b[0m     \u001b[39mreturn\u001b[39;00m forward_call(\u001b[39m*\u001b[39margs, \u001b[39m*\u001b[39m\u001b[39m*\u001b[39mkwargs)\n\u001b[0;32m   1502\u001b[0m \u001b[39m# Do not call functions when jit is used\u001b[39;00m\n\u001b[0;32m   1503\u001b[0m full_backward_hooks, non_full_backward_hooks \u001b[39m=\u001b[39m [], []\n",
            "\u001b[1;32md:\\Master\\Y1\\Deep learning\\Deep-learning\\assignment_2\\NPE_DL_2.ipynb Cell 44\u001b[0m in \u001b[0;36m1\n\u001b[0;32m     <a href='vscode-notebook-cell:/d%3A/Master/Y1/Deep%20learning/Deep-learning/assignment_2/NPE_DL_2.ipynb#X61sZmlsZQ%3D%3D?line=16'>17</a>\u001b[0m x\u001b[39m=\u001b[39m x\u001b[39m.\u001b[39mto(torch\u001b[39m.\u001b[39mfloat32)\n\u001b[0;32m     <a href='vscode-notebook-cell:/d%3A/Master/Y1/Deep%20learning/Deep-learning/assignment_2/NPE_DL_2.ipynb#X61sZmlsZQ%3D%3D?line=17'>18</a>\u001b[0m x \u001b[39m=\u001b[39m \u001b[39mself\u001b[39m\u001b[39m.\u001b[39mpairwise_layer(x)\n\u001b[1;32m---> <a href='vscode-notebook-cell:/d%3A/Master/Y1/Deep%20learning/Deep-learning/assignment_2/NPE_DL_2.ipynb#X61sZmlsZQ%3D%3D?line=18'>19</a>\u001b[0m x \u001b[39m=\u001b[39m \u001b[39mself\u001b[39;49m\u001b[39m.\u001b[39;49mfeedforward(x)\n\u001b[0;32m     <a href='vscode-notebook-cell:/d%3A/Master/Y1/Deep%20learning/Deep-learning/assignment_2/NPE_DL_2.ipynb#X61sZmlsZQ%3D%3D?line=19'>20</a>\u001b[0m \u001b[39mreturn\u001b[39;00m x\n",
            "File \u001b[1;32mc:\\Users\\20172048\\AppData\\Local\\Programs\\Python\\Python310\\lib\\site-packages\\torch\\nn\\modules\\module.py:1501\u001b[0m, in \u001b[0;36mModule._call_impl\u001b[1;34m(self, *args, **kwargs)\u001b[0m\n\u001b[0;32m   1496\u001b[0m \u001b[39m# If we don't have any hooks, we want to skip the rest of the logic in\u001b[39;00m\n\u001b[0;32m   1497\u001b[0m \u001b[39m# this function, and just call forward.\u001b[39;00m\n\u001b[0;32m   1498\u001b[0m \u001b[39mif\u001b[39;00m \u001b[39mnot\u001b[39;00m (\u001b[39mself\u001b[39m\u001b[39m.\u001b[39m_backward_hooks \u001b[39mor\u001b[39;00m \u001b[39mself\u001b[39m\u001b[39m.\u001b[39m_backward_pre_hooks \u001b[39mor\u001b[39;00m \u001b[39mself\u001b[39m\u001b[39m.\u001b[39m_forward_hooks \u001b[39mor\u001b[39;00m \u001b[39mself\u001b[39m\u001b[39m.\u001b[39m_forward_pre_hooks\n\u001b[0;32m   1499\u001b[0m         \u001b[39mor\u001b[39;00m _global_backward_pre_hooks \u001b[39mor\u001b[39;00m _global_backward_hooks\n\u001b[0;32m   1500\u001b[0m         \u001b[39mor\u001b[39;00m _global_forward_hooks \u001b[39mor\u001b[39;00m _global_forward_pre_hooks):\n\u001b[1;32m-> 1501\u001b[0m     \u001b[39mreturn\u001b[39;00m forward_call(\u001b[39m*\u001b[39margs, \u001b[39m*\u001b[39m\u001b[39m*\u001b[39mkwargs)\n\u001b[0;32m   1502\u001b[0m \u001b[39m# Do not call functions when jit is used\u001b[39;00m\n\u001b[0;32m   1503\u001b[0m full_backward_hooks, non_full_backward_hooks \u001b[39m=\u001b[39m [], []\n",
            "File \u001b[1;32mc:\\Users\\20172048\\AppData\\Local\\Programs\\Python\\Python310\\lib\\site-packages\\torch\\nn\\modules\\container.py:217\u001b[0m, in \u001b[0;36mSequential.forward\u001b[1;34m(self, input)\u001b[0m\n\u001b[0;32m    215\u001b[0m \u001b[39mdef\u001b[39;00m \u001b[39mforward\u001b[39m(\u001b[39mself\u001b[39m, \u001b[39minput\u001b[39m):\n\u001b[0;32m    216\u001b[0m     \u001b[39mfor\u001b[39;00m module \u001b[39min\u001b[39;00m \u001b[39mself\u001b[39m:\n\u001b[1;32m--> 217\u001b[0m         \u001b[39minput\u001b[39m \u001b[39m=\u001b[39m module(\u001b[39minput\u001b[39;49m)\n\u001b[0;32m    218\u001b[0m     \u001b[39mreturn\u001b[39;00m \u001b[39minput\u001b[39m\n",
            "File \u001b[1;32mc:\\Users\\20172048\\AppData\\Local\\Programs\\Python\\Python310\\lib\\site-packages\\torch\\nn\\modules\\module.py:1501\u001b[0m, in \u001b[0;36mModule._call_impl\u001b[1;34m(self, *args, **kwargs)\u001b[0m\n\u001b[0;32m   1496\u001b[0m \u001b[39m# If we don't have any hooks, we want to skip the rest of the logic in\u001b[39;00m\n\u001b[0;32m   1497\u001b[0m \u001b[39m# this function, and just call forward.\u001b[39;00m\n\u001b[0;32m   1498\u001b[0m \u001b[39mif\u001b[39;00m \u001b[39mnot\u001b[39;00m (\u001b[39mself\u001b[39m\u001b[39m.\u001b[39m_backward_hooks \u001b[39mor\u001b[39;00m \u001b[39mself\u001b[39m\u001b[39m.\u001b[39m_backward_pre_hooks \u001b[39mor\u001b[39;00m \u001b[39mself\u001b[39m\u001b[39m.\u001b[39m_forward_hooks \u001b[39mor\u001b[39;00m \u001b[39mself\u001b[39m\u001b[39m.\u001b[39m_forward_pre_hooks\n\u001b[0;32m   1499\u001b[0m         \u001b[39mor\u001b[39;00m _global_backward_pre_hooks \u001b[39mor\u001b[39;00m _global_backward_hooks\n\u001b[0;32m   1500\u001b[0m         \u001b[39mor\u001b[39;00m _global_forward_hooks \u001b[39mor\u001b[39;00m _global_forward_pre_hooks):\n\u001b[1;32m-> 1501\u001b[0m     \u001b[39mreturn\u001b[39;00m forward_call(\u001b[39m*\u001b[39margs, \u001b[39m*\u001b[39m\u001b[39m*\u001b[39mkwargs)\n\u001b[0;32m   1502\u001b[0m \u001b[39m# Do not call functions when jit is used\u001b[39;00m\n\u001b[0;32m   1503\u001b[0m full_backward_hooks, non_full_backward_hooks \u001b[39m=\u001b[39m [], []\n",
            "File \u001b[1;32mc:\\Users\\20172048\\AppData\\Local\\Programs\\Python\\Python310\\lib\\site-packages\\torch\\nn\\modules\\activation.py:103\u001b[0m, in \u001b[0;36mReLU.forward\u001b[1;34m(self, input)\u001b[0m\n\u001b[0;32m    102\u001b[0m \u001b[39mdef\u001b[39;00m \u001b[39mforward\u001b[39m(\u001b[39mself\u001b[39m, \u001b[39minput\u001b[39m: Tensor) \u001b[39m-\u001b[39m\u001b[39m>\u001b[39m Tensor:\n\u001b[1;32m--> 103\u001b[0m     \u001b[39mreturn\u001b[39;00m F\u001b[39m.\u001b[39;49mrelu(\u001b[39minput\u001b[39;49m, inplace\u001b[39m=\u001b[39;49m\u001b[39mself\u001b[39;49m\u001b[39m.\u001b[39;49minplace)\n",
            "File \u001b[1;32mc:\\Users\\20172048\\AppData\\Local\\Programs\\Python\\Python310\\lib\\site-packages\\torch\\nn\\functional.py:1457\u001b[0m, in \u001b[0;36mrelu\u001b[1;34m(input, inplace)\u001b[0m\n\u001b[0;32m   1455\u001b[0m     result \u001b[39m=\u001b[39m torch\u001b[39m.\u001b[39mrelu_(\u001b[39minput\u001b[39m)\n\u001b[0;32m   1456\u001b[0m \u001b[39melse\u001b[39;00m:\n\u001b[1;32m-> 1457\u001b[0m     result \u001b[39m=\u001b[39m torch\u001b[39m.\u001b[39;49mrelu(\u001b[39minput\u001b[39;49m)\n\u001b[0;32m   1458\u001b[0m \u001b[39mreturn\u001b[39;00m result\n",
            "\u001b[1;31mKeyboardInterrupt\u001b[0m: "
          ]
        }
      ],
      "source": [
        "train_sim_model(model, train_data_loader, valid_data_loader, optimizer, criterion, device, iterations=10, model_file='best_task2_model.pth')"
      ]
    },
    {
      "cell_type": "code",
      "execution_count": 38,
      "metadata": {
        "id": "jJ2l0Xn35t5p"
      },
      "outputs": [],
      "source": [
        "def recalc_data(padded_input_data):\n",
        "    input_data = []\n",
        "    euclidean_distance = []\n",
        "    for elem in padded_input_data:\n",
        "        input_data.append(pair_values(elem))\n",
        "        euclidean_distance.append(get_euclidean_distance(elem))\n",
        "\n",
        "    return torch.stack(input_data), padded_input_data, torch.stack(euclidean_distance)"
      ]
    },
    {
      "cell_type": "code",
      "execution_count": 47,
      "metadata": {
        "id": "rN_SOPIm6fDP"
      },
      "outputs": [],
      "source": [
        "def simulate(init_data, times=4):\n",
        "    input_data, unpaired_data, mask, distance = init_data\n",
        "\n",
        "    input_data = input_data.to(device)\n",
        "    unpaired_data = unpaired_data.to(device)\n",
        "    mask = mask.to(device)\n",
        "    distance = distance.to(device)\n",
        "\n",
        "    locations = []\n",
        "    # locations = locations.to(device)\n",
        "    model.eval()\n",
        "    with torch.no_grad():\n",
        "        for time in range(times):\n",
        "            \n",
        "            output = model(input_data, unpaired_data, mask, distance)\n",
        "        \n",
        "            unpaired_data[:,:,3:5] = output\n",
        "            unpaired_data[:,:,1:3] += unpaired_data[:,:,3:5]\n",
        "            locations.append(unpaired_data[:,:,1:3][0].clone())\n",
        "            \n",
        "           \n",
        "            input_data, unpaired_data, distance = recalc_data(unpaired_data)\n",
        "\n",
        "    return locations"
      ]
    },
    {
      "attachments": {},
      "cell_type": "markdown",
      "metadata": {
        "id": "d5fb3b29"
      },
      "source": [
        "# Evaluation Task 2"
      ]
    },
    {
      "cell_type": "code",
      "execution_count": 84,
      "metadata": {},
      "outputs": [
        {
          "data": {
            "text/plain": [
              "<All keys matched successfully>"
            ]
          },
          "execution_count": 84,
          "metadata": {},
          "output_type": "execute_result"
        }
      ],
      "source": [
        "model_path = 'npe_10epoch_05data.pth'\n",
        "model.load_state_dict(torch.load(model_path))"
      ]
    },
    {
      "cell_type": "code",
      "execution_count": 192,
      "metadata": {},
      "outputs": [],
      "source": [
        "def files_2_data_test(files):\n",
        "    output = []\n",
        "    for file_path in tqdm(files):\n",
        "        _, target = load_array(file_path, 'task 2')\n",
        "        target = target[:,0:5,0:2] #get relevant info\n",
        "        output.append(np.transpose(target, (1, 0, 2))) #reshape to desired targets\n",
        "    return output"
      ]
    },
    {
      "cell_type": "code",
      "execution_count": 194,
      "metadata": {},
      "outputs": [
        {
          "data": {
            "application/vnd.jupyter.widget-view+json": {
              "model_id": "01a847ce57194887a0da845a383d2e0c",
              "version_major": 2,
              "version_minor": 0
            },
            "text/plain": [
              "  0%|          | 0/100 [00:00<?, ?it/s]"
            ]
          },
          "metadata": {},
          "output_type": "display_data"
        }
      ],
      "source": [
        "test_targets = files_2_data_test(test_files)"
      ]
    },
    {
      "cell_type": "code",
      "execution_count": 195,
      "metadata": {},
      "outputs": [
        {
          "data": {
            "application/vnd.jupyter.widget-view+json": {
              "model_id": "7fbd633b05954c32b3f96f00a336ac40",
              "version_major": 2,
              "version_minor": 0
            },
            "text/plain": [
              "  0%|          | 0/100 [00:00<?, ?it/s]"
            ]
          },
          "metadata": {},
          "output_type": "display_data"
        }
      ],
      "source": [
        "test_files = glob('data/task 2_3/test/*')\n",
        "test_data = files_2_data(test_files)"
      ]
    },
    {
      "cell_type": "code",
      "execution_count": 196,
      "metadata": {},
      "outputs": [],
      "source": [
        "BATCH_SIZE = 1\n",
        "\n",
        "test_data_loader = DataLoader(test_data, batch_size=BATCH_SIZE, shuffle=False)\n",
        "train_data_loader = DataLoader(train_data, batch_size=BATCH_SIZE, shuffle=True)\n",
        "valid_data_loader = DataLoader(valid_data, batch_size=BATCH_SIZE, shuffle=False)"
      ]
    },
    {
      "cell_type": "code",
      "execution_count": 197,
      "metadata": {
        "id": "2280031f"
      },
      "outputs": [],
      "source": [
        "def eval_model_2(data_loader, targets):\n",
        "\n",
        "    model.eval()\n",
        "    test_loss=0.0\n",
        "    count = 0\n",
        "    outputs = []\n",
        "\n",
        "    with torch.no_grad():\n",
        "        num_points = len(data_loader.dataset)\n",
        "        for input_data, target_data, unpaired_data, mask, euclidean_distance in data_loader:\n",
        "            \n",
        "            if count % 49 == 0:\n",
        "                unpaired_data[torch.isnan(unpaired_data)] = 0\n",
        "\n",
        "                input_data[torch.isnan(input_data)] = 0\n",
        "                \n",
        "                system = input_data, unpaired_data, mask, euclidean_distance\n",
        "        \n",
        "                output = simulate(system)\n",
        "                outputs.append(output)\n",
        "                \n",
        "                target_data = [target_data for _, (_, target_data, _, _, _) in zip(range(4), data_loader.dataset[count:count+5])]\n",
        "                \n",
        "                output = torch.stack(output)\n",
        "                # target_data = [torch.from_numpy(val) for val in target_data]\n",
        "    \n",
        "                target_data = torch.stack(target_data)\n",
        "                target_padded = torch.tensor([np.pad(tensor, ((0, 9 - tensor.shape[0]), (0, 0)), mode='constant') for tensor in target_data])\n",
        "                # print(target_padded)\n",
        "            \n",
        "              \n",
        "                loss = torch.masked_select(criterion(target_padded, output),\n",
        "                                    torch.stack([mask.all(dim=2), mask.all(dim=2)], dim=2)).mean() \n",
        "             \n",
        "                # print(target_padded)\n",
        "    \n",
        "                # print(output)\n",
        "            \n",
        "                test_loss += loss \n",
        "                break\n",
        "\n",
        "\n",
        "            count += 1\n",
        "    test_loss /= int(count/49)\n",
        "\n",
        "    return test_loss"
      ]
    },
    {
      "cell_type": "code",
      "execution_count": 198,
      "metadata": {},
      "outputs": [
        {
          "data": {
            "application/vnd.jupyter.widget-view+json": {
              "model_id": "68427cc50e0847b6bb20e60dad1c42a6",
              "version_major": 2,
              "version_minor": 0
            },
            "text/plain": [
              "  0%|          | 0/100 [00:00<?, ?it/s]"
            ]
          },
          "metadata": {},
          "output_type": "display_data"
        }
      ],
      "source": [
        "targets_test = files_2_data_test(test_files)\n",
        "MSE_test_2 = eval_model_2(test_data_loader, targets_test)"
      ]
    },
    {
      "cell_type": "code",
      "execution_count": 101,
      "metadata": {},
      "outputs": [
        {
          "data": {
            "text/plain": [
              "array([[[ 6.11836655,  2.44632713],\n",
              "        [ 7.35649438, -2.09408896],\n",
              "        [-5.56606272, -4.59554031],\n",
              "        [-1.20126612, -6.69565726]],\n",
              "\n",
              "       [[ 6.15008653,  2.41134048],\n",
              "        [ 7.34947845, -2.1108288 ],\n",
              "        [-5.5878929 , -4.54509585],\n",
              "        [-1.24422423, -6.65960782]],\n",
              "\n",
              "       [[ 6.18192467,  2.3751226 ],\n",
              "        [ 7.34176742, -2.12596872],\n",
              "        [-5.60901818, -4.49470948],\n",
              "        [-1.28783098, -6.6227054 ]],\n",
              "\n",
              "       [[ 6.21387582,  2.3376583 ],\n",
              "        [ 7.33336717, -2.13948207],\n",
              "        [-5.6294363 , -4.44438616],\n",
              "        [-1.33208767, -6.58494505]]])"
            ]
          },
          "execution_count": 101,
          "metadata": {},
          "output_type": "execute_result"
        }
      ],
      "source": [
        "targets_train[1]"
      ]
    },
    {
      "cell_type": "code",
      "execution_count": 104,
      "metadata": {},
      "outputs": [
        {
          "data": {
            "application/vnd.jupyter.widget-view+json": {
              "model_id": "c01ad5527f3e4b9d885eb56e282178c6",
              "version_major": 2,
              "version_minor": 0
            },
            "text/plain": [
              "  0%|          | 0/270 [00:00<?, ?it/s]"
            ]
          },
          "metadata": {},
          "output_type": "display_data"
        },
        {
          "name": "stdout",
          "output_type": "stream",
          "text": [
            "[[[ 6.02760743e+00  1.03608413e+00 -3.65521828e-01 -4.63862657e-02]\n",
            "  [ 5.98951426e+00  1.03144168e+00 -3.96465109e-01 -4.65271763e-02]\n",
            "  [ 5.94828755e+00  1.02676487e+00 -4.28214697e-01 -4.70831602e-02]\n",
            "  [ 5.90383975e+00  1.02200908e+00 -4.60912211e-01 -4.81187897e-02]\n",
            "  [ 5.85606807e+00  1.01712252e+00 -4.94721931e-01 -4.97129003e-02]\n",
            "  [ 5.80485190e+00  1.01204467e+00 -5.29836910e-01 -5.19624953e-02]\n",
            "  [ 5.75004956e+00  1.00670419e+00 -5.66487072e-01 -5.49880488e-02]\n",
            "  [ 5.69149412e+00  1.00101620e+00 -6.04950140e-01 -5.89408378e-02]\n",
            "  [ 5.62898785e+00  9.94878760e-01 -6.45566678e-01 -6.40132890e-02]\n",
            "  [ 5.56229498e+00  9.88168022e-01 -6.88761235e-01 -7.04539252e-02]\n",
            "  [ 5.49113187e+00  9.80731598e-01 -7.35072818e-01 -7.85895371e-02]\n",
            "  [ 5.41515347e+00  9.72379163e-01 -7.85200061e-01 -8.88591143e-02]\n",
            "  [ 5.33393413e+00  9.62868751e-01 -8.40070360e-01 -1.01867688e-01]\n",
            "  [ 5.24693966e+00  9.51886090e-01 -9.00949876e-01 -1.18475529e-01]\n",
            "  [ 5.15348514e+00  9.39012041e-01 -9.69626767e-01 -1.39953818e-01]\n",
            "  [ 5.05266816e+00  9.23668600e-01 -1.04873409e+00 -1.68274256e-01]\n",
            "  [ 4.94325719e+00  9.05023228e-01 -1.14236047e+00 -2.06693374e-01]\n",
            "  [ 4.82349090e+00  8.81804163e-01 -1.25731522e+00 -2.61063544e-01]\n",
            "  [ 4.69068027e+00  8.51899444e-01 -1.40609258e+00 -3.43238537e-01]\n",
            "  [ 4.54030234e+00  8.11322432e-01 -1.61514701e+00 -4.82074997e-01]\n",
            "  [ 4.36344564e+00  7.50658009e-01 -1.95509743e+00 -7.74957847e-01]\n",
            "  [ 4.13694500e+00  6.32115412e-01 -2.67557292e+00 -1.96603748e+00]\n",
            "  [ 4.04637373e+00  2.82869210e-01  1.04647774e+00 -2.76553245e+00]\n",
            "  [ 4.15418138e+00  7.58459524e-02  1.04255804e+00 -1.63402232e+00]\n",
            "  [ 4.25303006e+00 -6.50459180e-02  9.37173744e-01 -1.23043000e+00]\n",
            "  [ 4.34230098e+00 -1.75818847e-01  8.51416723e-01 -1.00225321e+00]\n",
            "  [ 4.42384840e+00 -2.67902384e-01  7.81749525e-01 -8.47954329e-01]\n",
            "  [ 4.49902179e+00 -3.46705110e-01  7.23268043e-01 -7.33061734e-01]\n",
            "  [ 4.56876520e+00 -4.15307370e-01  6.72719275e-01 -6.42168928e-01]\n",
            "  [ 4.63375881e+00 -4.75665805e-01  6.27987754e-01 -5.67187820e-01]\n",
            "  [ 4.69450880e+00 -5.29115940e-01  5.87651610e-01 -5.03392032e-01]\n",
            "  [ 4.75140228e+00 -5.76616556e-01  5.50718975e-01 -4.47798158e-01]\n",
            "  [ 4.80474199e+00 -6.18881764e-01  5.16474404e-01 -3.98409322e-01]\n",
            "  [ 4.85476892e+00 -6.56458175e-01  4.84386774e-01 -3.53825484e-01]\n",
            "  [ 4.90167768e+00 -6.89772766e-01  4.54052002e-01 -3.13027061e-01]\n",
            "  [ 4.94562721e+00 -7.19164022e-01  4.25156131e-01 -2.75247401e-01]\n",
            "  [ 4.98674853e+00 -7.44902982e-01  3.97450758e-01 -2.39893869e-01]\n",
            "  [ 5.02515035e+00 -7.67207919e-01  3.70736202e-01 -2.06496964e-01]\n",
            "  [ 5.06092334e+00 -7.86254846e-01  3.44849678e-01 -1.74676342e-01]\n",
            "  [ 5.09414338e+00 -8.02185190e-01  3.19656789e-01 -1.44117413e-01]\n",
            "  [ 5.12487406e+00 -8.15111497e-01  2.95045290e-01 -1.14554752e-01]\n",
            "  [ 5.15316865e+00 -8.25121708e-01  2.70920415e-01 -8.57600294e-02]\n",
            "  [ 5.17907166e+00 -8.32282402e-01  2.47201347e-01 -5.75329914e-02]\n",
            "  [ 5.20262011e+00 -8.36641241e-01  2.23818479e-01 -2.96945337e-02]\n",
            "  [ 5.22384454e+00 -8.38228801e-01  2.00711292e-01 -2.08122123e-03]\n",
            "  [ 5.24276978e+00 -8.37059907e-01  1.77826680e-01  2.54591961e-02]\n",
            "  [ 5.25941572e+00 -8.33134558e-01  1.55117619e-01  5.30715976e-02]\n",
            "  [ 5.27379776e+00 -8.26438491e-01  1.32542113e-01  8.08968846e-02]\n",
            "  [ 5.28592733e+00 -8.16943418e-01  1.10062365e-01  1.09075153e-01]]\n",
            "\n",
            " [[ 4.54885229e+00  6.78073171e+00  4.82913392e-01  9.28912398e-02]\n",
            "  [ 4.59716603e+00  6.78888180e+00  4.83330952e-01  7.01074698e-02]\n",
            "  [ 4.64551222e+00  6.79475231e+00  4.83560695e-01  4.72967161e-02]\n",
            "  [ 4.69387163e+00  6.79833963e+00  4.83594074e-01  2.44408106e-02]\n",
            "  [ 4.74222417e+00  6.79963839e+00  4.83421545e-01  1.52245645e-03]\n",
            "  [ 4.79054872e+00  6.79864150e+00  4.83032535e-01 -2.14747447e-02]\n",
            "  [ 4.83882307e+00  6.79534029e+00  4.82415407e-01 -4.45662407e-02]\n",
            "  [ 4.88702378e+00  6.78972462e+00  4.81557440e-01 -6.77664486e-02]\n",
            "  [ 4.93512607e+00  6.78178294e+00  4.80444800e-01 -9.10886440e-02]\n",
            "  [ 4.98310375e+00  6.77150243e+00  4.79062543e-01 -1.14544815e-01]\n",
            "  [ 5.03092906e+00  6.75886916e+00  4.77394619e-01 -1.38145475e-01]\n",
            "  [ 5.07857258e+00  6.74386822e+00  4.75423922e-01 -1.61899430e-01]\n",
            "  [ 5.12600315e+00  6.72648393e+00  4.73132368e-01 -1.85813490e-01]\n",
            "  [ 5.17318773e+00  6.70670003e+00  4.70501045e-01 -2.09892117e-01]\n",
            "  [ 5.22009138e+00  6.68449996e+00  4.67510447e-01 -2.34136991e-01]\n",
            "  [ 5.26667719e+00  6.65986714e+00  4.64140836e-01 -2.58546490e-01]\n",
            "  [ 5.31290627e+00  6.63278536e+00  4.60372803e-01 -2.83115037e-01]\n",
            "  [ 5.35873786e+00  6.60323917e+00  4.56188145e-01 -3.07832285e-01]\n",
            "  [ 5.40412949e+00  6.57121447e+00  4.51571270e-01 -3.32682065e-01]\n",
            "  [ 5.44903734e+00  6.53669911e+00  4.46511660e-01 -3.57640924e-01]\n",
            "  [ 5.49341702e+00  6.49968374e+00  4.41008828e-01 -3.82675953e-01]\n",
            "  [ 5.53722504e+00  6.46016288e+00  4.35086217e-01 -4.07741852e-01]\n",
            "  [ 5.58042347e+00  6.41813437e+00  4.28833440e-01 -4.32864482e-01]\n",
            "  [ 5.62297779e+00  6.37357838e+00  4.22169248e-01 -4.58313243e-01]\n",
            "  [ 5.66483936e+00  6.32646107e+00  4.14967788e-01 -4.84081817e-01]\n",
            "  [ 5.70595187e+00  6.27675298e+00  4.07182633e-01 -5.10121765e-01]\n",
            "  [ 5.74625553e+00  6.22442900e+00  3.98787191e-01 -5.36393546e-01]\n",
            "  [ 5.78568838e+00  6.16946765e+00  3.89764135e-01 -5.62864183e-01]\n",
            "  [ 5.82418704e+00  6.11185046e+00  3.80101615e-01 -5.89506001e-01]\n",
            "  [ 5.86168711e+00  6.05156151e+00  3.69791275e-01 -6.16295971e-01]\n",
            "  [ 5.89812349e+00  5.98858696e+00  3.58826989e-01 -6.43215334e-01]\n",
            "  [ 5.93343055e+00  5.92291463e+00  3.47203957e-01 -6.70249364e-01]\n",
            "  [ 5.96754219e+00  5.85453363e+00  3.34917986e-01 -6.97387196e-01]\n",
            "  [ 6.00039191e+00  5.78343397e+00  3.21964898e-01 -7.24621707e-01]\n",
            "  [ 6.03191277e+00  5.70960618e+00  3.08340019e-01 -7.51949421e-01]\n",
            "  [ 6.06203733e+00  5.63304098e+00  2.94037718e-01 -7.79370446e-01]\n",
            "  [ 6.09069751e+00  5.55372887e+00  2.79050988e-01 -8.06888434e-01]\n",
            "  [ 6.11782443e+00  5.47165982e+00  2.63371044e-01 -8.34510573e-01]\n",
            "  [ 6.14334825e+00  5.38682293e+00  2.46986931e-01 -8.62247609e-01]\n",
            "  [ 6.16719789e+00  5.29920600e+00  2.29885142e-01 -8.90113917e-01]\n",
            "  [ 6.18930081e+00  5.20879523e+00  2.12049209e-01 -9.18127613e-01]\n",
            "  [ 6.20958261e+00  5.11557483e+00  1.93459281e-01 -9.46310729e-01]\n",
            "  [ 6.22796674e+00  5.01952657e+00  1.74091663e-01 -9.74689451e-01]\n",
            "  [ 6.24437409e+00  4.92062940e+00  1.53918300e-01 -1.00329445e+00]\n",
            "  [ 6.25872245e+00  4.81885896e+00  1.32906197e-01 -1.03216131e+00]\n",
            "  [ 6.27092609e+00  4.71418705e+00  1.11016745e-01 -1.06133108e+00]\n",
            "  [ 6.28089506e+00  4.60658108e+00  8.82049370e-02 -1.09085099e+00]\n",
            "  [ 6.28853459e+00  4.49600338e+00  6.44184295e-02 -1.12077536e+00]\n",
            "  [ 6.29374424e+00  4.38241045e+00  3.95964207e-02 -1.15116674e+00]]\n",
            "\n",
            " [[ 3.33897634e+00 -6.97322042e+00 -6.52869344e-01  5.08426826e-01]\n",
            "  [ 3.27374088e+00 -6.92153439e+00 -6.51816068e-01  5.25340754e-01]\n",
            "  [ 3.20861805e+00 -6.86814267e+00 -6.50614960e-01  5.42542726e-01]\n",
            "  [ 3.14362322e+00 -6.81301578e+00 -6.49253845e-01  5.60046510e-01]\n",
            "  [ 3.07877306e+00 -6.75612284e+00 -6.47719182e-01  5.77866084e-01]\n",
            "  [ 3.01408567e+00 -6.69743157e+00 -6.45995930e-01  5.96015526e-01]\n",
            "  [ 2.94958072e+00 -6.63690827e+00 -6.44067429e-01  6.14508884e-01]\n",
            "  [ 2.88527964e+00 -6.57451787e+00 -6.41915263e-01  6.33359991e-01]\n",
            "  [ 2.82120579e+00 -6.51022390e+00 -6.39519148e-01  6.52582255e-01]\n",
            "  [ 2.75738468e+00 -6.44398862e+00 -6.36856814e-01  6.72188373e-01]\n",
            "  [ 2.69384411e+00 -6.37577304e+00 -6.33903927e-01  6.92190000e-01]\n",
            "  [ 2.63061446e+00 -6.30553709e+00 -6.30634045e-01  7.12597329e-01]\n",
            "  [ 2.56772882e+00 -6.23323978e+00 -6.27018640e-01  7.33418590e-01]\n",
            "  [ 2.50522326e+00 -6.15883939e+00 -6.23027212e-01  7.54659460e-01]\n",
            "  [ 2.44313698e+00 -6.08229381e+00 -6.18627548e-01  7.76322354e-01]\n",
            "  [ 2.38151247e+00 -6.00356090e+00 -6.13786176e-01  7.98405622e-01]\n",
            "  [ 2.32039560e+00 -5.92259889e+00 -6.08469131e-01  8.20902630e-01]\n",
            "  [ 2.25983562e+00 -5.83936699e+00 -6.02643154e-01  8.43800750e-01]\n",
            "  [ 2.19988496e+00 -5.75382602e+00 -5.96277614e-01  8.67080314e-01]\n",
            "  [ 2.14059892e+00 -5.66593913e+00 -5.89347684e-01  8.90713611e-01]\n",
            "  [ 2.08203470e+00 -5.57567270e+00 -5.81840224e-01  9.14664325e-01]\n",
            "  [ 2.02424977e+00 -5.48299711e+00 -5.73768139e-01  9.38890104e-01]\n",
            "  [ 1.96729752e+00 -5.38788469e+00 -5.65191726e-01  9.63438862e-01]\n",
            "  [ 1.91123301e+00 -5.29029044e+00 -5.55977530e-01  9.88536400e-01]\n",
            "  [ 1.85612739e+00 -5.19016059e+00 -5.46003389e-01  1.01413939e+00]\n",
            "  [ 1.80205936e+00 -5.08744774e+00 -5.35219054e-01  1.04018729e+00]\n",
            "  [ 1.74911179e+00 -4.98210998e+00 -5.23588771e-01  1.06662988e+00]\n",
            "  [ 1.69737075e+00 -4.87411010e+00 -5.11084082e-01  1.09342240e+00]\n",
            "  [ 1.64692490e+00 -4.76341521e+00 -4.97681551e-01  1.12052373e+00]\n",
            "  [ 1.59786503e+00 -4.64999634e+00 -4.83361663e-01  1.14789579e+00]\n",
            "  [ 1.55028370e+00 -4.53382820e+00 -4.68108129e-01  1.17550332e+00]\n",
            "  [ 1.50427498e+00 -4.41488890e+00 -4.51907343e-01  1.20331403e+00]\n",
            "  [ 1.45993418e+00 -4.29315960e+00 -4.34747890e-01  1.23129878e+00]\n",
            "  [ 1.41735768e+00 -4.16862421e+00 -4.16620080e-01  1.25943191e+00]\n",
            "  [ 1.37664273e+00 -4.04126901e+00 -3.97515449e-01  1.28769151e+00]\n",
            "  [ 1.33788741e+00 -3.91108228e+00 -3.77426254e-01  1.31605987e+00]\n",
            "  [ 1.30119055e+00 -3.77805385e+00 -3.56344923e-01  1.34452384e+00]\n",
            "  [ 1.26665176e+00 -3.64217460e+00 -3.34263455e-01  1.37307530e+00]\n",
            "  [ 1.23437150e+00 -3.50343597e+00 -3.11172778e-01  1.40171162e+00]\n",
            "  [ 1.20445120e+00 -3.36182935e+00 -2.87062037e-01  1.43043620e+00]\n",
            "  [ 1.17699354e+00 -3.21734546e+00 -2.61917794e-01  1.45925910e+00]\n",
            "  [ 1.15210265e+00 -3.06997368e+00 -2.35723138e-01  1.48819774e+00]\n",
            "  [ 1.12988463e+00 -2.91970121e+00 -2.08456658e-01  1.51727771e+00]\n",
            "  [ 1.11044795e+00 -2.76651228e+00 -1.80091243e-01  1.54653383e+00]\n",
            "  [ 1.09390414e+00 -2.61038708e+00 -1.50592677e-01  1.57601129e+00]\n",
            "  [ 1.08036860e+00 -2.45130075e+00 -1.19917926e-01  1.60576723e+00]\n",
            "  [ 1.06996155e+00 -2.28922201e+00 -8.80130516e-02  1.63587261e+00]\n",
            "  [ 1.06280923e+00 -2.12411170e+00 -5.48105925e-02  1.66641455e+00]\n",
            "  [ 1.05904547e+00 -1.95592103e+00 -2.02262461e-02  1.69749937e+00]]\n",
            "\n",
            " [[ 2.19511041e+00  1.04354522e-01  2.77166797e-01 -1.79126864e-01]\n",
            "  [ 2.22451964e+00  8.69835313e-02  3.11170217e-01 -1.68233922e-01]\n",
            "  [ 2.25737738e+00  7.07207398e-02  3.46162102e-01 -1.56950510e-01]\n",
            "  [ 2.29379033e+00  5.56091202e-02  3.82303138e-01 -1.45195866e-01]\n",
            "  [ 2.33388249e+00  4.17004540e-02  4.19779646e-01 -1.32873951e-01]\n",
            "  [ 2.37779803e+00  2.90570679e-02  4.58810407e-01 -1.19869055e-01]\n",
            "  [ 2.42570500e+00  1.77540824e-02  4.99655710e-01 -1.06039860e-01]\n",
            "  [ 2.47780004e+00  7.88236053e-03  5.42629566e-01 -9.12112296e-02]\n",
            "  [ 2.53431457e+00 -4.47565818e-04  5.88116516e-01 -7.51626281e-02]\n",
            "  [ 2.59552293e+00 -7.10017276e-03  6.36595281e-01 -5.76114081e-02]\n",
            "  [ 2.66175340e+00 -1.19075774e-02  6.88672837e-01 -3.81880073e-02]\n",
            "  [ 2.73340337e+00 -1.46590880e-02  7.45134937e-01 -1.63979941e-02]\n",
            "  [ 2.81096085e+00 -1.50859455e-02  8.07023463e-01  8.43816861e-03]\n",
            "  [ 2.89503568e+00 -1.28382598e-02  8.75759510e-01  3.72849293e-02]\n",
            "  [ 2.98640684e+00 -7.44865289e-03  9.53348439e-01  7.15658425e-02]\n",
            "  [ 3.08609711e+00  1.72810149e-03  1.04274127e+00  1.13487695e-01]\n",
            "  [ 3.19549806e+00  1.56220733e-02  1.14851820e+00  1.66694498e-01]\n",
            "  [ 3.31659461e+00  3.56548101e-02  1.27830473e+00  2.37734973e-01]\n",
            "  [ 3.45241047e+00  6.41880805e-02  1.44608988e+00  3.39874806e-01]\n",
            "  [ 3.60802254e+00  1.05681810e-01  1.68149003e+00  5.05412581e-01]\n",
            "  [ 3.79342069e+00  1.70672388e-01  2.06356225e+00  8.43363376e-01]\n",
            "  [ 4.03455165e+00  3.01462525e-01  2.87176487e+00  2.18681798e+00]\n",
            "  [ 4.12366758e+00  6.91530524e-01 -1.29356572e+00  3.09181185e+00]\n",
            "  [ 3.99086017e+00  9.23368115e-01 -1.28742151e+00  1.83501422e+00]\n",
            "  [ 3.86826491e+00  1.08216982e+00 -1.16754718e+00  1.39321655e+00]\n",
            "  [ 3.75658911e+00  1.20825876e+00 -1.06949368e+00  1.14785322e+00]\n",
            "  [ 3.65377256e+00  1.31443512e+00 -9.89293337e-01  9.85236523e-01]\n",
            "  [ 3.55832064e+00  1.40675726e+00 -9.21452686e-01  8.66764974e-01]\n",
            "  [ 3.46919284e+00  1.48867623e+00 -8.62329011e-01  7.75183955e-01]\n",
            "  [ 3.38564405e+00  1.56238453e+00 -8.09554332e-01  7.01434455e-01]\n",
            "  [ 3.30712389e+00  1.62937900e+00 -7.61537727e-01  6.40223159e-01]\n",
            "  [ 3.23321521e+00  1.69073459e+00 -7.17169750e-01  5.88210002e-01]\n",
            "  [ 3.16359522e+00  1.74725242e+00 -6.75650146e-01  5.43161110e-01]\n",
            "  [ 3.09801021e+00  1.79954635e+00 -6.36384470e-01  5.03512332e-01]\n",
            "  [ 3.03625841e+00  1.84809669e+00 -5.98919749e-01  4.68126825e-01]\n",
            "  [ 2.97817807e+00  1.89328520e+00 -5.62902997e-01  4.36152116e-01]\n",
            "  [ 2.92363895e+00  1.93541877e+00 -5.28053584e-01  4.06931586e-01]\n",
            "  [ 2.87253606e+00  1.97474595e+00 -4.94144297e-01  3.79947361e-01]\n",
            "  [ 2.82478503e+00  2.01146879e+00 -4.60988035e-01  3.54782135e-01]\n",
            "  [ 2.78031860e+00  2.04575151e+00 -4.28428241e-01  3.31092838e-01]\n",
            "  [ 2.73908395e+00  2.07772692e+00 -3.96331882e-01  3.08591951e-01]\n",
            "  [ 2.70104062e+00  2.10750129e+00 -3.64584219e-01  2.87033888e-01]\n",
            "  [ 2.66615884e+00  2.13515797e+00 -3.33084845e-01  2.66204794e-01]\n",
            "  [ 2.63441835e+00  2.16076020e+00 -3.01744654e-01  2.45914705e-01]\n",
            "  [ 2.60580729e+00  2.18435313e+00 -2.70483498e-01  2.25991316e-01]\n",
            "  [ 2.58032145e+00  2.20596535e+00 -2.39228393e-01  2.06274869e-01]\n",
            "  [ 2.55796365e+00  2.22560994e+00 -2.07912145e-01  1.86613779e-01]\n",
            "  [ 2.53874315e+00  2.24328504e+00 -1.76472354e-01  1.66860711e-01]\n",
            "  [ 2.52267525e+00  2.25897413e+00 -1.44850760e-01  1.46868877e-01]]]\n",
            "[[[ 6.02760743  1.03608413]\n",
            "  [ 4.54885229  6.78073171]\n",
            "  [ 3.33897634 -6.97322042]\n",
            "  [ 2.19511041  0.10435452]]\n",
            "\n",
            " [[ 5.98951426  1.03144168]\n",
            "  [ 4.59716603  6.7888818 ]\n",
            "  [ 3.27374088 -6.92153439]\n",
            "  [ 2.22451964  0.08698353]]\n",
            "\n",
            " [[ 5.94828755  1.02676487]\n",
            "  [ 4.64551222  6.79475231]\n",
            "  [ 3.20861805 -6.86814267]\n",
            "  [ 2.25737738  0.07072074]]\n",
            "\n",
            " [[ 5.90383975  1.02200908]\n",
            "  [ 4.69387163  6.79833963]\n",
            "  [ 3.14362322 -6.81301578]\n",
            "  [ 2.29379033  0.05560912]]]\n"
          ]
        }
      ],
      "source": [
        "targets_valid = files_2_data_test(valid_files)\n",
        "# MSE_valid_2 = eval_model_2(valid_data_loader, targets_valid)"
      ]
    },
    {
      "cell_type": "code",
      "execution_count": 103,
      "metadata": {},
      "outputs": [
        {
          "data": {
            "application/vnd.jupyter.widget-view+json": {
              "model_id": "79c4a95f3c2544cda1296bc12a97f248",
              "version_major": 2,
              "version_minor": 0
            },
            "text/plain": [
              "  0%|          | 0/630 [00:00<?, ?it/s]"
            ]
          },
          "metadata": {},
          "output_type": "display_data"
        },
        {
          "name": "stdout",
          "output_type": "stream",
          "text": [
            "[[[ 1.52993468e+00  2.04563422e+00  1.07532204e+00 -9.58162731e-02]\n",
            "  [ 1.63770543e+00  2.03559856e+00  1.08011630e+00 -1.04918375e-01]\n",
            "  [ 1.74596273e+00  2.02464605e+00  1.08505425e+00 -1.14155534e-01]\n",
            "  [ 1.85472133e+00  2.01276248e+00  1.09014367e+00 -1.23541781e-01]\n",
            "  [ 1.96399677e+00  1.99993221e+00  1.09539234e+00 -1.33092446e-01]\n",
            "  [ 2.07380537e+00  1.98613796e+00  1.10080807e+00 -1.42824275e-01]\n",
            "  [ 2.18416421e+00  1.97136071e+00  1.10639859e+00 -1.52755537e-01]\n",
            "  [ 2.29509117e+00  1.95557954e+00  1.11217153e+00 -1.62906161e-01]\n",
            "  [ 2.40660485e+00  1.93877144e+00  1.11813431e+00 -1.73297868e-01]\n",
            "  [ 2.51872460e+00  1.92091114e+00  1.12429406e+00 -1.83954325e-01]\n",
            "  [ 2.63147045e+00  1.90197090e+00  1.13065757e+00 -1.94901302e-01]\n",
            "  [ 2.74486311e+00  1.88192027e+00  1.13723111e+00 -2.06166857e-01]\n",
            "  [ 2.85892386e+00  1.86072589e+00  1.14402031e+00 -2.17781519e-01]\n",
            "  [ 2.97367452e+00  1.83835122e+00  1.15103001e+00 -2.29778508e-01]\n",
            "  [ 3.08913735e+00  1.81475625e+00  1.15826409e+00 -2.42193952e-01]\n",
            "  [ 3.20533491e+00  1.78989718e+00  1.16572520e+00 -2.55067141e-01]\n",
            "  [ 3.32228999e+00  1.76372614e+00  1.17341450e+00 -2.68440789e-01]\n",
            "  [ 3.44002540e+00  1.73619079e+00  1.18133138e+00 -2.82361322e-01]\n",
            "  [ 3.55856377e+00  1.70723397e+00  1.18947307e+00 -2.96879180e-01]\n",
            "  [ 3.67792733e+00  1.67679323e+00  1.19783416e+00 -3.12049147e-01]\n",
            "  [ 3.79813763e+00  1.64480043e+00  1.20640613e+00 -3.27930683e-01]\n",
            "  [ 3.91921518e+00  1.61118123e+00  1.21517669e+00 -3.44588274e-01]\n",
            "  [ 4.04117904e+00  1.57585458e+00  1.22412905e+00 -3.62091785e-01]\n",
            "  [ 4.16404632e+00  1.53873216e+00  1.23324101e+00 -3.80516796e-01]\n",
            "  [ 4.28783161e+00  1.49971779e+00  1.24248396e+00 -3.99944918e-01]\n",
            "  [ 4.41254628e+00  1.45870682e+00  1.25182165e+00 -4.20464056e-01]\n",
            "  [ 4.53819760e+00  1.41558547e+00  1.26120869e+00 -4.42168586e-01]\n",
            "  [ 4.66478780e+00  1.37023023e+00  1.27058891e+00 -4.65159411e-01]\n",
            "  [ 4.79231287e+00  1.32250715e+00  1.27989338e+00 -4.89543819e-01]\n",
            "  [ 4.92076117e+00  1.27227124e+00  1.28903808e+00 -5.15435084e-01]\n",
            "  [ 5.05011180e+00  1.21936596e+00  1.29792136e+00 -5.42951690e-01]\n",
            "  [ 5.18033268e+00  1.16362265e+00  1.30642095e+00 -5.72216061e-01]\n",
            "  [ 5.31137836e+00  1.10486034e+00  1.31439073e+00 -6.03352618e-01]\n",
            "  [ 5.44318742e+00  1.04288559e+00  1.32165717e+00 -6.36484982e-01]\n",
            "  [ 5.57567957e+00  9.77492839e-01  1.32801570e+00 -6.71732060e-01]\n",
            "  [ 5.70875236e+00  9.08465043e-01  1.33322705e+00 -7.09202771e-01]\n",
            "  [ 5.84227754e+00  8.35575069e-01  1.33701398e+00 -7.48989107e-01]\n",
            "  [ 5.97609713e+00  7.58587786e-01  1.33905882e+00 -7.91157276e-01]\n",
            "  [ 6.11001931e+00  6.77263183e-01  1.33900245e+00 -8.35736711e-01]\n",
            "  [ 6.24381431e+00  5.91360680e-01  1.33644557e+00 -8.82706919e-01]\n",
            "  [ 6.37721061e+00  5.00644867e-01  1.33095329e+00 -9.31982374e-01]\n",
            "  [ 6.50989176e+00  4.04892820e-01  1.32206426e+00 -9.83396109e-01]\n",
            "  [ 6.64149446e+00  3.03903074e-01  1.30930549e+00 -1.03668321e+00]\n",
            "  [ 6.77160838e+00  1.97506180e-01  1.29221369e+00 -1.09146613e+00]\n",
            "  [ 6.89977851e+00  8.55765265e-02  1.27036365e+00 -1.14724450e+00]\n",
            "  [ 7.02551062e+00 -3.19551743e-02  1.24340264e+00 -1.20339258e+00]\n",
            "  [ 7.14828044e+00 -1.55089665e-01  1.21108865e+00 -1.25916771e+00]\n",
            "  [ 7.26754661e+00 -2.83748433e-01  1.17332844e+00 -1.31373236e+00]\n",
            "  [ 7.38276729e+00 -4.17765939e-01  1.13020987e+00 -1.36619075e+00]]\n",
            "\n",
            " [[-1.05704104e+00 -5.49808859e+00 -7.92848409e-01  1.94462275e-01]\n",
            "  [-1.13645412e+00 -5.47817310e+00 -7.95410593e-01  2.03844856e-01]\n",
            "  [-1.21612276e+00 -5.45732015e+00 -7.97960794e-01  2.13211580e-01]\n",
            "  [-1.29604611e+00 -5.43553132e+00 -8.00505911e-01  2.22562221e-01]\n",
            "  [-1.37622401e+00 -5.41280823e+00 -8.03053138e-01  2.31897032e-01]\n",
            "  [-1.45665706e+00 -5.38915242e+00 -8.05609951e-01  2.41216770e-01]\n",
            "  [-1.53734658e+00 -5.36456534e+00 -8.08184086e-01  2.50522728e-01]\n",
            "  [-1.61829472e+00 -5.33904827e+00 -8.10783530e-01  2.59816756e-01]\n",
            "  [-1.69950440e+00 -5.31260230e+00 -8.13416500e-01  2.69101292e-01]\n",
            "  [-1.78097941e+00 -5.28522823e+00 -8.16091436e-01  2.78379384e-01]\n",
            "  [-1.86272438e+00 -5.25692652e+00 -8.18816977e-01  2.87654714e-01]\n",
            "  [-1.94474479e+00 -5.22769723e+00 -8.21601959e-01  2.96931630e-01]\n",
            "  [-2.02704705e+00 -5.19753997e+00 -8.24455398e-01  3.06215163e-01]\n",
            "  [-2.10963846e+00 -5.16645379e+00 -8.27386484e-01  3.15511058e-01]\n",
            "  [-2.19252725e+00 -5.13443713e+00 -8.30404576e-01  3.24825807e-01]\n",
            "  [-2.27572259e+00 -5.10148776e+00 -8.33519194e-01  3.34166670e-01]\n",
            "  [-2.35923463e+00 -5.06760266e+00 -8.36740023e-01  3.43541718e-01]\n",
            "  [-2.44307446e+00 -5.03277798e+00 -8.40076911e-01  3.52959866e-01]\n",
            "  [-2.52725421e+00 -4.99700892e+00 -8.43539876e-01  3.62430912e-01]\n",
            "  [-2.61178698e+00 -4.96028968e+00 -8.47139112e-01  3.71965594e-01]\n",
            "  [-2.69668692e+00 -4.92261329e+00 -8.50885005e-01  3.81575634e-01]\n",
            "  [-2.78196922e+00 -4.88397161e+00 -8.54788144e-01  3.91273805e-01]\n",
            "  [-2.86765015e+00 -4.84435513e+00 -8.58859345e-01  4.01074005e-01]\n",
            "  [-2.95374706e+00 -4.80375291e+00 -8.63109670e-01  4.10991332e-01]\n",
            "  [-3.04027843e+00 -4.76215242e+00 -8.67550458e-01  4.21042188e-01]\n",
            "  [-3.12726389e+00 -4.71953943e+00 -8.72193357e-01  4.31244384e-01]\n",
            "  [-3.21472424e+00 -4.67589785e+00 -8.77050357e-01  4.41617268e-01]\n",
            "  [-3.30268151e+00 -4.63120959e+00 -8.82133839e-01  4.52181875e-01]\n",
            "  [-3.39115899e+00 -4.58545433e+00 -8.87456615e-01  4.62961101e-01]\n",
            "  [-3.48018125e+00 -4.53860938e+00 -8.93031985e-01  4.73979899e-01]\n",
            "  [-3.56977426e+00 -4.49064946e+00 -8.98873792e-01  4.85265515e-01]\n",
            "  [-3.65996538e+00 -4.44154640e+00 -9.04996486e-01  4.96847763e-01]\n",
            "  [-3.75078343e+00 -4.39126893e+00 -9.11415192e-01  5.08759339e-01]\n",
            "  [-3.84225881e+00 -4.33978236e+00 -9.18145788e-01  5.21036201e-01]\n",
            "  [-3.93442354e+00 -4.28704820e+00 -9.25204982e-01  5.33718002e-01]\n",
            "  [-4.02731134e+00 -4.23302380e+00 -9.32610400e-01  5.46848619e-01]\n",
            "  [-4.12095778e+00 -4.17766189e+00 -9.40380674e-01  5.60476759e-01]\n",
            "  [-4.21540030e+00 -4.12091006e+00 -9.48535535e-01  5.74656696e-01]\n",
            "  [-4.31067840e+00 -4.06271015e+00 -9.57095909e-01  5.89449145e-01]\n",
            "  [-4.40683374e+00 -4.00299755e+00 -9.66083999e-01  6.04922313e-01]\n",
            "  [-4.50391024e+00 -3.94170044e+00 -9.75523370e-01  6.21153164e-01]\n",
            "  [-4.60195428e+00 -3.87873877e+00 -9.85439008e-01  6.38228962e-01]\n",
            "  [-4.70101480e+00 -3.81402318e+00 -9.95857344e-01  6.56249150e-01]\n",
            "  [-4.80114344e+00 -3.74745368e+00 -1.00680623e+00  6.75327667e-01]\n",
            "  [-4.90239470e+00 -3.67891802e+00 -1.01831483e+00  6.95595819e-01]\n",
            "  [-5.00482607e+00 -3.60828981e+00 -1.03041337e+00  7.17205862e-01]\n",
            "  [-5.10849807e+00 -3.53542623e+00 -1.04313269e+00  7.40335527e-01]\n",
            "  [-5.21347432e+00 -3.46016513e+00 -1.05650350e+00  7.65193760e-01]\n",
            "  [-5.31982146e+00 -3.38232166e+00 -1.07055514e+00  7.92028112e-01]]\n",
            "\n",
            " [[-7.02863259e+00 -3.30491110e+00 -2.66884867e-01  5.86883279e-01]\n",
            "  [-7.05488334e+00 -3.24621572e+00 -2.58126365e-01  5.87003652e-01]\n",
            "  [-7.08025712e+00 -3.18751450e+00 -2.49345480e-01  5.87000173e-01]\n",
            "  [-7.10475165e+00 -3.12881983e+00 -2.40541211e-01  5.86872422e-01]\n",
            "  [-7.12836454e+00 -3.07014417e+00 -2.31712438e-01  5.86619847e-01]\n",
            "  [-7.15109328e+00 -3.01150005e+00 -2.22857921e-01  5.86241756e-01]\n",
            "  [-7.17293522e+00 -2.95290004e+00 -2.13976295e-01  5.85737305e-01]\n",
            "  [-7.19388759e+00 -2.89435683e+00 -2.05066067e-01  5.85105489e-01]\n",
            "  [-7.21394743e+00 -2.83588322e+00 -1.96125619e-01  5.84345130e-01]\n",
            "  [-7.23311165e+00 -2.77749213e+00 -1.87153196e-01  5.83454862e-01]\n",
            "  [-7.25137694e+00 -2.71919663e+00 -1.78146908e-01  5.82433123e-01]\n",
            "  [-7.26873983e+00 -2.66100995e+00 -1.69104724e-01  5.81278132e-01]\n",
            "  [-7.28519662e+00 -2.60294551e+00 -1.60024466e-01  5.79987881e-01]\n",
            "  [-7.30074338e+00 -2.54501696e+00 -1.50903804e-01  5.78560111e-01]\n",
            "  [-7.31537595e+00 -2.48723816e+00 -1.41740250e-01  5.76992296e-01]\n",
            "  [-7.32908991e+00 -2.42962326e+00 -1.32531148e-01  5.75281622e-01]\n",
            "  [-7.34188057e+00 -2.37218670e+00 -1.23273669e-01  5.73424960e-01]\n",
            "  [-7.35374293e+00 -2.31494325e+00 -1.13964802e-01  5.71418843e-01]\n",
            "  [-7.36467171e+00 -2.25790804e+00 -1.04601341e-01  5.69259433e-01]\n",
            "  [-7.37466127e+00 -2.20109661e+00 -9.51798766e-02  5.66942493e-01]\n",
            "  [-7.38370563e+00 -2.14452495e+00 -8.56967842e-02  5.64463348e-01]\n",
            "  [-7.39179844e+00 -2.08820952e+00 -7.61482084e-02  5.61816843e-01]\n",
            "  [-7.39893295e+00 -2.03216735e+00 -6.65300501e-02  5.58997298e-01]\n",
            "  [-7.40510199e+00 -1.97641604e+00 -5.68379497e-02  5.55998459e-01]\n",
            "  [-7.41029792e+00 -1.92097386e+00 -4.70672698e-02  5.52813433e-01]\n",
            "  [-7.41451266e+00 -1.86585981e+00 -3.72130754e-02  5.49434629e-01]\n",
            "  [-7.41773758e+00 -1.81109367e+00 -2.72701129e-02  5.45853675e-01]\n",
            "  [-7.41996353e+00 -1.75669612e+00 -1.72327873e-02  5.42061339e-01]\n",
            "  [-7.42118079e+00 -1.70268879e+00 -7.09513666e-03  5.38047424e-01]\n",
            "  [-7.42137901e+00 -1.64909440e+00  3.14919520e-03  5.33800658e-01]\n",
            "  [-7.42054717e+00 -1.59593683e+00  1.35069881e-02  5.29308565e-01]\n",
            "  [-7.41867359e+00 -1.54324132e+00  2.39854776e-02  5.24557311e-01]\n",
            "  [-7.41574580e+00 -1.49103452e+00  3.45923892e-02  5.19531530e-01]\n",
            "  [-7.41175055e+00 -1.43934473e+00  4.53359752e-02  5.14214120e-01]\n",
            "  [-7.40667375e+00 -1.38820205e+00  5.62250529e-02  5.08586005e-01]\n",
            "  [-7.40050038e+00 -1.33763860e+00  6.72690456e-02  5.02625855e-01]\n",
            "  [-7.39321444e+00 -1.28768874e+00  7.84780236e-02  4.96309750e-01]\n",
            "  [-7.38479892e+00 -1.23838940e+00  8.98627460e-02  4.89610792e-01]\n",
            "  [-7.37523565e+00 -1.18978035e+00  1.01434701e-01  4.82498632e-01]\n",
            "  [-7.36450533e+00 -1.14190459e+00  1.13206143e-01  4.74938909e-01]\n",
            "  [-7.35258734e+00 -1.09480879e+00  1.25190121e-01  4.66892565e-01]\n",
            "  [-7.33945976e+00 -1.04854378e+00  1.37400495e-01  4.58315026e-01]\n",
            "  [-7.32509921e+00 -1.00316518e+00  1.49851937e-01  4.49155183e-01]\n",
            "  [-7.30948082e+00 -9.58734103e-01  1.62559895e-01  4.39354156e-01]\n",
            "  [-7.29257814e+00 -9.15317985e-01  1.75540511e-01  4.28843744e-01]\n",
            "  [-7.27436307e+00 -8.72991634e-01  1.88810476e-01  4.17544501e-01]\n",
            "  [-7.25480583e+00 -8.31838464e-01  2.02386767e-01  4.05363300e-01]\n",
            "  [-7.23387495e+00 -7.91952013e-01  2.16286219e-01  3.92190238e-01]\n",
            "  [-7.21153728e+00 -7.53437805e-01  2.30524861e-01  3.77894667e-01]]\n",
            "\n",
            " [[ 7.53094786e+00 -1.01332770e+00 -1.40422366e-01 -4.92436305e-01]\n",
            "  [ 7.51645539e+00 -1.06248525e+00 -1.49446146e-01 -4.90683178e-01]\n",
            "  [ 7.50105476e+00 -1.11145789e+00 -1.58586045e-01 -4.88736475e-01]\n",
            "  [ 7.48473422e+00 -1.16022578e+00 -1.67844917e-01 -4.86586683e-01]\n",
            "  [ 7.46748172e+00 -1.20876811e+00 -1.77225611e-01 -4.84223544e-01]\n",
            "  [ 7.44928494e+00 -1.25706301e+00 -1.86730948e-01 -4.81635993e-01]\n",
            "  [ 7.43013128e+00 -1.30508743e+00 -1.96363699e-01 -4.78812083e-01]\n",
            "  [ 7.41000786e+00 -1.35281712e+00 -2.06126549e-01 -4.75738908e-01]\n",
            "  [ 7.38890155e+00 -1.40022644e+00 -2.16022065e-01 -4.72402514e-01]\n",
            "  [ 7.36679895e+00 -1.44728834e+00 -2.26052643e-01 -4.68787801e-01]\n",
            "  [ 7.34368645e+00 -1.49397418e+00 -2.36220457e-01 -4.64878423e-01]\n",
            "  [ 7.31955022e+00 -1.54025362e+00 -2.46527391e-01 -4.60656664e-01]\n",
            "  [ 7.29437628e+00 -1.58609446e+00 -2.56974958e-01 -4.56103320e-01]\n",
            "  [ 7.26815050e+00 -1.63146254e+00 -2.67564205e-01 -4.51197556e-01]\n",
            "  [ 7.24085870e+00 -1.67632148e+00 -2.78295596e-01 -4.45916757e-01]\n",
            "  [ 7.21248665e+00 -1.72063257e+00 -2.89168875e-01 -4.40236364e-01]\n",
            "  [ 7.18302023e+00 -1.76435454e+00 -3.00182900e-01 -4.34129698e-01]\n",
            "  [ 7.15244546e+00 -1.80744334e+00 -3.11335447e-01 -4.27567770e-01]\n",
            "  [ 7.12074864e+00 -1.84985187e+00 -3.22622970e-01 -4.20519077e-01]\n",
            "  [ 7.08791653e+00 -1.89152979e+00 -3.34040322e-01 -4.12949387e-01]\n",
            "  [ 7.05393648e+00 -1.93242315e+00 -3.45580417e-01 -4.04821515e-01]\n",
            "  [ 7.01879667e+00 -1.97247414e+00 -3.57233830e-01 -3.96095092e-01]\n",
            "  [ 6.98248634e+00 -2.01162076e+00 -3.68988319e-01 -3.86726331e-01]\n",
            "  [ 6.94499615e+00 -2.04979642e+00 -3.80828256e-01 -3.76667800e-01]\n",
            "  [ 6.90631850e+00 -2.08692962e+00 -3.92733960e-01 -3.65868215e-01]\n",
            "  [ 6.86644798e+00 -2.12294352e+00 -4.04680896e-01 -3.54272265e-01]\n",
            "  [ 6.82538194e+00 -2.15775555e+00 -4.16638747e-01 -3.41820486e-01]\n",
            "  [ 6.78312110e+00 -2.19127698e+00 -4.28570310e-01 -3.28449228e-01]\n",
            "  [ 6.73967026e+00 -2.22341249e+00 -4.40430224e-01 -3.14090733e-01]\n",
            "  [ 6.69503926e+00 -2.25405983e+00 -4.52163491e-01 -2.98673396e-01]\n",
            "  [ 6.64924398e+00 -2.28310938e+00 -4.63703788e-01 -2.82122261e-01]\n",
            "  [ 6.60230757e+00 -2.31044391e+00 -4.74971559e-01 -2.64359836e-01]\n",
            "  [ 6.55426190e+00 -2.33593835e+00 -4.85871904e-01 -2.45307353e-01]\n",
            "  [ 6.50514917e+00 -2.35945977e+00 -4.96292299e-01 -2.24886574e-01]\n",
            "  [ 6.45502383e+00 -2.38086754e+00 -5.06100206e-01 -2.03022319e-01]\n",
            "  [ 6.40395468e+00 -2.40001381e+00 -5.15140728e-01 -1.79645883e-01]\n",
            "  [ 6.35202721e+00 -2.41674437e+00 -5.23234479e-01 -1.54699524e-01]\n",
            "  [ 6.29934616e+00 -2.43089999e+00 -5.30175983e-01 -1.28142196e-01]\n",
            "  [ 6.24603814e+00 -2.44231850e+00 -5.35733003e-01 -9.99566616e-02]\n",
            "  [ 6.19225429e+00 -2.45083751e+00 -5.39647361e-01 -7.01580044e-02]\n",
            "  [ 6.13817277e+00 -2.45629818e+00 -5.41637902e-01 -3.88034086e-02]\n",
            "  [ 6.08400077e+00 -2.45854992e+00 -5.41406381e-01 -6.00277950e-03]\n",
            "  [ 6.02997576e+00 -2.45745623e+00 -5.38647030e-01  2.80705741e-02]\n",
            "  [ 5.97636563e+00 -2.45290150e+00 -5.33060398e-01  6.31704400e-02]\n",
            "  [ 5.92346714e+00 -2.44479869e+00 -5.24371660e-01  9.89710981e-02]\n",
            "  [ 5.87160238e+00 -2.43309740e+00 -5.12352879e-01  1.35065683e-01]\n",
            "  [ 5.82111288e+00 -2.41779177e+00 -4.96847748e-01  1.70971655e-01]\n",
            "  [ 5.77235118e+00 -2.39892744e+00 -4.77796199e-01  2.06145072e-01]\n",
            "  [ 5.72567010e+00 -2.37660655e+00 -4.55255304e-01  2.40004306e-01]]]\n",
            "[[[ 1.52993468  2.04563422]\n",
            "  [-1.05704104 -5.49808859]\n",
            "  [-7.02863259 -3.3049111 ]\n",
            "  [ 7.53094786 -1.0133277 ]]\n",
            "\n",
            " [[ 1.63770543  2.03559856]\n",
            "  [-1.13645412 -5.4781731 ]\n",
            "  [-7.05488334 -3.24621572]\n",
            "  [ 7.51645539 -1.06248525]]\n",
            "\n",
            " [[ 1.74596273  2.02464605]\n",
            "  [-1.21612276 -5.45732015]\n",
            "  [-7.08025712 -3.1875145 ]\n",
            "  [ 7.50105476 -1.11145789]]\n",
            "\n",
            " [[ 1.85472133  2.01276248]\n",
            "  [-1.29604611 -5.43553132]\n",
            "  [-7.10475165 -3.12881983]\n",
            "  [ 7.48473422 -1.16022578]]]\n",
            "tensor(31.1403, dtype=torch.float64)\n",
            "tensor([[[ 1.5299,  2.0456],\n",
            "         [-1.0570, -5.4981],\n",
            "         [-7.0286, -3.3049],\n",
            "         [ 7.5309, -1.0133],\n",
            "         [ 0.0000,  0.0000],\n",
            "         [ 0.0000,  0.0000],\n",
            "         [ 0.0000,  0.0000],\n",
            "         [ 0.0000,  0.0000],\n",
            "         [ 0.0000,  0.0000]],\n",
            "\n",
            "        [[ 1.6377,  2.0356],\n",
            "         [-1.1365, -5.4782],\n",
            "         [-7.0549, -3.2462],\n",
            "         [ 7.5165, -1.0625],\n",
            "         [ 0.0000,  0.0000],\n",
            "         [ 0.0000,  0.0000],\n",
            "         [ 0.0000,  0.0000],\n",
            "         [ 0.0000,  0.0000],\n",
            "         [ 0.0000,  0.0000]],\n",
            "\n",
            "        [[ 1.7460,  2.0246],\n",
            "         [-1.2161, -5.4573],\n",
            "         [-7.0803, -3.1875],\n",
            "         [ 7.5011, -1.1115],\n",
            "         [ 0.0000,  0.0000],\n",
            "         [ 0.0000,  0.0000],\n",
            "         [ 0.0000,  0.0000],\n",
            "         [ 0.0000,  0.0000],\n",
            "         [ 0.0000,  0.0000]],\n",
            "\n",
            "        [[ 1.8547,  2.0128],\n",
            "         [-1.2960, -5.4355],\n",
            "         [-7.1048, -3.1288],\n",
            "         [ 7.4847, -1.1602],\n",
            "         [ 0.0000,  0.0000],\n",
            "         [ 0.0000,  0.0000],\n",
            "         [ 0.0000,  0.0000],\n",
            "         [ 0.0000,  0.0000],\n",
            "         [ 0.0000,  0.0000]]], dtype=torch.float64)\n",
            "tensor([[[ 3.4276e+00, -1.9989e+00,  2.9428e+00,  1.9096e-05, -2.4351e-03],\n",
            "         [ 3.3934e+00,  7.6541e+00,  3.5394e+00,  3.6905e-03,  7.0995e-04],\n",
            "         [ 1.7962e+00,  1.1373e+00, -7.3057e+00,  3.3087e-03,  4.0697e-04],\n",
            "         [ 1.3682e+00,  2.3770e+00, -5.2854e+00, -6.3981e-03, -3.2681e-04],\n",
            "         [ 2.5827e+00,  9.0272e-01, -5.2893e+00,  4.1046e-03, -6.8089e-03],\n",
            "         [ 1.4617e+00, -6.6104e+00,  1.9518e-01, -1.4138e-03, -9.0085e-05],\n",
            "         [ 0.0000e+00,  7.4706e-02,  3.3921e-03,  1.8677e-02,  8.4802e-04],\n",
            "         [ 0.0000e+00,  7.4706e-02,  3.3921e-03,  1.8677e-02,  8.4803e-04],\n",
            "         [ 0.0000e+00,  7.4706e-02,  3.3921e-03,  1.8677e-02,  8.4802e-04]]])\n",
            "tensor([[[-2.0077e+00,  2.9416e+00],\n",
            "         [ 7.6398e+00,  3.5456e+00],\n",
            "         [ 1.1346e+00, -7.3124e+00],\n",
            "         [ 2.4110e+00, -5.2787e+00],\n",
            "         [ 8.9494e-01, -5.2620e+00],\n",
            "         [-6.6077e+00,  1.8761e-01],\n",
            "         [ 1.8677e-02,  8.4802e-04],\n",
            "         [ 1.8677e-02,  8.4803e-04],\n",
            "         [ 1.8677e-02,  8.4802e-04]],\n",
            "\n",
            "        [[-1.9996e+00,  2.9470e+00],\n",
            "         [ 7.6465e+00,  3.5387e+00],\n",
            "         [ 1.1313e+00, -7.3070e+00],\n",
            "         [ 2.3910e+00, -5.2843e+00],\n",
            "         [ 8.9494e-01, -5.2751e+00],\n",
            "         [-6.6077e+00,  1.9472e-01],\n",
            "         [ 3.7353e-02,  1.6960e-03],\n",
            "         [ 3.7353e-02,  1.6961e-03],\n",
            "         [ 3.7353e-02,  1.6960e-03]],\n",
            "\n",
            "        [[-1.9989e+00,  2.9452e+00],\n",
            "         [ 7.6504e+00,  3.5387e+00],\n",
            "         [ 1.1340e+00, -7.3061e+00],\n",
            "         [ 2.3834e+00, -5.2850e+00],\n",
            "         [ 8.9862e-01, -5.2825e+00],\n",
            "         [-6.6090e+00,  1.9527e-01],\n",
            "         [ 5.6030e-02,  2.5441e-03],\n",
            "         [ 5.6030e-02,  2.5441e-03],\n",
            "         [ 5.6030e-02,  2.5441e-03]],\n",
            "\n",
            "        [[-1.9989e+00,  2.9428e+00],\n",
            "         [ 7.6541e+00,  3.5394e+00],\n",
            "         [ 1.1373e+00, -7.3057e+00],\n",
            "         [ 2.3770e+00, -5.2854e+00],\n",
            "         [ 9.0272e-01, -5.2893e+00],\n",
            "         [-6.6104e+00,  1.9518e-01],\n",
            "         [ 7.4706e-02,  3.3921e-03],\n",
            "         [ 7.4706e-02,  3.3921e-03],\n",
            "         [ 7.4706e-02,  3.3921e-03]]])\n"
          ]
        }
      ],
      "source": [
        "targets_train = files_2_data_test(train_files)\n",
        "MSE_train_2 = eval_model_2(train_data_loader, targets_train)"
      ]
    },
    {
      "cell_type": "code",
      "execution_count": 79,
      "metadata": {},
      "outputs": [
        {
          "data": {
            "text/plain": [
              "630.0"
            ]
          },
          "execution_count": 79,
          "metadata": {},
          "output_type": "execute_result"
        }
      ],
      "source": [
        "len(train_data_loader)/49"
      ]
    },
    {
      "cell_type": "code",
      "execution_count": 77,
      "metadata": {},
      "outputs": [
        {
          "data": {
            "text/plain": [
              "tensor(38.4232, dtype=torch.float64)"
            ]
          },
          "execution_count": 77,
          "metadata": {},
          "output_type": "execute_result"
        }
      ],
      "source": [
        "MSE_train_2"
      ]
    },
    {
      "cell_type": "code",
      "execution_count": null,
      "metadata": {},
      "outputs": [],
      "source": []
    }
  ],
  "metadata": {
    "colab": {
      "gpuType": "T4",
      "provenance": []
    },
    "kernelspec": {
      "display_name": "Python 3",
      "name": "python3"
    },
    "language_info": {
      "codemirror_mode": {
        "name": "ipython",
        "version": 3
      },
      "file_extension": ".py",
      "mimetype": "text/x-python",
      "name": "python",
      "nbconvert_exporter": "python",
      "pygments_lexer": "ipython3",
      "version": "3.10.8"
    },
    "widgets": {
      "application/vnd.jupyter.widget-state+json": {
        "02629b8e02b34dcb898087ee4c38a50c": {
          "model_module": "@jupyter-widgets/controls",
          "model_module_version": "1.5.0",
          "model_name": "HBoxModel",
          "state": {
            "_dom_classes": [],
            "_model_module": "@jupyter-widgets/controls",
            "_model_module_version": "1.5.0",
            "_model_name": "HBoxModel",
            "_view_count": null,
            "_view_module": "@jupyter-widgets/controls",
            "_view_module_version": "1.5.0",
            "_view_name": "HBoxView",
            "box_style": "",
            "children": [
              "IPY_MODEL_7cdd742b1b9b411aa60cba52e79ed1fe",
              "IPY_MODEL_f87df60b25d646329064d2f4d5d56804",
              "IPY_MODEL_195e24778c9749bdb71de5cc70ad5065"
            ],
            "layout": "IPY_MODEL_382bd0183fd64130aef2b8a49d731395"
          }
        },
        "03d24b1edb8f45fcb0e260dabad56e5a": {
          "model_module": "@jupyter-widgets/base",
          "model_module_version": "1.2.0",
          "model_name": "LayoutModel",
          "state": {
            "_model_module": "@jupyter-widgets/base",
            "_model_module_version": "1.2.0",
            "_model_name": "LayoutModel",
            "_view_count": null,
            "_view_module": "@jupyter-widgets/base",
            "_view_module_version": "1.2.0",
            "_view_name": "LayoutView",
            "align_content": null,
            "align_items": null,
            "align_self": null,
            "border": null,
            "bottom": null,
            "display": null,
            "flex": null,
            "flex_flow": null,
            "grid_area": null,
            "grid_auto_columns": null,
            "grid_auto_flow": null,
            "grid_auto_rows": null,
            "grid_column": null,
            "grid_gap": null,
            "grid_row": null,
            "grid_template_areas": null,
            "grid_template_columns": null,
            "grid_template_rows": null,
            "height": null,
            "justify_content": null,
            "justify_items": null,
            "left": null,
            "margin": null,
            "max_height": null,
            "max_width": null,
            "min_height": null,
            "min_width": null,
            "object_fit": null,
            "object_position": null,
            "order": null,
            "overflow": null,
            "overflow_x": null,
            "overflow_y": null,
            "padding": null,
            "right": null,
            "top": null,
            "visibility": null,
            "width": null
          }
        },
        "084e6574ef714bd6b1f1ed4da0ca6d52": {
          "model_module": "@jupyter-widgets/base",
          "model_module_version": "1.2.0",
          "model_name": "LayoutModel",
          "state": {
            "_model_module": "@jupyter-widgets/base",
            "_model_module_version": "1.2.0",
            "_model_name": "LayoutModel",
            "_view_count": null,
            "_view_module": "@jupyter-widgets/base",
            "_view_module_version": "1.2.0",
            "_view_name": "LayoutView",
            "align_content": null,
            "align_items": null,
            "align_self": null,
            "border": null,
            "bottom": null,
            "display": null,
            "flex": null,
            "flex_flow": null,
            "grid_area": null,
            "grid_auto_columns": null,
            "grid_auto_flow": null,
            "grid_auto_rows": null,
            "grid_column": null,
            "grid_gap": null,
            "grid_row": null,
            "grid_template_areas": null,
            "grid_template_columns": null,
            "grid_template_rows": null,
            "height": null,
            "justify_content": null,
            "justify_items": null,
            "left": null,
            "margin": null,
            "max_height": null,
            "max_width": null,
            "min_height": null,
            "min_width": null,
            "object_fit": null,
            "object_position": null,
            "order": null,
            "overflow": null,
            "overflow_x": null,
            "overflow_y": null,
            "padding": null,
            "right": null,
            "top": null,
            "visibility": null,
            "width": null
          }
        },
        "11fa7d62753c41149d54ff596bfd60cc": {
          "model_module": "@jupyter-widgets/base",
          "model_module_version": "1.2.0",
          "model_name": "LayoutModel",
          "state": {
            "_model_module": "@jupyter-widgets/base",
            "_model_module_version": "1.2.0",
            "_model_name": "LayoutModel",
            "_view_count": null,
            "_view_module": "@jupyter-widgets/base",
            "_view_module_version": "1.2.0",
            "_view_name": "LayoutView",
            "align_content": null,
            "align_items": null,
            "align_self": null,
            "border": null,
            "bottom": null,
            "display": null,
            "flex": null,
            "flex_flow": null,
            "grid_area": null,
            "grid_auto_columns": null,
            "grid_auto_flow": null,
            "grid_auto_rows": null,
            "grid_column": null,
            "grid_gap": null,
            "grid_row": null,
            "grid_template_areas": null,
            "grid_template_columns": null,
            "grid_template_rows": null,
            "height": null,
            "justify_content": null,
            "justify_items": null,
            "left": null,
            "margin": null,
            "max_height": null,
            "max_width": null,
            "min_height": null,
            "min_width": null,
            "object_fit": null,
            "object_position": null,
            "order": null,
            "overflow": null,
            "overflow_x": null,
            "overflow_y": null,
            "padding": null,
            "right": null,
            "top": null,
            "visibility": null,
            "width": null
          }
        },
        "15d837cdb5284b9a8d1d53e2e85da302": {
          "model_module": "@jupyter-widgets/base",
          "model_module_version": "1.2.0",
          "model_name": "LayoutModel",
          "state": {
            "_model_module": "@jupyter-widgets/base",
            "_model_module_version": "1.2.0",
            "_model_name": "LayoutModel",
            "_view_count": null,
            "_view_module": "@jupyter-widgets/base",
            "_view_module_version": "1.2.0",
            "_view_name": "LayoutView",
            "align_content": null,
            "align_items": null,
            "align_self": null,
            "border": null,
            "bottom": null,
            "display": null,
            "flex": null,
            "flex_flow": null,
            "grid_area": null,
            "grid_auto_columns": null,
            "grid_auto_flow": null,
            "grid_auto_rows": null,
            "grid_column": null,
            "grid_gap": null,
            "grid_row": null,
            "grid_template_areas": null,
            "grid_template_columns": null,
            "grid_template_rows": null,
            "height": null,
            "justify_content": null,
            "justify_items": null,
            "left": null,
            "margin": null,
            "max_height": null,
            "max_width": null,
            "min_height": null,
            "min_width": null,
            "object_fit": null,
            "object_position": null,
            "order": null,
            "overflow": null,
            "overflow_x": null,
            "overflow_y": null,
            "padding": null,
            "right": null,
            "top": null,
            "visibility": null,
            "width": null
          }
        },
        "195e24778c9749bdb71de5cc70ad5065": {
          "model_module": "@jupyter-widgets/controls",
          "model_module_version": "1.5.0",
          "model_name": "HTMLModel",
          "state": {
            "_dom_classes": [],
            "_model_module": "@jupyter-widgets/controls",
            "_model_module_version": "1.5.0",
            "_model_name": "HTMLModel",
            "_view_count": null,
            "_view_module": "@jupyter-widgets/controls",
            "_view_module_version": "1.5.0",
            "_view_name": "HTMLView",
            "description": "",
            "description_tooltip": null,
            "layout": "IPY_MODEL_2f40f73847bc446d916b12fb1a6f149e",
            "placeholder": "​",
            "style": "IPY_MODEL_7255aaa7f3da458082f985a95ec042ef",
            "value": " 270/270 [02:10&lt;00:00,  2.58it/s]"
          }
        },
        "2215dfba08114aa594608bf7cfb96ac5": {
          "model_module": "@jupyter-widgets/controls",
          "model_module_version": "1.5.0",
          "model_name": "HTMLModel",
          "state": {
            "_dom_classes": [],
            "_model_module": "@jupyter-widgets/controls",
            "_model_module_version": "1.5.0",
            "_model_name": "HTMLModel",
            "_view_count": null,
            "_view_module": "@jupyter-widgets/controls",
            "_view_module_version": "1.5.0",
            "_view_name": "HTMLView",
            "description": "",
            "description_tooltip": null,
            "layout": "IPY_MODEL_adc0716739f54557a9dd5403f1f3c559",
            "placeholder": "​",
            "style": "IPY_MODEL_8c6e8b91901a4ea6a9c7440ad86c50bf",
            "value": "100%"
          }
        },
        "297d13bb2c40484b8422da20b890512d": {
          "model_module": "@jupyter-widgets/controls",
          "model_module_version": "1.5.0",
          "model_name": "FloatProgressModel",
          "state": {
            "_dom_classes": [],
            "_model_module": "@jupyter-widgets/controls",
            "_model_module_version": "1.5.0",
            "_model_name": "FloatProgressModel",
            "_view_count": null,
            "_view_module": "@jupyter-widgets/controls",
            "_view_module_version": "1.5.0",
            "_view_name": "ProgressView",
            "bar_style": "success",
            "description": "",
            "description_tooltip": null,
            "layout": "IPY_MODEL_3e51044e6a1d46d1a08d61e5bf44011c",
            "max": 630,
            "min": 0,
            "orientation": "horizontal",
            "style": "IPY_MODEL_526b76939e274db99e9a5fc020e5008c",
            "value": 630
          }
        },
        "298a26ab61294990a87195269cc60de0": {
          "model_module": "@jupyter-widgets/controls",
          "model_module_version": "1.5.0",
          "model_name": "DescriptionStyleModel",
          "state": {
            "_model_module": "@jupyter-widgets/controls",
            "_model_module_version": "1.5.0",
            "_model_name": "DescriptionStyleModel",
            "_view_count": null,
            "_view_module": "@jupyter-widgets/base",
            "_view_module_version": "1.2.0",
            "_view_name": "StyleView",
            "description_width": ""
          }
        },
        "2f40f73847bc446d916b12fb1a6f149e": {
          "model_module": "@jupyter-widgets/base",
          "model_module_version": "1.2.0",
          "model_name": "LayoutModel",
          "state": {
            "_model_module": "@jupyter-widgets/base",
            "_model_module_version": "1.2.0",
            "_model_name": "LayoutModel",
            "_view_count": null,
            "_view_module": "@jupyter-widgets/base",
            "_view_module_version": "1.2.0",
            "_view_name": "LayoutView",
            "align_content": null,
            "align_items": null,
            "align_self": null,
            "border": null,
            "bottom": null,
            "display": null,
            "flex": null,
            "flex_flow": null,
            "grid_area": null,
            "grid_auto_columns": null,
            "grid_auto_flow": null,
            "grid_auto_rows": null,
            "grid_column": null,
            "grid_gap": null,
            "grid_row": null,
            "grid_template_areas": null,
            "grid_template_columns": null,
            "grid_template_rows": null,
            "height": null,
            "justify_content": null,
            "justify_items": null,
            "left": null,
            "margin": null,
            "max_height": null,
            "max_width": null,
            "min_height": null,
            "min_width": null,
            "object_fit": null,
            "object_position": null,
            "order": null,
            "overflow": null,
            "overflow_x": null,
            "overflow_y": null,
            "padding": null,
            "right": null,
            "top": null,
            "visibility": null,
            "width": null
          }
        },
        "382bd0183fd64130aef2b8a49d731395": {
          "model_module": "@jupyter-widgets/base",
          "model_module_version": "1.2.0",
          "model_name": "LayoutModel",
          "state": {
            "_model_module": "@jupyter-widgets/base",
            "_model_module_version": "1.2.0",
            "_model_name": "LayoutModel",
            "_view_count": null,
            "_view_module": "@jupyter-widgets/base",
            "_view_module_version": "1.2.0",
            "_view_name": "LayoutView",
            "align_content": null,
            "align_items": null,
            "align_self": null,
            "border": null,
            "bottom": null,
            "display": null,
            "flex": null,
            "flex_flow": null,
            "grid_area": null,
            "grid_auto_columns": null,
            "grid_auto_flow": null,
            "grid_auto_rows": null,
            "grid_column": null,
            "grid_gap": null,
            "grid_row": null,
            "grid_template_areas": null,
            "grid_template_columns": null,
            "grid_template_rows": null,
            "height": null,
            "justify_content": null,
            "justify_items": null,
            "left": null,
            "margin": null,
            "max_height": null,
            "max_width": null,
            "min_height": null,
            "min_width": null,
            "object_fit": null,
            "object_position": null,
            "order": null,
            "overflow": null,
            "overflow_x": null,
            "overflow_y": null,
            "padding": null,
            "right": null,
            "top": null,
            "visibility": null,
            "width": null
          }
        },
        "3e51044e6a1d46d1a08d61e5bf44011c": {
          "model_module": "@jupyter-widgets/base",
          "model_module_version": "1.2.0",
          "model_name": "LayoutModel",
          "state": {
            "_model_module": "@jupyter-widgets/base",
            "_model_module_version": "1.2.0",
            "_model_name": "LayoutModel",
            "_view_count": null,
            "_view_module": "@jupyter-widgets/base",
            "_view_module_version": "1.2.0",
            "_view_name": "LayoutView",
            "align_content": null,
            "align_items": null,
            "align_self": null,
            "border": null,
            "bottom": null,
            "display": null,
            "flex": null,
            "flex_flow": null,
            "grid_area": null,
            "grid_auto_columns": null,
            "grid_auto_flow": null,
            "grid_auto_rows": null,
            "grid_column": null,
            "grid_gap": null,
            "grid_row": null,
            "grid_template_areas": null,
            "grid_template_columns": null,
            "grid_template_rows": null,
            "height": null,
            "justify_content": null,
            "justify_items": null,
            "left": null,
            "margin": null,
            "max_height": null,
            "max_width": null,
            "min_height": null,
            "min_width": null,
            "object_fit": null,
            "object_position": null,
            "order": null,
            "overflow": null,
            "overflow_x": null,
            "overflow_y": null,
            "padding": null,
            "right": null,
            "top": null,
            "visibility": null,
            "width": null
          }
        },
        "405c564da4ef4647bba9e3909efaa222": {
          "model_module": "@jupyter-widgets/controls",
          "model_module_version": "1.5.0",
          "model_name": "HTMLModel",
          "state": {
            "_dom_classes": [],
            "_model_module": "@jupyter-widgets/controls",
            "_model_module_version": "1.5.0",
            "_model_name": "HTMLModel",
            "_view_count": null,
            "_view_module": "@jupyter-widgets/controls",
            "_view_module_version": "1.5.0",
            "_view_name": "HTMLView",
            "description": "",
            "description_tooltip": null,
            "layout": "IPY_MODEL_03d24b1edb8f45fcb0e260dabad56e5a",
            "placeholder": "​",
            "style": "IPY_MODEL_6121f588a3484931be34c57a9e3c87b4",
            "value": " 20/20 [52:58&lt;00:00, 156.96s/it]"
          }
        },
        "4288723f8f794e498097c7a4d7e466c9": {
          "model_module": "@jupyter-widgets/base",
          "model_module_version": "1.2.0",
          "model_name": "LayoutModel",
          "state": {
            "_model_module": "@jupyter-widgets/base",
            "_model_module_version": "1.2.0",
            "_model_name": "LayoutModel",
            "_view_count": null,
            "_view_module": "@jupyter-widgets/base",
            "_view_module_version": "1.2.0",
            "_view_name": "LayoutView",
            "align_content": null,
            "align_items": null,
            "align_self": null,
            "border": null,
            "bottom": null,
            "display": null,
            "flex": null,
            "flex_flow": null,
            "grid_area": null,
            "grid_auto_columns": null,
            "grid_auto_flow": null,
            "grid_auto_rows": null,
            "grid_column": null,
            "grid_gap": null,
            "grid_row": null,
            "grid_template_areas": null,
            "grid_template_columns": null,
            "grid_template_rows": null,
            "height": null,
            "justify_content": null,
            "justify_items": null,
            "left": null,
            "margin": null,
            "max_height": null,
            "max_width": null,
            "min_height": null,
            "min_width": null,
            "object_fit": null,
            "object_position": null,
            "order": null,
            "overflow": null,
            "overflow_x": null,
            "overflow_y": null,
            "padding": null,
            "right": null,
            "top": null,
            "visibility": null,
            "width": null
          }
        },
        "45768b5ed593494cb75c39cf0b18a815": {
          "model_module": "@jupyter-widgets/controls",
          "model_module_version": "1.5.0",
          "model_name": "DescriptionStyleModel",
          "state": {
            "_model_module": "@jupyter-widgets/controls",
            "_model_module_version": "1.5.0",
            "_model_name": "DescriptionStyleModel",
            "_view_count": null,
            "_view_module": "@jupyter-widgets/base",
            "_view_module_version": "1.2.0",
            "_view_name": "StyleView",
            "description_width": ""
          }
        },
        "48297f5609324674aeed85ae1d3b62ba": {
          "model_module": "@jupyter-widgets/controls",
          "model_module_version": "1.5.0",
          "model_name": "HBoxModel",
          "state": {
            "_dom_classes": [],
            "_model_module": "@jupyter-widgets/controls",
            "_model_module_version": "1.5.0",
            "_model_name": "HBoxModel",
            "_view_count": null,
            "_view_module": "@jupyter-widgets/controls",
            "_view_module_version": "1.5.0",
            "_view_name": "HBoxView",
            "box_style": "",
            "children": [
              "IPY_MODEL_2215dfba08114aa594608bf7cfb96ac5",
              "IPY_MODEL_fd4d4bd9a6ea44e3b7ee5f8eb65dd244",
              "IPY_MODEL_fd2b815361244a809427009365cbd326"
            ],
            "layout": "IPY_MODEL_11fa7d62753c41149d54ff596bfd60cc"
          }
        },
        "49c4b1166247413cb50a71ec1867a761": {
          "model_module": "@jupyter-widgets/controls",
          "model_module_version": "1.5.0",
          "model_name": "DescriptionStyleModel",
          "state": {
            "_model_module": "@jupyter-widgets/controls",
            "_model_module_version": "1.5.0",
            "_model_name": "DescriptionStyleModel",
            "_view_count": null,
            "_view_module": "@jupyter-widgets/base",
            "_view_module_version": "1.2.0",
            "_view_name": "StyleView",
            "description_width": ""
          }
        },
        "4c9a9d3c9d754941aa84890b724ea3bd": {
          "model_module": "@jupyter-widgets/controls",
          "model_module_version": "1.5.0",
          "model_name": "HTMLModel",
          "state": {
            "_dom_classes": [],
            "_model_module": "@jupyter-widgets/controls",
            "_model_module_version": "1.5.0",
            "_model_name": "HTMLModel",
            "_view_count": null,
            "_view_module": "@jupyter-widgets/controls",
            "_view_module_version": "1.5.0",
            "_view_name": "HTMLView",
            "description": "",
            "description_tooltip": null,
            "layout": "IPY_MODEL_a7c59d78ebe64e4ead5a02107ca7e26a",
            "placeholder": "​",
            "style": "IPY_MODEL_49c4b1166247413cb50a71ec1867a761",
            "value": "100%"
          }
        },
        "526b76939e274db99e9a5fc020e5008c": {
          "model_module": "@jupyter-widgets/controls",
          "model_module_version": "1.5.0",
          "model_name": "ProgressStyleModel",
          "state": {
            "_model_module": "@jupyter-widgets/controls",
            "_model_module_version": "1.5.0",
            "_model_name": "ProgressStyleModel",
            "_view_count": null,
            "_view_module": "@jupyter-widgets/base",
            "_view_module_version": "1.2.0",
            "_view_name": "StyleView",
            "bar_color": null,
            "description_width": ""
          }
        },
        "57fe44fad9a8442b97491cdb1dae70cd": {
          "model_module": "@jupyter-widgets/controls",
          "model_module_version": "1.5.0",
          "model_name": "ProgressStyleModel",
          "state": {
            "_model_module": "@jupyter-widgets/controls",
            "_model_module_version": "1.5.0",
            "_model_name": "ProgressStyleModel",
            "_view_count": null,
            "_view_module": "@jupyter-widgets/base",
            "_view_module_version": "1.2.0",
            "_view_name": "StyleView",
            "bar_color": null,
            "description_width": ""
          }
        },
        "6121f588a3484931be34c57a9e3c87b4": {
          "model_module": "@jupyter-widgets/controls",
          "model_module_version": "1.5.0",
          "model_name": "DescriptionStyleModel",
          "state": {
            "_model_module": "@jupyter-widgets/controls",
            "_model_module_version": "1.5.0",
            "_model_name": "DescriptionStyleModel",
            "_view_count": null,
            "_view_module": "@jupyter-widgets/base",
            "_view_module_version": "1.2.0",
            "_view_name": "StyleView",
            "description_width": ""
          }
        },
        "6a07040175b74373afb263a83f877b4c": {
          "model_module": "@jupyter-widgets/controls",
          "model_module_version": "1.5.0",
          "model_name": "HTMLModel",
          "state": {
            "_dom_classes": [],
            "_model_module": "@jupyter-widgets/controls",
            "_model_module_version": "1.5.0",
            "_model_name": "HTMLModel",
            "_view_count": null,
            "_view_module": "@jupyter-widgets/controls",
            "_view_module_version": "1.5.0",
            "_view_name": "HTMLView",
            "description": "",
            "description_tooltip": null,
            "layout": "IPY_MODEL_c83a8126b22c41158854db999d097994",
            "placeholder": "​",
            "style": "IPY_MODEL_edf54510c4374c4ba049dbcae67a4712",
            "value": " 630/630 [05:32&lt;00:00,  2.44it/s]"
          }
        },
        "7255aaa7f3da458082f985a95ec042ef": {
          "model_module": "@jupyter-widgets/controls",
          "model_module_version": "1.5.0",
          "model_name": "DescriptionStyleModel",
          "state": {
            "_model_module": "@jupyter-widgets/controls",
            "_model_module_version": "1.5.0",
            "_model_name": "DescriptionStyleModel",
            "_view_count": null,
            "_view_module": "@jupyter-widgets/base",
            "_view_module_version": "1.2.0",
            "_view_name": "StyleView",
            "description_width": ""
          }
        },
        "7712b5e9dc5f4e90b0af38dd4920732f": {
          "model_module": "@jupyter-widgets/controls",
          "model_module_version": "1.5.0",
          "model_name": "HTMLModel",
          "state": {
            "_dom_classes": [],
            "_model_module": "@jupyter-widgets/controls",
            "_model_module_version": "1.5.0",
            "_model_name": "HTMLModel",
            "_view_count": null,
            "_view_module": "@jupyter-widgets/controls",
            "_view_module_version": "1.5.0",
            "_view_name": "HTMLView",
            "description": "",
            "description_tooltip": null,
            "layout": "IPY_MODEL_f71091bf646c4a1da015da688fbe3500",
            "placeholder": "​",
            "style": "IPY_MODEL_298a26ab61294990a87195269cc60de0",
            "value": "100%"
          }
        },
        "7cdd742b1b9b411aa60cba52e79ed1fe": {
          "model_module": "@jupyter-widgets/controls",
          "model_module_version": "1.5.0",
          "model_name": "HTMLModel",
          "state": {
            "_dom_classes": [],
            "_model_module": "@jupyter-widgets/controls",
            "_model_module_version": "1.5.0",
            "_model_name": "HTMLModel",
            "_view_count": null,
            "_view_module": "@jupyter-widgets/controls",
            "_view_module_version": "1.5.0",
            "_view_name": "HTMLView",
            "description": "",
            "description_tooltip": null,
            "layout": "IPY_MODEL_15d837cdb5284b9a8d1d53e2e85da302",
            "placeholder": "​",
            "style": "IPY_MODEL_b2bd5cb0b4164adf9d760baddea3a416",
            "value": "100%"
          }
        },
        "8c6e8b91901a4ea6a9c7440ad86c50bf": {
          "model_module": "@jupyter-widgets/controls",
          "model_module_version": "1.5.0",
          "model_name": "DescriptionStyleModel",
          "state": {
            "_model_module": "@jupyter-widgets/controls",
            "_model_module_version": "1.5.0",
            "_model_name": "DescriptionStyleModel",
            "_view_count": null,
            "_view_module": "@jupyter-widgets/base",
            "_view_module_version": "1.2.0",
            "_view_name": "StyleView",
            "description_width": ""
          }
        },
        "8d07b9f34c9543c992ab6dcfd38df0f7": {
          "model_module": "@jupyter-widgets/controls",
          "model_module_version": "1.5.0",
          "model_name": "FloatProgressModel",
          "state": {
            "_dom_classes": [],
            "_model_module": "@jupyter-widgets/controls",
            "_model_module_version": "1.5.0",
            "_model_name": "FloatProgressModel",
            "_view_count": null,
            "_view_module": "@jupyter-widgets/controls",
            "_view_module_version": "1.5.0",
            "_view_name": "ProgressView",
            "bar_style": "success",
            "description": "",
            "description_tooltip": null,
            "layout": "IPY_MODEL_8ef0a7eeeaf142149bfe9a1bc7b7e1ec",
            "max": 20,
            "min": 0,
            "orientation": "horizontal",
            "style": "IPY_MODEL_57fe44fad9a8442b97491cdb1dae70cd",
            "value": 20
          }
        },
        "8db7a480794e414e9e14240711000b80": {
          "model_module": "@jupyter-widgets/controls",
          "model_module_version": "1.5.0",
          "model_name": "ProgressStyleModel",
          "state": {
            "_model_module": "@jupyter-widgets/controls",
            "_model_module_version": "1.5.0",
            "_model_name": "ProgressStyleModel",
            "_view_count": null,
            "_view_module": "@jupyter-widgets/base",
            "_view_module_version": "1.2.0",
            "_view_name": "StyleView",
            "bar_color": null,
            "description_width": ""
          }
        },
        "8ef0a7eeeaf142149bfe9a1bc7b7e1ec": {
          "model_module": "@jupyter-widgets/base",
          "model_module_version": "1.2.0",
          "model_name": "LayoutModel",
          "state": {
            "_model_module": "@jupyter-widgets/base",
            "_model_module_version": "1.2.0",
            "_model_name": "LayoutModel",
            "_view_count": null,
            "_view_module": "@jupyter-widgets/base",
            "_view_module_version": "1.2.0",
            "_view_name": "LayoutView",
            "align_content": null,
            "align_items": null,
            "align_self": null,
            "border": null,
            "bottom": null,
            "display": null,
            "flex": null,
            "flex_flow": null,
            "grid_area": null,
            "grid_auto_columns": null,
            "grid_auto_flow": null,
            "grid_auto_rows": null,
            "grid_column": null,
            "grid_gap": null,
            "grid_row": null,
            "grid_template_areas": null,
            "grid_template_columns": null,
            "grid_template_rows": null,
            "height": null,
            "justify_content": null,
            "justify_items": null,
            "left": null,
            "margin": null,
            "max_height": null,
            "max_width": null,
            "min_height": null,
            "min_width": null,
            "object_fit": null,
            "object_position": null,
            "order": null,
            "overflow": null,
            "overflow_x": null,
            "overflow_y": null,
            "padding": null,
            "right": null,
            "top": null,
            "visibility": null,
            "width": null
          }
        },
        "983a1905713c41989e2b3aeaf1f23d9b": {
          "model_module": "@jupyter-widgets/controls",
          "model_module_version": "1.5.0",
          "model_name": "HBoxModel",
          "state": {
            "_dom_classes": [],
            "_model_module": "@jupyter-widgets/controls",
            "_model_module_version": "1.5.0",
            "_model_name": "HBoxModel",
            "_view_count": null,
            "_view_module": "@jupyter-widgets/controls",
            "_view_module_version": "1.5.0",
            "_view_name": "HBoxView",
            "box_style": "",
            "children": [
              "IPY_MODEL_4c9a9d3c9d754941aa84890b724ea3bd",
              "IPY_MODEL_8d07b9f34c9543c992ab6dcfd38df0f7",
              "IPY_MODEL_405c564da4ef4647bba9e3909efaa222"
            ],
            "layout": "IPY_MODEL_aa5a6600f392446b8fb50e2c8619b764"
          }
        },
        "a7c59d78ebe64e4ead5a02107ca7e26a": {
          "model_module": "@jupyter-widgets/base",
          "model_module_version": "1.2.0",
          "model_name": "LayoutModel",
          "state": {
            "_model_module": "@jupyter-widgets/base",
            "_model_module_version": "1.2.0",
            "_model_name": "LayoutModel",
            "_view_count": null,
            "_view_module": "@jupyter-widgets/base",
            "_view_module_version": "1.2.0",
            "_view_name": "LayoutView",
            "align_content": null,
            "align_items": null,
            "align_self": null,
            "border": null,
            "bottom": null,
            "display": null,
            "flex": null,
            "flex_flow": null,
            "grid_area": null,
            "grid_auto_columns": null,
            "grid_auto_flow": null,
            "grid_auto_rows": null,
            "grid_column": null,
            "grid_gap": null,
            "grid_row": null,
            "grid_template_areas": null,
            "grid_template_columns": null,
            "grid_template_rows": null,
            "height": null,
            "justify_content": null,
            "justify_items": null,
            "left": null,
            "margin": null,
            "max_height": null,
            "max_width": null,
            "min_height": null,
            "min_width": null,
            "object_fit": null,
            "object_position": null,
            "order": null,
            "overflow": null,
            "overflow_x": null,
            "overflow_y": null,
            "padding": null,
            "right": null,
            "top": null,
            "visibility": null,
            "width": null
          }
        },
        "aa5a6600f392446b8fb50e2c8619b764": {
          "model_module": "@jupyter-widgets/base",
          "model_module_version": "1.2.0",
          "model_name": "LayoutModel",
          "state": {
            "_model_module": "@jupyter-widgets/base",
            "_model_module_version": "1.2.0",
            "_model_name": "LayoutModel",
            "_view_count": null,
            "_view_module": "@jupyter-widgets/base",
            "_view_module_version": "1.2.0",
            "_view_name": "LayoutView",
            "align_content": null,
            "align_items": null,
            "align_self": null,
            "border": null,
            "bottom": null,
            "display": null,
            "flex": null,
            "flex_flow": null,
            "grid_area": null,
            "grid_auto_columns": null,
            "grid_auto_flow": null,
            "grid_auto_rows": null,
            "grid_column": null,
            "grid_gap": null,
            "grid_row": null,
            "grid_template_areas": null,
            "grid_template_columns": null,
            "grid_template_rows": null,
            "height": null,
            "justify_content": null,
            "justify_items": null,
            "left": null,
            "margin": null,
            "max_height": null,
            "max_width": null,
            "min_height": null,
            "min_width": null,
            "object_fit": null,
            "object_position": null,
            "order": null,
            "overflow": null,
            "overflow_x": null,
            "overflow_y": null,
            "padding": null,
            "right": null,
            "top": null,
            "visibility": null,
            "width": null
          }
        },
        "adc0716739f54557a9dd5403f1f3c559": {
          "model_module": "@jupyter-widgets/base",
          "model_module_version": "1.2.0",
          "model_name": "LayoutModel",
          "state": {
            "_model_module": "@jupyter-widgets/base",
            "_model_module_version": "1.2.0",
            "_model_name": "LayoutModel",
            "_view_count": null,
            "_view_module": "@jupyter-widgets/base",
            "_view_module_version": "1.2.0",
            "_view_name": "LayoutView",
            "align_content": null,
            "align_items": null,
            "align_self": null,
            "border": null,
            "bottom": null,
            "display": null,
            "flex": null,
            "flex_flow": null,
            "grid_area": null,
            "grid_auto_columns": null,
            "grid_auto_flow": null,
            "grid_auto_rows": null,
            "grid_column": null,
            "grid_gap": null,
            "grid_row": null,
            "grid_template_areas": null,
            "grid_template_columns": null,
            "grid_template_rows": null,
            "height": null,
            "justify_content": null,
            "justify_items": null,
            "left": null,
            "margin": null,
            "max_height": null,
            "max_width": null,
            "min_height": null,
            "min_width": null,
            "object_fit": null,
            "object_position": null,
            "order": null,
            "overflow": null,
            "overflow_x": null,
            "overflow_y": null,
            "padding": null,
            "right": null,
            "top": null,
            "visibility": null,
            "width": null
          }
        },
        "b2bd5cb0b4164adf9d760baddea3a416": {
          "model_module": "@jupyter-widgets/controls",
          "model_module_version": "1.5.0",
          "model_name": "DescriptionStyleModel",
          "state": {
            "_model_module": "@jupyter-widgets/controls",
            "_model_module_version": "1.5.0",
            "_model_name": "DescriptionStyleModel",
            "_view_count": null,
            "_view_module": "@jupyter-widgets/base",
            "_view_module_version": "1.2.0",
            "_view_name": "StyleView",
            "description_width": ""
          }
        },
        "c83a8126b22c41158854db999d097994": {
          "model_module": "@jupyter-widgets/base",
          "model_module_version": "1.2.0",
          "model_name": "LayoutModel",
          "state": {
            "_model_module": "@jupyter-widgets/base",
            "_model_module_version": "1.2.0",
            "_model_name": "LayoutModel",
            "_view_count": null,
            "_view_module": "@jupyter-widgets/base",
            "_view_module_version": "1.2.0",
            "_view_name": "LayoutView",
            "align_content": null,
            "align_items": null,
            "align_self": null,
            "border": null,
            "bottom": null,
            "display": null,
            "flex": null,
            "flex_flow": null,
            "grid_area": null,
            "grid_auto_columns": null,
            "grid_auto_flow": null,
            "grid_auto_rows": null,
            "grid_column": null,
            "grid_gap": null,
            "grid_row": null,
            "grid_template_areas": null,
            "grid_template_columns": null,
            "grid_template_rows": null,
            "height": null,
            "justify_content": null,
            "justify_items": null,
            "left": null,
            "margin": null,
            "max_height": null,
            "max_width": null,
            "min_height": null,
            "min_width": null,
            "object_fit": null,
            "object_position": null,
            "order": null,
            "overflow": null,
            "overflow_x": null,
            "overflow_y": null,
            "padding": null,
            "right": null,
            "top": null,
            "visibility": null,
            "width": null
          }
        },
        "d9d29c6e23a14d4bb23396c05dfffb6d": {
          "model_module": "@jupyter-widgets/controls",
          "model_module_version": "1.5.0",
          "model_name": "HBoxModel",
          "state": {
            "_dom_classes": [],
            "_model_module": "@jupyter-widgets/controls",
            "_model_module_version": "1.5.0",
            "_model_name": "HBoxModel",
            "_view_count": null,
            "_view_module": "@jupyter-widgets/controls",
            "_view_module_version": "1.5.0",
            "_view_name": "HBoxView",
            "box_style": "",
            "children": [
              "IPY_MODEL_7712b5e9dc5f4e90b0af38dd4920732f",
              "IPY_MODEL_297d13bb2c40484b8422da20b890512d",
              "IPY_MODEL_6a07040175b74373afb263a83f877b4c"
            ],
            "layout": "IPY_MODEL_084e6574ef714bd6b1f1ed4da0ca6d52"
          }
        },
        "ec78e6ce8de342f09e585099e3f867b9": {
          "model_module": "@jupyter-widgets/base",
          "model_module_version": "1.2.0",
          "model_name": "LayoutModel",
          "state": {
            "_model_module": "@jupyter-widgets/base",
            "_model_module_version": "1.2.0",
            "_model_name": "LayoutModel",
            "_view_count": null,
            "_view_module": "@jupyter-widgets/base",
            "_view_module_version": "1.2.0",
            "_view_name": "LayoutView",
            "align_content": null,
            "align_items": null,
            "align_self": null,
            "border": null,
            "bottom": null,
            "display": null,
            "flex": null,
            "flex_flow": null,
            "grid_area": null,
            "grid_auto_columns": null,
            "grid_auto_flow": null,
            "grid_auto_rows": null,
            "grid_column": null,
            "grid_gap": null,
            "grid_row": null,
            "grid_template_areas": null,
            "grid_template_columns": null,
            "grid_template_rows": null,
            "height": null,
            "justify_content": null,
            "justify_items": null,
            "left": null,
            "margin": null,
            "max_height": null,
            "max_width": null,
            "min_height": null,
            "min_width": null,
            "object_fit": null,
            "object_position": null,
            "order": null,
            "overflow": null,
            "overflow_x": null,
            "overflow_y": null,
            "padding": null,
            "right": null,
            "top": null,
            "visibility": null,
            "width": null
          }
        },
        "edf54510c4374c4ba049dbcae67a4712": {
          "model_module": "@jupyter-widgets/controls",
          "model_module_version": "1.5.0",
          "model_name": "DescriptionStyleModel",
          "state": {
            "_model_module": "@jupyter-widgets/controls",
            "_model_module_version": "1.5.0",
            "_model_name": "DescriptionStyleModel",
            "_view_count": null,
            "_view_module": "@jupyter-widgets/base",
            "_view_module_version": "1.2.0",
            "_view_name": "StyleView",
            "description_width": ""
          }
        },
        "f2b5ef6982484d2c8034772e688db3e0": {
          "model_module": "@jupyter-widgets/base",
          "model_module_version": "1.2.0",
          "model_name": "LayoutModel",
          "state": {
            "_model_module": "@jupyter-widgets/base",
            "_model_module_version": "1.2.0",
            "_model_name": "LayoutModel",
            "_view_count": null,
            "_view_module": "@jupyter-widgets/base",
            "_view_module_version": "1.2.0",
            "_view_name": "LayoutView",
            "align_content": null,
            "align_items": null,
            "align_self": null,
            "border": null,
            "bottom": null,
            "display": null,
            "flex": null,
            "flex_flow": null,
            "grid_area": null,
            "grid_auto_columns": null,
            "grid_auto_flow": null,
            "grid_auto_rows": null,
            "grid_column": null,
            "grid_gap": null,
            "grid_row": null,
            "grid_template_areas": null,
            "grid_template_columns": null,
            "grid_template_rows": null,
            "height": null,
            "justify_content": null,
            "justify_items": null,
            "left": null,
            "margin": null,
            "max_height": null,
            "max_width": null,
            "min_height": null,
            "min_width": null,
            "object_fit": null,
            "object_position": null,
            "order": null,
            "overflow": null,
            "overflow_x": null,
            "overflow_y": null,
            "padding": null,
            "right": null,
            "top": null,
            "visibility": null,
            "width": null
          }
        },
        "f71091bf646c4a1da015da688fbe3500": {
          "model_module": "@jupyter-widgets/base",
          "model_module_version": "1.2.0",
          "model_name": "LayoutModel",
          "state": {
            "_model_module": "@jupyter-widgets/base",
            "_model_module_version": "1.2.0",
            "_model_name": "LayoutModel",
            "_view_count": null,
            "_view_module": "@jupyter-widgets/base",
            "_view_module_version": "1.2.0",
            "_view_name": "LayoutView",
            "align_content": null,
            "align_items": null,
            "align_self": null,
            "border": null,
            "bottom": null,
            "display": null,
            "flex": null,
            "flex_flow": null,
            "grid_area": null,
            "grid_auto_columns": null,
            "grid_auto_flow": null,
            "grid_auto_rows": null,
            "grid_column": null,
            "grid_gap": null,
            "grid_row": null,
            "grid_template_areas": null,
            "grid_template_columns": null,
            "grid_template_rows": null,
            "height": null,
            "justify_content": null,
            "justify_items": null,
            "left": null,
            "margin": null,
            "max_height": null,
            "max_width": null,
            "min_height": null,
            "min_width": null,
            "object_fit": null,
            "object_position": null,
            "order": null,
            "overflow": null,
            "overflow_x": null,
            "overflow_y": null,
            "padding": null,
            "right": null,
            "top": null,
            "visibility": null,
            "width": null
          }
        },
        "f87df60b25d646329064d2f4d5d56804": {
          "model_module": "@jupyter-widgets/controls",
          "model_module_version": "1.5.0",
          "model_name": "FloatProgressModel",
          "state": {
            "_dom_classes": [],
            "_model_module": "@jupyter-widgets/controls",
            "_model_module_version": "1.5.0",
            "_model_name": "FloatProgressModel",
            "_view_count": null,
            "_view_module": "@jupyter-widgets/controls",
            "_view_module_version": "1.5.0",
            "_view_name": "ProgressView",
            "bar_style": "success",
            "description": "",
            "description_tooltip": null,
            "layout": "IPY_MODEL_f2b5ef6982484d2c8034772e688db3e0",
            "max": 270,
            "min": 0,
            "orientation": "horizontal",
            "style": "IPY_MODEL_fb79a9d9ebe942279e4d607da41594d1",
            "value": 270
          }
        },
        "fb79a9d9ebe942279e4d607da41594d1": {
          "model_module": "@jupyter-widgets/controls",
          "model_module_version": "1.5.0",
          "model_name": "ProgressStyleModel",
          "state": {
            "_model_module": "@jupyter-widgets/controls",
            "_model_module_version": "1.5.0",
            "_model_name": "ProgressStyleModel",
            "_view_count": null,
            "_view_module": "@jupyter-widgets/base",
            "_view_module_version": "1.2.0",
            "_view_name": "StyleView",
            "bar_color": null,
            "description_width": ""
          }
        },
        "fd2b815361244a809427009365cbd326": {
          "model_module": "@jupyter-widgets/controls",
          "model_module_version": "1.5.0",
          "model_name": "HTMLModel",
          "state": {
            "_dom_classes": [],
            "_model_module": "@jupyter-widgets/controls",
            "_model_module_version": "1.5.0",
            "_model_name": "HTMLModel",
            "_view_count": null,
            "_view_module": "@jupyter-widgets/controls",
            "_view_module_version": "1.5.0",
            "_view_name": "HTMLView",
            "description": "",
            "description_tooltip": null,
            "layout": "IPY_MODEL_4288723f8f794e498097c7a4d7e466c9",
            "placeholder": "​",
            "style": "IPY_MODEL_45768b5ed593494cb75c39cf0b18a815",
            "value": " 50/50 [02:35&lt;00:00,  2.83s/it]"
          }
        },
        "fd4d4bd9a6ea44e3b7ee5f8eb65dd244": {
          "model_module": "@jupyter-widgets/controls",
          "model_module_version": "1.5.0",
          "model_name": "FloatProgressModel",
          "state": {
            "_dom_classes": [],
            "_model_module": "@jupyter-widgets/controls",
            "_model_module_version": "1.5.0",
            "_model_name": "FloatProgressModel",
            "_view_count": null,
            "_view_module": "@jupyter-widgets/controls",
            "_view_module_version": "1.5.0",
            "_view_name": "ProgressView",
            "bar_style": "success",
            "description": "",
            "description_tooltip": null,
            "layout": "IPY_MODEL_ec78e6ce8de342f09e585099e3f867b9",
            "max": 50,
            "min": 0,
            "orientation": "horizontal",
            "style": "IPY_MODEL_8db7a480794e414e9e14240711000b80",
            "value": 50
          }
        }
      }
    }
  },
  "nbformat": 4,
  "nbformat_minor": 0
}
