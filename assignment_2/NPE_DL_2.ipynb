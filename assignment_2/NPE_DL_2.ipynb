{
  "cells": [
    {
      "cell_type": "markdown",
      "metadata": {
        "id": "d32f8d18"
      },
      "source": [
        "# Group Details\n",
        "\n",
        "## Group Name:\n",
        "\n",
        "### Student 1:\n",
        "\n",
        "### Student 2:\n",
        "\n",
        "### Student 3:"
      ]
    },
    {
      "cell_type": "markdown",
      "metadata": {
        "id": "faec2056"
      },
      "source": [
        "# Loading Data and Preliminaries"
      ]
    },
    {
      "cell_type": "code",
      "execution_count": 1,
      "metadata": {
        "colab": {
          "base_uri": "https://localhost:8080/"
        },
        "id": "qBIurCVzjuvR",
        "outputId": "d4f14770-11bb-4aea-d154-5927a80050f2"
      },
      "outputs": [
        {
          "output_type": "stream",
          "name": "stdout",
          "text": [
            "/content/drive/MyDrive/TUe/DeepLearning/Assignment2\n"
          ]
        }
      ],
      "source": [
        "%cd /content/drive/MyDrive/TUe/DeepLearning/Assignment2"
      ]
    },
    {
      "cell_type": "code",
      "execution_count": 2,
      "metadata": {
        "id": "7d0580a5"
      },
      "outputs": [],
      "source": [
        "import os\n",
        "\n",
        "import matplotlib\n",
        "import matplotlib.pyplot as plt\n",
        "\n",
        "import numpy as np\n",
        "\n",
        "import torch\n",
        "import torch.nn as nn\n",
        "import torch.optim as optim\n",
        "from torch.utils.data import Dataset, DataLoader\n",
        "\n",
        "from tqdm.notebook import tqdm\n",
        "from glob import glob\n",
        "from sklearn.model_selection import train_test_split"
      ]
    },
    {
      "cell_type": "code",
      "execution_count": 3,
      "metadata": {
        "id": "b0756591"
      },
      "outputs": [],
      "source": [
        "def load_array(filename, task):\n",
        "    datapoint = np.load(filename)\n",
        "    if task == 'task 1':\n",
        "        initial_state = datapoint['initial_state']\n",
        "        terminal_state = datapoint['terminal_state']\n",
        "        return initial_state, terminal_state\n",
        "    elif task == 'task 2' or task == 'task 3':\n",
        "        whole_trajectory = datapoint['trajectory']\n",
        "        # change shape: (num_bodies, attributes, time) ->  num_bodies, time, attributes\n",
        "        whole_trajectory = np.swapaxes(whole_trajectory, 1, 2)\n",
        "        initial_state = whole_trajectory[:, 0]\n",
        "        target = whole_trajectory[:, 1:, 1:]  # drop the first timepoint (second dim) and mass (last dim) for the prediction task\n",
        "        return initial_state, target\n",
        "    else:\n",
        "        raise NotImplementedError(\"'task' argument should be 'task 1', 'task 2' or 'task 3'!\")\n"
      ]
    },
    {
      "cell_type": "markdown",
      "metadata": {
        "id": "059b633c"
      },
      "source": [
        "# Data Handling and Preprocessing"
      ]
    },
    {
      "cell_type": "code",
      "execution_count": 4,
      "metadata": {
        "id": "dac58511"
      },
      "outputs": [],
      "source": [
        "def pad_array(data):\n",
        "    # Pad the array with zeros if necessary to have 9 rows\n",
        "    padded_input_data  = np.pad(data[0], ((0, 9 - data[0].shape[0]), (0, 0)), mode='constant')\n",
        "    padded_target_data = np.pad(data[1], ((0, 9 - data[1].shape[0]), (0, 0)), mode='constant')\n",
        "    return torch.tensor(padded_input_data, dtype=torch.float32), torch.tensor(padded_target_data, dtype=torch.float32)\n",
        "\n",
        "def create_mask(data,padded_input_data):\n",
        "    # Create a boolean mask array indicating the padded rows\n",
        "    mask = np.ones_like(padded_input_data, dtype=bool)\n",
        "    mask[data[0].shape[0]:] = False\n",
        "    return torch.tensor(mask, dtype=torch.bool)\n",
        "\n",
        "def pair_values(data):\n",
        "    # Pair up the values of the same columns from every row with every other row\n",
        "    num_rows, num_cols = data.shape\n",
        "    padded_input_data = torch.zeros((num_rows, num_rows, num_cols, 2))\n",
        "\n",
        "    for i in range(num_rows):\n",
        "        pair_idx = 0\n",
        "        for j in range(num_rows):\n",
        "\n",
        "            padded_input_data[i, pair_idx, :, 0] = data[i]\n",
        "            padded_input_data[i, pair_idx, :, 1] = data[j]\n",
        "            pair_idx += 1\n",
        "\n",
        "    return padded_input_data\n",
        "\n",
        "def get_euclidean_distance(x):\n",
        "    euclidean_distances = torch.zeros((len(x), len(x)))\n",
        "    for i in range(len(x)):\n",
        "        source_x, source_y= x[i][1], x[i][2]\n",
        "        #euclidean_distance=[]\n",
        "        for j in range(len(x)):\n",
        "            target_x, target_y= x[j][1], x[j][2]\n",
        "            euclidean_distances[i][j]=np.sqrt((source_x-target_x)**2+(source_y-target_y)**2)\n",
        "            #euclidean_distance.append(np.sqrt((source_x-target_x)**2+(source_y-target_y)**2))\n",
        "        #euclidean_distances.append(euclidean_distance)\n",
        "\n",
        "    return euclidean_distances #list of lists\n",
        "\n",
        "def target_difference(target_x, source_x):\n",
        "    # target x and source x are of shape (9, 2)\n",
        "    #Subtract the x and y coordinates of the target from the source\n",
        "    return target_x - source_x\n",
        "\n",
        "\n",
        "def process_file(file_path):\n",
        "    # Main function to process a single file\n",
        "    data = load_array(file_path, 'task 1')\n",
        "    padded_input_data, padded_target_data = pad_array(data)\n",
        "    mask = create_mask(data,padded_input_data)\n",
        "    input_data = pair_values(padded_input_data)\n",
        "    euclidean_distance = get_euclidean_distance(padded_input_data)\n",
        "    target_data= target_difference(padded_target_data, padded_input_data[:,1:3])\n",
        "\n",
        "    return input_data, target_data, padded_input_data, mask, euclidean_distance\n"
      ]
    },
    {
      "cell_type": "code",
      "execution_count": 5,
      "metadata": {
        "id": "6073689e"
      },
      "outputs": [],
      "source": [
        "class CustomDataset_2(Dataset):\n",
        "    def __init__(self, folder):\n",
        "        self.folder = folder\n",
        "        self.file_list = os.listdir(folder)\n",
        "\n",
        "    def __len__(self):\n",
        "        return len(self.file_list)\n",
        "\n",
        "    def _read_file(self, file_path):\n",
        "        input_data, target_data,data, mask, distances= process_file(file_path)\n",
        "        return input_data, target_data,data, mask, distances\n",
        "\n",
        "    def __getitem__(self, index):\n",
        "        file_path = os.path.join(self.folder, self.file_list[index])\n",
        "        # Read and preprocess the data from the file\n",
        "        input_data, target_data,data, mask, distance = self._read_file(file_path)\n",
        "        # Return the preprocessed data\n",
        "        return input_data, target_data,data, mask, distance"
      ]
    },
    {
      "cell_type": "markdown",
      "metadata": {
        "id": "18b2874d"
      },
      "source": [
        "# Model Implementation"
      ]
    },
    {
      "cell_type": "markdown",
      "metadata": {
        "id": "44baf9a4"
      },
      "source": [
        "## NPE implementation"
      ]
    },
    {
      "cell_type": "code",
      "execution_count": 6,
      "metadata": {
        "id": "95154df7"
      },
      "outputs": [],
      "source": [
        "class NPEEncoder(nn.Module):\n",
        "    def __init__(self, hidden_units):\n",
        "        super(NPEEncoder, self).__init__()\n",
        "        self.pairwise_layer = nn.Linear(10, hidden_units, bias=False)\n",
        "        self.feedforward = nn.Sequential(\n",
        "            nn.Linear(hidden_units, 50, bias=False),\n",
        "            nn.ReLU(),\n",
        "            nn.Linear(50, 50, bias=False),\n",
        "            nn.ReLU(),\n",
        "            nn.Linear(50, 50, bias=False),\n",
        "            nn.ReLU(),\n",
        "            nn.Linear(50, 50, bias=False),\n",
        "            nn.ReLU()\n",
        "        )\n",
        "\n",
        "    def forward(self, x):\n",
        "        x= x.to(torch.float32)\n",
        "        x = self.pairwise_layer(x)\n",
        "        x = self.feedforward(x)\n",
        "        return x\n",
        "\n",
        "class NPEDecoder(nn.Module):\n",
        "    def __init__(self):\n",
        "        super(NPEDecoder, self).__init__()\n",
        "        self.decoder = nn.Sequential(\n",
        "            nn.Linear(55, 50),\n",
        "            nn.ReLU(),\n",
        "            nn.Linear(50, 50),\n",
        "            nn.ReLU(),\n",
        "            nn.Linear(50, 50),\n",
        "            nn.ReLU(),\n",
        "            nn.Linear(50, 50),\n",
        "            nn.ReLU(),\n",
        "            nn.Linear(50, 2)\n",
        "        )\n",
        "\n",
        "    def forward(self, x):\n",
        "        x = self.decoder(x)\n",
        "        return x"
      ]
    },
    {
      "cell_type": "code",
      "source": [
        "class NPEEncoder(nn.Module):\n",
        "    def __init__(self, hidden_units, dropout_rate):\n",
        "        super(NPEEncoder, self).__init__()\n",
        "        self.pairwise_layer = nn.Linear(10, hidden_units, bias=False)\n",
        "        self.feedforward = nn.Sequential(\n",
        "            nn.Linear(hidden_units, 50, bias=False),\n",
        "            nn.ReLU(),\n",
        "            nn.Dropout(dropout_rate),\n",
        "            nn.Linear(50, 50, bias=False),\n",
        "            nn.ReLU(),\n",
        "            nn.Dropout(dropout_rate),\n",
        "            nn.Linear(50, 50, bias=False),\n",
        "            nn.ReLU(),\n",
        "            nn.Dropout(dropout_rate),\n",
        "            nn.Linear(50, 50, bias=False),\n",
        "            nn.ReLU()\n",
        "        )\n",
        "\n",
        "    def forward(self, x):\n",
        "        x= x.to(torch.float32)\n",
        "        x = self.pairwise_layer(x)\n",
        "        x = self.feedforward(x)\n",
        "        return x\n",
        "\n",
        "class NPEDecoder(nn.Module):\n",
        "    def __init__(self, dropout_rate):\n",
        "        super(NPEDecoder, self).__init__()\n",
        "        self.decoder = nn.Sequential(\n",
        "            nn.Linear(55, 50),\n",
        "            nn.ReLU(),\n",
        "            nn.Dropout(dropout_rate),\n",
        "            nn.Linear(50, 50),\n",
        "            nn.ReLU(),\n",
        "            nn.Dropout(dropout_rate),\n",
        "            nn.Linear(50, 50),\n",
        "            nn.ReLU(),\n",
        "            nn.Dropout(dropout_rate),\n",
        "            nn.Linear(50, 50),\n",
        "            nn.ReLU(),\n",
        "            nn.Dropout(dropout_rate),\n",
        "            nn.Linear(50, 2)\n",
        "        )\n",
        "\n",
        "    def forward(self, x):\n",
        "        x = self.decoder(x)\n",
        "        return x"
      ],
      "metadata": {
        "id": "XJ0wtdQXhbGG"
      },
      "execution_count": 7,
      "outputs": []
    },
    {
      "cell_type": "code",
      "execution_count": 8,
      "metadata": {
        "id": "ebe6c765"
      },
      "outputs": [],
      "source": [
        "class NPEModel(nn.Module):\n",
        "    def __init__(self, hidden_units, device, dropout_rate=0.0):\n",
        "        super(NPEModel, self).__init__()\n",
        "        self.encoder = NPEEncoder(hidden_units, dropout_rate)\n",
        "        self.decoder = NPEDecoder(dropout_rate)\n",
        "        self.device = device\n",
        "\n",
        "    def forward(self, x,unpaired_data, mask, distance, neighborhood_threshold=5):\n",
        "        decoder_input = []\n",
        "        dist_mask = ((distance > 0) & (distance < neighborhood_threshold))\n",
        "        for batch in range(x.size(0)):\n",
        "            batch_data= x[batch]\n",
        "            for body in range(batch_data.size(0)):\n",
        "                if torch.all(mask[batch][body]==1):\n",
        "                    focus_body = unpaired_data[batch][body]\n",
        "\n",
        "                    if dist_mask[batch][body].any():\n",
        "                        chunk = torch.flatten(x[batch][body][dist_mask[batch][body]],start_dim=1)\n",
        "                        neighbor_encodings = torch.sum(self.encoder(chunk), dim=0)\n",
        "                    else:\n",
        "                        neighbor_encodings = torch.zeros(50).to(self.device)\n",
        "                    # Concatenate the focus body encoding with the focus_body\n",
        "                    decoder_input.append(torch.cat((neighbor_encodings, focus_body), dim=0))\n",
        "                else:\n",
        "                    decoder_input.append(torch.cat((torch.zeros(50, device=self.device), torch.zeros_like(unpaired_data[batch][body])), dim=0))\n",
        "\n",
        "        # Decode the concatenated vector\n",
        "        decoded = self.decoder(torch.stack(decoder_input))\n",
        "\n",
        "        out_shape = x.size()\n",
        "        decoded = decoded.view(out_shape[0], out_shape[1], -1)\n",
        "\n",
        "        return decoded"
      ]
    },
    {
      "cell_type": "markdown",
      "metadata": {
        "id": "dea70d73"
      },
      "source": [
        "# Model Training"
      ]
    },
    {
      "cell_type": "markdown",
      "metadata": {
        "id": "d78cead1"
      },
      "source": [
        "## NPE training"
      ]
    },
    {
      "cell_type": "code",
      "execution_count": null,
      "metadata": {
        "id": "OkS0_ALBo9HI"
      },
      "outputs": [],
      "source": [
        "def load_data(folder):\n",
        "    file_list = os.listdir(folder)\n",
        "    output = []\n",
        "\n",
        "    for filename in file_list:\n",
        "        file_path = os.path.join(folder, filename)\n",
        "        output.append(process_file(file_path))\n",
        "\n",
        "    return output"
      ]
    },
    {
      "cell_type": "code",
      "execution_count": null,
      "metadata": {
        "id": "3ff06815"
      },
      "outputs": [],
      "source": [
        "data_dir = 'data/task 1/train'\n",
        "# dataset = CustomDataset_2(data_dir)\n",
        "\n",
        "dataset = load_data(data_dir)\n",
        "\n",
        "\n",
        "data_loader = DataLoader(dataset, batch_size=64, shuffle=True)"
      ]
    },
    {
      "cell_type": "code",
      "execution_count": null,
      "metadata": {
        "id": "5w0upAM-54MI"
      },
      "outputs": [],
      "source": [
        "test_data_dir = 'data/task 1/test'\n",
        "# test_dataset = CustomDataset_2(test_data_dir)\n",
        "\n",
        "test_dataset = load_data(test_data_dir)\n",
        "\n",
        "\n",
        "test_data_loader = DataLoader(test_dataset, batch_size=64, shuffle=False)"
      ]
    },
    {
      "cell_type": "code",
      "execution_count": null,
      "metadata": {
        "colab": {
          "base_uri": "https://localhost:8080/"
        },
        "id": "7efb3949",
        "outputId": "39608b86-e5fe-4bfe-def9-7453f0a6ae5e"
      },
      "outputs": [
        {
          "output_type": "execute_result",
          "data": {
            "text/plain": [
              "device(type='cpu')"
            ]
          },
          "metadata": {},
          "execution_count": 11
        }
      ],
      "source": [
        "device = torch.device('cuda' if torch.cuda.is_available() else 'cpu')\n",
        "# device = torch.device('cpu')\n",
        "device"
      ]
    },
    {
      "cell_type": "code",
      "execution_count": null,
      "metadata": {
        "id": "07e03ddf"
      },
      "outputs": [],
      "source": [
        "# Hyperparameters\n",
        "hidden_units = 25\n",
        "learning_rate = 1e-3\n",
        "learning_rate_decay = 0.99\n",
        "iterations = 50\n",
        "batch_size = 100\n",
        "\n",
        "# Create the model\n",
        "model = NPEModel(hidden_units, device=device)\n",
        "model.to(device)\n",
        "criterion = nn.MSELoss(reduction='none')\n",
        "# optimizer = optim.RMSprop(model.parameters(), lr=learning_rate)\n",
        "optimizer = optim.AdamW(model.parameters(), lr=learning_rate)"
      ]
    },
    {
      "cell_type": "code",
      "execution_count": 9,
      "metadata": {
        "id": "a760bea0"
      },
      "outputs": [],
      "source": [
        "def train_sim_model(model, train_data_loader, valid_data_loader, optimizer, criterion,\n",
        "                    device=torch.device('cpu'), iterations=50, model_file='best_model.pth'):\n",
        "    best_val_loss = np.inf\n",
        "    for iteration in tqdm(range(iterations)):\n",
        "        model.train()\n",
        "        train_loss=0.0\n",
        "        for input_data, target_data,unpaired_data, mask, distance in train_data_loader:\n",
        "        # Training steps\n",
        "            input_data = input_data.to(device)\n",
        "            unpaired_data = unpaired_data.to(device)\n",
        "            mask = mask.to(device)\n",
        "            distance = distance.to(device)\n",
        "            target_data=target_data.to(device)\n",
        "\n",
        "            optimizer.zero_grad()\n",
        "            output = model(input_data, unpaired_data, mask, distance)\n",
        "\n",
        "            loss = torch.masked_select(criterion(target_data, output),\n",
        "                                       torch.stack([mask.all(dim=2), mask.all(dim=2)], dim=2)).mean()\n",
        "            train_loss += loss.item()\n",
        "            loss.backward()\n",
        "            optimizer.step()\n",
        "\n",
        "        train_loss /= len(train_data_loader)\n",
        "\n",
        "\n",
        "        model.eval()\n",
        "        test_loss=0.0\n",
        "        with torch.no_grad():\n",
        "            for input_data, target_data,unpaired_data, mask, distance in valid_data_loader:\n",
        "                input_data = input_data.to(device)\n",
        "                target_data = target_data.to(device)\n",
        "                unpaired_data = unpaired_data.to(device)\n",
        "                mask = mask.to(device)\n",
        "                distance = distance.to(device)\n",
        "\n",
        "                output = model(input_data, unpaired_data, mask, distance)\n",
        "                loss = torch.masked_select(criterion(target_data, output),\n",
        "                                       torch.stack([mask.all(dim=2), mask.all(dim=2)], dim=2)).mean()\n",
        "                test_loss += loss.item()\n",
        "        test_loss /= len(valid_data_loader)\n",
        "\n",
        "        if test_loss < best_val_loss:\n",
        "            best_val_loss = test_loss\n",
        "            torch.save({\n",
        "                'epoch': iteration+1,\n",
        "                'model_state_dict': model.state_dict(),\n",
        "                'optimizer_state_dict': optimizer.state_dict(),\n",
        "                'loss': criterion,\n",
        "                }, model_file)\n",
        "\n",
        "\n",
        "            # Print loss for monitoring\n",
        "            #if (iteration + 1) % 10000 == 0:\n",
        "        print(f\"Epoch [{iteration+1}/{iterations}], Loss: {train_loss}, \\tTest Loss: {test_loss}\")"
      ]
    },
    {
      "cell_type": "code",
      "execution_count": null,
      "metadata": {
        "id": "xxpPfpa-WxcP",
        "colab": {
          "base_uri": "https://localhost:8080/",
          "height": 899,
          "referenced_widgets": [
            "48297f5609324674aeed85ae1d3b62ba",
            "2215dfba08114aa594608bf7cfb96ac5",
            "fd4d4bd9a6ea44e3b7ee5f8eb65dd244",
            "fd2b815361244a809427009365cbd326",
            "11fa7d62753c41149d54ff596bfd60cc",
            "adc0716739f54557a9dd5403f1f3c559",
            "8c6e8b91901a4ea6a9c7440ad86c50bf",
            "ec78e6ce8de342f09e585099e3f867b9",
            "8db7a480794e414e9e14240711000b80",
            "4288723f8f794e498097c7a4d7e466c9",
            "45768b5ed593494cb75c39cf0b18a815"
          ]
        },
        "outputId": "f7197698-4865-48fc-9970-e12ba505510f"
      },
      "outputs": [
        {
          "output_type": "display_data",
          "data": {
            "text/plain": [
              "  0%|          | 0/50 [00:00<?, ?it/s]"
            ],
            "application/vnd.jupyter.widget-view+json": {
              "version_major": 2,
              "version_minor": 0,
              "model_id": "48297f5609324674aeed85ae1d3b62ba"
            }
          },
          "metadata": {}
        },
        {
          "output_type": "stream",
          "name": "stdout",
          "text": [
            "Epoch [1/50], Loss: 13.670190238952637, Test Loss: 10.866966724395752\n",
            "Epoch [2/50], Loss: 12.330539639790853, Test Loss: 7.881398677825928\n",
            "Epoch [3/50], Loss: 9.269953219095866, Test Loss: 6.145421266555786\n",
            "Epoch [4/50], Loss: 8.464724191029866, Test Loss: 5.677449464797974\n",
            "Epoch [5/50], Loss: 7.865085474650065, Test Loss: 5.412523984909058\n",
            "Epoch [6/50], Loss: 7.445688851674398, Test Loss: 5.126816749572754\n",
            "Epoch [7/50], Loss: 7.145092709859212, Test Loss: 4.831804275512695\n",
            "Epoch [8/50], Loss: 6.794183444976807, Test Loss: 4.623698472976685\n",
            "Epoch [9/50], Loss: 6.533312479654948, Test Loss: 4.355394124984741\n",
            "Epoch [10/50], Loss: 6.082845020294189, Test Loss: 4.140806436538696\n",
            "Epoch [11/50], Loss: 6.423442776997884, Test Loss: 3.815673351287842\n",
            "Epoch [12/50], Loss: 5.473369979858399, Test Loss: 3.7086188793182373\n",
            "Epoch [13/50], Loss: 5.2905560493469235, Test Loss: 3.6351418495178223\n",
            "Epoch [14/50], Loss: 5.2302872021993005, Test Loss: 3.466951847076416\n",
            "Epoch [15/50], Loss: 4.975616073608398, Test Loss: 3.3981528282165527\n",
            "Epoch [16/50], Loss: 4.906320349375407, Test Loss: 3.3968019485473633\n",
            "Epoch [17/50], Loss: 4.676248137156168, Test Loss: 3.3000296354293823\n",
            "Epoch [18/50], Loss: 4.63381732304891, Test Loss: 3.2462902069091797\n",
            "Epoch [19/50], Loss: 4.484918308258057, Test Loss: 3.193009376525879\n",
            "Epoch [20/50], Loss: 4.415384912490845, Test Loss: 3.198927402496338\n",
            "Epoch [21/50], Loss: 4.286769835154216, Test Loss: 3.1671723127365112\n",
            "Epoch [22/50], Loss: 4.241828473409017, Test Loss: 3.1506906747817993\n",
            "Epoch [23/50], Loss: 4.174660793940226, Test Loss: 3.1713331937789917\n",
            "Epoch [24/50], Loss: 4.078178755442301, Test Loss: 3.2019814252853394\n",
            "Epoch [25/50], Loss: 4.104481633504232, Test Loss: 3.0582350492477417\n",
            "Epoch [26/50], Loss: 3.979121764500936, Test Loss: 3.178179144859314\n",
            "Epoch [27/50], Loss: 4.0458687464396155, Test Loss: 3.0750633478164673\n",
            "Epoch [28/50], Loss: 3.9155522187550864, Test Loss: 3.1381582021713257\n",
            "Epoch [29/50], Loss: 3.9476451873779297, Test Loss: 3.0554239749908447\n",
            "Epoch [30/50], Loss: 3.845903253555298, Test Loss: 3.146175265312195\n",
            "Epoch [31/50], Loss: 3.8053771177927653, Test Loss: 3.0847748517990112\n",
            "Epoch [32/50], Loss: 3.7705687522888183, Test Loss: 3.0636086463928223\n",
            "Epoch [33/50], Loss: 3.7676947116851807, Test Loss: 2.9841076135635376\n",
            "Epoch [34/50], Loss: 3.7887288093566895, Test Loss: 2.9682326316833496\n",
            "Epoch [35/50], Loss: 3.719871155420939, Test Loss: 3.015788197517395\n",
            "Epoch [36/50], Loss: 3.755440441767375, Test Loss: 2.950278401374817\n",
            "Epoch [37/50], Loss: 3.647172514597575, Test Loss: 2.9651631116867065\n",
            "Epoch [38/50], Loss: 3.63010204633077, Test Loss: 2.9937156438827515\n",
            "Epoch [39/50], Loss: 3.683232069015503, Test Loss: 2.928130269050598\n",
            "Epoch [40/50], Loss: 3.6771578947703043, Test Loss: 2.9093366861343384\n",
            "Epoch [41/50], Loss: 3.631189743677775, Test Loss: 2.9683345556259155\n",
            "Epoch [42/50], Loss: 3.649366776148478, Test Loss: 2.9272366762161255\n",
            "Epoch [43/50], Loss: 3.5366230328877766, Test Loss: 2.943517327308655\n",
            "Epoch [44/50], Loss: 3.5437354882558187, Test Loss: 2.968730926513672\n",
            "Epoch [45/50], Loss: 3.5575296243031818, Test Loss: 3.0065784454345703\n",
            "Epoch [46/50], Loss: 3.5826561133066814, Test Loss: 2.9146536588668823\n",
            "Epoch [47/50], Loss: 3.518047078450521, Test Loss: 2.9479273557662964\n",
            "Epoch [48/50], Loss: 3.5402199745178224, Test Loss: 2.8976329565048218\n",
            "Epoch [49/50], Loss: 3.5544177691141763, Test Loss: 2.9594178199768066\n",
            "Epoch [50/50], Loss: 3.5479700247446697, Test Loss: 2.892133116722107\n"
          ]
        }
      ],
      "source": [
        "train_sim_model(model, data_loader, test_data_loader, optimizer, criterion, device=device, iterations=iterations)"
      ]
    },
    {
      "cell_type": "markdown",
      "metadata": {
        "id": "ABEFBFEzs2jd"
      },
      "source": [
        "# Data processing for tasks 2 and 3"
      ]
    },
    {
      "cell_type": "code",
      "execution_count": 18,
      "metadata": {
        "id": "GZ60Vp-pQXfl"
      },
      "outputs": [],
      "source": [
        "def files_2_data(files):\n",
        "    output = []\n",
        "    for file_path in tqdm(files):\n",
        "        datapoint = np.load(file_path)\n",
        "        whole_trajectory = datapoint['trajectory']\n",
        "        # change shape: (num_bodies, attributes, time) ->  num_bodies, time, attributes\n",
        "        whole_trajectory = np.swapaxes(whole_trajectory, 1, 2)\n",
        "        for i in range(whole_trajectory.shape[1] - 1):\n",
        "            data = whole_trajectory[:, i], whole_trajectory[:, i + 1, 1:3]\n",
        "            padded_input_data, padded_target_data = pad_array(data)\n",
        "            mask = create_mask(data,padded_input_data)\n",
        "            input_data = pair_values(padded_input_data)\n",
        "            euclidean_distance = get_euclidean_distance(padded_input_data)\n",
        "            target_data= target_difference(padded_target_data, padded_input_data[:,1:3])\n",
        "\n",
        "            output.append((input_data, target_data, padded_input_data, mask, euclidean_distance))\n",
        "    return output"
      ]
    },
    {
      "cell_type": "code",
      "execution_count": 19,
      "metadata": {
        "id": "2ejokMDu0aTn"
      },
      "outputs": [],
      "source": [
        "files_rate = 0.3\n",
        "\n",
        "train_files = glob('data/task 2_3/train/*')\n",
        "train_files = train_files[:int(len(train_files) * files_rate)]\n",
        "\n",
        "train_files, valid_files = train_test_split(train_files, train_size=0.7)"
      ]
    },
    {
      "cell_type": "code",
      "execution_count": 12,
      "metadata": {
        "colab": {
          "base_uri": "https://localhost:8080/",
          "height": 81,
          "referenced_widgets": [
            "96098d76714b48cb87f061f39fceb002",
            "c80950b679d54111965df199ae6ad4cd",
            "8efa7b250413494c979dec70b8fe91a4",
            "75a4d065039a422fbed833228932d7ae",
            "fca39a6123544ad6bf2c52df15e804f6",
            "cba9dbbbeabe494faaa494ff37bdce93",
            "11c9af3fa2b34968a8650c3e18bbc425",
            "988b54caba88404db70cad950603da46",
            "f6e4dc244d2548a1b812396355425fcc",
            "bd867b3e89914163ba76255378380e60",
            "f357d776fca944388a0a9e4a8ae63e02",
            "493b7cabd6a6448ea8836581363cae2b",
            "9dd136f4907647cc9227c722bc35c5f3",
            "de7afbf567ed4bc48566fc6937813f6d",
            "aa9c09a06dbb42159e584338aaf8b9fb",
            "62a0d6bfb3714242a4348fdf61ad9bd1",
            "9a79e4e8e7b84beabca1995f86119ab9",
            "fdaf376c995849d3b456d0be767c4941",
            "db03d107485748418d7074373cbf95e1",
            "996d85bcd777409e8395279f4223bd0c",
            "682d6e9339d444269f380d42cb7a0029",
            "02a4ad156fea4a79929285743d54c35f"
          ]
        },
        "id": "U5EKuoBvR-Hc",
        "outputId": "84363dbe-4f59-4dee-a946-1491684a56cc"
      },
      "outputs": [
        {
          "output_type": "display_data",
          "data": {
            "text/plain": [
              "  0%|          | 0/62 [00:00<?, ?it/s]"
            ],
            "application/vnd.jupyter.widget-view+json": {
              "version_major": 2,
              "version_minor": 0,
              "model_id": "96098d76714b48cb87f061f39fceb002"
            }
          },
          "metadata": {}
        },
        {
          "output_type": "display_data",
          "data": {
            "text/plain": [
              "  0%|          | 0/28 [00:00<?, ?it/s]"
            ],
            "application/vnd.jupyter.widget-view+json": {
              "version_major": 2,
              "version_minor": 0,
              "model_id": "493b7cabd6a6448ea8836581363cae2b"
            }
          },
          "metadata": {}
        }
      ],
      "source": [
        "train_data = files_2_data(train_files)\n",
        "\n",
        "valid_data = files_2_data(valid_files)"
      ]
    },
    {
      "cell_type": "code",
      "source": [
        "len(train_data)"
      ],
      "metadata": {
        "colab": {
          "base_uri": "https://localhost:8080/"
        },
        "id": "iaxNWdxdcJ32",
        "outputId": "55b7ff76-46ed-4cb7-a4a9-29b672cf0e5f"
      },
      "execution_count": 13,
      "outputs": [
        {
          "output_type": "execute_result",
          "data": {
            "text/plain": [
              "3038"
            ]
          },
          "metadata": {},
          "execution_count": 13
        }
      ]
    },
    {
      "cell_type": "code",
      "execution_count": 14,
      "metadata": {
        "id": "t20UMcE35YNX"
      },
      "outputs": [],
      "source": [
        "BATCH_SIZE = 256\n",
        "\n",
        "train_data_loader = DataLoader(train_data, batch_size=BATCH_SIZE, shuffle=True)\n",
        "valid_data_loader = DataLoader(valid_data, batch_size=BATCH_SIZE, shuffle=False)"
      ]
    },
    {
      "cell_type": "code",
      "execution_count": 15,
      "metadata": {
        "colab": {
          "base_uri": "https://localhost:8080/"
        },
        "id": "GM83dBy0XGdT",
        "outputId": "6020181f-0895-4a8f-de51-798a06a11d30"
      },
      "outputs": [
        {
          "output_type": "execute_result",
          "data": {
            "text/plain": [
              "device(type='cpu')"
            ]
          },
          "metadata": {},
          "execution_count": 15
        }
      ],
      "source": [
        "device = torch.device('cuda' if torch.cuda.is_available() else 'cpu')\n",
        "device"
      ]
    },
    {
      "cell_type": "markdown",
      "source": [
        "# Task 2"
      ],
      "metadata": {
        "id": "fyMUiYvtjPkw"
      }
    },
    {
      "cell_type": "code",
      "execution_count": null,
      "metadata": {
        "id": "ewmxqXngXGdV"
      },
      "outputs": [],
      "source": [
        "# Hyperparameters\n",
        "hidden_units = 25\n",
        "LR = 1e-3\n",
        "EPOCHS = 20\n",
        "\n",
        "# Create the model\n",
        "model = NPEModel(hidden_units, device=device).to(device)\n",
        "\n",
        "criterion = nn.MSELoss(reduction='none')\n",
        "optimizer = optim.AdamW(model.parameters(), lr=LR)"
      ]
    },
    {
      "cell_type": "code",
      "execution_count": null,
      "metadata": {
        "id": "e9cEYSC8W5tH",
        "colab": {
          "base_uri": "https://localhost:8080/",
          "height": 389,
          "referenced_widgets": [
            "983a1905713c41989e2b3aeaf1f23d9b",
            "4c9a9d3c9d754941aa84890b724ea3bd",
            "8d07b9f34c9543c992ab6dcfd38df0f7",
            "405c564da4ef4647bba9e3909efaa222",
            "aa5a6600f392446b8fb50e2c8619b764",
            "a7c59d78ebe64e4ead5a02107ca7e26a",
            "49c4b1166247413cb50a71ec1867a761",
            "8ef0a7eeeaf142149bfe9a1bc7b7e1ec",
            "57fe44fad9a8442b97491cdb1dae70cd",
            "03d24b1edb8f45fcb0e260dabad56e5a",
            "6121f588a3484931be34c57a9e3c87b4"
          ]
        },
        "outputId": "74ecc6fa-287f-437b-b482-9d62141636a1"
      },
      "outputs": [
        {
          "data": {
            "application/vnd.jupyter.widget-view+json": {
              "model_id": "983a1905713c41989e2b3aeaf1f23d9b",
              "version_major": 2,
              "version_minor": 0
            },
            "text/plain": [
              "  0%|          | 0/20 [00:00<?, ?it/s]"
            ]
          },
          "metadata": {},
          "output_type": "display_data"
        },
        {
          "output_type": "stream",
          "name": "stdout",
          "text": [
            "Epoch [1/20], Loss: 0.003398599378256635, Test Loss: 0.0016338409264930165\n",
            "Epoch [2/20], Loss: 0.001405528492548249, Test Loss: 0.0015441631761719831\n",
            "Epoch [3/20], Loss: 0.0013693399474309558, Test Loss: 0.001541016067046887\n",
            "Epoch [4/20], Loss: 0.0013417389969272186, Test Loss: 0.0014802648474869784\n",
            "Epoch [5/20], Loss: 0.0012797547084825837, Test Loss: 0.0013887820580119016\n",
            "Epoch [6/20], Loss: 0.0011059089081769825, Test Loss: 0.0011082712911817138\n",
            "Epoch [7/20], Loss: 0.0006842164049494611, Test Loss: 0.0005050683561981154\n",
            "Epoch [8/20], Loss: 0.0003725812120520902, Test Loss: 0.0003778186411671833\n",
            "Epoch [9/20], Loss: 0.00030229988732579174, Test Loss: 0.00036843588273208856\n",
            "Epoch [10/20], Loss: 0.0002553232464206228, Test Loss: 0.00034135403494964033\n",
            "Epoch [11/20], Loss: 0.00023656424093117923, Test Loss: 0.000310722683025233\n",
            "Epoch [12/20], Loss: 0.00022943207542152214, Test Loss: 0.00028460369818416296\n",
            "Epoch [13/20], Loss: 0.00021656104993683187, Test Loss: 0.0002697003819076389\n",
            "Epoch [14/20], Loss: 0.00019919761743498505, Test Loss: 0.00022910242471250688\n",
            "Epoch [15/20], Loss: 0.0001920196538009827, Test Loss: 0.000275799525437693\n",
            "Epoch [16/20], Loss: 0.00018516268912117836, Test Loss: 0.00023825072940571073\n",
            "Epoch [17/20], Loss: 0.00018035335467949371, Test Loss: 0.0002611554167602802\n",
            "Epoch [18/20], Loss: 0.00017289549565954857, Test Loss: 0.00024917370613436034\n",
            "Epoch [19/20], Loss: 0.00017129698088046255, Test Loss: 0.00022071651402746703\n",
            "Epoch [20/20], Loss: 0.00017657062670885592, Test Loss: 0.00022254992423908194\n"
          ]
        }
      ],
      "source": [
        "train_sim_model(model, train_data_loader, valid_data_loader, optimizer, criterion, device, iterations=EPOCHS, model_file='best_task2_model.pth')"
      ]
    },
    {
      "cell_type": "code",
      "execution_count": null,
      "metadata": {
        "id": "jJ2l0Xn35t5p"
      },
      "outputs": [],
      "source": [
        "def recalc_data(padded_input_data):\n",
        "    input_data = []\n",
        "    euclidean_distance = []\n",
        "    for elem in padded_input_data:\n",
        "        input_data.append(pair_values(elem))\n",
        "        euclidean_distance.append(get_euclidean_distance(elem))\n",
        "\n",
        "    return torch.stack(input_data), padded_input_data, torch.stack(euclidean_distance)"
      ]
    },
    {
      "cell_type": "code",
      "execution_count": null,
      "metadata": {
        "id": "rN_SOPIm6fDP"
      },
      "outputs": [],
      "source": [
        "def simulate(init_data, times=5):\n",
        "    input_data, unpaired_data, mask, distance = init_data\n",
        "\n",
        "    input_data = input_data.to(device).unsqueeze(0)\n",
        "    unpaired_data = unpaired_data.to(device).unsqueeze(0)\n",
        "    mask = mask.to(device).unsqueeze(0)\n",
        "    distance = distance.to(device).unsqueeze(0)\n",
        "\n",
        "    locations = []\n",
        "    model.eval()\n",
        "    with torch.no_grad():\n",
        "        for time in tqdm(range(times)):\n",
        "\n",
        "            output = model(input_data, unpaired_data, mask, distance).squeeze(0)\n",
        "\n",
        "            unpaired_data[:,:,3:5] = output\n",
        "            unpaired_data[:,:,1:3] += unpaired_data[:,:,3:5]\n",
        "            locations.append(unpaired_data[:,:,1:3])\n",
        "\n",
        "            input_data, unpaired_data, distance = recalc_data(unpaired_data)\n",
        "\n",
        "\n",
        "    return locations"
      ]
    },
    {
      "cell_type": "code",
      "source": [
        "test_files = glob('data/task 2_3/test/*')"
      ],
      "metadata": {
        "id": "-aV2TMkMrrVu"
      },
      "execution_count": null,
      "outputs": []
    },
    {
      "cell_type": "markdown",
      "source": [
        "# Task 3"
      ],
      "metadata": {
        "id": "9OwzOfEKjTOx"
      }
    },
    {
      "cell_type": "code",
      "execution_count": 16,
      "metadata": {
        "id": "RyvnY9eyjaBV"
      },
      "outputs": [],
      "source": [
        "# Hyperparameters\n",
        "hidden_units = 25\n",
        "LR = 1e-3\n",
        "EPOCHS = 20\n",
        "\n",
        "# Create the model\n",
        "model = NPEModel(hidden_units, device=device, dropout_rate=0.3).to(device)\n",
        "\n",
        "criterion = nn.MSELoss(reduction='none')\n",
        "optimizer = optim.AdamW(model.parameters(), lr=LR)"
      ]
    },
    {
      "cell_type": "code",
      "execution_count": 17,
      "metadata": {
        "colab": {
          "base_uri": "https://localhost:8080/",
          "height": 389,
          "referenced_widgets": [
            "2bf74f217624476ea37178a98b757f31",
            "d84f7f6ccc0b4ce1b61ca68a132dd79f",
            "4c05dadbe3d4495a8b2f76245087ccd4",
            "df217ae2a3074bdb8a50b1b484514c4c",
            "0812c8328a2c4caba84fc069bd70603b",
            "6e67608dc07d47cb8244d3655cb43477",
            "b54daac8378c49f2a60f9e483389df3a",
            "92d23b0efcb74b80afa0fca35fbe2ae0",
            "6a7bca446e0340caaefe0e41d8a3a65d",
            "42ae354cc627458099fe468e276f2f82",
            "5b4d781cd1d148d8a7933c8502eac362"
          ]
        },
        "outputId": "0d406b7d-30cc-4dc0-b612-4808dfb18759",
        "id": "BjSDnaGbjaBX"
      },
      "outputs": [
        {
          "output_type": "display_data",
          "data": {
            "text/plain": [
              "  0%|          | 0/20 [00:00<?, ?it/s]"
            ],
            "application/vnd.jupyter.widget-view+json": {
              "version_major": 2,
              "version_minor": 0,
              "model_id": "2bf74f217624476ea37178a98b757f31"
            }
          },
          "metadata": {}
        },
        {
          "output_type": "stream",
          "name": "stdout",
          "text": [
            "Epoch [1/20], Loss: 0.0183174058329314, \tTest Loss: 0.012619451619684696\n",
            "Epoch [2/20], Loss: 0.01454673622113963, \tTest Loss: 0.011392138820762435\n",
            "Epoch [3/20], Loss: 0.01237414552209278, \tTest Loss: 0.009103614293659726\n",
            "Epoch [4/20], Loss: 0.010398980074872574, \tTest Loss: 0.006704504368826747\n",
            "Epoch [5/20], Loss: 0.00843695019527028, \tTest Loss: 0.004439216029519836\n",
            "Epoch [6/20], Loss: 0.007162823885058363, \tTest Loss: 0.003586525834786395\n",
            "Epoch [7/20], Loss: 0.006411579709189634, \tTest Loss: 0.0028222805509964624\n",
            "Epoch [8/20], Loss: 0.00572050386108458, \tTest Loss: 0.0027728600543923676\n",
            "Epoch [9/20], Loss: 0.005268198049937685, \tTest Loss: 0.0024894396774470806\n",
            "Epoch [10/20], Loss: 0.005004057621893783, \tTest Loss: 0.0023303597311799726\n",
            "Epoch [11/20], Loss: 0.004800411096463601, \tTest Loss: 0.002275079799195131\n",
            "Epoch [12/20], Loss: 0.004502329509705305, \tTest Loss: 0.0022224029138063392\n",
            "Epoch [13/20], Loss: 0.004438457971749206, \tTest Loss: 0.002198931877501309\n",
            "Epoch [14/20], Loss: 0.004298607353121042, \tTest Loss: 0.0020811462309211493\n",
            "Epoch [15/20], Loss: 0.004232119788260509, \tTest Loss: 0.0020957971185756228\n",
            "Epoch [16/20], Loss: 0.004072997098167737, \tTest Loss: 0.0020152908206606903\n",
            "Epoch [17/20], Loss: 0.004005135172822823, \tTest Loss: 0.0019401324777087818\n",
            "Epoch [18/20], Loss: 0.003992843596885602, \tTest Loss: 0.0019319317749856661\n",
            "Epoch [19/20], Loss: 0.003907775351156791, \tTest Loss: 0.001928410919693609\n",
            "Epoch [20/20], Loss: 0.0038467409710089364, \tTest Loss: 0.0018956932763103396\n"
          ]
        }
      ],
      "source": [
        "train_sim_model(model, train_data_loader, valid_data_loader, optimizer, criterion, device, iterations=EPOCHS, model_file='best_task3_model.pth')"
      ]
    },
    {
      "cell_type": "code",
      "source": [
        "test_files = glob('data/task 2_3/test/*')\n",
        "test_data = files_2_data(test_files)"
      ],
      "metadata": {
        "colab": {
          "base_uri": "https://localhost:8080/",
          "height": 49,
          "referenced_widgets": [
            "a30ed10ea58f4a74bf4abd9b3198e527",
            "8dac5e80243349cea95e757c11e6dfbf",
            "22eb21b0d7ea4a5c8f526ec315bb9ce4",
            "b1a63aaadfc646489d29433357b73114",
            "e8bfdc985d0d48a483b5ac4a54b722c1",
            "09fe3373482b4afa880d01846185cf73",
            "f00aad5ff135483395dff438345cfcfe",
            "19f9f7fbf3de4ca2a2f4261e90751f9e",
            "c8cb22d489594874afcb36989c37fb33",
            "70c883b2459b4a169409979e1532c745",
            "b9e604ab3e6b46e8ad1e8a3484c39610"
          ]
        },
        "id": "vRVaM7DZlVtN",
        "outputId": "50532e73-ee03-4d3b-a7da-849d74bd0300"
      },
      "execution_count": 20,
      "outputs": [
        {
          "output_type": "display_data",
          "data": {
            "text/plain": [
              "  0%|          | 0/100 [00:00<?, ?it/s]"
            ],
            "application/vnd.jupyter.widget-view+json": {
              "version_major": 2,
              "version_minor": 0,
              "model_id": "a30ed10ea58f4a74bf4abd9b3198e527"
            }
          },
          "metadata": {}
        }
      ]
    },
    {
      "cell_type": "code",
      "source": [
        "def mc_dropout_sim(model, batch, times = 100):\n",
        "    input_data, target_data,unpaired_data, mask, distance = batch\n",
        "    input_data = input_data.to(device)\n",
        "    target_data = target_data.to(device)\n",
        "    unpaired_data = unpaired_data.to(device)\n",
        "    mask = mask.to(device)\n",
        "    distance = distance.to(device)\n",
        "    sim_results = []\n",
        "\n",
        "    model.train()\n",
        "    with torch.no_grad():\n",
        "        for time in tqdm(range(times)):\n",
        "            output = model(input_data, unpaired_data, mask, distance)\n",
        "            sim_results.append(output)\n",
        "    sim_results = torch.stack(sim_results)\n",
        "    return sim_results.permute(1, 2, 0, 3)"
      ],
      "metadata": {
        "id": "PQazPtrakALW"
      },
      "execution_count": 58,
      "outputs": []
    },
    {
      "cell_type": "code",
      "source": [
        "BATCH_SIZE = 1\n",
        "\n",
        "test_data_loader = DataLoader(test_data, batch_size=BATCH_SIZE, shuffle=False)"
      ],
      "metadata": {
        "id": "80bc-3ROpwT9"
      },
      "execution_count": 42,
      "outputs": []
    },
    {
      "cell_type": "code",
      "source": [
        "input_data, target_data,unpaired_data, mask, distance = next(iter(test_data_loader))"
      ],
      "metadata": {
        "id": "s4NXEL3UrdPN"
      },
      "execution_count": 26,
      "outputs": []
    },
    {
      "cell_type": "code",
      "source": [
        "sim_results = mc_dropout_sim(model, next(iter(test_data_loader)), times = 100)"
      ],
      "metadata": {
        "colab": {
          "base_uri": "https://localhost:8080/",
          "height": 49,
          "referenced_widgets": [
            "0f977e5a9255497dbd28b092a78513e4",
            "5ffc832bfbc24d05b94d0c923095695e",
            "d8ef96203a4c406ab11084af11db1f52",
            "41a21487b3d24214a4389bc72bf3ee76",
            "2243293ce91c4842a2862afefc0ecd25",
            "0919272d9ef641968c66646402355fed",
            "4411cea2bd12408db264cba4ce0101f9",
            "d97f69577f864220bd31dd33c86ccb46",
            "187c2d1cf8484fa9b30a6119bd711f43",
            "29d7d717b02446a48937ac915e931455",
            "de9087a5afeb465aa5fab4779cc1e879"
          ]
        },
        "id": "uEI2jmXbrNZe",
        "outputId": "e16d15c7-03bd-43fb-eaf7-06d46c84ff4a"
      },
      "execution_count": 59,
      "outputs": [
        {
          "output_type": "display_data",
          "data": {
            "text/plain": [
              "  0%|          | 0/100 [00:00<?, ?it/s]"
            ],
            "application/vnd.jupyter.widget-view+json": {
              "version_major": 2,
              "version_minor": 0,
              "model_id": "0f977e5a9255497dbd28b092a78513e4"
            }
          },
          "metadata": {}
        }
      ]
    },
    {
      "cell_type": "code",
      "source": [
        "sim_results.shape"
      ],
      "metadata": {
        "colab": {
          "base_uri": "https://localhost:8080/"
        },
        "id": "yR2wdFsPvimP",
        "outputId": "ef5166ad-8b7d-4825-a70d-ba91a847735d"
      },
      "execution_count": 60,
      "outputs": [
        {
          "output_type": "execute_result",
          "data": {
            "text/plain": [
              "torch.Size([1, 9, 100, 2])"
            ]
          },
          "metadata": {},
          "execution_count": 60
        }
      ]
    },
    {
      "cell_type": "markdown",
      "metadata": {
        "id": "d5fb3b29"
      },
      "source": [
        "# Evaluation"
      ]
    },
    {
      "cell_type": "code",
      "execution_count": null,
      "metadata": {
        "id": "bf5fa1b4"
      },
      "outputs": [],
      "source": [
        "#todo"
      ]
    },
    {
      "cell_type": "code",
      "execution_count": null,
      "metadata": {
        "id": "2280031f"
      },
      "outputs": [],
      "source": []
    },
    {
      "cell_type": "code",
      "execution_count": null,
      "metadata": {
        "id": "3a8240f1"
      },
      "outputs": [],
      "source": []
    }
  ],
  "metadata": {
    "colab": {
      "provenance": [],
      "gpuType": "T4",
      "collapsed_sections": [
        "fyMUiYvtjPkw",
        "9OwzOfEKjTOx"
      ]
    },
    "kernelspec": {
      "display_name": "Python 3",
      "name": "python3"
    },
    "language_info": {
      "name": "python"
    },
    "widgets": {
      "application/vnd.jupyter.widget-state+json": {
        "48297f5609324674aeed85ae1d3b62ba": {
          "model_module": "@jupyter-widgets/controls",
          "model_name": "HBoxModel",
          "model_module_version": "1.5.0",
          "state": {
            "_dom_classes": [],
            "_model_module": "@jupyter-widgets/controls",
            "_model_module_version": "1.5.0",
            "_model_name": "HBoxModel",
            "_view_count": null,
            "_view_module": "@jupyter-widgets/controls",
            "_view_module_version": "1.5.0",
            "_view_name": "HBoxView",
            "box_style": "",
            "children": [
              "IPY_MODEL_2215dfba08114aa594608bf7cfb96ac5",
              "IPY_MODEL_fd4d4bd9a6ea44e3b7ee5f8eb65dd244",
              "IPY_MODEL_fd2b815361244a809427009365cbd326"
            ],
            "layout": "IPY_MODEL_11fa7d62753c41149d54ff596bfd60cc"
          }
        },
        "2215dfba08114aa594608bf7cfb96ac5": {
          "model_module": "@jupyter-widgets/controls",
          "model_name": "HTMLModel",
          "model_module_version": "1.5.0",
          "state": {
            "_dom_classes": [],
            "_model_module": "@jupyter-widgets/controls",
            "_model_module_version": "1.5.0",
            "_model_name": "HTMLModel",
            "_view_count": null,
            "_view_module": "@jupyter-widgets/controls",
            "_view_module_version": "1.5.0",
            "_view_name": "HTMLView",
            "description": "",
            "description_tooltip": null,
            "layout": "IPY_MODEL_adc0716739f54557a9dd5403f1f3c559",
            "placeholder": "​",
            "style": "IPY_MODEL_8c6e8b91901a4ea6a9c7440ad86c50bf",
            "value": "100%"
          }
        },
        "fd4d4bd9a6ea44e3b7ee5f8eb65dd244": {
          "model_module": "@jupyter-widgets/controls",
          "model_name": "FloatProgressModel",
          "model_module_version": "1.5.0",
          "state": {
            "_dom_classes": [],
            "_model_module": "@jupyter-widgets/controls",
            "_model_module_version": "1.5.0",
            "_model_name": "FloatProgressModel",
            "_view_count": null,
            "_view_module": "@jupyter-widgets/controls",
            "_view_module_version": "1.5.0",
            "_view_name": "ProgressView",
            "bar_style": "success",
            "description": "",
            "description_tooltip": null,
            "layout": "IPY_MODEL_ec78e6ce8de342f09e585099e3f867b9",
            "max": 50,
            "min": 0,
            "orientation": "horizontal",
            "style": "IPY_MODEL_8db7a480794e414e9e14240711000b80",
            "value": 50
          }
        },
        "fd2b815361244a809427009365cbd326": {
          "model_module": "@jupyter-widgets/controls",
          "model_name": "HTMLModel",
          "model_module_version": "1.5.0",
          "state": {
            "_dom_classes": [],
            "_model_module": "@jupyter-widgets/controls",
            "_model_module_version": "1.5.0",
            "_model_name": "HTMLModel",
            "_view_count": null,
            "_view_module": "@jupyter-widgets/controls",
            "_view_module_version": "1.5.0",
            "_view_name": "HTMLView",
            "description": "",
            "description_tooltip": null,
            "layout": "IPY_MODEL_4288723f8f794e498097c7a4d7e466c9",
            "placeholder": "​",
            "style": "IPY_MODEL_45768b5ed593494cb75c39cf0b18a815",
            "value": " 50/50 [02:35&lt;00:00,  2.83s/it]"
          }
        },
        "11fa7d62753c41149d54ff596bfd60cc": {
          "model_module": "@jupyter-widgets/base",
          "model_name": "LayoutModel",
          "model_module_version": "1.2.0",
          "state": {
            "_model_module": "@jupyter-widgets/base",
            "_model_module_version": "1.2.0",
            "_model_name": "LayoutModel",
            "_view_count": null,
            "_view_module": "@jupyter-widgets/base",
            "_view_module_version": "1.2.0",
            "_view_name": "LayoutView",
            "align_content": null,
            "align_items": null,
            "align_self": null,
            "border": null,
            "bottom": null,
            "display": null,
            "flex": null,
            "flex_flow": null,
            "grid_area": null,
            "grid_auto_columns": null,
            "grid_auto_flow": null,
            "grid_auto_rows": null,
            "grid_column": null,
            "grid_gap": null,
            "grid_row": null,
            "grid_template_areas": null,
            "grid_template_columns": null,
            "grid_template_rows": null,
            "height": null,
            "justify_content": null,
            "justify_items": null,
            "left": null,
            "margin": null,
            "max_height": null,
            "max_width": null,
            "min_height": null,
            "min_width": null,
            "object_fit": null,
            "object_position": null,
            "order": null,
            "overflow": null,
            "overflow_x": null,
            "overflow_y": null,
            "padding": null,
            "right": null,
            "top": null,
            "visibility": null,
            "width": null
          }
        },
        "adc0716739f54557a9dd5403f1f3c559": {
          "model_module": "@jupyter-widgets/base",
          "model_name": "LayoutModel",
          "model_module_version": "1.2.0",
          "state": {
            "_model_module": "@jupyter-widgets/base",
            "_model_module_version": "1.2.0",
            "_model_name": "LayoutModel",
            "_view_count": null,
            "_view_module": "@jupyter-widgets/base",
            "_view_module_version": "1.2.0",
            "_view_name": "LayoutView",
            "align_content": null,
            "align_items": null,
            "align_self": null,
            "border": null,
            "bottom": null,
            "display": null,
            "flex": null,
            "flex_flow": null,
            "grid_area": null,
            "grid_auto_columns": null,
            "grid_auto_flow": null,
            "grid_auto_rows": null,
            "grid_column": null,
            "grid_gap": null,
            "grid_row": null,
            "grid_template_areas": null,
            "grid_template_columns": null,
            "grid_template_rows": null,
            "height": null,
            "justify_content": null,
            "justify_items": null,
            "left": null,
            "margin": null,
            "max_height": null,
            "max_width": null,
            "min_height": null,
            "min_width": null,
            "object_fit": null,
            "object_position": null,
            "order": null,
            "overflow": null,
            "overflow_x": null,
            "overflow_y": null,
            "padding": null,
            "right": null,
            "top": null,
            "visibility": null,
            "width": null
          }
        },
        "8c6e8b91901a4ea6a9c7440ad86c50bf": {
          "model_module": "@jupyter-widgets/controls",
          "model_name": "DescriptionStyleModel",
          "model_module_version": "1.5.0",
          "state": {
            "_model_module": "@jupyter-widgets/controls",
            "_model_module_version": "1.5.0",
            "_model_name": "DescriptionStyleModel",
            "_view_count": null,
            "_view_module": "@jupyter-widgets/base",
            "_view_module_version": "1.2.0",
            "_view_name": "StyleView",
            "description_width": ""
          }
        },
        "ec78e6ce8de342f09e585099e3f867b9": {
          "model_module": "@jupyter-widgets/base",
          "model_name": "LayoutModel",
          "model_module_version": "1.2.0",
          "state": {
            "_model_module": "@jupyter-widgets/base",
            "_model_module_version": "1.2.0",
            "_model_name": "LayoutModel",
            "_view_count": null,
            "_view_module": "@jupyter-widgets/base",
            "_view_module_version": "1.2.0",
            "_view_name": "LayoutView",
            "align_content": null,
            "align_items": null,
            "align_self": null,
            "border": null,
            "bottom": null,
            "display": null,
            "flex": null,
            "flex_flow": null,
            "grid_area": null,
            "grid_auto_columns": null,
            "grid_auto_flow": null,
            "grid_auto_rows": null,
            "grid_column": null,
            "grid_gap": null,
            "grid_row": null,
            "grid_template_areas": null,
            "grid_template_columns": null,
            "grid_template_rows": null,
            "height": null,
            "justify_content": null,
            "justify_items": null,
            "left": null,
            "margin": null,
            "max_height": null,
            "max_width": null,
            "min_height": null,
            "min_width": null,
            "object_fit": null,
            "object_position": null,
            "order": null,
            "overflow": null,
            "overflow_x": null,
            "overflow_y": null,
            "padding": null,
            "right": null,
            "top": null,
            "visibility": null,
            "width": null
          }
        },
        "8db7a480794e414e9e14240711000b80": {
          "model_module": "@jupyter-widgets/controls",
          "model_name": "ProgressStyleModel",
          "model_module_version": "1.5.0",
          "state": {
            "_model_module": "@jupyter-widgets/controls",
            "_model_module_version": "1.5.0",
            "_model_name": "ProgressStyleModel",
            "_view_count": null,
            "_view_module": "@jupyter-widgets/base",
            "_view_module_version": "1.2.0",
            "_view_name": "StyleView",
            "bar_color": null,
            "description_width": ""
          }
        },
        "4288723f8f794e498097c7a4d7e466c9": {
          "model_module": "@jupyter-widgets/base",
          "model_name": "LayoutModel",
          "model_module_version": "1.2.0",
          "state": {
            "_model_module": "@jupyter-widgets/base",
            "_model_module_version": "1.2.0",
            "_model_name": "LayoutModel",
            "_view_count": null,
            "_view_module": "@jupyter-widgets/base",
            "_view_module_version": "1.2.0",
            "_view_name": "LayoutView",
            "align_content": null,
            "align_items": null,
            "align_self": null,
            "border": null,
            "bottom": null,
            "display": null,
            "flex": null,
            "flex_flow": null,
            "grid_area": null,
            "grid_auto_columns": null,
            "grid_auto_flow": null,
            "grid_auto_rows": null,
            "grid_column": null,
            "grid_gap": null,
            "grid_row": null,
            "grid_template_areas": null,
            "grid_template_columns": null,
            "grid_template_rows": null,
            "height": null,
            "justify_content": null,
            "justify_items": null,
            "left": null,
            "margin": null,
            "max_height": null,
            "max_width": null,
            "min_height": null,
            "min_width": null,
            "object_fit": null,
            "object_position": null,
            "order": null,
            "overflow": null,
            "overflow_x": null,
            "overflow_y": null,
            "padding": null,
            "right": null,
            "top": null,
            "visibility": null,
            "width": null
          }
        },
        "45768b5ed593494cb75c39cf0b18a815": {
          "model_module": "@jupyter-widgets/controls",
          "model_name": "DescriptionStyleModel",
          "model_module_version": "1.5.0",
          "state": {
            "_model_module": "@jupyter-widgets/controls",
            "_model_module_version": "1.5.0",
            "_model_name": "DescriptionStyleModel",
            "_view_count": null,
            "_view_module": "@jupyter-widgets/base",
            "_view_module_version": "1.2.0",
            "_view_name": "StyleView",
            "description_width": ""
          }
        },
        "983a1905713c41989e2b3aeaf1f23d9b": {
          "model_module": "@jupyter-widgets/controls",
          "model_name": "HBoxModel",
          "model_module_version": "1.5.0",
          "state": {
            "_dom_classes": [],
            "_model_module": "@jupyter-widgets/controls",
            "_model_module_version": "1.5.0",
            "_model_name": "HBoxModel",
            "_view_count": null,
            "_view_module": "@jupyter-widgets/controls",
            "_view_module_version": "1.5.0",
            "_view_name": "HBoxView",
            "box_style": "",
            "children": [
              "IPY_MODEL_4c9a9d3c9d754941aa84890b724ea3bd",
              "IPY_MODEL_8d07b9f34c9543c992ab6dcfd38df0f7",
              "IPY_MODEL_405c564da4ef4647bba9e3909efaa222"
            ],
            "layout": "IPY_MODEL_aa5a6600f392446b8fb50e2c8619b764"
          }
        },
        "4c9a9d3c9d754941aa84890b724ea3bd": {
          "model_module": "@jupyter-widgets/controls",
          "model_name": "HTMLModel",
          "model_module_version": "1.5.0",
          "state": {
            "_dom_classes": [],
            "_model_module": "@jupyter-widgets/controls",
            "_model_module_version": "1.5.0",
            "_model_name": "HTMLModel",
            "_view_count": null,
            "_view_module": "@jupyter-widgets/controls",
            "_view_module_version": "1.5.0",
            "_view_name": "HTMLView",
            "description": "",
            "description_tooltip": null,
            "layout": "IPY_MODEL_a7c59d78ebe64e4ead5a02107ca7e26a",
            "placeholder": "​",
            "style": "IPY_MODEL_49c4b1166247413cb50a71ec1867a761",
            "value": "100%"
          }
        },
        "8d07b9f34c9543c992ab6dcfd38df0f7": {
          "model_module": "@jupyter-widgets/controls",
          "model_name": "FloatProgressModel",
          "model_module_version": "1.5.0",
          "state": {
            "_dom_classes": [],
            "_model_module": "@jupyter-widgets/controls",
            "_model_module_version": "1.5.0",
            "_model_name": "FloatProgressModel",
            "_view_count": null,
            "_view_module": "@jupyter-widgets/controls",
            "_view_module_version": "1.5.0",
            "_view_name": "ProgressView",
            "bar_style": "success",
            "description": "",
            "description_tooltip": null,
            "layout": "IPY_MODEL_8ef0a7eeeaf142149bfe9a1bc7b7e1ec",
            "max": 20,
            "min": 0,
            "orientation": "horizontal",
            "style": "IPY_MODEL_57fe44fad9a8442b97491cdb1dae70cd",
            "value": 20
          }
        },
        "405c564da4ef4647bba9e3909efaa222": {
          "model_module": "@jupyter-widgets/controls",
          "model_name": "HTMLModel",
          "model_module_version": "1.5.0",
          "state": {
            "_dom_classes": [],
            "_model_module": "@jupyter-widgets/controls",
            "_model_module_version": "1.5.0",
            "_model_name": "HTMLModel",
            "_view_count": null,
            "_view_module": "@jupyter-widgets/controls",
            "_view_module_version": "1.5.0",
            "_view_name": "HTMLView",
            "description": "",
            "description_tooltip": null,
            "layout": "IPY_MODEL_03d24b1edb8f45fcb0e260dabad56e5a",
            "placeholder": "​",
            "style": "IPY_MODEL_6121f588a3484931be34c57a9e3c87b4",
            "value": " 20/20 [52:58&lt;00:00, 156.96s/it]"
          }
        },
        "aa5a6600f392446b8fb50e2c8619b764": {
          "model_module": "@jupyter-widgets/base",
          "model_name": "LayoutModel",
          "model_module_version": "1.2.0",
          "state": {
            "_model_module": "@jupyter-widgets/base",
            "_model_module_version": "1.2.0",
            "_model_name": "LayoutModel",
            "_view_count": null,
            "_view_module": "@jupyter-widgets/base",
            "_view_module_version": "1.2.0",
            "_view_name": "LayoutView",
            "align_content": null,
            "align_items": null,
            "align_self": null,
            "border": null,
            "bottom": null,
            "display": null,
            "flex": null,
            "flex_flow": null,
            "grid_area": null,
            "grid_auto_columns": null,
            "grid_auto_flow": null,
            "grid_auto_rows": null,
            "grid_column": null,
            "grid_gap": null,
            "grid_row": null,
            "grid_template_areas": null,
            "grid_template_columns": null,
            "grid_template_rows": null,
            "height": null,
            "justify_content": null,
            "justify_items": null,
            "left": null,
            "margin": null,
            "max_height": null,
            "max_width": null,
            "min_height": null,
            "min_width": null,
            "object_fit": null,
            "object_position": null,
            "order": null,
            "overflow": null,
            "overflow_x": null,
            "overflow_y": null,
            "padding": null,
            "right": null,
            "top": null,
            "visibility": null,
            "width": null
          }
        },
        "a7c59d78ebe64e4ead5a02107ca7e26a": {
          "model_module": "@jupyter-widgets/base",
          "model_name": "LayoutModel",
          "model_module_version": "1.2.0",
          "state": {
            "_model_module": "@jupyter-widgets/base",
            "_model_module_version": "1.2.0",
            "_model_name": "LayoutModel",
            "_view_count": null,
            "_view_module": "@jupyter-widgets/base",
            "_view_module_version": "1.2.0",
            "_view_name": "LayoutView",
            "align_content": null,
            "align_items": null,
            "align_self": null,
            "border": null,
            "bottom": null,
            "display": null,
            "flex": null,
            "flex_flow": null,
            "grid_area": null,
            "grid_auto_columns": null,
            "grid_auto_flow": null,
            "grid_auto_rows": null,
            "grid_column": null,
            "grid_gap": null,
            "grid_row": null,
            "grid_template_areas": null,
            "grid_template_columns": null,
            "grid_template_rows": null,
            "height": null,
            "justify_content": null,
            "justify_items": null,
            "left": null,
            "margin": null,
            "max_height": null,
            "max_width": null,
            "min_height": null,
            "min_width": null,
            "object_fit": null,
            "object_position": null,
            "order": null,
            "overflow": null,
            "overflow_x": null,
            "overflow_y": null,
            "padding": null,
            "right": null,
            "top": null,
            "visibility": null,
            "width": null
          }
        },
        "49c4b1166247413cb50a71ec1867a761": {
          "model_module": "@jupyter-widgets/controls",
          "model_name": "DescriptionStyleModel",
          "model_module_version": "1.5.0",
          "state": {
            "_model_module": "@jupyter-widgets/controls",
            "_model_module_version": "1.5.0",
            "_model_name": "DescriptionStyleModel",
            "_view_count": null,
            "_view_module": "@jupyter-widgets/base",
            "_view_module_version": "1.2.0",
            "_view_name": "StyleView",
            "description_width": ""
          }
        },
        "8ef0a7eeeaf142149bfe9a1bc7b7e1ec": {
          "model_module": "@jupyter-widgets/base",
          "model_name": "LayoutModel",
          "model_module_version": "1.2.0",
          "state": {
            "_model_module": "@jupyter-widgets/base",
            "_model_module_version": "1.2.0",
            "_model_name": "LayoutModel",
            "_view_count": null,
            "_view_module": "@jupyter-widgets/base",
            "_view_module_version": "1.2.0",
            "_view_name": "LayoutView",
            "align_content": null,
            "align_items": null,
            "align_self": null,
            "border": null,
            "bottom": null,
            "display": null,
            "flex": null,
            "flex_flow": null,
            "grid_area": null,
            "grid_auto_columns": null,
            "grid_auto_flow": null,
            "grid_auto_rows": null,
            "grid_column": null,
            "grid_gap": null,
            "grid_row": null,
            "grid_template_areas": null,
            "grid_template_columns": null,
            "grid_template_rows": null,
            "height": null,
            "justify_content": null,
            "justify_items": null,
            "left": null,
            "margin": null,
            "max_height": null,
            "max_width": null,
            "min_height": null,
            "min_width": null,
            "object_fit": null,
            "object_position": null,
            "order": null,
            "overflow": null,
            "overflow_x": null,
            "overflow_y": null,
            "padding": null,
            "right": null,
            "top": null,
            "visibility": null,
            "width": null
          }
        },
        "57fe44fad9a8442b97491cdb1dae70cd": {
          "model_module": "@jupyter-widgets/controls",
          "model_name": "ProgressStyleModel",
          "model_module_version": "1.5.0",
          "state": {
            "_model_module": "@jupyter-widgets/controls",
            "_model_module_version": "1.5.0",
            "_model_name": "ProgressStyleModel",
            "_view_count": null,
            "_view_module": "@jupyter-widgets/base",
            "_view_module_version": "1.2.0",
            "_view_name": "StyleView",
            "bar_color": null,
            "description_width": ""
          }
        },
        "03d24b1edb8f45fcb0e260dabad56e5a": {
          "model_module": "@jupyter-widgets/base",
          "model_name": "LayoutModel",
          "model_module_version": "1.2.0",
          "state": {
            "_model_module": "@jupyter-widgets/base",
            "_model_module_version": "1.2.0",
            "_model_name": "LayoutModel",
            "_view_count": null,
            "_view_module": "@jupyter-widgets/base",
            "_view_module_version": "1.2.0",
            "_view_name": "LayoutView",
            "align_content": null,
            "align_items": null,
            "align_self": null,
            "border": null,
            "bottom": null,
            "display": null,
            "flex": null,
            "flex_flow": null,
            "grid_area": null,
            "grid_auto_columns": null,
            "grid_auto_flow": null,
            "grid_auto_rows": null,
            "grid_column": null,
            "grid_gap": null,
            "grid_row": null,
            "grid_template_areas": null,
            "grid_template_columns": null,
            "grid_template_rows": null,
            "height": null,
            "justify_content": null,
            "justify_items": null,
            "left": null,
            "margin": null,
            "max_height": null,
            "max_width": null,
            "min_height": null,
            "min_width": null,
            "object_fit": null,
            "object_position": null,
            "order": null,
            "overflow": null,
            "overflow_x": null,
            "overflow_y": null,
            "padding": null,
            "right": null,
            "top": null,
            "visibility": null,
            "width": null
          }
        },
        "6121f588a3484931be34c57a9e3c87b4": {
          "model_module": "@jupyter-widgets/controls",
          "model_name": "DescriptionStyleModel",
          "model_module_version": "1.5.0",
          "state": {
            "_model_module": "@jupyter-widgets/controls",
            "_model_module_version": "1.5.0",
            "_model_name": "DescriptionStyleModel",
            "_view_count": null,
            "_view_module": "@jupyter-widgets/base",
            "_view_module_version": "1.2.0",
            "_view_name": "StyleView",
            "description_width": ""
          }
        },
        "96098d76714b48cb87f061f39fceb002": {
          "model_module": "@jupyter-widgets/controls",
          "model_name": "HBoxModel",
          "model_module_version": "1.5.0",
          "state": {
            "_dom_classes": [],
            "_model_module": "@jupyter-widgets/controls",
            "_model_module_version": "1.5.0",
            "_model_name": "HBoxModel",
            "_view_count": null,
            "_view_module": "@jupyter-widgets/controls",
            "_view_module_version": "1.5.0",
            "_view_name": "HBoxView",
            "box_style": "",
            "children": [
              "IPY_MODEL_c80950b679d54111965df199ae6ad4cd",
              "IPY_MODEL_8efa7b250413494c979dec70b8fe91a4",
              "IPY_MODEL_75a4d065039a422fbed833228932d7ae"
            ],
            "layout": "IPY_MODEL_fca39a6123544ad6bf2c52df15e804f6"
          }
        },
        "c80950b679d54111965df199ae6ad4cd": {
          "model_module": "@jupyter-widgets/controls",
          "model_name": "HTMLModel",
          "model_module_version": "1.5.0",
          "state": {
            "_dom_classes": [],
            "_model_module": "@jupyter-widgets/controls",
            "_model_module_version": "1.5.0",
            "_model_name": "HTMLModel",
            "_view_count": null,
            "_view_module": "@jupyter-widgets/controls",
            "_view_module_version": "1.5.0",
            "_view_name": "HTMLView",
            "description": "",
            "description_tooltip": null,
            "layout": "IPY_MODEL_cba9dbbbeabe494faaa494ff37bdce93",
            "placeholder": "​",
            "style": "IPY_MODEL_11c9af3fa2b34968a8650c3e18bbc425",
            "value": "100%"
          }
        },
        "8efa7b250413494c979dec70b8fe91a4": {
          "model_module": "@jupyter-widgets/controls",
          "model_name": "FloatProgressModel",
          "model_module_version": "1.5.0",
          "state": {
            "_dom_classes": [],
            "_model_module": "@jupyter-widgets/controls",
            "_model_module_version": "1.5.0",
            "_model_name": "FloatProgressModel",
            "_view_count": null,
            "_view_module": "@jupyter-widgets/controls",
            "_view_module_version": "1.5.0",
            "_view_name": "ProgressView",
            "bar_style": "success",
            "description": "",
            "description_tooltip": null,
            "layout": "IPY_MODEL_988b54caba88404db70cad950603da46",
            "max": 62,
            "min": 0,
            "orientation": "horizontal",
            "style": "IPY_MODEL_f6e4dc244d2548a1b812396355425fcc",
            "value": 62
          }
        },
        "75a4d065039a422fbed833228932d7ae": {
          "model_module": "@jupyter-widgets/controls",
          "model_name": "HTMLModel",
          "model_module_version": "1.5.0",
          "state": {
            "_dom_classes": [],
            "_model_module": "@jupyter-widgets/controls",
            "_model_module_version": "1.5.0",
            "_model_name": "HTMLModel",
            "_view_count": null,
            "_view_module": "@jupyter-widgets/controls",
            "_view_module_version": "1.5.0",
            "_view_name": "HTMLView",
            "description": "",
            "description_tooltip": null,
            "layout": "IPY_MODEL_bd867b3e89914163ba76255378380e60",
            "placeholder": "​",
            "style": "IPY_MODEL_f357d776fca944388a0a9e4a8ae63e02",
            "value": " 62/62 [00:41&lt;00:00,  2.75it/s]"
          }
        },
        "fca39a6123544ad6bf2c52df15e804f6": {
          "model_module": "@jupyter-widgets/base",
          "model_name": "LayoutModel",
          "model_module_version": "1.2.0",
          "state": {
            "_model_module": "@jupyter-widgets/base",
            "_model_module_version": "1.2.0",
            "_model_name": "LayoutModel",
            "_view_count": null,
            "_view_module": "@jupyter-widgets/base",
            "_view_module_version": "1.2.0",
            "_view_name": "LayoutView",
            "align_content": null,
            "align_items": null,
            "align_self": null,
            "border": null,
            "bottom": null,
            "display": null,
            "flex": null,
            "flex_flow": null,
            "grid_area": null,
            "grid_auto_columns": null,
            "grid_auto_flow": null,
            "grid_auto_rows": null,
            "grid_column": null,
            "grid_gap": null,
            "grid_row": null,
            "grid_template_areas": null,
            "grid_template_columns": null,
            "grid_template_rows": null,
            "height": null,
            "justify_content": null,
            "justify_items": null,
            "left": null,
            "margin": null,
            "max_height": null,
            "max_width": null,
            "min_height": null,
            "min_width": null,
            "object_fit": null,
            "object_position": null,
            "order": null,
            "overflow": null,
            "overflow_x": null,
            "overflow_y": null,
            "padding": null,
            "right": null,
            "top": null,
            "visibility": null,
            "width": null
          }
        },
        "cba9dbbbeabe494faaa494ff37bdce93": {
          "model_module": "@jupyter-widgets/base",
          "model_name": "LayoutModel",
          "model_module_version": "1.2.0",
          "state": {
            "_model_module": "@jupyter-widgets/base",
            "_model_module_version": "1.2.0",
            "_model_name": "LayoutModel",
            "_view_count": null,
            "_view_module": "@jupyter-widgets/base",
            "_view_module_version": "1.2.0",
            "_view_name": "LayoutView",
            "align_content": null,
            "align_items": null,
            "align_self": null,
            "border": null,
            "bottom": null,
            "display": null,
            "flex": null,
            "flex_flow": null,
            "grid_area": null,
            "grid_auto_columns": null,
            "grid_auto_flow": null,
            "grid_auto_rows": null,
            "grid_column": null,
            "grid_gap": null,
            "grid_row": null,
            "grid_template_areas": null,
            "grid_template_columns": null,
            "grid_template_rows": null,
            "height": null,
            "justify_content": null,
            "justify_items": null,
            "left": null,
            "margin": null,
            "max_height": null,
            "max_width": null,
            "min_height": null,
            "min_width": null,
            "object_fit": null,
            "object_position": null,
            "order": null,
            "overflow": null,
            "overflow_x": null,
            "overflow_y": null,
            "padding": null,
            "right": null,
            "top": null,
            "visibility": null,
            "width": null
          }
        },
        "11c9af3fa2b34968a8650c3e18bbc425": {
          "model_module": "@jupyter-widgets/controls",
          "model_name": "DescriptionStyleModel",
          "model_module_version": "1.5.0",
          "state": {
            "_model_module": "@jupyter-widgets/controls",
            "_model_module_version": "1.5.0",
            "_model_name": "DescriptionStyleModel",
            "_view_count": null,
            "_view_module": "@jupyter-widgets/base",
            "_view_module_version": "1.2.0",
            "_view_name": "StyleView",
            "description_width": ""
          }
        },
        "988b54caba88404db70cad950603da46": {
          "model_module": "@jupyter-widgets/base",
          "model_name": "LayoutModel",
          "model_module_version": "1.2.0",
          "state": {
            "_model_module": "@jupyter-widgets/base",
            "_model_module_version": "1.2.0",
            "_model_name": "LayoutModel",
            "_view_count": null,
            "_view_module": "@jupyter-widgets/base",
            "_view_module_version": "1.2.0",
            "_view_name": "LayoutView",
            "align_content": null,
            "align_items": null,
            "align_self": null,
            "border": null,
            "bottom": null,
            "display": null,
            "flex": null,
            "flex_flow": null,
            "grid_area": null,
            "grid_auto_columns": null,
            "grid_auto_flow": null,
            "grid_auto_rows": null,
            "grid_column": null,
            "grid_gap": null,
            "grid_row": null,
            "grid_template_areas": null,
            "grid_template_columns": null,
            "grid_template_rows": null,
            "height": null,
            "justify_content": null,
            "justify_items": null,
            "left": null,
            "margin": null,
            "max_height": null,
            "max_width": null,
            "min_height": null,
            "min_width": null,
            "object_fit": null,
            "object_position": null,
            "order": null,
            "overflow": null,
            "overflow_x": null,
            "overflow_y": null,
            "padding": null,
            "right": null,
            "top": null,
            "visibility": null,
            "width": null
          }
        },
        "f6e4dc244d2548a1b812396355425fcc": {
          "model_module": "@jupyter-widgets/controls",
          "model_name": "ProgressStyleModel",
          "model_module_version": "1.5.0",
          "state": {
            "_model_module": "@jupyter-widgets/controls",
            "_model_module_version": "1.5.0",
            "_model_name": "ProgressStyleModel",
            "_view_count": null,
            "_view_module": "@jupyter-widgets/base",
            "_view_module_version": "1.2.0",
            "_view_name": "StyleView",
            "bar_color": null,
            "description_width": ""
          }
        },
        "bd867b3e89914163ba76255378380e60": {
          "model_module": "@jupyter-widgets/base",
          "model_name": "LayoutModel",
          "model_module_version": "1.2.0",
          "state": {
            "_model_module": "@jupyter-widgets/base",
            "_model_module_version": "1.2.0",
            "_model_name": "LayoutModel",
            "_view_count": null,
            "_view_module": "@jupyter-widgets/base",
            "_view_module_version": "1.2.0",
            "_view_name": "LayoutView",
            "align_content": null,
            "align_items": null,
            "align_self": null,
            "border": null,
            "bottom": null,
            "display": null,
            "flex": null,
            "flex_flow": null,
            "grid_area": null,
            "grid_auto_columns": null,
            "grid_auto_flow": null,
            "grid_auto_rows": null,
            "grid_column": null,
            "grid_gap": null,
            "grid_row": null,
            "grid_template_areas": null,
            "grid_template_columns": null,
            "grid_template_rows": null,
            "height": null,
            "justify_content": null,
            "justify_items": null,
            "left": null,
            "margin": null,
            "max_height": null,
            "max_width": null,
            "min_height": null,
            "min_width": null,
            "object_fit": null,
            "object_position": null,
            "order": null,
            "overflow": null,
            "overflow_x": null,
            "overflow_y": null,
            "padding": null,
            "right": null,
            "top": null,
            "visibility": null,
            "width": null
          }
        },
        "f357d776fca944388a0a9e4a8ae63e02": {
          "model_module": "@jupyter-widgets/controls",
          "model_name": "DescriptionStyleModel",
          "model_module_version": "1.5.0",
          "state": {
            "_model_module": "@jupyter-widgets/controls",
            "_model_module_version": "1.5.0",
            "_model_name": "DescriptionStyleModel",
            "_view_count": null,
            "_view_module": "@jupyter-widgets/base",
            "_view_module_version": "1.2.0",
            "_view_name": "StyleView",
            "description_width": ""
          }
        },
        "493b7cabd6a6448ea8836581363cae2b": {
          "model_module": "@jupyter-widgets/controls",
          "model_name": "HBoxModel",
          "model_module_version": "1.5.0",
          "state": {
            "_dom_classes": [],
            "_model_module": "@jupyter-widgets/controls",
            "_model_module_version": "1.5.0",
            "_model_name": "HBoxModel",
            "_view_count": null,
            "_view_module": "@jupyter-widgets/controls",
            "_view_module_version": "1.5.0",
            "_view_name": "HBoxView",
            "box_style": "",
            "children": [
              "IPY_MODEL_9dd136f4907647cc9227c722bc35c5f3",
              "IPY_MODEL_de7afbf567ed4bc48566fc6937813f6d",
              "IPY_MODEL_aa9c09a06dbb42159e584338aaf8b9fb"
            ],
            "layout": "IPY_MODEL_62a0d6bfb3714242a4348fdf61ad9bd1"
          }
        },
        "9dd136f4907647cc9227c722bc35c5f3": {
          "model_module": "@jupyter-widgets/controls",
          "model_name": "HTMLModel",
          "model_module_version": "1.5.0",
          "state": {
            "_dom_classes": [],
            "_model_module": "@jupyter-widgets/controls",
            "_model_module_version": "1.5.0",
            "_model_name": "HTMLModel",
            "_view_count": null,
            "_view_module": "@jupyter-widgets/controls",
            "_view_module_version": "1.5.0",
            "_view_name": "HTMLView",
            "description": "",
            "description_tooltip": null,
            "layout": "IPY_MODEL_9a79e4e8e7b84beabca1995f86119ab9",
            "placeholder": "​",
            "style": "IPY_MODEL_fdaf376c995849d3b456d0be767c4941",
            "value": "100%"
          }
        },
        "de7afbf567ed4bc48566fc6937813f6d": {
          "model_module": "@jupyter-widgets/controls",
          "model_name": "FloatProgressModel",
          "model_module_version": "1.5.0",
          "state": {
            "_dom_classes": [],
            "_model_module": "@jupyter-widgets/controls",
            "_model_module_version": "1.5.0",
            "_model_name": "FloatProgressModel",
            "_view_count": null,
            "_view_module": "@jupyter-widgets/controls",
            "_view_module_version": "1.5.0",
            "_view_name": "ProgressView",
            "bar_style": "success",
            "description": "",
            "description_tooltip": null,
            "layout": "IPY_MODEL_db03d107485748418d7074373cbf95e1",
            "max": 28,
            "min": 0,
            "orientation": "horizontal",
            "style": "IPY_MODEL_996d85bcd777409e8395279f4223bd0c",
            "value": 28
          }
        },
        "aa9c09a06dbb42159e584338aaf8b9fb": {
          "model_module": "@jupyter-widgets/controls",
          "model_name": "HTMLModel",
          "model_module_version": "1.5.0",
          "state": {
            "_dom_classes": [],
            "_model_module": "@jupyter-widgets/controls",
            "_model_module_version": "1.5.0",
            "_model_name": "HTMLModel",
            "_view_count": null,
            "_view_module": "@jupyter-widgets/controls",
            "_view_module_version": "1.5.0",
            "_view_name": "HTMLView",
            "description": "",
            "description_tooltip": null,
            "layout": "IPY_MODEL_682d6e9339d444269f380d42cb7a0029",
            "placeholder": "​",
            "style": "IPY_MODEL_02a4ad156fea4a79929285743d54c35f",
            "value": " 28/28 [00:11&lt;00:00,  2.54it/s]"
          }
        },
        "62a0d6bfb3714242a4348fdf61ad9bd1": {
          "model_module": "@jupyter-widgets/base",
          "model_name": "LayoutModel",
          "model_module_version": "1.2.0",
          "state": {
            "_model_module": "@jupyter-widgets/base",
            "_model_module_version": "1.2.0",
            "_model_name": "LayoutModel",
            "_view_count": null,
            "_view_module": "@jupyter-widgets/base",
            "_view_module_version": "1.2.0",
            "_view_name": "LayoutView",
            "align_content": null,
            "align_items": null,
            "align_self": null,
            "border": null,
            "bottom": null,
            "display": null,
            "flex": null,
            "flex_flow": null,
            "grid_area": null,
            "grid_auto_columns": null,
            "grid_auto_flow": null,
            "grid_auto_rows": null,
            "grid_column": null,
            "grid_gap": null,
            "grid_row": null,
            "grid_template_areas": null,
            "grid_template_columns": null,
            "grid_template_rows": null,
            "height": null,
            "justify_content": null,
            "justify_items": null,
            "left": null,
            "margin": null,
            "max_height": null,
            "max_width": null,
            "min_height": null,
            "min_width": null,
            "object_fit": null,
            "object_position": null,
            "order": null,
            "overflow": null,
            "overflow_x": null,
            "overflow_y": null,
            "padding": null,
            "right": null,
            "top": null,
            "visibility": null,
            "width": null
          }
        },
        "9a79e4e8e7b84beabca1995f86119ab9": {
          "model_module": "@jupyter-widgets/base",
          "model_name": "LayoutModel",
          "model_module_version": "1.2.0",
          "state": {
            "_model_module": "@jupyter-widgets/base",
            "_model_module_version": "1.2.0",
            "_model_name": "LayoutModel",
            "_view_count": null,
            "_view_module": "@jupyter-widgets/base",
            "_view_module_version": "1.2.0",
            "_view_name": "LayoutView",
            "align_content": null,
            "align_items": null,
            "align_self": null,
            "border": null,
            "bottom": null,
            "display": null,
            "flex": null,
            "flex_flow": null,
            "grid_area": null,
            "grid_auto_columns": null,
            "grid_auto_flow": null,
            "grid_auto_rows": null,
            "grid_column": null,
            "grid_gap": null,
            "grid_row": null,
            "grid_template_areas": null,
            "grid_template_columns": null,
            "grid_template_rows": null,
            "height": null,
            "justify_content": null,
            "justify_items": null,
            "left": null,
            "margin": null,
            "max_height": null,
            "max_width": null,
            "min_height": null,
            "min_width": null,
            "object_fit": null,
            "object_position": null,
            "order": null,
            "overflow": null,
            "overflow_x": null,
            "overflow_y": null,
            "padding": null,
            "right": null,
            "top": null,
            "visibility": null,
            "width": null
          }
        },
        "fdaf376c995849d3b456d0be767c4941": {
          "model_module": "@jupyter-widgets/controls",
          "model_name": "DescriptionStyleModel",
          "model_module_version": "1.5.0",
          "state": {
            "_model_module": "@jupyter-widgets/controls",
            "_model_module_version": "1.5.0",
            "_model_name": "DescriptionStyleModel",
            "_view_count": null,
            "_view_module": "@jupyter-widgets/base",
            "_view_module_version": "1.2.0",
            "_view_name": "StyleView",
            "description_width": ""
          }
        },
        "db03d107485748418d7074373cbf95e1": {
          "model_module": "@jupyter-widgets/base",
          "model_name": "LayoutModel",
          "model_module_version": "1.2.0",
          "state": {
            "_model_module": "@jupyter-widgets/base",
            "_model_module_version": "1.2.0",
            "_model_name": "LayoutModel",
            "_view_count": null,
            "_view_module": "@jupyter-widgets/base",
            "_view_module_version": "1.2.0",
            "_view_name": "LayoutView",
            "align_content": null,
            "align_items": null,
            "align_self": null,
            "border": null,
            "bottom": null,
            "display": null,
            "flex": null,
            "flex_flow": null,
            "grid_area": null,
            "grid_auto_columns": null,
            "grid_auto_flow": null,
            "grid_auto_rows": null,
            "grid_column": null,
            "grid_gap": null,
            "grid_row": null,
            "grid_template_areas": null,
            "grid_template_columns": null,
            "grid_template_rows": null,
            "height": null,
            "justify_content": null,
            "justify_items": null,
            "left": null,
            "margin": null,
            "max_height": null,
            "max_width": null,
            "min_height": null,
            "min_width": null,
            "object_fit": null,
            "object_position": null,
            "order": null,
            "overflow": null,
            "overflow_x": null,
            "overflow_y": null,
            "padding": null,
            "right": null,
            "top": null,
            "visibility": null,
            "width": null
          }
        },
        "996d85bcd777409e8395279f4223bd0c": {
          "model_module": "@jupyter-widgets/controls",
          "model_name": "ProgressStyleModel",
          "model_module_version": "1.5.0",
          "state": {
            "_model_module": "@jupyter-widgets/controls",
            "_model_module_version": "1.5.0",
            "_model_name": "ProgressStyleModel",
            "_view_count": null,
            "_view_module": "@jupyter-widgets/base",
            "_view_module_version": "1.2.0",
            "_view_name": "StyleView",
            "bar_color": null,
            "description_width": ""
          }
        },
        "682d6e9339d444269f380d42cb7a0029": {
          "model_module": "@jupyter-widgets/base",
          "model_name": "LayoutModel",
          "model_module_version": "1.2.0",
          "state": {
            "_model_module": "@jupyter-widgets/base",
            "_model_module_version": "1.2.0",
            "_model_name": "LayoutModel",
            "_view_count": null,
            "_view_module": "@jupyter-widgets/base",
            "_view_module_version": "1.2.0",
            "_view_name": "LayoutView",
            "align_content": null,
            "align_items": null,
            "align_self": null,
            "border": null,
            "bottom": null,
            "display": null,
            "flex": null,
            "flex_flow": null,
            "grid_area": null,
            "grid_auto_columns": null,
            "grid_auto_flow": null,
            "grid_auto_rows": null,
            "grid_column": null,
            "grid_gap": null,
            "grid_row": null,
            "grid_template_areas": null,
            "grid_template_columns": null,
            "grid_template_rows": null,
            "height": null,
            "justify_content": null,
            "justify_items": null,
            "left": null,
            "margin": null,
            "max_height": null,
            "max_width": null,
            "min_height": null,
            "min_width": null,
            "object_fit": null,
            "object_position": null,
            "order": null,
            "overflow": null,
            "overflow_x": null,
            "overflow_y": null,
            "padding": null,
            "right": null,
            "top": null,
            "visibility": null,
            "width": null
          }
        },
        "02a4ad156fea4a79929285743d54c35f": {
          "model_module": "@jupyter-widgets/controls",
          "model_name": "DescriptionStyleModel",
          "model_module_version": "1.5.0",
          "state": {
            "_model_module": "@jupyter-widgets/controls",
            "_model_module_version": "1.5.0",
            "_model_name": "DescriptionStyleModel",
            "_view_count": null,
            "_view_module": "@jupyter-widgets/base",
            "_view_module_version": "1.2.0",
            "_view_name": "StyleView",
            "description_width": ""
          }
        },
        "2bf74f217624476ea37178a98b757f31": {
          "model_module": "@jupyter-widgets/controls",
          "model_name": "HBoxModel",
          "model_module_version": "1.5.0",
          "state": {
            "_dom_classes": [],
            "_model_module": "@jupyter-widgets/controls",
            "_model_module_version": "1.5.0",
            "_model_name": "HBoxModel",
            "_view_count": null,
            "_view_module": "@jupyter-widgets/controls",
            "_view_module_version": "1.5.0",
            "_view_name": "HBoxView",
            "box_style": "",
            "children": [
              "IPY_MODEL_d84f7f6ccc0b4ce1b61ca68a132dd79f",
              "IPY_MODEL_4c05dadbe3d4495a8b2f76245087ccd4",
              "IPY_MODEL_df217ae2a3074bdb8a50b1b484514c4c"
            ],
            "layout": "IPY_MODEL_0812c8328a2c4caba84fc069bd70603b"
          }
        },
        "d84f7f6ccc0b4ce1b61ca68a132dd79f": {
          "model_module": "@jupyter-widgets/controls",
          "model_name": "HTMLModel",
          "model_module_version": "1.5.0",
          "state": {
            "_dom_classes": [],
            "_model_module": "@jupyter-widgets/controls",
            "_model_module_version": "1.5.0",
            "_model_name": "HTMLModel",
            "_view_count": null,
            "_view_module": "@jupyter-widgets/controls",
            "_view_module_version": "1.5.0",
            "_view_name": "HTMLView",
            "description": "",
            "description_tooltip": null,
            "layout": "IPY_MODEL_6e67608dc07d47cb8244d3655cb43477",
            "placeholder": "​",
            "style": "IPY_MODEL_b54daac8378c49f2a60f9e483389df3a",
            "value": "100%"
          }
        },
        "4c05dadbe3d4495a8b2f76245087ccd4": {
          "model_module": "@jupyter-widgets/controls",
          "model_name": "FloatProgressModel",
          "model_module_version": "1.5.0",
          "state": {
            "_dom_classes": [],
            "_model_module": "@jupyter-widgets/controls",
            "_model_module_version": "1.5.0",
            "_model_name": "FloatProgressModel",
            "_view_count": null,
            "_view_module": "@jupyter-widgets/controls",
            "_view_module_version": "1.5.0",
            "_view_name": "ProgressView",
            "bar_style": "success",
            "description": "",
            "description_tooltip": null,
            "layout": "IPY_MODEL_92d23b0efcb74b80afa0fca35fbe2ae0",
            "max": 20,
            "min": 0,
            "orientation": "horizontal",
            "style": "IPY_MODEL_6a7bca446e0340caaefe0e41d8a3a65d",
            "value": 20
          }
        },
        "df217ae2a3074bdb8a50b1b484514c4c": {
          "model_module": "@jupyter-widgets/controls",
          "model_name": "HTMLModel",
          "model_module_version": "1.5.0",
          "state": {
            "_dom_classes": [],
            "_model_module": "@jupyter-widgets/controls",
            "_model_module_version": "1.5.0",
            "_model_name": "HTMLModel",
            "_view_count": null,
            "_view_module": "@jupyter-widgets/controls",
            "_view_module_version": "1.5.0",
            "_view_name": "HTMLView",
            "description": "",
            "description_tooltip": null,
            "layout": "IPY_MODEL_42ae354cc627458099fe468e276f2f82",
            "placeholder": "​",
            "style": "IPY_MODEL_5b4d781cd1d148d8a7933c8502eac362",
            "value": " 20/20 [06:28&lt;00:00, 20.02s/it]"
          }
        },
        "0812c8328a2c4caba84fc069bd70603b": {
          "model_module": "@jupyter-widgets/base",
          "model_name": "LayoutModel",
          "model_module_version": "1.2.0",
          "state": {
            "_model_module": "@jupyter-widgets/base",
            "_model_module_version": "1.2.0",
            "_model_name": "LayoutModel",
            "_view_count": null,
            "_view_module": "@jupyter-widgets/base",
            "_view_module_version": "1.2.0",
            "_view_name": "LayoutView",
            "align_content": null,
            "align_items": null,
            "align_self": null,
            "border": null,
            "bottom": null,
            "display": null,
            "flex": null,
            "flex_flow": null,
            "grid_area": null,
            "grid_auto_columns": null,
            "grid_auto_flow": null,
            "grid_auto_rows": null,
            "grid_column": null,
            "grid_gap": null,
            "grid_row": null,
            "grid_template_areas": null,
            "grid_template_columns": null,
            "grid_template_rows": null,
            "height": null,
            "justify_content": null,
            "justify_items": null,
            "left": null,
            "margin": null,
            "max_height": null,
            "max_width": null,
            "min_height": null,
            "min_width": null,
            "object_fit": null,
            "object_position": null,
            "order": null,
            "overflow": null,
            "overflow_x": null,
            "overflow_y": null,
            "padding": null,
            "right": null,
            "top": null,
            "visibility": null,
            "width": null
          }
        },
        "6e67608dc07d47cb8244d3655cb43477": {
          "model_module": "@jupyter-widgets/base",
          "model_name": "LayoutModel",
          "model_module_version": "1.2.0",
          "state": {
            "_model_module": "@jupyter-widgets/base",
            "_model_module_version": "1.2.0",
            "_model_name": "LayoutModel",
            "_view_count": null,
            "_view_module": "@jupyter-widgets/base",
            "_view_module_version": "1.2.0",
            "_view_name": "LayoutView",
            "align_content": null,
            "align_items": null,
            "align_self": null,
            "border": null,
            "bottom": null,
            "display": null,
            "flex": null,
            "flex_flow": null,
            "grid_area": null,
            "grid_auto_columns": null,
            "grid_auto_flow": null,
            "grid_auto_rows": null,
            "grid_column": null,
            "grid_gap": null,
            "grid_row": null,
            "grid_template_areas": null,
            "grid_template_columns": null,
            "grid_template_rows": null,
            "height": null,
            "justify_content": null,
            "justify_items": null,
            "left": null,
            "margin": null,
            "max_height": null,
            "max_width": null,
            "min_height": null,
            "min_width": null,
            "object_fit": null,
            "object_position": null,
            "order": null,
            "overflow": null,
            "overflow_x": null,
            "overflow_y": null,
            "padding": null,
            "right": null,
            "top": null,
            "visibility": null,
            "width": null
          }
        },
        "b54daac8378c49f2a60f9e483389df3a": {
          "model_module": "@jupyter-widgets/controls",
          "model_name": "DescriptionStyleModel",
          "model_module_version": "1.5.0",
          "state": {
            "_model_module": "@jupyter-widgets/controls",
            "_model_module_version": "1.5.0",
            "_model_name": "DescriptionStyleModel",
            "_view_count": null,
            "_view_module": "@jupyter-widgets/base",
            "_view_module_version": "1.2.0",
            "_view_name": "StyleView",
            "description_width": ""
          }
        },
        "92d23b0efcb74b80afa0fca35fbe2ae0": {
          "model_module": "@jupyter-widgets/base",
          "model_name": "LayoutModel",
          "model_module_version": "1.2.0",
          "state": {
            "_model_module": "@jupyter-widgets/base",
            "_model_module_version": "1.2.0",
            "_model_name": "LayoutModel",
            "_view_count": null,
            "_view_module": "@jupyter-widgets/base",
            "_view_module_version": "1.2.0",
            "_view_name": "LayoutView",
            "align_content": null,
            "align_items": null,
            "align_self": null,
            "border": null,
            "bottom": null,
            "display": null,
            "flex": null,
            "flex_flow": null,
            "grid_area": null,
            "grid_auto_columns": null,
            "grid_auto_flow": null,
            "grid_auto_rows": null,
            "grid_column": null,
            "grid_gap": null,
            "grid_row": null,
            "grid_template_areas": null,
            "grid_template_columns": null,
            "grid_template_rows": null,
            "height": null,
            "justify_content": null,
            "justify_items": null,
            "left": null,
            "margin": null,
            "max_height": null,
            "max_width": null,
            "min_height": null,
            "min_width": null,
            "object_fit": null,
            "object_position": null,
            "order": null,
            "overflow": null,
            "overflow_x": null,
            "overflow_y": null,
            "padding": null,
            "right": null,
            "top": null,
            "visibility": null,
            "width": null
          }
        },
        "6a7bca446e0340caaefe0e41d8a3a65d": {
          "model_module": "@jupyter-widgets/controls",
          "model_name": "ProgressStyleModel",
          "model_module_version": "1.5.0",
          "state": {
            "_model_module": "@jupyter-widgets/controls",
            "_model_module_version": "1.5.0",
            "_model_name": "ProgressStyleModel",
            "_view_count": null,
            "_view_module": "@jupyter-widgets/base",
            "_view_module_version": "1.2.0",
            "_view_name": "StyleView",
            "bar_color": null,
            "description_width": ""
          }
        },
        "42ae354cc627458099fe468e276f2f82": {
          "model_module": "@jupyter-widgets/base",
          "model_name": "LayoutModel",
          "model_module_version": "1.2.0",
          "state": {
            "_model_module": "@jupyter-widgets/base",
            "_model_module_version": "1.2.0",
            "_model_name": "LayoutModel",
            "_view_count": null,
            "_view_module": "@jupyter-widgets/base",
            "_view_module_version": "1.2.0",
            "_view_name": "LayoutView",
            "align_content": null,
            "align_items": null,
            "align_self": null,
            "border": null,
            "bottom": null,
            "display": null,
            "flex": null,
            "flex_flow": null,
            "grid_area": null,
            "grid_auto_columns": null,
            "grid_auto_flow": null,
            "grid_auto_rows": null,
            "grid_column": null,
            "grid_gap": null,
            "grid_row": null,
            "grid_template_areas": null,
            "grid_template_columns": null,
            "grid_template_rows": null,
            "height": null,
            "justify_content": null,
            "justify_items": null,
            "left": null,
            "margin": null,
            "max_height": null,
            "max_width": null,
            "min_height": null,
            "min_width": null,
            "object_fit": null,
            "object_position": null,
            "order": null,
            "overflow": null,
            "overflow_x": null,
            "overflow_y": null,
            "padding": null,
            "right": null,
            "top": null,
            "visibility": null,
            "width": null
          }
        },
        "5b4d781cd1d148d8a7933c8502eac362": {
          "model_module": "@jupyter-widgets/controls",
          "model_name": "DescriptionStyleModel",
          "model_module_version": "1.5.0",
          "state": {
            "_model_module": "@jupyter-widgets/controls",
            "_model_module_version": "1.5.0",
            "_model_name": "DescriptionStyleModel",
            "_view_count": null,
            "_view_module": "@jupyter-widgets/base",
            "_view_module_version": "1.2.0",
            "_view_name": "StyleView",
            "description_width": ""
          }
        },
        "a30ed10ea58f4a74bf4abd9b3198e527": {
          "model_module": "@jupyter-widgets/controls",
          "model_name": "HBoxModel",
          "model_module_version": "1.5.0",
          "state": {
            "_dom_classes": [],
            "_model_module": "@jupyter-widgets/controls",
            "_model_module_version": "1.5.0",
            "_model_name": "HBoxModel",
            "_view_count": null,
            "_view_module": "@jupyter-widgets/controls",
            "_view_module_version": "1.5.0",
            "_view_name": "HBoxView",
            "box_style": "",
            "children": [
              "IPY_MODEL_8dac5e80243349cea95e757c11e6dfbf",
              "IPY_MODEL_22eb21b0d7ea4a5c8f526ec315bb9ce4",
              "IPY_MODEL_b1a63aaadfc646489d29433357b73114"
            ],
            "layout": "IPY_MODEL_e8bfdc985d0d48a483b5ac4a54b722c1"
          }
        },
        "8dac5e80243349cea95e757c11e6dfbf": {
          "model_module": "@jupyter-widgets/controls",
          "model_name": "HTMLModel",
          "model_module_version": "1.5.0",
          "state": {
            "_dom_classes": [],
            "_model_module": "@jupyter-widgets/controls",
            "_model_module_version": "1.5.0",
            "_model_name": "HTMLModel",
            "_view_count": null,
            "_view_module": "@jupyter-widgets/controls",
            "_view_module_version": "1.5.0",
            "_view_name": "HTMLView",
            "description": "",
            "description_tooltip": null,
            "layout": "IPY_MODEL_09fe3373482b4afa880d01846185cf73",
            "placeholder": "​",
            "style": "IPY_MODEL_f00aad5ff135483395dff438345cfcfe",
            "value": "100%"
          }
        },
        "22eb21b0d7ea4a5c8f526ec315bb9ce4": {
          "model_module": "@jupyter-widgets/controls",
          "model_name": "FloatProgressModel",
          "model_module_version": "1.5.0",
          "state": {
            "_dom_classes": [],
            "_model_module": "@jupyter-widgets/controls",
            "_model_module_version": "1.5.0",
            "_model_name": "FloatProgressModel",
            "_view_count": null,
            "_view_module": "@jupyter-widgets/controls",
            "_view_module_version": "1.5.0",
            "_view_name": "ProgressView",
            "bar_style": "success",
            "description": "",
            "description_tooltip": null,
            "layout": "IPY_MODEL_19f9f7fbf3de4ca2a2f4261e90751f9e",
            "max": 100,
            "min": 0,
            "orientation": "horizontal",
            "style": "IPY_MODEL_c8cb22d489594874afcb36989c37fb33",
            "value": 100
          }
        },
        "b1a63aaadfc646489d29433357b73114": {
          "model_module": "@jupyter-widgets/controls",
          "model_name": "HTMLModel",
          "model_module_version": "1.5.0",
          "state": {
            "_dom_classes": [],
            "_model_module": "@jupyter-widgets/controls",
            "_model_module_version": "1.5.0",
            "_model_name": "HTMLModel",
            "_view_count": null,
            "_view_module": "@jupyter-widgets/controls",
            "_view_module_version": "1.5.0",
            "_view_name": "HTMLView",
            "description": "",
            "description_tooltip": null,
            "layout": "IPY_MODEL_70c883b2459b4a169409979e1532c745",
            "placeholder": "​",
            "style": "IPY_MODEL_b9e604ab3e6b46e8ad1e8a3484c39610",
            "value": " 100/100 [00:51&lt;00:00,  1.26it/s]"
          }
        },
        "e8bfdc985d0d48a483b5ac4a54b722c1": {
          "model_module": "@jupyter-widgets/base",
          "model_name": "LayoutModel",
          "model_module_version": "1.2.0",
          "state": {
            "_model_module": "@jupyter-widgets/base",
            "_model_module_version": "1.2.0",
            "_model_name": "LayoutModel",
            "_view_count": null,
            "_view_module": "@jupyter-widgets/base",
            "_view_module_version": "1.2.0",
            "_view_name": "LayoutView",
            "align_content": null,
            "align_items": null,
            "align_self": null,
            "border": null,
            "bottom": null,
            "display": null,
            "flex": null,
            "flex_flow": null,
            "grid_area": null,
            "grid_auto_columns": null,
            "grid_auto_flow": null,
            "grid_auto_rows": null,
            "grid_column": null,
            "grid_gap": null,
            "grid_row": null,
            "grid_template_areas": null,
            "grid_template_columns": null,
            "grid_template_rows": null,
            "height": null,
            "justify_content": null,
            "justify_items": null,
            "left": null,
            "margin": null,
            "max_height": null,
            "max_width": null,
            "min_height": null,
            "min_width": null,
            "object_fit": null,
            "object_position": null,
            "order": null,
            "overflow": null,
            "overflow_x": null,
            "overflow_y": null,
            "padding": null,
            "right": null,
            "top": null,
            "visibility": null,
            "width": null
          }
        },
        "09fe3373482b4afa880d01846185cf73": {
          "model_module": "@jupyter-widgets/base",
          "model_name": "LayoutModel",
          "model_module_version": "1.2.0",
          "state": {
            "_model_module": "@jupyter-widgets/base",
            "_model_module_version": "1.2.0",
            "_model_name": "LayoutModel",
            "_view_count": null,
            "_view_module": "@jupyter-widgets/base",
            "_view_module_version": "1.2.0",
            "_view_name": "LayoutView",
            "align_content": null,
            "align_items": null,
            "align_self": null,
            "border": null,
            "bottom": null,
            "display": null,
            "flex": null,
            "flex_flow": null,
            "grid_area": null,
            "grid_auto_columns": null,
            "grid_auto_flow": null,
            "grid_auto_rows": null,
            "grid_column": null,
            "grid_gap": null,
            "grid_row": null,
            "grid_template_areas": null,
            "grid_template_columns": null,
            "grid_template_rows": null,
            "height": null,
            "justify_content": null,
            "justify_items": null,
            "left": null,
            "margin": null,
            "max_height": null,
            "max_width": null,
            "min_height": null,
            "min_width": null,
            "object_fit": null,
            "object_position": null,
            "order": null,
            "overflow": null,
            "overflow_x": null,
            "overflow_y": null,
            "padding": null,
            "right": null,
            "top": null,
            "visibility": null,
            "width": null
          }
        },
        "f00aad5ff135483395dff438345cfcfe": {
          "model_module": "@jupyter-widgets/controls",
          "model_name": "DescriptionStyleModel",
          "model_module_version": "1.5.0",
          "state": {
            "_model_module": "@jupyter-widgets/controls",
            "_model_module_version": "1.5.0",
            "_model_name": "DescriptionStyleModel",
            "_view_count": null,
            "_view_module": "@jupyter-widgets/base",
            "_view_module_version": "1.2.0",
            "_view_name": "StyleView",
            "description_width": ""
          }
        },
        "19f9f7fbf3de4ca2a2f4261e90751f9e": {
          "model_module": "@jupyter-widgets/base",
          "model_name": "LayoutModel",
          "model_module_version": "1.2.0",
          "state": {
            "_model_module": "@jupyter-widgets/base",
            "_model_module_version": "1.2.0",
            "_model_name": "LayoutModel",
            "_view_count": null,
            "_view_module": "@jupyter-widgets/base",
            "_view_module_version": "1.2.0",
            "_view_name": "LayoutView",
            "align_content": null,
            "align_items": null,
            "align_self": null,
            "border": null,
            "bottom": null,
            "display": null,
            "flex": null,
            "flex_flow": null,
            "grid_area": null,
            "grid_auto_columns": null,
            "grid_auto_flow": null,
            "grid_auto_rows": null,
            "grid_column": null,
            "grid_gap": null,
            "grid_row": null,
            "grid_template_areas": null,
            "grid_template_columns": null,
            "grid_template_rows": null,
            "height": null,
            "justify_content": null,
            "justify_items": null,
            "left": null,
            "margin": null,
            "max_height": null,
            "max_width": null,
            "min_height": null,
            "min_width": null,
            "object_fit": null,
            "object_position": null,
            "order": null,
            "overflow": null,
            "overflow_x": null,
            "overflow_y": null,
            "padding": null,
            "right": null,
            "top": null,
            "visibility": null,
            "width": null
          }
        },
        "c8cb22d489594874afcb36989c37fb33": {
          "model_module": "@jupyter-widgets/controls",
          "model_name": "ProgressStyleModel",
          "model_module_version": "1.5.0",
          "state": {
            "_model_module": "@jupyter-widgets/controls",
            "_model_module_version": "1.5.0",
            "_model_name": "ProgressStyleModel",
            "_view_count": null,
            "_view_module": "@jupyter-widgets/base",
            "_view_module_version": "1.2.0",
            "_view_name": "StyleView",
            "bar_color": null,
            "description_width": ""
          }
        },
        "70c883b2459b4a169409979e1532c745": {
          "model_module": "@jupyter-widgets/base",
          "model_name": "LayoutModel",
          "model_module_version": "1.2.0",
          "state": {
            "_model_module": "@jupyter-widgets/base",
            "_model_module_version": "1.2.0",
            "_model_name": "LayoutModel",
            "_view_count": null,
            "_view_module": "@jupyter-widgets/base",
            "_view_module_version": "1.2.0",
            "_view_name": "LayoutView",
            "align_content": null,
            "align_items": null,
            "align_self": null,
            "border": null,
            "bottom": null,
            "display": null,
            "flex": null,
            "flex_flow": null,
            "grid_area": null,
            "grid_auto_columns": null,
            "grid_auto_flow": null,
            "grid_auto_rows": null,
            "grid_column": null,
            "grid_gap": null,
            "grid_row": null,
            "grid_template_areas": null,
            "grid_template_columns": null,
            "grid_template_rows": null,
            "height": null,
            "justify_content": null,
            "justify_items": null,
            "left": null,
            "margin": null,
            "max_height": null,
            "max_width": null,
            "min_height": null,
            "min_width": null,
            "object_fit": null,
            "object_position": null,
            "order": null,
            "overflow": null,
            "overflow_x": null,
            "overflow_y": null,
            "padding": null,
            "right": null,
            "top": null,
            "visibility": null,
            "width": null
          }
        },
        "b9e604ab3e6b46e8ad1e8a3484c39610": {
          "model_module": "@jupyter-widgets/controls",
          "model_name": "DescriptionStyleModel",
          "model_module_version": "1.5.0",
          "state": {
            "_model_module": "@jupyter-widgets/controls",
            "_model_module_version": "1.5.0",
            "_model_name": "DescriptionStyleModel",
            "_view_count": null,
            "_view_module": "@jupyter-widgets/base",
            "_view_module_version": "1.2.0",
            "_view_name": "StyleView",
            "description_width": ""
          }
        },
        "0f977e5a9255497dbd28b092a78513e4": {
          "model_module": "@jupyter-widgets/controls",
          "model_name": "HBoxModel",
          "model_module_version": "1.5.0",
          "state": {
            "_dom_classes": [],
            "_model_module": "@jupyter-widgets/controls",
            "_model_module_version": "1.5.0",
            "_model_name": "HBoxModel",
            "_view_count": null,
            "_view_module": "@jupyter-widgets/controls",
            "_view_module_version": "1.5.0",
            "_view_name": "HBoxView",
            "box_style": "",
            "children": [
              "IPY_MODEL_5ffc832bfbc24d05b94d0c923095695e",
              "IPY_MODEL_d8ef96203a4c406ab11084af11db1f52",
              "IPY_MODEL_41a21487b3d24214a4389bc72bf3ee76"
            ],
            "layout": "IPY_MODEL_2243293ce91c4842a2862afefc0ecd25"
          }
        },
        "5ffc832bfbc24d05b94d0c923095695e": {
          "model_module": "@jupyter-widgets/controls",
          "model_name": "HTMLModel",
          "model_module_version": "1.5.0",
          "state": {
            "_dom_classes": [],
            "_model_module": "@jupyter-widgets/controls",
            "_model_module_version": "1.5.0",
            "_model_name": "HTMLModel",
            "_view_count": null,
            "_view_module": "@jupyter-widgets/controls",
            "_view_module_version": "1.5.0",
            "_view_name": "HTMLView",
            "description": "",
            "description_tooltip": null,
            "layout": "IPY_MODEL_0919272d9ef641968c66646402355fed",
            "placeholder": "​",
            "style": "IPY_MODEL_4411cea2bd12408db264cba4ce0101f9",
            "value": "100%"
          }
        },
        "d8ef96203a4c406ab11084af11db1f52": {
          "model_module": "@jupyter-widgets/controls",
          "model_name": "FloatProgressModel",
          "model_module_version": "1.5.0",
          "state": {
            "_dom_classes": [],
            "_model_module": "@jupyter-widgets/controls",
            "_model_module_version": "1.5.0",
            "_model_name": "FloatProgressModel",
            "_view_count": null,
            "_view_module": "@jupyter-widgets/controls",
            "_view_module_version": "1.5.0",
            "_view_name": "ProgressView",
            "bar_style": "success",
            "description": "",
            "description_tooltip": null,
            "layout": "IPY_MODEL_d97f69577f864220bd31dd33c86ccb46",
            "max": 100,
            "min": 0,
            "orientation": "horizontal",
            "style": "IPY_MODEL_187c2d1cf8484fa9b30a6119bd711f43",
            "value": 100
          }
        },
        "41a21487b3d24214a4389bc72bf3ee76": {
          "model_module": "@jupyter-widgets/controls",
          "model_name": "HTMLModel",
          "model_module_version": "1.5.0",
          "state": {
            "_dom_classes": [],
            "_model_module": "@jupyter-widgets/controls",
            "_model_module_version": "1.5.0",
            "_model_name": "HTMLModel",
            "_view_count": null,
            "_view_module": "@jupyter-widgets/controls",
            "_view_module_version": "1.5.0",
            "_view_name": "HTMLView",
            "description": "",
            "description_tooltip": null,
            "layout": "IPY_MODEL_29d7d717b02446a48937ac915e931455",
            "placeholder": "​",
            "style": "IPY_MODEL_de9087a5afeb465aa5fab4779cc1e879",
            "value": " 100/100 [00:00&lt;00:00, 213.03it/s]"
          }
        },
        "2243293ce91c4842a2862afefc0ecd25": {
          "model_module": "@jupyter-widgets/base",
          "model_name": "LayoutModel",
          "model_module_version": "1.2.0",
          "state": {
            "_model_module": "@jupyter-widgets/base",
            "_model_module_version": "1.2.0",
            "_model_name": "LayoutModel",
            "_view_count": null,
            "_view_module": "@jupyter-widgets/base",
            "_view_module_version": "1.2.0",
            "_view_name": "LayoutView",
            "align_content": null,
            "align_items": null,
            "align_self": null,
            "border": null,
            "bottom": null,
            "display": null,
            "flex": null,
            "flex_flow": null,
            "grid_area": null,
            "grid_auto_columns": null,
            "grid_auto_flow": null,
            "grid_auto_rows": null,
            "grid_column": null,
            "grid_gap": null,
            "grid_row": null,
            "grid_template_areas": null,
            "grid_template_columns": null,
            "grid_template_rows": null,
            "height": null,
            "justify_content": null,
            "justify_items": null,
            "left": null,
            "margin": null,
            "max_height": null,
            "max_width": null,
            "min_height": null,
            "min_width": null,
            "object_fit": null,
            "object_position": null,
            "order": null,
            "overflow": null,
            "overflow_x": null,
            "overflow_y": null,
            "padding": null,
            "right": null,
            "top": null,
            "visibility": null,
            "width": null
          }
        },
        "0919272d9ef641968c66646402355fed": {
          "model_module": "@jupyter-widgets/base",
          "model_name": "LayoutModel",
          "model_module_version": "1.2.0",
          "state": {
            "_model_module": "@jupyter-widgets/base",
            "_model_module_version": "1.2.0",
            "_model_name": "LayoutModel",
            "_view_count": null,
            "_view_module": "@jupyter-widgets/base",
            "_view_module_version": "1.2.0",
            "_view_name": "LayoutView",
            "align_content": null,
            "align_items": null,
            "align_self": null,
            "border": null,
            "bottom": null,
            "display": null,
            "flex": null,
            "flex_flow": null,
            "grid_area": null,
            "grid_auto_columns": null,
            "grid_auto_flow": null,
            "grid_auto_rows": null,
            "grid_column": null,
            "grid_gap": null,
            "grid_row": null,
            "grid_template_areas": null,
            "grid_template_columns": null,
            "grid_template_rows": null,
            "height": null,
            "justify_content": null,
            "justify_items": null,
            "left": null,
            "margin": null,
            "max_height": null,
            "max_width": null,
            "min_height": null,
            "min_width": null,
            "object_fit": null,
            "object_position": null,
            "order": null,
            "overflow": null,
            "overflow_x": null,
            "overflow_y": null,
            "padding": null,
            "right": null,
            "top": null,
            "visibility": null,
            "width": null
          }
        },
        "4411cea2bd12408db264cba4ce0101f9": {
          "model_module": "@jupyter-widgets/controls",
          "model_name": "DescriptionStyleModel",
          "model_module_version": "1.5.0",
          "state": {
            "_model_module": "@jupyter-widgets/controls",
            "_model_module_version": "1.5.0",
            "_model_name": "DescriptionStyleModel",
            "_view_count": null,
            "_view_module": "@jupyter-widgets/base",
            "_view_module_version": "1.2.0",
            "_view_name": "StyleView",
            "description_width": ""
          }
        },
        "d97f69577f864220bd31dd33c86ccb46": {
          "model_module": "@jupyter-widgets/base",
          "model_name": "LayoutModel",
          "model_module_version": "1.2.0",
          "state": {
            "_model_module": "@jupyter-widgets/base",
            "_model_module_version": "1.2.0",
            "_model_name": "LayoutModel",
            "_view_count": null,
            "_view_module": "@jupyter-widgets/base",
            "_view_module_version": "1.2.0",
            "_view_name": "LayoutView",
            "align_content": null,
            "align_items": null,
            "align_self": null,
            "border": null,
            "bottom": null,
            "display": null,
            "flex": null,
            "flex_flow": null,
            "grid_area": null,
            "grid_auto_columns": null,
            "grid_auto_flow": null,
            "grid_auto_rows": null,
            "grid_column": null,
            "grid_gap": null,
            "grid_row": null,
            "grid_template_areas": null,
            "grid_template_columns": null,
            "grid_template_rows": null,
            "height": null,
            "justify_content": null,
            "justify_items": null,
            "left": null,
            "margin": null,
            "max_height": null,
            "max_width": null,
            "min_height": null,
            "min_width": null,
            "object_fit": null,
            "object_position": null,
            "order": null,
            "overflow": null,
            "overflow_x": null,
            "overflow_y": null,
            "padding": null,
            "right": null,
            "top": null,
            "visibility": null,
            "width": null
          }
        },
        "187c2d1cf8484fa9b30a6119bd711f43": {
          "model_module": "@jupyter-widgets/controls",
          "model_name": "ProgressStyleModel",
          "model_module_version": "1.5.0",
          "state": {
            "_model_module": "@jupyter-widgets/controls",
            "_model_module_version": "1.5.0",
            "_model_name": "ProgressStyleModel",
            "_view_count": null,
            "_view_module": "@jupyter-widgets/base",
            "_view_module_version": "1.2.0",
            "_view_name": "StyleView",
            "bar_color": null,
            "description_width": ""
          }
        },
        "29d7d717b02446a48937ac915e931455": {
          "model_module": "@jupyter-widgets/base",
          "model_name": "LayoutModel",
          "model_module_version": "1.2.0",
          "state": {
            "_model_module": "@jupyter-widgets/base",
            "_model_module_version": "1.2.0",
            "_model_name": "LayoutModel",
            "_view_count": null,
            "_view_module": "@jupyter-widgets/base",
            "_view_module_version": "1.2.0",
            "_view_name": "LayoutView",
            "align_content": null,
            "align_items": null,
            "align_self": null,
            "border": null,
            "bottom": null,
            "display": null,
            "flex": null,
            "flex_flow": null,
            "grid_area": null,
            "grid_auto_columns": null,
            "grid_auto_flow": null,
            "grid_auto_rows": null,
            "grid_column": null,
            "grid_gap": null,
            "grid_row": null,
            "grid_template_areas": null,
            "grid_template_columns": null,
            "grid_template_rows": null,
            "height": null,
            "justify_content": null,
            "justify_items": null,
            "left": null,
            "margin": null,
            "max_height": null,
            "max_width": null,
            "min_height": null,
            "min_width": null,
            "object_fit": null,
            "object_position": null,
            "order": null,
            "overflow": null,
            "overflow_x": null,
            "overflow_y": null,
            "padding": null,
            "right": null,
            "top": null,
            "visibility": null,
            "width": null
          }
        },
        "de9087a5afeb465aa5fab4779cc1e879": {
          "model_module": "@jupyter-widgets/controls",
          "model_name": "DescriptionStyleModel",
          "model_module_version": "1.5.0",
          "state": {
            "_model_module": "@jupyter-widgets/controls",
            "_model_module_version": "1.5.0",
            "_model_name": "DescriptionStyleModel",
            "_view_count": null,
            "_view_module": "@jupyter-widgets/base",
            "_view_module_version": "1.2.0",
            "_view_name": "StyleView",
            "description_width": ""
          }
        }
      }
    }
  },
  "nbformat": 4,
  "nbformat_minor": 0
}